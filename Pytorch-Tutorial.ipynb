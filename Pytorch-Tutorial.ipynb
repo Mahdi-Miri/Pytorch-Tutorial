{
  "nbformat": 4,
  "nbformat_minor": 0,
  "metadata": {
    "colab": {
      "provenance": [],
      "authorship_tag": "ABX9TyP5t9SwUAvHs0jT46C3q3ul",
      "include_colab_link": true
    },
    "kernelspec": {
      "name": "python3",
      "display_name": "Python 3"
    },
    "language_info": {
      "name": "python"
    }
  },
  "cells": [
    {
      "cell_type": "markdown",
      "metadata": {
        "id": "view-in-github",
        "colab_type": "text"
      },
      "source": [
        "<a href=\"https://colab.research.google.com/github/Mahdi-Miri/Pytorch-Tutorial/blob/main/Pytorch-Tutorial.ipynb\" target=\"_parent\"><img src=\"https://colab.research.google.com/assets/colab-badge.svg\" alt=\"Open In Colab\"/></a>"
      ]
    },
    {
      "cell_type": "code",
      "execution_count": 1,
      "metadata": {
        "colab": {
          "base_uri": "https://localhost:8080/"
        },
        "id": "iXxlxpdlkm8N",
        "outputId": "9170f36d-ab2b-4173-fd1f-5823242feb71"
      },
      "outputs": [
        {
          "output_type": "stream",
          "name": "stdout",
          "text": [
            "Requirement already satisfied: torch in /usr/local/lib/python3.10/dist-packages (2.5.1+cu121)\n",
            "Requirement already satisfied: torchvision in /usr/local/lib/python3.10/dist-packages (0.20.1+cu121)\n",
            "Requirement already satisfied: filelock in /usr/local/lib/python3.10/dist-packages (from torch) (3.16.1)\n",
            "Requirement already satisfied: typing-extensions>=4.8.0 in /usr/local/lib/python3.10/dist-packages (from torch) (4.12.2)\n",
            "Requirement already satisfied: networkx in /usr/local/lib/python3.10/dist-packages (from torch) (3.4.2)\n",
            "Requirement already satisfied: jinja2 in /usr/local/lib/python3.10/dist-packages (from torch) (3.1.4)\n",
            "Requirement already satisfied: fsspec in /usr/local/lib/python3.10/dist-packages (from torch) (2024.10.0)\n",
            "Requirement already satisfied: sympy==1.13.1 in /usr/local/lib/python3.10/dist-packages (from torch) (1.13.1)\n",
            "Requirement already satisfied: mpmath<1.4,>=1.1.0 in /usr/local/lib/python3.10/dist-packages (from sympy==1.13.1->torch) (1.3.0)\n",
            "Requirement already satisfied: numpy in /usr/local/lib/python3.10/dist-packages (from torchvision) (1.26.4)\n",
            "Requirement already satisfied: pillow!=8.3.*,>=5.3.0 in /usr/local/lib/python3.10/dist-packages (from torchvision) (11.0.0)\n",
            "Requirement already satisfied: MarkupSafe>=2.0 in /usr/local/lib/python3.10/dist-packages (from jinja2->torch) (3.0.2)\n"
          ]
        }
      ],
      "source": [
        "!pip install torch torchvision -U"
      ]
    },
    {
      "cell_type": "code",
      "source": [
        "import torch\n",
        "\n",
        "print(torch.__version__)"
      ],
      "metadata": {
        "colab": {
          "base_uri": "https://localhost:8080/"
        },
        "id": "XCuPPQg_kpWS",
        "outputId": "162b20ca-e986-448e-9af8-aac40ed90f11"
      },
      "execution_count": 2,
      "outputs": [
        {
          "output_type": "stream",
          "name": "stdout",
          "text": [
            "2.5.1+cu121\n"
          ]
        }
      ]
    },
    {
      "cell_type": "code",
      "source": [
        "data = [[1,2],[3,4],[5,6]]"
      ],
      "metadata": {
        "id": "rcn196RBkreU"
      },
      "execution_count": 3,
      "outputs": []
    },
    {
      "cell_type": "code",
      "source": [
        "data"
      ],
      "metadata": {
        "colab": {
          "base_uri": "https://localhost:8080/"
        },
        "id": "TXmel_4tvEUa",
        "outputId": "daa94e0e-50b5-4633-faf8-80585ef31b0a"
      },
      "execution_count": 4,
      "outputs": [
        {
          "output_type": "execute_result",
          "data": {
            "text/plain": [
              "[[1, 2], [3, 4], [5, 6]]"
            ]
          },
          "metadata": {},
          "execution_count": 4
        }
      ]
    },
    {
      "cell_type": "code",
      "source": [
        "torch.tensor(data)"
      ],
      "metadata": {
        "colab": {
          "base_uri": "https://localhost:8080/"
        },
        "id": "6-sfJ-FavE5F",
        "outputId": "001d96b1-bc04-424c-d6ef-87bb2070caef"
      },
      "execution_count": 5,
      "outputs": [
        {
          "output_type": "execute_result",
          "data": {
            "text/plain": [
              "tensor([[1, 2],\n",
              "        [3, 4],\n",
              "        [5, 6]])"
            ]
          },
          "metadata": {},
          "execution_count": 5
        }
      ]
    },
    {
      "cell_type": "code",
      "source": [
        "x = torch.zeros((3,3,5),dtype=torch.float16)"
      ],
      "metadata": {
        "id": "A5V90z0avJXv"
      },
      "execution_count": 6,
      "outputs": []
    },
    {
      "cell_type": "code",
      "source": [
        "x"
      ],
      "metadata": {
        "colab": {
          "base_uri": "https://localhost:8080/"
        },
        "id": "vT8Ty5cwvyUQ",
        "outputId": "a7bff24f-2ba0-4476-e879-98a0d6f96a2b"
      },
      "execution_count": 7,
      "outputs": [
        {
          "output_type": "execute_result",
          "data": {
            "text/plain": [
              "tensor([[[0., 0., 0., 0., 0.],\n",
              "         [0., 0., 0., 0., 0.],\n",
              "         [0., 0., 0., 0., 0.]],\n",
              "\n",
              "        [[0., 0., 0., 0., 0.],\n",
              "         [0., 0., 0., 0., 0.],\n",
              "         [0., 0., 0., 0., 0.]],\n",
              "\n",
              "        [[0., 0., 0., 0., 0.],\n",
              "         [0., 0., 0., 0., 0.],\n",
              "         [0., 0., 0., 0., 0.]]], dtype=torch.float16)"
            ]
          },
          "metadata": {},
          "execution_count": 7
        }
      ]
    },
    {
      "cell_type": "code",
      "source": [
        "x[1]"
      ],
      "metadata": {
        "colab": {
          "base_uri": "https://localhost:8080/"
        },
        "id": "zyWxYOV4wECr",
        "outputId": "e4581855-89a3-4c52-9b54-0de493803ae6"
      },
      "execution_count": 8,
      "outputs": [
        {
          "output_type": "execute_result",
          "data": {
            "text/plain": [
              "tensor([[0., 0., 0., 0., 0.],\n",
              "        [0., 0., 0., 0., 0.],\n",
              "        [0., 0., 0., 0., 0.]], dtype=torch.float16)"
            ]
          },
          "metadata": {},
          "execution_count": 8
        }
      ]
    },
    {
      "cell_type": "code",
      "source": [
        "shape = (2,3,4)"
      ],
      "metadata": {
        "id": "i1gXdBelxCkd"
      },
      "execution_count": 9,
      "outputs": []
    },
    {
      "cell_type": "code",
      "source": [
        "x = torch.ones(shape)"
      ],
      "metadata": {
        "id": "PG9FiXZFwzNR"
      },
      "execution_count": 10,
      "outputs": []
    },
    {
      "cell_type": "code",
      "source": [
        "x"
      ],
      "metadata": {
        "colab": {
          "base_uri": "https://localhost:8080/"
        },
        "id": "-0i9E36gw4sX",
        "outputId": "835f48c4-0841-449e-abe7-34d0423ae345"
      },
      "execution_count": 11,
      "outputs": [
        {
          "output_type": "execute_result",
          "data": {
            "text/plain": [
              "tensor([[[1., 1., 1., 1.],\n",
              "         [1., 1., 1., 1.],\n",
              "         [1., 1., 1., 1.]],\n",
              "\n",
              "        [[1., 1., 1., 1.],\n",
              "         [1., 1., 1., 1.],\n",
              "         [1., 1., 1., 1.]]])"
            ]
          },
          "metadata": {},
          "execution_count": 11
        }
      ]
    },
    {
      "cell_type": "code",
      "source": [
        "x = torch.rand(shape)"
      ],
      "metadata": {
        "id": "yPUWlzWCxIXx"
      },
      "execution_count": 12,
      "outputs": []
    },
    {
      "cell_type": "code",
      "source": [
        "x"
      ],
      "metadata": {
        "colab": {
          "base_uri": "https://localhost:8080/"
        },
        "id": "3YhVKU-OxNav",
        "outputId": "917a21c8-650d-4ee5-9c2c-4ff0b73969c3"
      },
      "execution_count": 13,
      "outputs": [
        {
          "output_type": "execute_result",
          "data": {
            "text/plain": [
              "tensor([[[0.4373, 0.2252, 0.7449, 0.2436],\n",
              "         [0.4758, 0.7797, 0.8093, 0.3571],\n",
              "         [0.6610, 0.1719, 0.8228, 0.6628]],\n",
              "\n",
              "        [[0.6148, 0.5797, 0.0683, 0.8349],\n",
              "         [0.1222, 0.7913, 0.4300, 0.7530],\n",
              "         [0.8303, 0.8769, 0.4540, 0.1202]]])"
            ]
          },
          "metadata": {},
          "execution_count": 13
        }
      ]
    },
    {
      "cell_type": "code",
      "source": [
        "x = torch.tensor(([1,2,3,4,5],[5,4,3,2,1]))"
      ],
      "metadata": {
        "id": "cDWU9QAmxNr4"
      },
      "execution_count": 14,
      "outputs": []
    },
    {
      "cell_type": "code",
      "source": [
        "x"
      ],
      "metadata": {
        "colab": {
          "base_uri": "https://localhost:8080/"
        },
        "id": "Qd2eXyR_xSuh",
        "outputId": "560ac09b-d558-44ff-a615-efd20ed43bd5"
      },
      "execution_count": 15,
      "outputs": [
        {
          "output_type": "execute_result",
          "data": {
            "text/plain": [
              "tensor([[1, 2, 3, 4, 5],\n",
              "        [5, 4, 3, 2, 1]])"
            ]
          },
          "metadata": {},
          "execution_count": 15
        }
      ]
    },
    {
      "cell_type": "code",
      "source": [
        "x *2"
      ],
      "metadata": {
        "colab": {
          "base_uri": "https://localhost:8080/"
        },
        "id": "Ipf1TLxaxTLL",
        "outputId": "62be16fb-25f5-46f9-e65b-d1f67d3e7892"
      },
      "execution_count": 16,
      "outputs": [
        {
          "output_type": "execute_result",
          "data": {
            "text/plain": [
              "tensor([[ 2,  4,  6,  8, 10],\n",
              "        [10,  8,  6,  4,  2]])"
            ]
          },
          "metadata": {},
          "execution_count": 16
        }
      ]
    },
    {
      "cell_type": "code",
      "source": [
        "x.shape"
      ],
      "metadata": {
        "colab": {
          "base_uri": "https://localhost:8080/"
        },
        "id": "aCKWLFgqxlIY",
        "outputId": "a407acf1-3961-4f4e-8040-a5d4fac262cb"
      },
      "execution_count": 17,
      "outputs": [
        {
          "output_type": "execute_result",
          "data": {
            "text/plain": [
              "torch.Size([2, 5])"
            ]
          },
          "metadata": {},
          "execution_count": 17
        }
      ]
    },
    {
      "cell_type": "code",
      "source": [
        "x.dtype"
      ],
      "metadata": {
        "colab": {
          "base_uri": "https://localhost:8080/"
        },
        "id": "8DYi6dw6yDv0",
        "outputId": "d2e0baac-9826-4458-9a1e-75315962e7bd"
      },
      "execution_count": 18,
      "outputs": [
        {
          "output_type": "execute_result",
          "data": {
            "text/plain": [
              "torch.int64"
            ]
          },
          "metadata": {},
          "execution_count": 18
        }
      ]
    },
    {
      "cell_type": "code",
      "source": [
        "x.device"
      ],
      "metadata": {
        "colab": {
          "base_uri": "https://localhost:8080/"
        },
        "id": "lfPWqGmfyGPQ",
        "outputId": "94e9845b-5212-47b7-bccd-61deed117ad7"
      },
      "execution_count": 19,
      "outputs": [
        {
          "output_type": "execute_result",
          "data": {
            "text/plain": [
              "device(type='cpu')"
            ]
          },
          "metadata": {},
          "execution_count": 19
        }
      ]
    },
    {
      "cell_type": "code",
      "source": [
        "x[0]"
      ],
      "metadata": {
        "colab": {
          "base_uri": "https://localhost:8080/"
        },
        "id": "5q54DK79yKjI",
        "outputId": "29022df7-8c24-43e8-82ad-008e59f150b5"
      },
      "execution_count": 20,
      "outputs": [
        {
          "output_type": "execute_result",
          "data": {
            "text/plain": [
              "tensor([1, 2, 3, 4, 5])"
            ]
          },
          "metadata": {},
          "execution_count": 20
        }
      ]
    },
    {
      "cell_type": "code",
      "source": [
        "x[ : ,  0]"
      ],
      "metadata": {
        "colab": {
          "base_uri": "https://localhost:8080/"
        },
        "id": "tbORvcjeyRyE",
        "outputId": "6da395b7-b02a-420b-d54a-2c47fa2d7791"
      },
      "execution_count": 21,
      "outputs": [
        {
          "output_type": "execute_result",
          "data": {
            "text/plain": [
              "tensor([1, 5])"
            ]
          },
          "metadata": {},
          "execution_count": 21
        }
      ]
    },
    {
      "cell_type": "code",
      "source": [
        "x[...,-1]"
      ],
      "metadata": {
        "colab": {
          "base_uri": "https://localhost:8080/"
        },
        "id": "2GRiX4O1yT5I",
        "outputId": "a41d8df2-fa9f-47e0-87f7-ebfd10eb11be"
      },
      "execution_count": 22,
      "outputs": [
        {
          "output_type": "execute_result",
          "data": {
            "text/plain": [
              "tensor([5, 1])"
            ]
          },
          "metadata": {},
          "execution_count": 22
        }
      ]
    },
    {
      "cell_type": "markdown",
      "source": [
        "# Joining Tensors"
      ],
      "metadata": {
        "id": "IFWXzQRyyz0r"
      }
    },
    {
      "cell_type": "code",
      "source": [
        "shape1 = (4,6,5)\n",
        "shape2 = (4,5,6)"
      ],
      "metadata": {
        "id": "zXjYhQivy-N2"
      },
      "execution_count": 23,
      "outputs": []
    },
    {
      "cell_type": "code",
      "source": [
        "tensor1  = torch.rand(shape1)"
      ],
      "metadata": {
        "id": "SgT8PWDlyans"
      },
      "execution_count": 24,
      "outputs": []
    },
    {
      "cell_type": "code",
      "source": [
        "tensor2 = torch.rand(shape2)"
      ],
      "metadata": {
        "id": "zgFT-CHNy8NO"
      },
      "execution_count": 25,
      "outputs": []
    },
    {
      "cell_type": "code",
      "source": [
        "print(\"Tensor 1 :\")\n",
        "tensor1"
      ],
      "metadata": {
        "colab": {
          "base_uri": "https://localhost:8080/"
        },
        "id": "Z7pSUAOUzPMb",
        "outputId": "41c40c6a-a853-49ea-8989-75ed5db4547e"
      },
      "execution_count": 26,
      "outputs": [
        {
          "output_type": "stream",
          "name": "stdout",
          "text": [
            "Tensor 1 :\n"
          ]
        },
        {
          "output_type": "execute_result",
          "data": {
            "text/plain": [
              "tensor([[[0.8217, 0.8362, 0.6431, 0.5052, 0.9268],\n",
              "         [0.7053, 0.1990, 0.9922, 0.2288, 0.8806],\n",
              "         [0.0910, 0.4584, 0.2084, 0.1556, 0.8550],\n",
              "         [0.8572, 0.6413, 0.1868, 0.3678, 0.4346],\n",
              "         [0.4275, 0.6917, 0.3864, 0.2801, 0.7053],\n",
              "         [0.2959, 0.3492, 0.1398, 0.6650, 0.2849]],\n",
              "\n",
              "        [[0.5081, 0.7539, 0.7640, 0.7722, 0.0343],\n",
              "         [0.4311, 0.6163, 0.4747, 0.1397, 0.0588],\n",
              "         [0.1568, 0.7430, 0.7386, 0.4229, 0.2168],\n",
              "         [0.2655, 0.3709, 0.9287, 0.4843, 0.4704],\n",
              "         [0.4386, 0.5549, 0.9398, 0.3184, 0.7906],\n",
              "         [0.4492, 0.4530, 0.8074, 0.1143, 0.2235]],\n",
              "\n",
              "        [[0.9087, 0.9437, 0.8327, 0.0235, 0.8607],\n",
              "         [0.6586, 0.4641, 0.9316, 0.8648, 0.0161],\n",
              "         [0.8251, 0.6128, 0.1418, 0.7170, 0.2898],\n",
              "         [0.9667, 0.6574, 0.6895, 0.5212, 0.6519],\n",
              "         [0.7115, 0.6377, 0.2840, 0.3516, 0.1787],\n",
              "         [0.9410, 0.3886, 0.9329, 0.7445, 0.8816]],\n",
              "\n",
              "        [[0.6784, 0.7717, 0.3923, 0.3438, 0.6364],\n",
              "         [0.8236, 0.8191, 0.3946, 0.5699, 0.3945],\n",
              "         [0.1610, 0.2697, 0.7330, 0.6947, 0.2914],\n",
              "         [0.7187, 0.2173, 0.4692, 0.1664, 0.0923],\n",
              "         [0.9005, 0.2722, 0.1888, 0.9926, 0.9982],\n",
              "         [0.9834, 0.4504, 0.0164, 0.2238, 0.2171]]])"
            ]
          },
          "metadata": {},
          "execution_count": 26
        }
      ]
    },
    {
      "cell_type": "code",
      "source": [
        "print(\"Tensor 2 :\")\n",
        "tensor2"
      ],
      "metadata": {
        "colab": {
          "base_uri": "https://localhost:8080/"
        },
        "id": "tC3k4GMRzURh",
        "outputId": "eb946eb7-4bf3-4561-ba16-180f1cd47ec9"
      },
      "execution_count": 27,
      "outputs": [
        {
          "output_type": "stream",
          "name": "stdout",
          "text": [
            "Tensor 2 :\n"
          ]
        },
        {
          "output_type": "execute_result",
          "data": {
            "text/plain": [
              "tensor([[[0.2500, 0.3182, 0.5976, 0.4803, 0.8020, 0.4726],\n",
              "         [0.2817, 0.0784, 0.9425, 0.8108, 0.0179, 0.2015],\n",
              "         [0.8662, 0.0322, 0.1788, 0.1376, 0.6883, 0.0753],\n",
              "         [0.5763, 0.0395, 0.1853, 0.0430, 0.7992, 0.6066],\n",
              "         [0.9913, 0.1268, 0.9789, 0.5080, 0.4388, 0.6636]],\n",
              "\n",
              "        [[0.7203, 0.9517, 0.1933, 0.4458, 0.9949, 0.8223],\n",
              "         [0.1124, 0.3660, 0.2767, 0.1421, 0.6202, 0.9532],\n",
              "         [0.3064, 0.6224, 0.1080, 0.0979, 0.4268, 0.2933],\n",
              "         [0.2337, 0.4028, 0.5698, 0.3846, 0.7026, 0.7327],\n",
              "         [0.0659, 0.7590, 0.5472, 0.1168, 0.1225, 0.2068]],\n",
              "\n",
              "        [[0.8044, 0.3401, 0.1149, 0.6363, 0.2176, 0.2857],\n",
              "         [0.2954, 0.7595, 0.0978, 0.8775, 0.1331, 0.0464],\n",
              "         [0.8423, 0.8341, 0.5874, 0.6119, 0.4488, 0.9906],\n",
              "         [0.0857, 0.2834, 0.6257, 0.7608, 0.6215, 0.9114],\n",
              "         [0.2732, 0.1894, 0.0455, 0.2417, 0.4901, 0.1443]],\n",
              "\n",
              "        [[0.7588, 0.9583, 0.2283, 0.2388, 0.5987, 0.8709],\n",
              "         [0.3697, 0.2751, 0.9858, 0.4918, 0.8036, 0.3296],\n",
              "         [0.7476, 0.5502, 0.2211, 0.8005, 0.3694, 0.7615],\n",
              "         [0.9408, 0.8849, 0.5036, 0.6205, 0.4200, 0.7059],\n",
              "         [0.9655, 0.5342, 0.8556, 0.3625, 0.7888, 0.5488]]])"
            ]
          },
          "metadata": {},
          "execution_count": 27
        }
      ]
    },
    {
      "cell_type": "code",
      "source": [
        "t1 = torch.cat([tensor1,tensor1],dim =1)"
      ],
      "metadata": {
        "id": "zFK9PfgpzhiA"
      },
      "execution_count": 28,
      "outputs": []
    },
    {
      "cell_type": "code",
      "source": [
        "t1"
      ],
      "metadata": {
        "colab": {
          "base_uri": "https://localhost:8080/"
        },
        "id": "K5FhiaCqzy_C",
        "outputId": "c273f76b-b941-41f5-de7a-89fd1d38d21f"
      },
      "execution_count": 29,
      "outputs": [
        {
          "output_type": "execute_result",
          "data": {
            "text/plain": [
              "tensor([[[0.8217, 0.8362, 0.6431, 0.5052, 0.9268],\n",
              "         [0.7053, 0.1990, 0.9922, 0.2288, 0.8806],\n",
              "         [0.0910, 0.4584, 0.2084, 0.1556, 0.8550],\n",
              "         [0.8572, 0.6413, 0.1868, 0.3678, 0.4346],\n",
              "         [0.4275, 0.6917, 0.3864, 0.2801, 0.7053],\n",
              "         [0.2959, 0.3492, 0.1398, 0.6650, 0.2849],\n",
              "         [0.8217, 0.8362, 0.6431, 0.5052, 0.9268],\n",
              "         [0.7053, 0.1990, 0.9922, 0.2288, 0.8806],\n",
              "         [0.0910, 0.4584, 0.2084, 0.1556, 0.8550],\n",
              "         [0.8572, 0.6413, 0.1868, 0.3678, 0.4346],\n",
              "         [0.4275, 0.6917, 0.3864, 0.2801, 0.7053],\n",
              "         [0.2959, 0.3492, 0.1398, 0.6650, 0.2849]],\n",
              "\n",
              "        [[0.5081, 0.7539, 0.7640, 0.7722, 0.0343],\n",
              "         [0.4311, 0.6163, 0.4747, 0.1397, 0.0588],\n",
              "         [0.1568, 0.7430, 0.7386, 0.4229, 0.2168],\n",
              "         [0.2655, 0.3709, 0.9287, 0.4843, 0.4704],\n",
              "         [0.4386, 0.5549, 0.9398, 0.3184, 0.7906],\n",
              "         [0.4492, 0.4530, 0.8074, 0.1143, 0.2235],\n",
              "         [0.5081, 0.7539, 0.7640, 0.7722, 0.0343],\n",
              "         [0.4311, 0.6163, 0.4747, 0.1397, 0.0588],\n",
              "         [0.1568, 0.7430, 0.7386, 0.4229, 0.2168],\n",
              "         [0.2655, 0.3709, 0.9287, 0.4843, 0.4704],\n",
              "         [0.4386, 0.5549, 0.9398, 0.3184, 0.7906],\n",
              "         [0.4492, 0.4530, 0.8074, 0.1143, 0.2235]],\n",
              "\n",
              "        [[0.9087, 0.9437, 0.8327, 0.0235, 0.8607],\n",
              "         [0.6586, 0.4641, 0.9316, 0.8648, 0.0161],\n",
              "         [0.8251, 0.6128, 0.1418, 0.7170, 0.2898],\n",
              "         [0.9667, 0.6574, 0.6895, 0.5212, 0.6519],\n",
              "         [0.7115, 0.6377, 0.2840, 0.3516, 0.1787],\n",
              "         [0.9410, 0.3886, 0.9329, 0.7445, 0.8816],\n",
              "         [0.9087, 0.9437, 0.8327, 0.0235, 0.8607],\n",
              "         [0.6586, 0.4641, 0.9316, 0.8648, 0.0161],\n",
              "         [0.8251, 0.6128, 0.1418, 0.7170, 0.2898],\n",
              "         [0.9667, 0.6574, 0.6895, 0.5212, 0.6519],\n",
              "         [0.7115, 0.6377, 0.2840, 0.3516, 0.1787],\n",
              "         [0.9410, 0.3886, 0.9329, 0.7445, 0.8816]],\n",
              "\n",
              "        [[0.6784, 0.7717, 0.3923, 0.3438, 0.6364],\n",
              "         [0.8236, 0.8191, 0.3946, 0.5699, 0.3945],\n",
              "         [0.1610, 0.2697, 0.7330, 0.6947, 0.2914],\n",
              "         [0.7187, 0.2173, 0.4692, 0.1664, 0.0923],\n",
              "         [0.9005, 0.2722, 0.1888, 0.9926, 0.9982],\n",
              "         [0.9834, 0.4504, 0.0164, 0.2238, 0.2171],\n",
              "         [0.6784, 0.7717, 0.3923, 0.3438, 0.6364],\n",
              "         [0.8236, 0.8191, 0.3946, 0.5699, 0.3945],\n",
              "         [0.1610, 0.2697, 0.7330, 0.6947, 0.2914],\n",
              "         [0.7187, 0.2173, 0.4692, 0.1664, 0.0923],\n",
              "         [0.9005, 0.2722, 0.1888, 0.9926, 0.9982],\n",
              "         [0.9834, 0.4504, 0.0164, 0.2238, 0.2171]]])"
            ]
          },
          "metadata": {},
          "execution_count": 29
        }
      ]
    },
    {
      "cell_type": "code",
      "source": [
        "t1 = torch.cat([tensor1,tensor1],dim =0)"
      ],
      "metadata": {
        "id": "fzOZxqBWzzYD"
      },
      "execution_count": 30,
      "outputs": []
    },
    {
      "cell_type": "code",
      "source": [
        "t1"
      ],
      "metadata": {
        "colab": {
          "base_uri": "https://localhost:8080/"
        },
        "id": "ZkcktFXzz6Vr",
        "outputId": "9a5aec33-31b9-44a4-b317-36363279c9d3"
      },
      "execution_count": 31,
      "outputs": [
        {
          "output_type": "execute_result",
          "data": {
            "text/plain": [
              "tensor([[[0.8217, 0.8362, 0.6431, 0.5052, 0.9268],\n",
              "         [0.7053, 0.1990, 0.9922, 0.2288, 0.8806],\n",
              "         [0.0910, 0.4584, 0.2084, 0.1556, 0.8550],\n",
              "         [0.8572, 0.6413, 0.1868, 0.3678, 0.4346],\n",
              "         [0.4275, 0.6917, 0.3864, 0.2801, 0.7053],\n",
              "         [0.2959, 0.3492, 0.1398, 0.6650, 0.2849]],\n",
              "\n",
              "        [[0.5081, 0.7539, 0.7640, 0.7722, 0.0343],\n",
              "         [0.4311, 0.6163, 0.4747, 0.1397, 0.0588],\n",
              "         [0.1568, 0.7430, 0.7386, 0.4229, 0.2168],\n",
              "         [0.2655, 0.3709, 0.9287, 0.4843, 0.4704],\n",
              "         [0.4386, 0.5549, 0.9398, 0.3184, 0.7906],\n",
              "         [0.4492, 0.4530, 0.8074, 0.1143, 0.2235]],\n",
              "\n",
              "        [[0.9087, 0.9437, 0.8327, 0.0235, 0.8607],\n",
              "         [0.6586, 0.4641, 0.9316, 0.8648, 0.0161],\n",
              "         [0.8251, 0.6128, 0.1418, 0.7170, 0.2898],\n",
              "         [0.9667, 0.6574, 0.6895, 0.5212, 0.6519],\n",
              "         [0.7115, 0.6377, 0.2840, 0.3516, 0.1787],\n",
              "         [0.9410, 0.3886, 0.9329, 0.7445, 0.8816]],\n",
              "\n",
              "        [[0.6784, 0.7717, 0.3923, 0.3438, 0.6364],\n",
              "         [0.8236, 0.8191, 0.3946, 0.5699, 0.3945],\n",
              "         [0.1610, 0.2697, 0.7330, 0.6947, 0.2914],\n",
              "         [0.7187, 0.2173, 0.4692, 0.1664, 0.0923],\n",
              "         [0.9005, 0.2722, 0.1888, 0.9926, 0.9982],\n",
              "         [0.9834, 0.4504, 0.0164, 0.2238, 0.2171]],\n",
              "\n",
              "        [[0.8217, 0.8362, 0.6431, 0.5052, 0.9268],\n",
              "         [0.7053, 0.1990, 0.9922, 0.2288, 0.8806],\n",
              "         [0.0910, 0.4584, 0.2084, 0.1556, 0.8550],\n",
              "         [0.8572, 0.6413, 0.1868, 0.3678, 0.4346],\n",
              "         [0.4275, 0.6917, 0.3864, 0.2801, 0.7053],\n",
              "         [0.2959, 0.3492, 0.1398, 0.6650, 0.2849]],\n",
              "\n",
              "        [[0.5081, 0.7539, 0.7640, 0.7722, 0.0343],\n",
              "         [0.4311, 0.6163, 0.4747, 0.1397, 0.0588],\n",
              "         [0.1568, 0.7430, 0.7386, 0.4229, 0.2168],\n",
              "         [0.2655, 0.3709, 0.9287, 0.4843, 0.4704],\n",
              "         [0.4386, 0.5549, 0.9398, 0.3184, 0.7906],\n",
              "         [0.4492, 0.4530, 0.8074, 0.1143, 0.2235]],\n",
              "\n",
              "        [[0.9087, 0.9437, 0.8327, 0.0235, 0.8607],\n",
              "         [0.6586, 0.4641, 0.9316, 0.8648, 0.0161],\n",
              "         [0.8251, 0.6128, 0.1418, 0.7170, 0.2898],\n",
              "         [0.9667, 0.6574, 0.6895, 0.5212, 0.6519],\n",
              "         [0.7115, 0.6377, 0.2840, 0.3516, 0.1787],\n",
              "         [0.9410, 0.3886, 0.9329, 0.7445, 0.8816]],\n",
              "\n",
              "        [[0.6784, 0.7717, 0.3923, 0.3438, 0.6364],\n",
              "         [0.8236, 0.8191, 0.3946, 0.5699, 0.3945],\n",
              "         [0.1610, 0.2697, 0.7330, 0.6947, 0.2914],\n",
              "         [0.7187, 0.2173, 0.4692, 0.1664, 0.0923],\n",
              "         [0.9005, 0.2722, 0.1888, 0.9926, 0.9982],\n",
              "         [0.9834, 0.4504, 0.0164, 0.2238, 0.2171]]])"
            ]
          },
          "metadata": {},
          "execution_count": 31
        }
      ]
    },
    {
      "cell_type": "code",
      "source": [
        "t1 = torch.stack([tensor1,tensor1])"
      ],
      "metadata": {
        "id": "cWFwP2pnz6tT"
      },
      "execution_count": 32,
      "outputs": []
    },
    {
      "cell_type": "code",
      "source": [
        "t1"
      ],
      "metadata": {
        "colab": {
          "base_uri": "https://localhost:8080/"
        },
        "id": "XwFSkZ77z_GI",
        "outputId": "718c1d0b-baa6-4568-dfea-6f42e5829feb"
      },
      "execution_count": 33,
      "outputs": [
        {
          "output_type": "execute_result",
          "data": {
            "text/plain": [
              "tensor([[[[0.8217, 0.8362, 0.6431, 0.5052, 0.9268],\n",
              "          [0.7053, 0.1990, 0.9922, 0.2288, 0.8806],\n",
              "          [0.0910, 0.4584, 0.2084, 0.1556, 0.8550],\n",
              "          [0.8572, 0.6413, 0.1868, 0.3678, 0.4346],\n",
              "          [0.4275, 0.6917, 0.3864, 0.2801, 0.7053],\n",
              "          [0.2959, 0.3492, 0.1398, 0.6650, 0.2849]],\n",
              "\n",
              "         [[0.5081, 0.7539, 0.7640, 0.7722, 0.0343],\n",
              "          [0.4311, 0.6163, 0.4747, 0.1397, 0.0588],\n",
              "          [0.1568, 0.7430, 0.7386, 0.4229, 0.2168],\n",
              "          [0.2655, 0.3709, 0.9287, 0.4843, 0.4704],\n",
              "          [0.4386, 0.5549, 0.9398, 0.3184, 0.7906],\n",
              "          [0.4492, 0.4530, 0.8074, 0.1143, 0.2235]],\n",
              "\n",
              "         [[0.9087, 0.9437, 0.8327, 0.0235, 0.8607],\n",
              "          [0.6586, 0.4641, 0.9316, 0.8648, 0.0161],\n",
              "          [0.8251, 0.6128, 0.1418, 0.7170, 0.2898],\n",
              "          [0.9667, 0.6574, 0.6895, 0.5212, 0.6519],\n",
              "          [0.7115, 0.6377, 0.2840, 0.3516, 0.1787],\n",
              "          [0.9410, 0.3886, 0.9329, 0.7445, 0.8816]],\n",
              "\n",
              "         [[0.6784, 0.7717, 0.3923, 0.3438, 0.6364],\n",
              "          [0.8236, 0.8191, 0.3946, 0.5699, 0.3945],\n",
              "          [0.1610, 0.2697, 0.7330, 0.6947, 0.2914],\n",
              "          [0.7187, 0.2173, 0.4692, 0.1664, 0.0923],\n",
              "          [0.9005, 0.2722, 0.1888, 0.9926, 0.9982],\n",
              "          [0.9834, 0.4504, 0.0164, 0.2238, 0.2171]]],\n",
              "\n",
              "\n",
              "        [[[0.8217, 0.8362, 0.6431, 0.5052, 0.9268],\n",
              "          [0.7053, 0.1990, 0.9922, 0.2288, 0.8806],\n",
              "          [0.0910, 0.4584, 0.2084, 0.1556, 0.8550],\n",
              "          [0.8572, 0.6413, 0.1868, 0.3678, 0.4346],\n",
              "          [0.4275, 0.6917, 0.3864, 0.2801, 0.7053],\n",
              "          [0.2959, 0.3492, 0.1398, 0.6650, 0.2849]],\n",
              "\n",
              "         [[0.5081, 0.7539, 0.7640, 0.7722, 0.0343],\n",
              "          [0.4311, 0.6163, 0.4747, 0.1397, 0.0588],\n",
              "          [0.1568, 0.7430, 0.7386, 0.4229, 0.2168],\n",
              "          [0.2655, 0.3709, 0.9287, 0.4843, 0.4704],\n",
              "          [0.4386, 0.5549, 0.9398, 0.3184, 0.7906],\n",
              "          [0.4492, 0.4530, 0.8074, 0.1143, 0.2235]],\n",
              "\n",
              "         [[0.9087, 0.9437, 0.8327, 0.0235, 0.8607],\n",
              "          [0.6586, 0.4641, 0.9316, 0.8648, 0.0161],\n",
              "          [0.8251, 0.6128, 0.1418, 0.7170, 0.2898],\n",
              "          [0.9667, 0.6574, 0.6895, 0.5212, 0.6519],\n",
              "          [0.7115, 0.6377, 0.2840, 0.3516, 0.1787],\n",
              "          [0.9410, 0.3886, 0.9329, 0.7445, 0.8816]],\n",
              "\n",
              "         [[0.6784, 0.7717, 0.3923, 0.3438, 0.6364],\n",
              "          [0.8236, 0.8191, 0.3946, 0.5699, 0.3945],\n",
              "          [0.1610, 0.2697, 0.7330, 0.6947, 0.2914],\n",
              "          [0.7187, 0.2173, 0.4692, 0.1664, 0.0923],\n",
              "          [0.9005, 0.2722, 0.1888, 0.9926, 0.9982],\n",
              "          [0.9834, 0.4504, 0.0164, 0.2238, 0.2171]]]])"
            ]
          },
          "metadata": {},
          "execution_count": 33
        }
      ]
    },
    {
      "cell_type": "code",
      "source": [
        "tensor1 @ tensor2"
      ],
      "metadata": {
        "colab": {
          "base_uri": "https://localhost:8080/"
        },
        "id": "mBusb8IE0AcR",
        "outputId": "a3dfe427-005d-4b54-9f45-bb94bd72871a"
      },
      "execution_count": 34,
      "outputs": [
        {
          "output_type": "execute_result",
          "data": {
            "text/plain": [
              "tensor([[[2.2079, 0.4852, 2.3949, 1.6537, 1.9270, 1.5268],\n",
              "         [2.0966, 0.3927, 1.6908, 1.0938, 1.8214, 1.1714],\n",
              "         [1.2697, 0.1862, 1.3895, 0.8851, 0.7242, 0.8129],\n",
              "         [1.1996, 0.3987, 1.6437, 1.1940, 1.3123, 1.0600],\n",
              "         [1.4970, 0.3032, 1.7188, 1.1897, 1.1546, 1.0085],\n",
              "         [0.9590, 0.1884, 0.9330, 0.6178, 0.9963, 0.8132]],\n",
              "\n",
              "        [[0.8675, 1.5720, 0.8481, 0.7095, 1.8458, 1.9334],\n",
              "         [0.5618, 1.0323, 0.4169, 0.3869, 1.1192, 1.1958],\n",
              "         [0.5359, 1.2158, 0.6753, 0.4358, 1.2557, 1.4085],\n",
              "         [0.6616, 1.5185, 0.7876, 0.5032, 1.2883, 1.2963],\n",
              "         [0.7928, 1.9338, 0.9539, 0.5812, 1.5022, 1.5621],\n",
              "         [0.6633, 1.3115, 0.4868, 0.4137, 1.1801, 1.1680]],\n",
              "\n",
              "        [[1.9484, 1.8901, 0.7397, 2.1418, 1.1334, 1.2738],\n",
              "         [1.5302, 1.6017, 1.2102, 2.0583, 1.1685, 1.9230],\n",
              "         [1.1049, 1.1224, 0.6999, 1.7652, 0.9124, 1.0999],\n",
              "         [1.7755, 1.6745, 0.9363, 2.1681, 1.2507, 1.5588],\n",
              "         [1.0790, 1.0967, 0.5391, 1.4968, 0.6733, 0.8605],\n",
              "         [1.9623, 1.7713, 1.2001, 2.2902, 1.5699, 2.0168]],\n",
              "\n",
              "        [[2.0311, 1.7224, 1.7200, 1.2995, 1.8176, 1.7358],\n",
              "         [2.1397, 1.9467, 1.7073, 1.4119, 1.8477, 1.9065],\n",
              "         [1.7047, 1.4022, 1.0638, 1.2945, 1.1055, 1.4376],\n",
              "         [1.2220, 1.2032, 0.6447, 0.7907, 0.9209, 1.2229],\n",
              "         [2.8225, 2.4532, 1.8696, 1.4777, 2.0319, 2.2662],\n",
              "         [1.3450, 1.3893, 0.9706, 0.6869, 1.2220, 1.2945]]])"
            ]
          },
          "metadata": {},
          "execution_count": 34
        }
      ]
    },
    {
      "cell_type": "code",
      "source": [
        "tensor1.T"
      ],
      "metadata": {
        "colab": {
          "base_uri": "https://localhost:8080/"
        },
        "id": "k62Anl_m0gpI",
        "outputId": "b27cf1ef-0c90-4395-8057-4f3e4d5ea65c"
      },
      "execution_count": 35,
      "outputs": [
        {
          "output_type": "stream",
          "name": "stderr",
          "text": [
            "<ipython-input-35-0fee77ff0160>:1: UserWarning: The use of `x.T` on tensors of dimension other than 2 to reverse their shape is deprecated and it will throw an error in a future release. Consider `x.mT` to transpose batches of matrices or `x.permute(*torch.arange(x.ndim - 1, -1, -1))` to reverse the dimensions of a tensor. (Triggered internally at ../aten/src/ATen/native/TensorShape.cpp:3683.)\n",
            "  tensor1.T\n"
          ]
        },
        {
          "output_type": "execute_result",
          "data": {
            "text/plain": [
              "tensor([[[0.8217, 0.5081, 0.9087, 0.6784],\n",
              "         [0.7053, 0.4311, 0.6586, 0.8236],\n",
              "         [0.0910, 0.1568, 0.8251, 0.1610],\n",
              "         [0.8572, 0.2655, 0.9667, 0.7187],\n",
              "         [0.4275, 0.4386, 0.7115, 0.9005],\n",
              "         [0.2959, 0.4492, 0.9410, 0.9834]],\n",
              "\n",
              "        [[0.8362, 0.7539, 0.9437, 0.7717],\n",
              "         [0.1990, 0.6163, 0.4641, 0.8191],\n",
              "         [0.4584, 0.7430, 0.6128, 0.2697],\n",
              "         [0.6413, 0.3709, 0.6574, 0.2173],\n",
              "         [0.6917, 0.5549, 0.6377, 0.2722],\n",
              "         [0.3492, 0.4530, 0.3886, 0.4504]],\n",
              "\n",
              "        [[0.6431, 0.7640, 0.8327, 0.3923],\n",
              "         [0.9922, 0.4747, 0.9316, 0.3946],\n",
              "         [0.2084, 0.7386, 0.1418, 0.7330],\n",
              "         [0.1868, 0.9287, 0.6895, 0.4692],\n",
              "         [0.3864, 0.9398, 0.2840, 0.1888],\n",
              "         [0.1398, 0.8074, 0.9329, 0.0164]],\n",
              "\n",
              "        [[0.5052, 0.7722, 0.0235, 0.3438],\n",
              "         [0.2288, 0.1397, 0.8648, 0.5699],\n",
              "         [0.1556, 0.4229, 0.7170, 0.6947],\n",
              "         [0.3678, 0.4843, 0.5212, 0.1664],\n",
              "         [0.2801, 0.3184, 0.3516, 0.9926],\n",
              "         [0.6650, 0.1143, 0.7445, 0.2238]],\n",
              "\n",
              "        [[0.9268, 0.0343, 0.8607, 0.6364],\n",
              "         [0.8806, 0.0588, 0.0161, 0.3945],\n",
              "         [0.8550, 0.2168, 0.2898, 0.2914],\n",
              "         [0.4346, 0.4704, 0.6519, 0.0923],\n",
              "         [0.7053, 0.7906, 0.1787, 0.9982],\n",
              "         [0.2849, 0.2235, 0.8816, 0.2171]]])"
            ]
          },
          "metadata": {},
          "execution_count": 35
        }
      ]
    },
    {
      "cell_type": "code",
      "source": [
        "tensor2 * tensor2"
      ],
      "metadata": {
        "colab": {
          "base_uri": "https://localhost:8080/"
        },
        "id": "A6jFWmV30nX9",
        "outputId": "9d4c644b-b1fd-45c9-ed23-581242d05910"
      },
      "execution_count": 36,
      "outputs": [
        {
          "output_type": "execute_result",
          "data": {
            "text/plain": [
              "tensor([[[6.2497e-02, 1.0123e-01, 3.5713e-01, 2.3070e-01, 6.4323e-01,\n",
              "          2.2338e-01],\n",
              "         [7.9344e-02, 6.1537e-03, 8.8824e-01, 6.5746e-01, 3.2051e-04,\n",
              "          4.0596e-02],\n",
              "         [7.5037e-01, 1.0351e-03, 3.1966e-02, 1.8936e-02, 4.7376e-01,\n",
              "          5.6770e-03],\n",
              "         [3.3208e-01, 1.5611e-03, 3.4322e-02, 1.8491e-03, 6.3874e-01,\n",
              "          3.6798e-01],\n",
              "         [9.8277e-01, 1.6087e-02, 9.5828e-01, 2.5805e-01, 1.9255e-01,\n",
              "          4.4043e-01]],\n",
              "\n",
              "        [[5.1880e-01, 9.0567e-01, 3.7362e-02, 1.9874e-01, 9.8975e-01,\n",
              "          6.7613e-01],\n",
              "         [1.2637e-02, 1.3399e-01, 7.6558e-02, 2.0195e-02, 3.8465e-01,\n",
              "          9.0866e-01],\n",
              "         [9.3874e-02, 3.8732e-01, 1.1659e-02, 9.5825e-03, 1.8213e-01,\n",
              "          8.6026e-02],\n",
              "         [5.4603e-02, 1.6221e-01, 3.2470e-01, 1.4795e-01, 4.9359e-01,\n",
              "          5.3688e-01],\n",
              "         [4.3473e-03, 5.7603e-01, 2.9941e-01, 1.3632e-02, 1.5011e-02,\n",
              "          4.2758e-02]],\n",
              "\n",
              "        [[6.4712e-01, 1.1565e-01, 1.3208e-02, 4.0494e-01, 4.7344e-02,\n",
              "          8.1617e-02],\n",
              "         [8.7286e-02, 5.7691e-01, 9.5694e-03, 7.7004e-01, 1.7712e-02,\n",
              "          2.1498e-03],\n",
              "         [7.0950e-01, 6.9576e-01, 3.4507e-01, 3.7441e-01, 2.0140e-01,\n",
              "          9.8127e-01],\n",
              "         [7.3519e-03, 8.0299e-02, 3.9151e-01, 5.7887e-01, 3.8623e-01,\n",
              "          8.3067e-01],\n",
              "         [7.4660e-02, 3.5887e-02, 2.0696e-03, 5.8429e-02, 2.4021e-01,\n",
              "          2.0832e-02]],\n",
              "\n",
              "        [[5.7578e-01, 9.1836e-01, 5.2122e-02, 5.7010e-02, 3.5847e-01,\n",
              "          7.5851e-01],\n",
              "         [1.3666e-01, 7.5683e-02, 9.7186e-01, 2.4183e-01, 6.4579e-01,\n",
              "          1.0865e-01],\n",
              "         [5.5884e-01, 3.0267e-01, 4.8875e-02, 6.4081e-01, 1.3645e-01,\n",
              "          5.7987e-01],\n",
              "         [8.8504e-01, 7.8299e-01, 2.5360e-01, 3.8501e-01, 1.7642e-01,\n",
              "          4.9827e-01],\n",
              "         [9.3211e-01, 2.8539e-01, 7.3213e-01, 1.3139e-01, 6.2222e-01,\n",
              "          3.0121e-01]]])"
            ]
          },
          "metadata": {},
          "execution_count": 36
        }
      ]
    },
    {
      "cell_type": "code",
      "source": [
        "tensor1 / 2"
      ],
      "metadata": {
        "colab": {
          "base_uri": "https://localhost:8080/"
        },
        "id": "2GsuOfE_01Gt",
        "outputId": "e5ec71ac-8823-4f8e-e283-5c7cabc06c93"
      },
      "execution_count": 37,
      "outputs": [
        {
          "output_type": "execute_result",
          "data": {
            "text/plain": [
              "tensor([[[0.4108, 0.4181, 0.3215, 0.2526, 0.4634],\n",
              "         [0.3527, 0.0995, 0.4961, 0.1144, 0.4403],\n",
              "         [0.0455, 0.2292, 0.1042, 0.0778, 0.4275],\n",
              "         [0.4286, 0.3207, 0.0934, 0.1839, 0.2173],\n",
              "         [0.2138, 0.3459, 0.1932, 0.1400, 0.3526],\n",
              "         [0.1479, 0.1746, 0.0699, 0.3325, 0.1424]],\n",
              "\n",
              "        [[0.2540, 0.3770, 0.3820, 0.3861, 0.0172],\n",
              "         [0.2156, 0.3082, 0.2374, 0.0699, 0.0294],\n",
              "         [0.0784, 0.3715, 0.3693, 0.2114, 0.1084],\n",
              "         [0.1327, 0.1855, 0.4643, 0.2421, 0.2352],\n",
              "         [0.2193, 0.2775, 0.4699, 0.1592, 0.3953],\n",
              "         [0.2246, 0.2265, 0.4037, 0.0572, 0.1118]],\n",
              "\n",
              "        [[0.4543, 0.4719, 0.4163, 0.0117, 0.4303],\n",
              "         [0.3293, 0.2321, 0.4658, 0.4324, 0.0081],\n",
              "         [0.4126, 0.3064, 0.0709, 0.3585, 0.1449],\n",
              "         [0.4834, 0.3287, 0.3448, 0.2606, 0.3260],\n",
              "         [0.3557, 0.3188, 0.1420, 0.1758, 0.0894],\n",
              "         [0.4705, 0.1943, 0.4665, 0.3722, 0.4408]],\n",
              "\n",
              "        [[0.3392, 0.3859, 0.1961, 0.1719, 0.3182],\n",
              "         [0.4118, 0.4095, 0.1973, 0.2850, 0.1973],\n",
              "         [0.0805, 0.1348, 0.3665, 0.3474, 0.1457],\n",
              "         [0.3594, 0.1086, 0.2346, 0.0832, 0.0461],\n",
              "         [0.4502, 0.1361, 0.0944, 0.4963, 0.4991],\n",
              "         [0.4917, 0.2252, 0.0082, 0.1119, 0.1085]]])"
            ]
          },
          "metadata": {},
          "execution_count": 37
        }
      ]
    },
    {
      "cell_type": "markdown",
      "source": [
        "# Getting Value Of Single-Element Tensor"
      ],
      "metadata": {
        "id": "JMJ4jXAJ1Q0N"
      }
    },
    {
      "cell_type": "code",
      "source": [
        "tensor1"
      ],
      "metadata": {
        "colab": {
          "base_uri": "https://localhost:8080/"
        },
        "id": "fmOUC4Lo1DTg",
        "outputId": "bf7fdf70-3e19-4ffe-b9a9-a9a585885c37"
      },
      "execution_count": 38,
      "outputs": [
        {
          "output_type": "execute_result",
          "data": {
            "text/plain": [
              "tensor([[[0.8217, 0.8362, 0.6431, 0.5052, 0.9268],\n",
              "         [0.7053, 0.1990, 0.9922, 0.2288, 0.8806],\n",
              "         [0.0910, 0.4584, 0.2084, 0.1556, 0.8550],\n",
              "         [0.8572, 0.6413, 0.1868, 0.3678, 0.4346],\n",
              "         [0.4275, 0.6917, 0.3864, 0.2801, 0.7053],\n",
              "         [0.2959, 0.3492, 0.1398, 0.6650, 0.2849]],\n",
              "\n",
              "        [[0.5081, 0.7539, 0.7640, 0.7722, 0.0343],\n",
              "         [0.4311, 0.6163, 0.4747, 0.1397, 0.0588],\n",
              "         [0.1568, 0.7430, 0.7386, 0.4229, 0.2168],\n",
              "         [0.2655, 0.3709, 0.9287, 0.4843, 0.4704],\n",
              "         [0.4386, 0.5549, 0.9398, 0.3184, 0.7906],\n",
              "         [0.4492, 0.4530, 0.8074, 0.1143, 0.2235]],\n",
              "\n",
              "        [[0.9087, 0.9437, 0.8327, 0.0235, 0.8607],\n",
              "         [0.6586, 0.4641, 0.9316, 0.8648, 0.0161],\n",
              "         [0.8251, 0.6128, 0.1418, 0.7170, 0.2898],\n",
              "         [0.9667, 0.6574, 0.6895, 0.5212, 0.6519],\n",
              "         [0.7115, 0.6377, 0.2840, 0.3516, 0.1787],\n",
              "         [0.9410, 0.3886, 0.9329, 0.7445, 0.8816]],\n",
              "\n",
              "        [[0.6784, 0.7717, 0.3923, 0.3438, 0.6364],\n",
              "         [0.8236, 0.8191, 0.3946, 0.5699, 0.3945],\n",
              "         [0.1610, 0.2697, 0.7330, 0.6947, 0.2914],\n",
              "         [0.7187, 0.2173, 0.4692, 0.1664, 0.0923],\n",
              "         [0.9005, 0.2722, 0.1888, 0.9926, 0.9982],\n",
              "         [0.9834, 0.4504, 0.0164, 0.2238, 0.2171]]])"
            ]
          },
          "metadata": {},
          "execution_count": 38
        }
      ]
    },
    {
      "cell_type": "code",
      "source": [
        "tensor1[0,1,2].item()"
      ],
      "metadata": {
        "colab": {
          "base_uri": "https://localhost:8080/"
        },
        "id": "vhIq7hwb1Xzr",
        "outputId": "7f0b08bb-c94f-4cc6-9c21-a98146036f51"
      },
      "execution_count": 39,
      "outputs": [
        {
          "output_type": "execute_result",
          "data": {
            "text/plain": [
              "0.9921546578407288"
            ]
          },
          "metadata": {},
          "execution_count": 39
        }
      ]
    },
    {
      "cell_type": "markdown",
      "source": [
        "# Inplace Operation"
      ],
      "metadata": {
        "id": "4F3Szpsg139K"
      }
    },
    {
      "cell_type": "code",
      "source": [
        "tensor1"
      ],
      "metadata": {
        "colab": {
          "base_uri": "https://localhost:8080/"
        },
        "id": "xTsFBEEa2Xel",
        "outputId": "ef8d61b8-7723-470a-934e-a0a529487637"
      },
      "execution_count": 40,
      "outputs": [
        {
          "output_type": "execute_result",
          "data": {
            "text/plain": [
              "tensor([[[0.8217, 0.8362, 0.6431, 0.5052, 0.9268],\n",
              "         [0.7053, 0.1990, 0.9922, 0.2288, 0.8806],\n",
              "         [0.0910, 0.4584, 0.2084, 0.1556, 0.8550],\n",
              "         [0.8572, 0.6413, 0.1868, 0.3678, 0.4346],\n",
              "         [0.4275, 0.6917, 0.3864, 0.2801, 0.7053],\n",
              "         [0.2959, 0.3492, 0.1398, 0.6650, 0.2849]],\n",
              "\n",
              "        [[0.5081, 0.7539, 0.7640, 0.7722, 0.0343],\n",
              "         [0.4311, 0.6163, 0.4747, 0.1397, 0.0588],\n",
              "         [0.1568, 0.7430, 0.7386, 0.4229, 0.2168],\n",
              "         [0.2655, 0.3709, 0.9287, 0.4843, 0.4704],\n",
              "         [0.4386, 0.5549, 0.9398, 0.3184, 0.7906],\n",
              "         [0.4492, 0.4530, 0.8074, 0.1143, 0.2235]],\n",
              "\n",
              "        [[0.9087, 0.9437, 0.8327, 0.0235, 0.8607],\n",
              "         [0.6586, 0.4641, 0.9316, 0.8648, 0.0161],\n",
              "         [0.8251, 0.6128, 0.1418, 0.7170, 0.2898],\n",
              "         [0.9667, 0.6574, 0.6895, 0.5212, 0.6519],\n",
              "         [0.7115, 0.6377, 0.2840, 0.3516, 0.1787],\n",
              "         [0.9410, 0.3886, 0.9329, 0.7445, 0.8816]],\n",
              "\n",
              "        [[0.6784, 0.7717, 0.3923, 0.3438, 0.6364],\n",
              "         [0.8236, 0.8191, 0.3946, 0.5699, 0.3945],\n",
              "         [0.1610, 0.2697, 0.7330, 0.6947, 0.2914],\n",
              "         [0.7187, 0.2173, 0.4692, 0.1664, 0.0923],\n",
              "         [0.9005, 0.2722, 0.1888, 0.9926, 0.9982],\n",
              "         [0.9834, 0.4504, 0.0164, 0.2238, 0.2171]]])"
            ]
          },
          "metadata": {},
          "execution_count": 40
        }
      ]
    },
    {
      "cell_type": "code",
      "source": [
        "tensor1.add_(75)"
      ],
      "metadata": {
        "colab": {
          "base_uri": "https://localhost:8080/"
        },
        "id": "aA2in4Yc1daL",
        "outputId": "90c3be1c-a4dd-4489-ccbd-684c372c0af4"
      },
      "execution_count": 41,
      "outputs": [
        {
          "output_type": "execute_result",
          "data": {
            "text/plain": [
              "tensor([[[75.8217, 75.8362, 75.6431, 75.5052, 75.9268],\n",
              "         [75.7053, 75.1990, 75.9922, 75.2288, 75.8806],\n",
              "         [75.0910, 75.4584, 75.2084, 75.1556, 75.8550],\n",
              "         [75.8572, 75.6413, 75.1868, 75.3678, 75.4346],\n",
              "         [75.4275, 75.6917, 75.3864, 75.2801, 75.7053],\n",
              "         [75.2959, 75.3492, 75.1398, 75.6650, 75.2849]],\n",
              "\n",
              "        [[75.5080, 75.7539, 75.7640, 75.7722, 75.0343],\n",
              "         [75.4311, 75.6163, 75.4747, 75.1397, 75.0588],\n",
              "         [75.1568, 75.7430, 75.7386, 75.4229, 75.2168],\n",
              "         [75.2655, 75.3709, 75.9287, 75.4843, 75.4704],\n",
              "         [75.4386, 75.5549, 75.9398, 75.3184, 75.7906],\n",
              "         [75.4492, 75.4530, 75.8074, 75.1143, 75.2235]],\n",
              "\n",
              "        [[75.9087, 75.9437, 75.8327, 75.0235, 75.8607],\n",
              "         [75.6586, 75.4641, 75.9316, 75.8648, 75.0161],\n",
              "         [75.8251, 75.6128, 75.1418, 75.7170, 75.2898],\n",
              "         [75.9667, 75.6574, 75.6895, 75.5212, 75.6519],\n",
              "         [75.7115, 75.6377, 75.2840, 75.3516, 75.1787],\n",
              "         [75.9410, 75.3886, 75.9329, 75.7445, 75.8816]],\n",
              "\n",
              "        [[75.6784, 75.7717, 75.3923, 75.3438, 75.6364],\n",
              "         [75.8236, 75.8191, 75.3946, 75.5699, 75.3945],\n",
              "         [75.1610, 75.2697, 75.7330, 75.6947, 75.2914],\n",
              "         [75.7187, 75.2173, 75.4692, 75.1664, 75.0923],\n",
              "         [75.9005, 75.2722, 75.1888, 75.9926, 75.9982],\n",
              "         [75.9834, 75.4504, 75.0164, 75.2238, 75.2171]]])"
            ]
          },
          "metadata": {},
          "execution_count": 41
        }
      ]
    },
    {
      "cell_type": "markdown",
      "source": [
        "# Tensor Views"
      ],
      "metadata": {
        "id": "oU_NmHJa2vH4"
      }
    },
    {
      "cell_type": "code",
      "source": [
        "tensor1.shape"
      ],
      "metadata": {
        "colab": {
          "base_uri": "https://localhost:8080/"
        },
        "id": "BSq5VUBH2OuO",
        "outputId": "34492617-c9e8-46a1-ac13-c3cea585f957"
      },
      "execution_count": 42,
      "outputs": [
        {
          "output_type": "execute_result",
          "data": {
            "text/plain": [
              "torch.Size([4, 6, 5])"
            ]
          },
          "metadata": {},
          "execution_count": 42
        }
      ]
    },
    {
      "cell_type": "code",
      "source": [
        "tensor1.view([4,5,6])"
      ],
      "metadata": {
        "colab": {
          "base_uri": "https://localhost:8080/"
        },
        "id": "mS2uRxVw2p8_",
        "outputId": "e18e125d-e190-4488-e7e7-ce57e44c00c9"
      },
      "execution_count": 43,
      "outputs": [
        {
          "output_type": "execute_result",
          "data": {
            "text/plain": [
              "tensor([[[75.8217, 75.8362, 75.6431, 75.5052, 75.9268, 75.7053],\n",
              "         [75.1990, 75.9922, 75.2288, 75.8806, 75.0910, 75.4584],\n",
              "         [75.2084, 75.1556, 75.8550, 75.8572, 75.6413, 75.1868],\n",
              "         [75.3678, 75.4346, 75.4275, 75.6917, 75.3864, 75.2801],\n",
              "         [75.7053, 75.2959, 75.3492, 75.1398, 75.6650, 75.2849]],\n",
              "\n",
              "        [[75.5080, 75.7539, 75.7640, 75.7722, 75.0343, 75.4311],\n",
              "         [75.6163, 75.4747, 75.1397, 75.0588, 75.1568, 75.7430],\n",
              "         [75.7386, 75.4229, 75.2168, 75.2655, 75.3709, 75.9287],\n",
              "         [75.4843, 75.4704, 75.4386, 75.5549, 75.9398, 75.3184],\n",
              "         [75.7906, 75.4492, 75.4530, 75.8074, 75.1143, 75.2235]],\n",
              "\n",
              "        [[75.9087, 75.9437, 75.8327, 75.0235, 75.8607, 75.6586],\n",
              "         [75.4641, 75.9316, 75.8648, 75.0161, 75.8251, 75.6128],\n",
              "         [75.1418, 75.7170, 75.2898, 75.9667, 75.6574, 75.6895],\n",
              "         [75.5212, 75.6519, 75.7115, 75.6377, 75.2840, 75.3516],\n",
              "         [75.1787, 75.9410, 75.3886, 75.9329, 75.7445, 75.8816]],\n",
              "\n",
              "        [[75.6784, 75.7717, 75.3923, 75.3438, 75.6364, 75.8236],\n",
              "         [75.8191, 75.3946, 75.5699, 75.3945, 75.1610, 75.2697],\n",
              "         [75.7330, 75.6947, 75.2914, 75.7187, 75.2173, 75.4692],\n",
              "         [75.1664, 75.0923, 75.9005, 75.2722, 75.1888, 75.9926],\n",
              "         [75.9982, 75.9834, 75.4504, 75.0164, 75.2238, 75.2171]]])"
            ]
          },
          "metadata": {},
          "execution_count": 43
        }
      ]
    },
    {
      "cell_type": "code",
      "source": [
        "tensor1.shape"
      ],
      "metadata": {
        "colab": {
          "base_uri": "https://localhost:8080/"
        },
        "id": "HW3-RdgW209Q",
        "outputId": "9bb1eaaf-e079-4bec-e884-af1219a6ab26"
      },
      "execution_count": 44,
      "outputs": [
        {
          "output_type": "execute_result",
          "data": {
            "text/plain": [
              "torch.Size([4, 6, 5])"
            ]
          },
          "metadata": {},
          "execution_count": 44
        }
      ]
    },
    {
      "cell_type": "markdown",
      "source": [
        "# Gradient Descent"
      ],
      "metadata": {
        "id": "z_WsvK0h9Biu"
      }
    },
    {
      "cell_type": "code",
      "source": [
        "xg = torch.ones((5,2),requires_grad =True)"
      ],
      "metadata": {
        "id": "WBXRVwH926UE"
      },
      "execution_count": 45,
      "outputs": []
    },
    {
      "cell_type": "code",
      "source": [
        "xg.requires_grad"
      ],
      "metadata": {
        "colab": {
          "base_uri": "https://localhost:8080/"
        },
        "id": "ZNUPP_3G-aRB",
        "outputId": "0de7b88d-9ec0-485a-a644-b2b5b4c5d855"
      },
      "execution_count": 46,
      "outputs": [
        {
          "output_type": "execute_result",
          "data": {
            "text/plain": [
              "True"
            ]
          },
          "metadata": {},
          "execution_count": 46
        }
      ]
    },
    {
      "cell_type": "code",
      "source": [
        "xg"
      ],
      "metadata": {
        "colab": {
          "base_uri": "https://localhost:8080/"
        },
        "id": "DHg0KvPi-fty",
        "outputId": "de91f722-826c-4ac1-c3ea-dc74eb1b1960"
      },
      "execution_count": 47,
      "outputs": [
        {
          "output_type": "execute_result",
          "data": {
            "text/plain": [
              "tensor([[1., 1.],\n",
              "        [1., 1.],\n",
              "        [1., 1.],\n",
              "        [1., 1.],\n",
              "        [1., 1.]], requires_grad=True)"
            ]
          },
          "metadata": {},
          "execution_count": 47
        }
      ]
    },
    {
      "cell_type": "code",
      "source": [
        "layer1 = xg + 2"
      ],
      "metadata": {
        "id": "mlCWZkZ_-giX"
      },
      "execution_count": 48,
      "outputs": []
    },
    {
      "cell_type": "code",
      "source": [
        "layer1"
      ],
      "metadata": {
        "colab": {
          "base_uri": "https://localhost:8080/"
        },
        "id": "TgpHrz3Q-lM9",
        "outputId": "d8a84824-f73f-4e05-eb1d-4c096991fb68"
      },
      "execution_count": 49,
      "outputs": [
        {
          "output_type": "execute_result",
          "data": {
            "text/plain": [
              "tensor([[3., 3.],\n",
              "        [3., 3.],\n",
              "        [3., 3.],\n",
              "        [3., 3.],\n",
              "        [3., 3.]], grad_fn=<AddBackward0>)"
            ]
          },
          "metadata": {},
          "execution_count": 49
        }
      ]
    },
    {
      "cell_type": "code",
      "source": [
        "layer2 = layer1 * 2"
      ],
      "metadata": {
        "id": "ghzMplxl-lv5"
      },
      "execution_count": 50,
      "outputs": []
    },
    {
      "cell_type": "code",
      "source": [
        "layer2"
      ],
      "metadata": {
        "colab": {
          "base_uri": "https://localhost:8080/"
        },
        "id": "l7r6_hpt-oQo",
        "outputId": "2788174b-5dcb-4c1f-e8b5-3ec612998a25"
      },
      "execution_count": 51,
      "outputs": [
        {
          "output_type": "execute_result",
          "data": {
            "text/plain": [
              "tensor([[6., 6.],\n",
              "        [6., 6.],\n",
              "        [6., 6.],\n",
              "        [6., 6.],\n",
              "        [6., 6.]], grad_fn=<MulBackward0>)"
            ]
          },
          "metadata": {},
          "execution_count": 51
        }
      ]
    },
    {
      "cell_type": "code",
      "source": [
        "layer3 = layer2.mean()"
      ],
      "metadata": {
        "id": "ckIIgfY4-pDL"
      },
      "execution_count": 52,
      "outputs": []
    },
    {
      "cell_type": "code",
      "source": [
        "layer3"
      ],
      "metadata": {
        "colab": {
          "base_uri": "https://localhost:8080/"
        },
        "id": "Z-5KSIfo-vVr",
        "outputId": "8fb4d0e7-159b-4597-b361-fcac284d0a5f"
      },
      "execution_count": 53,
      "outputs": [
        {
          "output_type": "execute_result",
          "data": {
            "text/plain": [
              "tensor(6., grad_fn=<MeanBackward0>)"
            ]
          },
          "metadata": {},
          "execution_count": 53
        }
      ]
    },
    {
      "cell_type": "code",
      "source": [
        "#deactivate\n",
        "\n",
        "layer2_detach = layer2.detach()"
      ],
      "metadata": {
        "id": "qLkfk2bl-v4A"
      },
      "execution_count": 54,
      "outputs": []
    },
    {
      "cell_type": "code",
      "source": [
        "layer2_detach"
      ],
      "metadata": {
        "colab": {
          "base_uri": "https://localhost:8080/"
        },
        "id": "G4Vfo7lD-6w-",
        "outputId": "11bbd597-ac08-4218-df15-c73b708208e0"
      },
      "execution_count": 55,
      "outputs": [
        {
          "output_type": "execute_result",
          "data": {
            "text/plain": [
              "tensor([[6., 6.],\n",
              "        [6., 6.],\n",
              "        [6., 6.],\n",
              "        [6., 6.],\n",
              "        [6., 6.]])"
            ]
          },
          "metadata": {},
          "execution_count": 55
        }
      ]
    },
    {
      "cell_type": "code",
      "source": [
        "layer2_detach.mean()"
      ],
      "metadata": {
        "colab": {
          "base_uri": "https://localhost:8080/"
        },
        "id": "ZG2-gCgK-71z",
        "outputId": "bcfe7c9b-ec00-40f1-bf0f-65aa5ada3e5f"
      },
      "execution_count": 56,
      "outputs": [
        {
          "output_type": "execute_result",
          "data": {
            "text/plain": [
              "tensor(6.)"
            ]
          },
          "metadata": {},
          "execution_count": 56
        }
      ]
    },
    {
      "cell_type": "markdown",
      "source": [
        "# Sample Model"
      ],
      "metadata": {
        "id": "UNcF06NH_cYK"
      }
    },
    {
      "cell_type": "code",
      "source": [
        "import torch"
      ],
      "metadata": {
        "id": "5E5qqiheC5UY"
      },
      "execution_count": 57,
      "outputs": []
    },
    {
      "cell_type": "code",
      "source": [
        "x = torch.tensor(([1,2,3,4]),dtype = torch.float32)\n",
        "y = torch.tensor(([2,4,6,8]),dtype = torch.float32)"
      ],
      "metadata": {
        "id": "fkIJEsjx_ANW"
      },
      "execution_count": 58,
      "outputs": []
    },
    {
      "cell_type": "code",
      "source": [
        "def forward(x,w):\n",
        "  return w * x"
      ],
      "metadata": {
        "id": "dujhfn8W_0uL"
      },
      "execution_count": 59,
      "outputs": []
    },
    {
      "cell_type": "code",
      "source": [
        "def loss(y,y_pred):\n",
        "  return ((y_pred - y)** 2).mean()"
      ],
      "metadata": {
        "id": "3MNlqaOi_8Nr"
      },
      "execution_count": 60,
      "outputs": []
    },
    {
      "cell_type": "code",
      "source": [
        "def gradient(x , y , y_pred):\n",
        "  return ((2.0 * x) * (y_pred - y)).mean()"
      ],
      "metadata": {
        "id": "5a5MlqkwAOT_"
      },
      "execution_count": 61,
      "outputs": []
    },
    {
      "cell_type": "code",
      "source": [
        "w = 0.0\n",
        "n_iters = 25\n",
        "learning_rate = 0.1"
      ],
      "metadata": {
        "id": "skLnQqDVAfnA"
      },
      "execution_count": 62,
      "outputs": []
    },
    {
      "cell_type": "code",
      "source": [
        "for epoch in range(n_iters):\n",
        "  #Forward\n",
        "  y_pred = forward(x,w)\n",
        "\n",
        "  #loss\n",
        "  l = loss(y , y_pred)\n",
        "\n",
        "  #gradient\n",
        "  grad = gradient(x , y ,y_pred)\n",
        "\n",
        "  print(f\"Epoch:{epoch+1} , Pred =: {y_pred.detach()} ,Grad :{grad.item()}, W: {w:4f} , Loss: {l:5f}\")\n",
        "\n",
        "  w -= learning_rate * grad"
      ],
      "metadata": {
        "colab": {
          "base_uri": "https://localhost:8080/"
        },
        "id": "o8WFxr8rBLSg",
        "outputId": "ba8cc9e2-d003-4563-e2f5-41453e15a2e6"
      },
      "execution_count": 63,
      "outputs": [
        {
          "output_type": "stream",
          "name": "stdout",
          "text": [
            "Epoch:1 , Pred =: tensor([0., 0., 0., 0.]) ,Grad :-30.0, W: 0.000000 , Loss: 30.000000\n",
            "Epoch:2 , Pred =: tensor([ 3.,  6.,  9., 12.]) ,Grad :15.0, W: 3.000000 , Loss: 7.500000\n",
            "Epoch:3 , Pred =: tensor([1.5000, 3.0000, 4.5000, 6.0000]) ,Grad :-7.5, W: 1.500000 , Loss: 1.875000\n",
            "Epoch:4 , Pred =: tensor([2.2500, 4.5000, 6.7500, 9.0000]) ,Grad :3.75, W: 2.250000 , Loss: 0.468750\n",
            "Epoch:5 , Pred =: tensor([1.8750, 3.7500, 5.6250, 7.5000]) ,Grad :-1.875, W: 1.875000 , Loss: 0.117188\n",
            "Epoch:6 , Pred =: tensor([2.0625, 4.1250, 6.1875, 8.2500]) ,Grad :0.9375, W: 2.062500 , Loss: 0.029297\n",
            "Epoch:7 , Pred =: tensor([1.9688, 3.9375, 5.9062, 7.8750]) ,Grad :-0.46875, W: 1.968750 , Loss: 0.007324\n",
            "Epoch:8 , Pred =: tensor([2.0156, 4.0312, 6.0469, 8.0625]) ,Grad :0.234375, W: 2.015625 , Loss: 0.001831\n",
            "Epoch:9 , Pred =: tensor([1.9922, 3.9844, 5.9766, 7.9688]) ,Grad :-0.1171875, W: 1.992188 , Loss: 0.000458\n",
            "Epoch:10 , Pred =: tensor([2.0039, 4.0078, 6.0117, 8.0156]) ,Grad :0.05859375, W: 2.003906 , Loss: 0.000114\n",
            "Epoch:11 , Pred =: tensor([1.9980, 3.9961, 5.9941, 7.9922]) ,Grad :-0.029296875, W: 1.998047 , Loss: 0.000029\n",
            "Epoch:12 , Pred =: tensor([2.0010, 4.0020, 6.0029, 8.0039]) ,Grad :0.0146484375, W: 2.000977 , Loss: 0.000007\n",
            "Epoch:13 , Pred =: tensor([1.9995, 3.9990, 5.9985, 7.9980]) ,Grad :-0.00732421875, W: 1.999512 , Loss: 0.000002\n",
            "Epoch:14 , Pred =: tensor([2.0002, 4.0005, 6.0007, 8.0010]) ,Grad :0.003662109375, W: 2.000244 , Loss: 0.000000\n",
            "Epoch:15 , Pred =: tensor([1.9999, 3.9998, 5.9996, 7.9995]) ,Grad :-0.0018310546875, W: 1.999878 , Loss: 0.000000\n",
            "Epoch:16 , Pred =: tensor([2.0001, 4.0001, 6.0002, 8.0002]) ,Grad :0.00091552734375, W: 2.000061 , Loss: 0.000000\n",
            "Epoch:17 , Pred =: tensor([2.0000, 3.9999, 5.9999, 7.9999]) ,Grad :-0.000457763671875, W: 1.999969 , Loss: 0.000000\n",
            "Epoch:18 , Pred =: tensor([2.0000, 4.0000, 6.0000, 8.0001]) ,Grad :0.0002288818359375, W: 2.000015 , Loss: 0.000000\n",
            "Epoch:19 , Pred =: tensor([2.0000, 4.0000, 6.0000, 8.0000]) ,Grad :-0.00011444091796875, W: 1.999992 , Loss: 0.000000\n",
            "Epoch:20 , Pred =: tensor([2.0000, 4.0000, 6.0000, 8.0000]) ,Grad :5.7220458984375e-05, W: 2.000004 , Loss: 0.000000\n",
            "Epoch:21 , Pred =: tensor([2.0000, 4.0000, 6.0000, 8.0000]) ,Grad :-2.86102294921875e-05, W: 1.999998 , Loss: 0.000000\n",
            "Epoch:22 , Pred =: tensor([2.0000, 4.0000, 6.0000, 8.0000]) ,Grad :1.430511474609375e-05, W: 2.000001 , Loss: 0.000000\n",
            "Epoch:23 , Pred =: tensor([2.0000, 4.0000, 6.0000, 8.0000]) ,Grad :-7.152557373046875e-06, W: 2.000000 , Loss: 0.000000\n",
            "Epoch:24 , Pred =: tensor([2.0000, 4.0000, 6.0000, 8.0000]) ,Grad :3.933906555175781e-06, W: 2.000000 , Loss: 0.000000\n",
            "Epoch:25 , Pred =: tensor([2.0000, 4.0000, 6.0000, 8.0000]) ,Grad :-1.9669532775878906e-06, W: 2.000000 , Loss: 0.000000\n"
          ]
        }
      ]
    },
    {
      "cell_type": "code",
      "source": [
        "def forward(x,w):\n",
        "  return w * x"
      ],
      "metadata": {
        "id": "mjPr2-TcH4xR"
      },
      "execution_count": 64,
      "outputs": []
    },
    {
      "cell_type": "code",
      "source": [
        "def loss(y,y_pred):\n",
        "  return ((y_pred - y)** 2).mean()"
      ],
      "metadata": {
        "id": "CjhePcgFH-Xm"
      },
      "execution_count": 65,
      "outputs": []
    },
    {
      "cell_type": "code",
      "source": [
        "w = torch.tensor(0.0, requires_grad=True)\n",
        "n_iters = 25\n",
        "learning_rate = 0.1"
      ],
      "metadata": {
        "id": "0r_QTRDMH-ON"
      },
      "execution_count": 66,
      "outputs": []
    },
    {
      "cell_type": "code",
      "source": [
        "# Model 2\n",
        "import torch\n",
        "\n",
        "\n",
        "for epoch in range(n_iters):\n",
        "  #forward\n",
        "  y_pred = forward(x,w)\n",
        "\n",
        "  #Loss\n",
        "  l = loss(y,y_pred)\n",
        "\n",
        "  #Backpropagation\n",
        "\n",
        "  l.backward()\n",
        "  print(f\"Epoch:{epoch+1} , Pred =: {y_pred.detach()} ,Grad :{w.grad.item():4f}, W: {w:4f} , Loss: {l:5f}\")\n",
        "\n",
        "\n",
        "  #weight update\n",
        "\n",
        "  with torch.no_grad():\n",
        "    w -= learning_rate * w.grad\n",
        "\n",
        "  w.grad.zero_()"
      ],
      "metadata": {
        "colab": {
          "base_uri": "https://localhost:8080/"
        },
        "id": "u-dMZNIyGMu3",
        "outputId": "f1b09b2c-0e69-482a-ffb7-169e24da5c02"
      },
      "execution_count": 67,
      "outputs": [
        {
          "output_type": "stream",
          "name": "stdout",
          "text": [
            "Epoch:1 , Pred =: tensor([0., 0., 0., 0.]) ,Grad :-30.000000, W: 0.000000 , Loss: 30.000000\n",
            "Epoch:2 , Pred =: tensor([ 3.,  6.,  9., 12.]) ,Grad :15.000000, W: 3.000000 , Loss: 7.500000\n",
            "Epoch:3 , Pred =: tensor([1.5000, 3.0000, 4.5000, 6.0000]) ,Grad :-7.500000, W: 1.500000 , Loss: 1.875000\n",
            "Epoch:4 , Pred =: tensor([2.2500, 4.5000, 6.7500, 9.0000]) ,Grad :3.750000, W: 2.250000 , Loss: 0.468750\n",
            "Epoch:5 , Pred =: tensor([1.8750, 3.7500, 5.6250, 7.5000]) ,Grad :-1.875000, W: 1.875000 , Loss: 0.117188\n",
            "Epoch:6 , Pred =: tensor([2.0625, 4.1250, 6.1875, 8.2500]) ,Grad :0.937500, W: 2.062500 , Loss: 0.029297\n",
            "Epoch:7 , Pred =: tensor([1.9688, 3.9375, 5.9062, 7.8750]) ,Grad :-0.468750, W: 1.968750 , Loss: 0.007324\n",
            "Epoch:8 , Pred =: tensor([2.0156, 4.0312, 6.0469, 8.0625]) ,Grad :0.234375, W: 2.015625 , Loss: 0.001831\n",
            "Epoch:9 , Pred =: tensor([1.9922, 3.9844, 5.9766, 7.9688]) ,Grad :-0.117188, W: 1.992188 , Loss: 0.000458\n",
            "Epoch:10 , Pred =: tensor([2.0039, 4.0078, 6.0117, 8.0156]) ,Grad :0.058594, W: 2.003906 , Loss: 0.000114\n",
            "Epoch:11 , Pred =: tensor([1.9980, 3.9961, 5.9941, 7.9922]) ,Grad :-0.029297, W: 1.998047 , Loss: 0.000029\n",
            "Epoch:12 , Pred =: tensor([2.0010, 4.0020, 6.0029, 8.0039]) ,Grad :0.014648, W: 2.000977 , Loss: 0.000007\n",
            "Epoch:13 , Pred =: tensor([1.9995, 3.9990, 5.9985, 7.9980]) ,Grad :-0.007324, W: 1.999512 , Loss: 0.000002\n",
            "Epoch:14 , Pred =: tensor([2.0002, 4.0005, 6.0007, 8.0010]) ,Grad :0.003662, W: 2.000244 , Loss: 0.000000\n",
            "Epoch:15 , Pred =: tensor([1.9999, 3.9998, 5.9996, 7.9995]) ,Grad :-0.001831, W: 1.999878 , Loss: 0.000000\n",
            "Epoch:16 , Pred =: tensor([2.0001, 4.0001, 6.0002, 8.0002]) ,Grad :0.000916, W: 2.000061 , Loss: 0.000000\n",
            "Epoch:17 , Pred =: tensor([2.0000, 3.9999, 5.9999, 7.9999]) ,Grad :-0.000458, W: 1.999969 , Loss: 0.000000\n",
            "Epoch:18 , Pred =: tensor([2.0000, 4.0000, 6.0000, 8.0001]) ,Grad :0.000229, W: 2.000015 , Loss: 0.000000\n",
            "Epoch:19 , Pred =: tensor([2.0000, 4.0000, 6.0000, 8.0000]) ,Grad :-0.000114, W: 1.999992 , Loss: 0.000000\n",
            "Epoch:20 , Pred =: tensor([2.0000, 4.0000, 6.0000, 8.0000]) ,Grad :0.000057, W: 2.000004 , Loss: 0.000000\n",
            "Epoch:21 , Pred =: tensor([2.0000, 4.0000, 6.0000, 8.0000]) ,Grad :-0.000029, W: 1.999998 , Loss: 0.000000\n",
            "Epoch:22 , Pred =: tensor([2.0000, 4.0000, 6.0000, 8.0000]) ,Grad :0.000014, W: 2.000001 , Loss: 0.000000\n",
            "Epoch:23 , Pred =: tensor([2.0000, 4.0000, 6.0000, 8.0000]) ,Grad :-0.000007, W: 2.000000 , Loss: 0.000000\n",
            "Epoch:24 , Pred =: tensor([2.0000, 4.0000, 6.0000, 8.0000]) ,Grad :0.000004, W: 2.000000 , Loss: 0.000000\n",
            "Epoch:25 , Pred =: tensor([2.0000, 4.0000, 6.0000, 8.0000]) ,Grad :-0.000002, W: 2.000000 , Loss: 0.000000\n"
          ]
        }
      ]
    },
    {
      "cell_type": "code",
      "source": [
        "#Model 3\n",
        "\n",
        "import torch.optim as optim\n",
        "\n",
        "def forward(x,w):\n",
        "  return w * x\n",
        "\n",
        "w = torch.tensor(0.0, requires_grad=True)\n",
        "optimizer = optim.SGD([w],lr = 0.1)\n",
        "criterion = torch.nn.MSELoss()\n",
        "n_iters = 30\n",
        "\n",
        "\n",
        "for epoch in range(n_iters):\n",
        "  #forward\n",
        "  y_pred = forward(x,w)\n",
        "\n",
        "  #Loss\n",
        "  loss = criterion(y,y_pred)\n",
        "  print(f\"Epoch:{epoch+1},Pred: {y_pred.detach()},W:{w.item():4f},Loss:{loss.item():4f}\")\n",
        "\n",
        "  #Backward pass\n",
        "  loss.backward()\n",
        "\n",
        "\n",
        "  #weight update\n",
        "  optimizer.step()\n",
        "\n",
        "  #Zero Gradients\n",
        "  optimizer.zero_grad()\n"
      ],
      "metadata": {
        "id": "89G7zAAyLW0C",
        "colab": {
          "base_uri": "https://localhost:8080/"
        },
        "outputId": "b6ec5b5e-2f26-42cd-fcf4-c1b4a40ba902"
      },
      "execution_count": 68,
      "outputs": [
        {
          "output_type": "stream",
          "name": "stdout",
          "text": [
            "Epoch:1,Pred: tensor([0., 0., 0., 0.]),W:0.000000,Loss:30.000000\n",
            "Epoch:2,Pred: tensor([ 3.,  6.,  9., 12.]),W:3.000000,Loss:7.500000\n",
            "Epoch:3,Pred: tensor([1.5000, 3.0000, 4.5000, 6.0000]),W:1.500000,Loss:1.875000\n",
            "Epoch:4,Pred: tensor([2.2500, 4.5000, 6.7500, 9.0000]),W:2.250000,Loss:0.468750\n",
            "Epoch:5,Pred: tensor([1.8750, 3.7500, 5.6250, 7.5000]),W:1.875000,Loss:0.117188\n",
            "Epoch:6,Pred: tensor([2.0625, 4.1250, 6.1875, 8.2500]),W:2.062500,Loss:0.029297\n",
            "Epoch:7,Pred: tensor([1.9688, 3.9375, 5.9062, 7.8750]),W:1.968750,Loss:0.007324\n",
            "Epoch:8,Pred: tensor([2.0156, 4.0312, 6.0469, 8.0625]),W:2.015625,Loss:0.001831\n",
            "Epoch:9,Pred: tensor([1.9922, 3.9844, 5.9766, 7.9688]),W:1.992188,Loss:0.000458\n",
            "Epoch:10,Pred: tensor([2.0039, 4.0078, 6.0117, 8.0156]),W:2.003906,Loss:0.000114\n",
            "Epoch:11,Pred: tensor([1.9980, 3.9961, 5.9941, 7.9922]),W:1.998047,Loss:0.000029\n",
            "Epoch:12,Pred: tensor([2.0010, 4.0020, 6.0029, 8.0039]),W:2.000977,Loss:0.000007\n",
            "Epoch:13,Pred: tensor([1.9995, 3.9990, 5.9985, 7.9980]),W:1.999512,Loss:0.000002\n",
            "Epoch:14,Pred: tensor([2.0002, 4.0005, 6.0007, 8.0010]),W:2.000244,Loss:0.000000\n",
            "Epoch:15,Pred: tensor([1.9999, 3.9998, 5.9996, 7.9995]),W:1.999878,Loss:0.000000\n",
            "Epoch:16,Pred: tensor([2.0001, 4.0001, 6.0002, 8.0002]),W:2.000061,Loss:0.000000\n",
            "Epoch:17,Pred: tensor([2.0000, 3.9999, 5.9999, 7.9999]),W:1.999969,Loss:0.000000\n",
            "Epoch:18,Pred: tensor([2.0000, 4.0000, 6.0000, 8.0001]),W:2.000015,Loss:0.000000\n",
            "Epoch:19,Pred: tensor([2.0000, 4.0000, 6.0000, 8.0000]),W:1.999992,Loss:0.000000\n",
            "Epoch:20,Pred: tensor([2.0000, 4.0000, 6.0000, 8.0000]),W:2.000004,Loss:0.000000\n",
            "Epoch:21,Pred: tensor([2.0000, 4.0000, 6.0000, 8.0000]),W:1.999998,Loss:0.000000\n",
            "Epoch:22,Pred: tensor([2.0000, 4.0000, 6.0000, 8.0000]),W:2.000001,Loss:0.000000\n",
            "Epoch:23,Pred: tensor([2.0000, 4.0000, 6.0000, 8.0000]),W:2.000000,Loss:0.000000\n",
            "Epoch:24,Pred: tensor([2.0000, 4.0000, 6.0000, 8.0000]),W:2.000000,Loss:0.000000\n",
            "Epoch:25,Pred: tensor([2.0000, 4.0000, 6.0000, 8.0000]),W:2.000000,Loss:0.000000\n",
            "Epoch:26,Pred: tensor([2., 4., 6., 8.]),W:2.000000,Loss:0.000000\n",
            "Epoch:27,Pred: tensor([2., 4., 6., 8.]),W:2.000000,Loss:0.000000\n",
            "Epoch:28,Pred: tensor([2., 4., 6., 8.]),W:2.000000,Loss:0.000000\n",
            "Epoch:29,Pred: tensor([2., 4., 6., 8.]),W:2.000000,Loss:0.000000\n",
            "Epoch:30,Pred: tensor([2., 4., 6., 8.]),W:2.000000,Loss:0.000000\n"
          ]
        }
      ]
    },
    {
      "cell_type": "markdown",
      "source": [
        "# Neural Network"
      ],
      "metadata": {
        "id": "nAo9fyOfMVSx"
      }
    },
    {
      "cell_type": "code",
      "source": [
        "import torch\n",
        "import torch.nn as nn"
      ],
      "metadata": {
        "id": "2GQg4nQhMa4k"
      },
      "execution_count": 69,
      "outputs": []
    },
    {
      "cell_type": "code",
      "source": [
        "class NeuralNetwork(nn.Module):\n",
        "  def __init__(self):\n",
        "    super().sequential = nn.Sequential(\n",
        "       nn.Flatten(),\n",
        "       nn.Linear(784,512),\n",
        "       nn.ReLU(),\n",
        "       nn.Linear(512,512),\n",
        "       nn.ReLU(),\n",
        "       nn.Linear(512,10)\n",
        "\n",
        "    )\n",
        "    def forward(self , x):\n",
        "      logits = self.sequential(x)\n",
        "      return logits\n"
      ],
      "metadata": {
        "id": "fmpnW7BkMgZd"
      },
      "execution_count": 70,
      "outputs": []
    },
    {
      "cell_type": "code",
      "source": [
        "input_image = torch.rand(3,28,28)\n",
        "print(input_image,input_image.shape)\n",
        "flatten = nn.Flatten()\n",
        "flat_img = flatten(input_image)\n",
        "print(flat_img,flat_img.shape)"
      ],
      "metadata": {
        "colab": {
          "base_uri": "https://localhost:8080/"
        },
        "id": "PuwZI0TKNRTI",
        "outputId": "007a5eaa-ffe1-45d0-c4ae-2c4ecdb910ea"
      },
      "execution_count": 71,
      "outputs": [
        {
          "output_type": "stream",
          "name": "stdout",
          "text": [
            "tensor([[[0.8020, 0.4772, 0.7308,  ..., 0.2437, 0.4667, 0.1212],\n",
            "         [0.6757, 0.7143, 0.2525,  ..., 0.6304, 0.0318, 0.2116],\n",
            "         [0.7393, 0.8340, 0.9508,  ..., 0.0599, 0.9207, 0.2018],\n",
            "         ...,\n",
            "         [0.3591, 0.6192, 0.8849,  ..., 0.6927, 0.9217, 0.6087],\n",
            "         [0.7488, 0.3866, 0.7255,  ..., 0.8679, 0.9195, 0.6768],\n",
            "         [0.3201, 0.7056, 0.1240,  ..., 0.7113, 0.5594, 0.6380]],\n",
            "\n",
            "        [[0.2932, 0.1847, 0.9160,  ..., 0.0813, 0.1221, 0.7803],\n",
            "         [0.4460, 0.0139, 0.3254,  ..., 0.3733, 0.1068, 0.6074],\n",
            "         [0.9208, 0.2063, 0.3651,  ..., 0.7639, 0.4417, 0.3031],\n",
            "         ...,\n",
            "         [0.6696, 0.2613, 0.9849,  ..., 0.2416, 0.9523, 0.4608],\n",
            "         [0.0435, 0.4863, 0.0015,  ..., 0.3926, 0.0592, 0.3308],\n",
            "         [0.4888, 0.5610, 0.4372,  ..., 0.7819, 0.7497, 0.8092]],\n",
            "\n",
            "        [[0.8204, 0.7876, 0.7129,  ..., 0.9131, 0.6155, 0.3209],\n",
            "         [0.6125, 0.6668, 0.3341,  ..., 0.3044, 0.0756, 0.4150],\n",
            "         [0.2212, 0.7341, 0.6597,  ..., 0.8378, 0.9808, 0.8395],\n",
            "         ...,\n",
            "         [0.0381, 0.3712, 0.4886,  ..., 0.9213, 0.0656, 0.5096],\n",
            "         [0.0173, 0.1441, 0.8499,  ..., 0.8796, 0.6945, 0.4692],\n",
            "         [0.3681, 0.4652, 0.2977,  ..., 0.0959, 0.3342, 0.4368]]]) torch.Size([3, 28, 28])\n",
            "tensor([[0.8020, 0.4772, 0.7308,  ..., 0.7113, 0.5594, 0.6380],\n",
            "        [0.2932, 0.1847, 0.9160,  ..., 0.7819, 0.7497, 0.8092],\n",
            "        [0.8204, 0.7876, 0.7129,  ..., 0.0959, 0.3342, 0.4368]]) torch.Size([3, 784])\n"
          ]
        }
      ]
    },
    {
      "cell_type": "code",
      "source": [
        "linear = nn.Linear(in_features=784,out_features=20)\n",
        "linear_out = linear(flat_img)\n",
        "print(linear_out,linear_out.shape)"
      ],
      "metadata": {
        "colab": {
          "base_uri": "https://localhost:8080/"
        },
        "id": "Usym2DP9QI0y",
        "outputId": "e49a49e7-4613-43f4-e664-31f438a812a8"
      },
      "execution_count": 72,
      "outputs": [
        {
          "output_type": "stream",
          "name": "stdout",
          "text": [
            "tensor([[ 0.3107,  0.0170, -0.3187,  0.1716, -0.3308, -0.4667, -0.0595,  0.0509,\n",
            "         -0.1257,  0.1176,  0.1413, -0.6692,  0.1438, -0.6096, -0.5850, -0.2413,\n",
            "         -0.1129,  0.0494,  0.0733,  0.0360],\n",
            "        [ 0.3643,  0.3615, -0.0176,  0.1068, -0.3167, -0.0594, -0.1023,  0.4669,\n",
            "         -0.4168,  0.0332,  0.6170, -0.0395, -0.1629, -0.4202, -0.4273, -0.1672,\n",
            "         -0.0385, -0.1274,  0.2937, -0.0228],\n",
            "        [ 0.2979,  0.4737, -0.1535,  0.2396, -0.2879, -0.3657,  0.1297,  0.3963,\n",
            "         -0.1195,  0.6016,  0.4643, -0.5758, -0.2646, -0.2722, -0.3222, -0.2998,\n",
            "         -0.1440,  0.2117,  0.2955,  0.2600]], grad_fn=<AddmmBackward0>) torch.Size([3, 20])\n"
          ]
        }
      ]
    },
    {
      "cell_type": "code",
      "source": [
        "relu = nn.ReLU()\n",
        "relu_out = relu(linear_out)\n",
        "print(relu_out,relu_out.shape)"
      ],
      "metadata": {
        "colab": {
          "base_uri": "https://localhost:8080/"
        },
        "id": "F98n-2ArQv58",
        "outputId": "ae7fb27b-7a22-47ec-f5e9-9e4b1b05a14f"
      },
      "execution_count": 73,
      "outputs": [
        {
          "output_type": "stream",
          "name": "stdout",
          "text": [
            "tensor([[0.3107, 0.0170, 0.0000, 0.1716, 0.0000, 0.0000, 0.0000, 0.0509, 0.0000,\n",
            "         0.1176, 0.1413, 0.0000, 0.1438, 0.0000, 0.0000, 0.0000, 0.0000, 0.0494,\n",
            "         0.0733, 0.0360],\n",
            "        [0.3643, 0.3615, 0.0000, 0.1068, 0.0000, 0.0000, 0.0000, 0.4669, 0.0000,\n",
            "         0.0332, 0.6170, 0.0000, 0.0000, 0.0000, 0.0000, 0.0000, 0.0000, 0.0000,\n",
            "         0.2937, 0.0000],\n",
            "        [0.2979, 0.4737, 0.0000, 0.2396, 0.0000, 0.0000, 0.1297, 0.3963, 0.0000,\n",
            "         0.6016, 0.4643, 0.0000, 0.0000, 0.0000, 0.0000, 0.0000, 0.0000, 0.2117,\n",
            "         0.2955, 0.2600]], grad_fn=<ReluBackward0>) torch.Size([3, 20])\n"
          ]
        }
      ]
    },
    {
      "cell_type": "code",
      "source": [
        "linear2 = nn.Linear(in_features=20 , out_features = 10)\n",
        "logits = linear2(relu_out)\n",
        "logits"
      ],
      "metadata": {
        "colab": {
          "base_uri": "https://localhost:8080/"
        },
        "id": "oSewVhM5RJJc",
        "outputId": "f3040c97-7950-406d-fceb-dad6c7e1874f"
      },
      "execution_count": 74,
      "outputs": [
        {
          "output_type": "execute_result",
          "data": {
            "text/plain": [
              "tensor([[ 0.1715,  0.2310,  0.1044,  0.1739, -0.0318, -0.2023,  0.0528, -0.0787,\n",
              "         -0.0924, -0.0066],\n",
              "        [ 0.3190,  0.2400,  0.0435,  0.0480,  0.0143, -0.0701,  0.1156, -0.0505,\n",
              "         -0.0839,  0.0837],\n",
              "        [ 0.2406,  0.2993,  0.1586,  0.1380, -0.0247, -0.1504,  0.1027,  0.0900,\n",
              "          0.0965,  0.0439]], grad_fn=<AddmmBackward0>)"
            ]
          },
          "metadata": {},
          "execution_count": 74
        }
      ]
    },
    {
      "cell_type": "markdown",
      "source": [
        "# Linear Regression"
      ],
      "metadata": {
        "id": "cp2v2Q-njZj6"
      }
    },
    {
      "cell_type": "code",
      "source": [
        "import torch\n",
        "import torch.nn as nn\n",
        "import numpy as np\n",
        "from sklearn import datasets\n",
        "import matplotlib.pyplot as plt"
      ],
      "metadata": {
        "id": "XCC7P-a6Rh-z"
      },
      "execution_count": 75,
      "outputs": []
    },
    {
      "cell_type": "code",
      "source": [
        "x_numpy,y_numpy = datasets.make_regression(n_samples = 100, noise = 20,random_state=1,n_features=1)"
      ],
      "metadata": {
        "id": "eYBvWyVOjm7f"
      },
      "execution_count": 77,
      "outputs": []
    },
    {
      "cell_type": "code",
      "source": [
        "X = torch.from_numpy(x_numpy.astype(np.float32))\n",
        "X.shape"
      ],
      "metadata": {
        "colab": {
          "base_uri": "https://localhost:8080/"
        },
        "id": "25pXHb_0j1Vh",
        "outputId": "3dcd3c9c-6d34-44c0-f9d6-b58da0527226"
      },
      "execution_count": 82,
      "outputs": [
        {
          "output_type": "execute_result",
          "data": {
            "text/plain": [
              "torch.Size([100, 1])"
            ]
          },
          "metadata": {},
          "execution_count": 82
        }
      ]
    },
    {
      "cell_type": "code",
      "source": [
        "Y = torch.from_numpy(y_numpy.astype(np.float32))\n",
        "Y.shape"
      ],
      "metadata": {
        "colab": {
          "base_uri": "https://localhost:8080/"
        },
        "id": "eBDIWtp4kBvT",
        "outputId": "a3160931-f286-4927-bf1e-66f1fa152676"
      },
      "execution_count": 83,
      "outputs": [
        {
          "output_type": "execute_result",
          "data": {
            "text/plain": [
              "torch.Size([100])"
            ]
          },
          "metadata": {},
          "execution_count": 83
        }
      ]
    },
    {
      "cell_type": "code",
      "source": [
        "Y"
      ],
      "metadata": {
        "colab": {
          "base_uri": "https://localhost:8080/"
        },
        "id": "0WycV-S1lmYF",
        "outputId": "b3da1c29-4797-4ccf-9c85-2cf2399ac896"
      },
      "execution_count": 92,
      "outputs": [
        {
          "output_type": "execute_result",
          "data": {
            "text/plain": [
              "tensor([-5.5539e+01, -1.0662e+01,  2.2757e+01,  1.0110e+02,  1.4434e+02,\n",
              "         3.3289e+01,  3.3015e+01, -2.5887e+01, -9.9639e+01,  2.3803e+01,\n",
              "        -4.5589e+01, -8.3388e+00, -9.5315e+01,  3.6407e+01, -8.7293e+01,\n",
              "         6.7669e+01, -1.3687e+01, -5.5441e+01, -6.5340e+01, -5.4450e+01,\n",
              "        -2.8835e+01,  1.7884e+02,  6.5084e+01,  2.6668e+01, -1.8546e+01,\n",
              "        -4.1499e+01,  8.5583e-01,  4.4562e+01,  1.1598e+02, -6.4620e+01,\n",
              "        -2.5931e+01, -6.0882e+01,  1.8720e+01,  7.5070e+01,  1.1720e+02,\n",
              "        -2.2698e+01, -5.6363e+01,  1.8084e+02, -1.9257e+02,  6.8503e+01,\n",
              "         1.6552e+02,  1.0500e+02, -7.0434e+01, -5.8769e+01, -4.1576e+01,\n",
              "         7.3247e+01,  4.0966e+01,  8.0462e+01, -2.8794e+01,  3.4234e+01,\n",
              "        -4.1715e+01,  1.4355e+01,  7.9336e+01,  2.7129e+01, -3.9487e+01,\n",
              "         6.6805e+01,  9.5531e+01,  3.5610e+00,  1.0857e-01,  5.6495e+01,\n",
              "         5.1575e+01, -2.0974e+00, -2.6656e+01,  3.9742e+01,  3.6101e+01,\n",
              "        -7.5602e+01,  1.9713e+01, -7.1601e+01, -1.9904e+01, -7.6708e+01,\n",
              "        -1.1834e+02, -2.9825e+01,  1.5108e+02,  5.2923e+01, -5.9552e+01,\n",
              "         3.0721e+01, -2.9355e+01, -4.4786e+01,  1.0006e+02,  1.5058e+02,\n",
              "         1.2200e+02, -1.8186e+02,  3.4739e+00, -2.2980e+01,  4.5184e+01,\n",
              "         9.8606e+01, -9.2779e+00, -5.2478e+01,  3.8593e+01, -1.9997e+02,\n",
              "        -9.5201e+00, -3.4724e+00, -3.5312e+01,  7.5406e+01,  1.7570e+01,\n",
              "        -2.3960e+01,  1.3209e+02,  2.0608e+01,  5.1111e+01, -2.6306e+01])"
            ]
          },
          "metadata": {},
          "execution_count": 92
        }
      ]
    },
    {
      "cell_type": "code",
      "source": [
        "y = Y.view(Y.shape[0],1)\n",
        "print(f\"Y:{y.shape}\")"
      ],
      "metadata": {
        "colab": {
          "base_uri": "https://localhost:8080/"
        },
        "id": "PnpqjbYJkf16",
        "outputId": "69ebc253-f03f-4a22-f864-381422dffe55"
      },
      "execution_count": 90,
      "outputs": [
        {
          "output_type": "stream",
          "name": "stdout",
          "text": [
            "Y:torch.Size([100, 1])\n"
          ]
        }
      ]
    },
    {
      "cell_type": "code",
      "source": [
        "y"
      ],
      "metadata": {
        "colab": {
          "base_uri": "https://localhost:8080/"
        },
        "id": "97YjTdSoloJj",
        "outputId": "31b2f9fc-481e-496b-eaaf-1519fe44a07f"
      },
      "execution_count": 93,
      "outputs": [
        {
          "output_type": "execute_result",
          "data": {
            "text/plain": [
              "tensor([[-5.5539e+01],\n",
              "        [-1.0662e+01],\n",
              "        [ 2.2757e+01],\n",
              "        [ 1.0110e+02],\n",
              "        [ 1.4434e+02],\n",
              "        [ 3.3289e+01],\n",
              "        [ 3.3015e+01],\n",
              "        [-2.5887e+01],\n",
              "        [-9.9639e+01],\n",
              "        [ 2.3803e+01],\n",
              "        [-4.5589e+01],\n",
              "        [-8.3388e+00],\n",
              "        [-9.5315e+01],\n",
              "        [ 3.6407e+01],\n",
              "        [-8.7293e+01],\n",
              "        [ 6.7669e+01],\n",
              "        [-1.3687e+01],\n",
              "        [-5.5441e+01],\n",
              "        [-6.5340e+01],\n",
              "        [-5.4450e+01],\n",
              "        [-2.8835e+01],\n",
              "        [ 1.7884e+02],\n",
              "        [ 6.5084e+01],\n",
              "        [ 2.6668e+01],\n",
              "        [-1.8546e+01],\n",
              "        [-4.1499e+01],\n",
              "        [ 8.5583e-01],\n",
              "        [ 4.4562e+01],\n",
              "        [ 1.1598e+02],\n",
              "        [-6.4620e+01],\n",
              "        [-2.5931e+01],\n",
              "        [-6.0882e+01],\n",
              "        [ 1.8720e+01],\n",
              "        [ 7.5070e+01],\n",
              "        [ 1.1720e+02],\n",
              "        [-2.2698e+01],\n",
              "        [-5.6363e+01],\n",
              "        [ 1.8084e+02],\n",
              "        [-1.9257e+02],\n",
              "        [ 6.8503e+01],\n",
              "        [ 1.6552e+02],\n",
              "        [ 1.0500e+02],\n",
              "        [-7.0434e+01],\n",
              "        [-5.8769e+01],\n",
              "        [-4.1576e+01],\n",
              "        [ 7.3247e+01],\n",
              "        [ 4.0966e+01],\n",
              "        [ 8.0462e+01],\n",
              "        [-2.8794e+01],\n",
              "        [ 3.4234e+01],\n",
              "        [-4.1715e+01],\n",
              "        [ 1.4355e+01],\n",
              "        [ 7.9336e+01],\n",
              "        [ 2.7129e+01],\n",
              "        [-3.9487e+01],\n",
              "        [ 6.6805e+01],\n",
              "        [ 9.5531e+01],\n",
              "        [ 3.5610e+00],\n",
              "        [ 1.0857e-01],\n",
              "        [ 5.6495e+01],\n",
              "        [ 5.1575e+01],\n",
              "        [-2.0974e+00],\n",
              "        [-2.6656e+01],\n",
              "        [ 3.9742e+01],\n",
              "        [ 3.6101e+01],\n",
              "        [-7.5602e+01],\n",
              "        [ 1.9713e+01],\n",
              "        [-7.1601e+01],\n",
              "        [-1.9904e+01],\n",
              "        [-7.6708e+01],\n",
              "        [-1.1834e+02],\n",
              "        [-2.9825e+01],\n",
              "        [ 1.5108e+02],\n",
              "        [ 5.2923e+01],\n",
              "        [-5.9552e+01],\n",
              "        [ 3.0721e+01],\n",
              "        [-2.9355e+01],\n",
              "        [-4.4786e+01],\n",
              "        [ 1.0006e+02],\n",
              "        [ 1.5058e+02],\n",
              "        [ 1.2200e+02],\n",
              "        [-1.8186e+02],\n",
              "        [ 3.4739e+00],\n",
              "        [-2.2980e+01],\n",
              "        [ 4.5184e+01],\n",
              "        [ 9.8606e+01],\n",
              "        [-9.2779e+00],\n",
              "        [-5.2478e+01],\n",
              "        [ 3.8593e+01],\n",
              "        [-1.9997e+02],\n",
              "        [-9.5201e+00],\n",
              "        [-3.4724e+00],\n",
              "        [-3.5312e+01],\n",
              "        [ 7.5406e+01],\n",
              "        [ 1.7570e+01],\n",
              "        [-2.3960e+01],\n",
              "        [ 1.3209e+02],\n",
              "        [ 2.0608e+01],\n",
              "        [ 5.1111e+01],\n",
              "        [-2.6306e+01]])"
            ]
          },
          "metadata": {},
          "execution_count": 93
        }
      ]
    },
    {
      "cell_type": "code",
      "source": [
        "plt.plot(x,y,'ro')\n",
        "plt.show()"
      ],
      "metadata": {
        "colab": {
          "base_uri": "https://localhost:8080/",
          "height": 430
        },
        "id": "k6IbtDnvkxpL",
        "outputId": "2f6d12c8-d903-4efe-b1b0-2fc369e899a1"
      },
      "execution_count": 91,
      "outputs": [
        {
          "output_type": "display_data",
          "data": {
            "text/plain": [
              "<Figure size 640x480 with 1 Axes>"
            ],
            "image/png": "[encoded data removed]"
          },
          "metadata": {}
        }
      ]
    },
    {
      "cell_type": "code",
      "source": [
        "class LinearRegression(nn.Module):\n",
        "  def __init__(self,input_dim,output_dim):\n",
        "    super().__init__()\n",
        "    self.Linear = nn.Linear(input_dim,output_dim)\n",
        "\n",
        "  def forward(self,x):\n",
        "    return self.Linear(x)"
      ],
      "metadata": {
        "id": "oKf4R_ESlQSR"
      },
      "execution_count": 94,
      "outputs": []
    },
    {
      "cell_type": "code",
      "source": [
        "n_samples,n_features = X.shape\n",
        "print(f\"n_samples:{n_samples}\")\n",
        "print(f\"n_features:{n_features}\")"
      ],
      "metadata": {
        "colab": {
          "base_uri": "https://localhost:8080/"
        },
        "id": "9Eu1u49WmkvY",
        "outputId": "bd444199-8e56-44cb-df45-34f76778869c"
      },
      "execution_count": 95,
      "outputs": [
        {
          "output_type": "stream",
          "name": "stdout",
          "text": [
            "n_samples:100\n",
            "n_features:1\n"
          ]
        }
      ]
    },
    {
      "cell_type": "code",
      "source": [
        "input_size = n_features\n",
        "output_size = n_features\n",
        "model = LinearRegression(input_size,output_size)"
      ],
      "metadata": {
        "id": "bupO1BCbnchp"
      },
      "execution_count": 99,
      "outputs": []
    },
    {
      "cell_type": "code",
      "source": [
        "model"
      ],
      "metadata": {
        "colab": {
          "base_uri": "https://localhost:8080/"
        },
        "id": "r9TXMZPCns6N",
        "outputId": "bfc8310f-76ee-461e-d8ca-ed10b9d9b3f1"
      },
      "execution_count": 100,
      "outputs": [
        {
          "output_type": "execute_result",
          "data": {
            "text/plain": [
              "LinearRegression(\n",
              "  (Linear): Linear(in_features=1, out_features=1, bias=True)\n",
              ")"
            ]
          },
          "metadata": {},
          "execution_count": 100
        }
      ]
    },
    {
      "cell_type": "code",
      "source": [
        "params = model.parameters()"
      ],
      "metadata": {
        "id": "AiwBRmd1nthT"
      },
      "execution_count": 102,
      "outputs": []
    },
    {
      "cell_type": "code",
      "source": [
        "for param in params:\n",
        "  print(param)"
      ],
      "metadata": {
        "colab": {
          "base_uri": "https://localhost:8080/"
        },
        "id": "yX3cyeHpopru",
        "outputId": "ebcf09f1-bc5f-421c-cf1f-ccd0808b6ff9"
      },
      "execution_count": 103,
      "outputs": [
        {
          "output_type": "stream",
          "name": "stdout",
          "text": [
            "Parameter containing:\n",
            "tensor([[-0.4183]], requires_grad=True)\n",
            "Parameter containing:\n",
            "tensor([-0.7241], requires_grad=True)\n"
          ]
        }
      ]
    },
    {
      "cell_type": "code",
      "source": [
        "import torch.nn as nn\n",
        "learning_rate = 0.01\n",
        "optimizer = torch.optim.SGD(model.parameters(),lr = learning_rate)\n",
        "loss = nn.MSELoss()"
      ],
      "metadata": {
        "id": "0B2JhZOMpBSg"
      },
      "execution_count": 109,
      "outputs": []
    },
    {
      "cell_type": "code",
      "source": [
        "n_iters = 400\n",
        "\n",
        "for epoch in range(n_iters):\n",
        "  y_pred = model(x)\n",
        "  l =loss(y,y_pred)\n",
        "  l.backward()\n",
        "  if epoch % 10 == 0:\n",
        "    [w,b] = model.parameters()\n",
        "    print(f\"epoch = {epoch+1},prediction:{y_pred.detach()[0]},W:{w[0][0].item()},grad:{w.grad.item()},loss:{l}\")\n",
        "    optimizer.step()\n",
        "    optimizer.zero_grad()"
      ],
      "metadata": {
        "colab": {
          "base_uri": "https://localhost:8080/"
        },
        "id": "C4CmUKCwpSKN",
        "outputId": "7485ee7a-ac73-4d9d-b015-b421db0b17a2"
      },
      "execution_count": 111,
      "outputs": [
        {
          "output_type": "stream",
          "name": "stdout",
          "text": [
            "epoch = 1,prediction:tensor([-0.4682]),W:-0.4182678461074829,grad:-262.1928405761719,loss:5813.5224609375\n",
            "epoch = 11,prediction:tensor([-1.6802]),W:2.203660488128662,grad:-1269.210693359375,loss:5467.80322265625\n",
            "epoch = 21,prediction:tensor([-7.5947]),W:14.895767211914062,grad:-1067.151611328125,loss:3955.756591796875\n",
            "epoch = 31,prediction:tensor([-12.7969]),W:25.567283630371094,grad:-897.5385131835938,loss:2892.4736328125\n",
            "epoch = 41,prediction:tensor([-17.3560]),W:34.542667388916016,grad:-755.1064453125,loss:2143.5126953125\n",
            "epoch = 51,prediction:tensor([-21.3389]),W:42.09373092651367,grad:-635.4553833007812,loss:1615.14599609375\n",
            "epoch = 61,prediction:tensor([-24.8085]),W:48.44828414916992,grad:-534.9066772460938,loss:1241.879638671875\n",
            "epoch = 71,prediction:tensor([-27.8237]),W:53.7973518371582,grad:-450.3824157714844,loss:977.8487548828125\n",
            "epoch = 81,prediction:tensor([-30.4380]),W:58.30117416381836,grad:-379.3059997558594,loss:790.8699340820312\n",
            "epoch = 91,prediction:tensor([-32.7002]),W:62.094234466552734,grad:-319.5196838378906,loss:658.3184204101562\n",
            "epoch = 101,prediction:tensor([-34.6543]),W:65.2894287109375,grad:-269.2157287597656,loss:564.262451171875\n",
            "epoch = 111,prediction:tensor([-36.3395]),W:67.98158264160156,grad:-226.87818908691406,loss:497.4649353027344\n",
            "epoch = 121,prediction:tensor([-37.7906]),W:70.2503662109375,grad:-191.2364044189453,loss:449.9897155761719\n",
            "epoch = 131,prediction:tensor([-39.0386]),W:72.16272735595703,grad:-161.2237548828125,loss:416.2242126464844\n",
            "epoch = 141,prediction:tensor([-40.1105]),W:73.77496337890625,grad:-135.94537353515625,loss:392.1946105957031\n",
            "epoch = 151,prediction:tensor([-41.0302]),W:75.13441467285156,grad:-114.64962768554688,loss:375.083984375\n",
            "epoch = 161,prediction:tensor([-41.8184]),W:76.28091430664062,grad:-96.70503997802734,loss:362.89410400390625\n",
            "epoch = 171,prediction:tensor([-42.4934]),W:77.24796295166016,grad:-81.58145141601562,loss:354.2060241699219\n",
            "epoch = 181,prediction:tensor([-43.0710]),W:78.06377410888672,grad:-68.83281707763672,loss:348.01129150390625\n",
            "epoch = 191,prediction:tensor([-43.5647]),W:78.75210571289062,grad:-58.084110260009766,loss:343.5927734375\n",
            "epoch = 201,prediction:tensor([-43.9865]),W:79.33294677734375,grad:-49.020206451416016,loss:340.4400634765625\n",
            "epoch = 211,prediction:tensor([-44.3466]),W:79.82315063476562,grad:-41.37565994262695,loss:338.19012451171875\n",
            "epoch = 221,prediction:tensor([-44.6538]),W:80.23690795898438,grad:-34.927249908447266,loss:336.5838623046875\n",
            "epoch = 231,prediction:tensor([-44.9157]),W:80.586181640625,grad:-29.486997604370117,loss:335.4369201660156\n",
            "epoch = 241,prediction:tensor([-45.1390]),W:80.88105010986328,grad:-24.896690368652344,loss:334.6177978515625\n",
            "epoch = 251,prediction:tensor([-45.3292]),W:81.13002014160156,grad:-21.022924423217773,loss:334.0327453613281\n",
            "epoch = 261,prediction:tensor([-45.4911]),W:81.34024810791016,grad:-17.75358009338379,loss:333.6147155761719\n",
            "epoch = 271,prediction:tensor([-45.6289]),W:81.51778411865234,grad:-14.993914604187012,loss:333.3160400390625\n",
            "epoch = 281,prediction:tensor([-45.7461]),W:81.667724609375,grad:-12.664233207702637,loss:333.1025695800781\n",
            "epoch = 291,prediction:tensor([-45.8458]),W:81.79436492919922,grad:-10.697425842285156,loss:332.9500427246094\n",
            "epoch = 301,prediction:tensor([-45.9306]),W:81.90133666992188,grad:-9.03670597076416,loss:332.84100341796875\n",
            "epoch = 311,prediction:tensor([-46.0026]),W:81.99170684814453,grad:-7.634268760681152,loss:332.7630920410156\n",
            "epoch = 321,prediction:tensor([-46.0638]),W:82.06804656982422,grad:-6.449985027313232,loss:332.70733642578125\n",
            "epoch = 331,prediction:tensor([-46.1158]),W:82.1325454711914,grad:-5.449704647064209,loss:332.66754150390625\n",
            "epoch = 341,prediction:tensor([-46.1599]),W:82.18704223632812,grad:-4.604825496673584,loss:332.6390686035156\n",
            "epoch = 351,prediction:tensor([-46.1974]),W:82.23309326171875,grad:-3.8910865783691406,loss:332.6186828613281\n",
            "epoch = 361,prediction:tensor([-46.2292]),W:82.27200317382812,grad:-3.288207769393921,loss:332.6041259765625\n",
            "epoch = 371,prediction:tensor([-46.2562]),W:82.30488586425781,grad:-2.7788445949554443,loss:332.5937194824219\n",
            "epoch = 381,prediction:tensor([-46.2791]),W:82.33267211914062,grad:-2.3485193252563477,loss:332.5863037109375\n",
            "epoch = 391,prediction:tensor([-46.2985]),W:82.35615539550781,grad:-1.984945297241211,loss:332.5809631347656\n"
          ]
        }
      ]
    },
    {
      "cell_type": "code",
      "source": [
        "with torch.no_grad():\n",
        "  predictions = model(x)"
      ],
      "metadata": {
        "id": "5-CPLg7Fq2nL"
      },
      "execution_count": 116,
      "outputs": []
    },
    {
      "cell_type": "code",
      "source": [
        "plt.plot(x,y,'ro')\n",
        "plt.plot(x,predictions,'b')\n",
        "plt.show()"
      ],
      "metadata": {
        "id": "08JguI1Zrt4X",
        "outputId": "05012b31-abc3-4610-b1ea-878c6857ce78",
        "colab": {
          "base_uri": "https://localhost:8080/",
          "height": 432
        }
      },
      "execution_count": 117,
      "outputs": [
        {
          "output_type": "display_data",
          "data": {
            "text/plain": [
              "<Figure size 640x480 with 1 Axes>"
            ],
            "image/png": "[encoded data removed]"
          },
          "metadata": {}
        }
      ]
    },
    {
      "cell_type": "code",
      "source": [],
      "metadata": {
        "id": "7xXYKevur30r"
      },
      "execution_count": null,
      "outputs": []
    }
  ]
}