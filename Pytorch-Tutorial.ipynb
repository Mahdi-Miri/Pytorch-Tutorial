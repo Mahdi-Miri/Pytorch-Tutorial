{
  "nbformat": 4,
  "nbformat_minor": 0,
  "metadata": {
    "colab": {
      "provenance": [],
      "authorship_tag": "ABX9TyNql4iQINzr9higOW1+ZqWh",
      "include_colab_link": true
    },
    "kernelspec": {
      "name": "python3",
      "display_name": "Python 3"
    },
    "language_info": {
      "name": "python"
    }
  },
  "cells": [
    {
      "cell_type": "markdown",
      "metadata": {
        "id": "view-in-github",
        "colab_type": "text"
      },
      "source": [
        "<a href=\"https://colab.research.google.com/github/Mahdi-Miri/Pytorch-Tutorial/blob/main/Pytorch-Tutorial.ipynb\" target=\"_parent\"><img src=\"https://colab.research.google.com/assets/colab-badge.svg\" alt=\"Open In Colab\"/></a>"
      ]
    },
    {
      "cell_type": "code",
      "execution_count": 1,
      "metadata": {
        "colab": {
          "base_uri": "https://localhost:8080/"
        },
        "id": "iXxlxpdlkm8N",
        "outputId": "65b67e39-30b0-4967-bd26-219bb11de647"
      },
      "outputs": [
        {
          "output_type": "stream",
          "name": "stdout",
          "text": [
            "Requirement already satisfied: torch in /usr/local/lib/python3.10/dist-packages (2.5.1+cu121)\n",
            "Requirement already satisfied: torchvision in /usr/local/lib/python3.10/dist-packages (0.20.1+cu121)\n",
            "Requirement already satisfied: filelock in /usr/local/lib/python3.10/dist-packages (from torch) (3.16.1)\n",
            "Requirement already satisfied: typing-extensions>=4.8.0 in /usr/local/lib/python3.10/dist-packages (from torch) (4.12.2)\n",
            "Requirement already satisfied: networkx in /usr/local/lib/python3.10/dist-packages (from torch) (3.4.2)\n",
            "Requirement already satisfied: jinja2 in /usr/local/lib/python3.10/dist-packages (from torch) (3.1.4)\n",
            "Requirement already satisfied: fsspec in /usr/local/lib/python3.10/dist-packages (from torch) (2024.10.0)\n",
            "Requirement already satisfied: sympy==1.13.1 in /usr/local/lib/python3.10/dist-packages (from torch) (1.13.1)\n",
            "Requirement already satisfied: mpmath<1.4,>=1.1.0 in /usr/local/lib/python3.10/dist-packages (from sympy==1.13.1->torch) (1.3.0)\n",
            "Requirement already satisfied: numpy in /usr/local/lib/python3.10/dist-packages (from torchvision) (1.26.4)\n",
            "Requirement already satisfied: pillow!=8.3.*,>=5.3.0 in /usr/local/lib/python3.10/dist-packages (from torchvision) (11.0.0)\n",
            "Requirement already satisfied: MarkupSafe>=2.0 in /usr/local/lib/python3.10/dist-packages (from jinja2->torch) (3.0.2)\n"
          ]
        }
      ],
      "source": [
        "!pip install torch torchvision -U"
      ]
    },
    {
      "cell_type": "code",
      "source": [
        "import torch\n",
        "\n",
        "print(torch.__version__)"
      ],
      "metadata": {
        "colab": {
          "base_uri": "https://localhost:8080/"
        },
        "id": "XCuPPQg_kpWS",
        "outputId": "942e9837-01b8-49c1-8f7d-4813681199c0"
      },
      "execution_count": 2,
      "outputs": [
        {
          "output_type": "stream",
          "name": "stdout",
          "text": [
            "2.5.1+cu121\n"
          ]
        }
      ]
    },
    {
      "cell_type": "code",
      "source": [
        "data = [[1,2],[3,4],[5,6]]"
      ],
      "metadata": {
        "id": "rcn196RBkreU"
      },
      "execution_count": 3,
      "outputs": []
    },
    {
      "cell_type": "code",
      "source": [
        "data"
      ],
      "metadata": {
        "colab": {
          "base_uri": "https://localhost:8080/"
        },
        "id": "TXmel_4tvEUa",
        "outputId": "59861b21-18db-425b-dce2-7176a1048c84"
      },
      "execution_count": 4,
      "outputs": [
        {
          "output_type": "execute_result",
          "data": {
            "text/plain": [
              "[[1, 2], [3, 4], [5, 6]]"
            ]
          },
          "metadata": {},
          "execution_count": 4
        }
      ]
    },
    {
      "cell_type": "code",
      "source": [
        "torch.tensor(data)"
      ],
      "metadata": {
        "colab": {
          "base_uri": "https://localhost:8080/"
        },
        "id": "6-sfJ-FavE5F",
        "outputId": "1dd3d54a-d7df-4cd5-ee90-9883e0bc1596"
      },
      "execution_count": 5,
      "outputs": [
        {
          "output_type": "execute_result",
          "data": {
            "text/plain": [
              "tensor([[1, 2],\n",
              "        [3, 4],\n",
              "        [5, 6]])"
            ]
          },
          "metadata": {},
          "execution_count": 5
        }
      ]
    },
    {
      "cell_type": "code",
      "source": [
        "x = torch.zeros((3,3,5),dtype=torch.float16)"
      ],
      "metadata": {
        "id": "A5V90z0avJXv"
      },
      "execution_count": 6,
      "outputs": []
    },
    {
      "cell_type": "code",
      "source": [
        "x"
      ],
      "metadata": {
        "colab": {
          "base_uri": "https://localhost:8080/"
        },
        "id": "vT8Ty5cwvyUQ",
        "outputId": "eea7bdf7-1631-413a-fc1c-d2bdd506ec31"
      },
      "execution_count": 7,
      "outputs": [
        {
          "output_type": "execute_result",
          "data": {
            "text/plain": [
              "tensor([[[0., 0., 0., 0., 0.],\n",
              "         [0., 0., 0., 0., 0.],\n",
              "         [0., 0., 0., 0., 0.]],\n",
              "\n",
              "        [[0., 0., 0., 0., 0.],\n",
              "         [0., 0., 0., 0., 0.],\n",
              "         [0., 0., 0., 0., 0.]],\n",
              "\n",
              "        [[0., 0., 0., 0., 0.],\n",
              "         [0., 0., 0., 0., 0.],\n",
              "         [0., 0., 0., 0., 0.]]], dtype=torch.float16)"
            ]
          },
          "metadata": {},
          "execution_count": 7
        }
      ]
    },
    {
      "cell_type": "code",
      "source": [
        "x[1]"
      ],
      "metadata": {
        "colab": {
          "base_uri": "https://localhost:8080/"
        },
        "id": "zyWxYOV4wECr",
        "outputId": "fb03be14-5c77-43b5-b453-3617d083f42c"
      },
      "execution_count": 8,
      "outputs": [
        {
          "output_type": "execute_result",
          "data": {
            "text/plain": [
              "tensor([[0., 0., 0., 0., 0.],\n",
              "        [0., 0., 0., 0., 0.],\n",
              "        [0., 0., 0., 0., 0.]], dtype=torch.float16)"
            ]
          },
          "metadata": {},
          "execution_count": 8
        }
      ]
    },
    {
      "cell_type": "code",
      "source": [
        "shape = (2,3,4)"
      ],
      "metadata": {
        "id": "i1gXdBelxCkd"
      },
      "execution_count": 9,
      "outputs": []
    },
    {
      "cell_type": "code",
      "source": [
        "x = torch.ones(shape)"
      ],
      "metadata": {
        "id": "PG9FiXZFwzNR"
      },
      "execution_count": 10,
      "outputs": []
    },
    {
      "cell_type": "code",
      "source": [
        "x"
      ],
      "metadata": {
        "colab": {
          "base_uri": "https://localhost:8080/"
        },
        "id": "-0i9E36gw4sX",
        "outputId": "3d6de160-e4eb-4f52-8f74-c95fc2d29267"
      },
      "execution_count": 11,
      "outputs": [
        {
          "output_type": "execute_result",
          "data": {
            "text/plain": [
              "tensor([[[1., 1., 1., 1.],\n",
              "         [1., 1., 1., 1.],\n",
              "         [1., 1., 1., 1.]],\n",
              "\n",
              "        [[1., 1., 1., 1.],\n",
              "         [1., 1., 1., 1.],\n",
              "         [1., 1., 1., 1.]]])"
            ]
          },
          "metadata": {},
          "execution_count": 11
        }
      ]
    },
    {
      "cell_type": "code",
      "source": [
        "x = torch.rand(shape)"
      ],
      "metadata": {
        "id": "yPUWlzWCxIXx"
      },
      "execution_count": 12,
      "outputs": []
    },
    {
      "cell_type": "code",
      "source": [
        "x"
      ],
      "metadata": {
        "colab": {
          "base_uri": "https://localhost:8080/"
        },
        "id": "3YhVKU-OxNav",
        "outputId": "16cd5e62-078e-4102-e22d-b09a8e3a892a"
      },
      "execution_count": 13,
      "outputs": [
        {
          "output_type": "execute_result",
          "data": {
            "text/plain": [
              "tensor([[[0.6233, 0.7922, 0.3389, 0.7360],\n",
              "         [0.9745, 0.2200, 0.4751, 0.9833],\n",
              "         [0.8499, 0.5000, 0.5383, 0.8131]],\n",
              "\n",
              "        [[0.7369, 0.4701, 0.9441, 0.4701],\n",
              "         [0.2337, 0.9430, 0.4120, 0.9792],\n",
              "         [0.7077, 0.0162, 0.9838, 0.5388]]])"
            ]
          },
          "metadata": {},
          "execution_count": 13
        }
      ]
    },
    {
      "cell_type": "code",
      "source": [
        "x = torch.tensor(([1,2,3,4,5],[5,4,3,2,1]))"
      ],
      "metadata": {
        "id": "cDWU9QAmxNr4"
      },
      "execution_count": 14,
      "outputs": []
    },
    {
      "cell_type": "code",
      "source": [
        "x"
      ],
      "metadata": {
        "colab": {
          "base_uri": "https://localhost:8080/"
        },
        "id": "Qd2eXyR_xSuh",
        "outputId": "f12309ac-9005-4ed0-d14b-8edd33104adf"
      },
      "execution_count": 15,
      "outputs": [
        {
          "output_type": "execute_result",
          "data": {
            "text/plain": [
              "tensor([[1, 2, 3, 4, 5],\n",
              "        [5, 4, 3, 2, 1]])"
            ]
          },
          "metadata": {},
          "execution_count": 15
        }
      ]
    },
    {
      "cell_type": "code",
      "source": [
        "x *2"
      ],
      "metadata": {
        "colab": {
          "base_uri": "https://localhost:8080/"
        },
        "id": "Ipf1TLxaxTLL",
        "outputId": "1e04dad7-ade5-4987-ee23-19e549c7becb"
      },
      "execution_count": 16,
      "outputs": [
        {
          "output_type": "execute_result",
          "data": {
            "text/plain": [
              "tensor([[ 2,  4,  6,  8, 10],\n",
              "        [10,  8,  6,  4,  2]])"
            ]
          },
          "metadata": {},
          "execution_count": 16
        }
      ]
    },
    {
      "cell_type": "code",
      "source": [
        "x.shape"
      ],
      "metadata": {
        "colab": {
          "base_uri": "https://localhost:8080/"
        },
        "id": "aCKWLFgqxlIY",
        "outputId": "b44f0794-6d91-4ea8-d892-17a641365c6f"
      },
      "execution_count": 17,
      "outputs": [
        {
          "output_type": "execute_result",
          "data": {
            "text/plain": [
              "torch.Size([2, 5])"
            ]
          },
          "metadata": {},
          "execution_count": 17
        }
      ]
    },
    {
      "cell_type": "code",
      "source": [
        "x.dtype"
      ],
      "metadata": {
        "colab": {
          "base_uri": "https://localhost:8080/"
        },
        "id": "8DYi6dw6yDv0",
        "outputId": "cb02b25c-9b7a-4044-a4e9-37703aa9297f"
      },
      "execution_count": 18,
      "outputs": [
        {
          "output_type": "execute_result",
          "data": {
            "text/plain": [
              "torch.int64"
            ]
          },
          "metadata": {},
          "execution_count": 18
        }
      ]
    },
    {
      "cell_type": "code",
      "source": [
        "x.device"
      ],
      "metadata": {
        "colab": {
          "base_uri": "https://localhost:8080/"
        },
        "id": "lfPWqGmfyGPQ",
        "outputId": "b2f00b99-4fad-483e-f6e0-f675b10c6e1e"
      },
      "execution_count": 19,
      "outputs": [
        {
          "output_type": "execute_result",
          "data": {
            "text/plain": [
              "device(type='cpu')"
            ]
          },
          "metadata": {},
          "execution_count": 19
        }
      ]
    },
    {
      "cell_type": "code",
      "source": [
        "x[0]"
      ],
      "metadata": {
        "colab": {
          "base_uri": "https://localhost:8080/"
        },
        "id": "5q54DK79yKjI",
        "outputId": "11b1f185-8788-4a63-b475-9a075ec33cdc"
      },
      "execution_count": 20,
      "outputs": [
        {
          "output_type": "execute_result",
          "data": {
            "text/plain": [
              "tensor([1, 2, 3, 4, 5])"
            ]
          },
          "metadata": {},
          "execution_count": 20
        }
      ]
    },
    {
      "cell_type": "code",
      "source": [
        "x[ : ,  0]"
      ],
      "metadata": {
        "colab": {
          "base_uri": "https://localhost:8080/"
        },
        "id": "tbORvcjeyRyE",
        "outputId": "0b7dfda4-b985-4126-cabb-383a40531a15"
      },
      "execution_count": 21,
      "outputs": [
        {
          "output_type": "execute_result",
          "data": {
            "text/plain": [
              "tensor([1, 5])"
            ]
          },
          "metadata": {},
          "execution_count": 21
        }
      ]
    },
    {
      "cell_type": "code",
      "source": [
        "x[...,-1]"
      ],
      "metadata": {
        "colab": {
          "base_uri": "https://localhost:8080/"
        },
        "id": "2GRiX4O1yT5I",
        "outputId": "3bafa174-2449-4a36-e3f3-7979e5913893"
      },
      "execution_count": 22,
      "outputs": [
        {
          "output_type": "execute_result",
          "data": {
            "text/plain": [
              "tensor([5, 1])"
            ]
          },
          "metadata": {},
          "execution_count": 22
        }
      ]
    },
    {
      "cell_type": "markdown",
      "source": [
        "# Joining Tensors"
      ],
      "metadata": {
        "id": "IFWXzQRyyz0r"
      }
    },
    {
      "cell_type": "code",
      "source": [
        "shape1 = (4,6,5)\n",
        "shape2 = (4,5,6)"
      ],
      "metadata": {
        "id": "zXjYhQivy-N2"
      },
      "execution_count": 23,
      "outputs": []
    },
    {
      "cell_type": "code",
      "source": [
        "tensor1  = torch.rand(shape1)"
      ],
      "metadata": {
        "id": "SgT8PWDlyans"
      },
      "execution_count": 24,
      "outputs": []
    },
    {
      "cell_type": "code",
      "source": [
        "tensor2 = torch.rand(shape2)"
      ],
      "metadata": {
        "id": "zgFT-CHNy8NO"
      },
      "execution_count": 25,
      "outputs": []
    },
    {
      "cell_type": "code",
      "source": [
        "print(\"Tensor 1 :\")\n",
        "tensor1"
      ],
      "metadata": {
        "colab": {
          "base_uri": "https://localhost:8080/"
        },
        "id": "Z7pSUAOUzPMb",
        "outputId": "74cff02f-e0b2-45e4-adad-39af3462826e"
      },
      "execution_count": 26,
      "outputs": [
        {
          "output_type": "stream",
          "name": "stdout",
          "text": [
            "Tensor 1 :\n"
          ]
        },
        {
          "output_type": "execute_result",
          "data": {
            "text/plain": [
              "tensor([[[0.8078, 0.6459, 0.3772, 0.8512, 0.5188],\n",
              "         [0.0143, 0.6283, 0.9982, 0.1297, 0.7579],\n",
              "         [0.6436, 0.5130, 0.4084, 0.5411, 0.8792],\n",
              "         [0.8894, 0.9791, 0.9876, 0.0925, 0.1862],\n",
              "         [0.6401, 0.3695, 0.7914, 0.8740, 0.2162],\n",
              "         [0.3233, 0.4958, 0.8027, 0.4763, 0.6043]],\n",
              "\n",
              "        [[0.2534, 0.2842, 0.3764, 0.3935, 0.5554],\n",
              "         [0.8702, 0.4829, 0.8749, 0.8129, 0.8346],\n",
              "         [0.5814, 0.4981, 0.2787, 0.9642, 0.1297],\n",
              "         [0.6662, 0.4263, 0.1719, 0.1085, 0.0616],\n",
              "         [0.0078, 0.9327, 0.4794, 0.4358, 0.0212],\n",
              "         [0.2317, 0.6685, 0.2540, 0.4024, 0.8379]],\n",
              "\n",
              "        [[0.1574, 0.5807, 0.6515, 0.2220, 0.3137],\n",
              "         [0.3600, 0.9463, 0.8805, 0.3241, 0.1056],\n",
              "         [0.5343, 0.0464, 0.4494, 0.8870, 0.4255],\n",
              "         [0.5233, 0.9512, 0.7017, 0.7146, 0.9213],\n",
              "         [0.5670, 0.3978, 0.3806, 0.3368, 0.1979],\n",
              "         [0.8415, 0.7021, 0.7653, 0.6673, 0.0051]],\n",
              "\n",
              "        [[0.0378, 0.2704, 0.7876, 0.1437, 0.8418],\n",
              "         [0.6944, 0.8279, 0.8265, 0.7811, 0.0558],\n",
              "         [0.9020, 0.6192, 0.3620, 0.7746, 0.5637],\n",
              "         [0.9485, 0.4839, 0.7806, 0.5098, 0.8465],\n",
              "         [0.7305, 0.6974, 0.2110, 0.2650, 0.9199],\n",
              "         [0.1456, 0.2869, 0.1490, 0.1015, 0.1303]]])"
            ]
          },
          "metadata": {},
          "execution_count": 26
        }
      ]
    },
    {
      "cell_type": "code",
      "source": [
        "print(\"Tensor 2 :\")\n",
        "tensor2"
      ],
      "metadata": {
        "colab": {
          "base_uri": "https://localhost:8080/"
        },
        "id": "tC3k4GMRzURh",
        "outputId": "6b560055-62ef-4a12-b6be-eb83a72b4084"
      },
      "execution_count": 27,
      "outputs": [
        {
          "output_type": "stream",
          "name": "stdout",
          "text": [
            "Tensor 2 :\n"
          ]
        },
        {
          "output_type": "execute_result",
          "data": {
            "text/plain": [
              "tensor([[[0.4382, 0.6751, 0.8562, 0.6359, 0.3741, 0.3820],\n",
              "         [0.0170, 0.0363, 0.0113, 0.1728, 0.2910, 0.5099],\n",
              "         [0.7994, 0.9125, 0.9095, 0.2369, 0.5613, 0.5262],\n",
              "         [0.3700, 0.6631, 0.7096, 0.9434, 0.4385, 0.6830],\n",
              "         [0.7475, 0.3572, 0.3564, 0.1322, 0.1678, 0.2022]],\n",
              "\n",
              "        [[0.3474, 0.9626, 0.9916, 0.9892, 0.9020, 0.0793],\n",
              "         [0.8218, 0.5268, 0.1299, 0.9409, 0.3833, 0.1024],\n",
              "         [0.4240, 0.6094, 0.5318, 0.5914, 0.5611, 0.6284],\n",
              "         [0.6625, 0.0378, 0.0368, 0.7641, 0.1883, 0.1154],\n",
              "         [0.4827, 0.0440, 0.1653, 0.1110, 0.4931, 0.2892]],\n",
              "\n",
              "        [[0.8979, 0.2965, 0.4820, 0.5758, 0.8829, 0.0109],\n",
              "         [0.6694, 0.8238, 0.9896, 0.6861, 0.2986, 0.7675],\n",
              "         [0.8015, 0.0807, 0.8882, 0.9459, 0.6950, 0.8995],\n",
              "         [0.0129, 0.6925, 0.8389, 0.2125, 0.8312, 0.1864],\n",
              "         [0.5011, 0.1384, 0.2557, 0.2799, 0.3281, 0.5413]],\n",
              "\n",
              "        [[0.8601, 0.3041, 0.8315, 0.5407, 0.7803, 0.3462],\n",
              "         [0.3446, 0.4110, 0.0658, 0.4710, 0.2207, 0.3839],\n",
              "         [0.6164, 0.0070, 0.2811, 0.0244, 0.6941, 0.0894],\n",
              "         [0.9665, 0.5593, 0.8698, 0.3136, 0.1206, 0.7439],\n",
              "         [0.2031, 0.1264, 0.2914, 0.9189, 0.1289, 0.3754]]])"
            ]
          },
          "metadata": {},
          "execution_count": 27
        }
      ]
    },
    {
      "cell_type": "code",
      "source": [
        "t1 = torch.cat([tensor1,tensor1],dim =1)"
      ],
      "metadata": {
        "id": "zFK9PfgpzhiA"
      },
      "execution_count": 28,
      "outputs": []
    },
    {
      "cell_type": "code",
      "source": [
        "t1"
      ],
      "metadata": {
        "colab": {
          "base_uri": "https://localhost:8080/"
        },
        "id": "K5FhiaCqzy_C",
        "outputId": "2c2aeebd-ee3d-4fc1-eb6c-781ae27d3a50"
      },
      "execution_count": 29,
      "outputs": [
        {
          "output_type": "execute_result",
          "data": {
            "text/plain": [
              "tensor([[[0.8078, 0.6459, 0.3772, 0.8512, 0.5188],\n",
              "         [0.0143, 0.6283, 0.9982, 0.1297, 0.7579],\n",
              "         [0.6436, 0.5130, 0.4084, 0.5411, 0.8792],\n",
              "         [0.8894, 0.9791, 0.9876, 0.0925, 0.1862],\n",
              "         [0.6401, 0.3695, 0.7914, 0.8740, 0.2162],\n",
              "         [0.3233, 0.4958, 0.8027, 0.4763, 0.6043],\n",
              "         [0.8078, 0.6459, 0.3772, 0.8512, 0.5188],\n",
              "         [0.0143, 0.6283, 0.9982, 0.1297, 0.7579],\n",
              "         [0.6436, 0.5130, 0.4084, 0.5411, 0.8792],\n",
              "         [0.8894, 0.9791, 0.9876, 0.0925, 0.1862],\n",
              "         [0.6401, 0.3695, 0.7914, 0.8740, 0.2162],\n",
              "         [0.3233, 0.4958, 0.8027, 0.4763, 0.6043]],\n",
              "\n",
              "        [[0.2534, 0.2842, 0.3764, 0.3935, 0.5554],\n",
              "         [0.8702, 0.4829, 0.8749, 0.8129, 0.8346],\n",
              "         [0.5814, 0.4981, 0.2787, 0.9642, 0.1297],\n",
              "         [0.6662, 0.4263, 0.1719, 0.1085, 0.0616],\n",
              "         [0.0078, 0.9327, 0.4794, 0.4358, 0.0212],\n",
              "         [0.2317, 0.6685, 0.2540, 0.4024, 0.8379],\n",
              "         [0.2534, 0.2842, 0.3764, 0.3935, 0.5554],\n",
              "         [0.8702, 0.4829, 0.8749, 0.8129, 0.8346],\n",
              "         [0.5814, 0.4981, 0.2787, 0.9642, 0.1297],\n",
              "         [0.6662, 0.4263, 0.1719, 0.1085, 0.0616],\n",
              "         [0.0078, 0.9327, 0.4794, 0.4358, 0.0212],\n",
              "         [0.2317, 0.6685, 0.2540, 0.4024, 0.8379]],\n",
              "\n",
              "        [[0.1574, 0.5807, 0.6515, 0.2220, 0.3137],\n",
              "         [0.3600, 0.9463, 0.8805, 0.3241, 0.1056],\n",
              "         [0.5343, 0.0464, 0.4494, 0.8870, 0.4255],\n",
              "         [0.5233, 0.9512, 0.7017, 0.7146, 0.9213],\n",
              "         [0.5670, 0.3978, 0.3806, 0.3368, 0.1979],\n",
              "         [0.8415, 0.7021, 0.7653, 0.6673, 0.0051],\n",
              "         [0.1574, 0.5807, 0.6515, 0.2220, 0.3137],\n",
              "         [0.3600, 0.9463, 0.8805, 0.3241, 0.1056],\n",
              "         [0.5343, 0.0464, 0.4494, 0.8870, 0.4255],\n",
              "         [0.5233, 0.9512, 0.7017, 0.7146, 0.9213],\n",
              "         [0.5670, 0.3978, 0.3806, 0.3368, 0.1979],\n",
              "         [0.8415, 0.7021, 0.7653, 0.6673, 0.0051]],\n",
              "\n",
              "        [[0.0378, 0.2704, 0.7876, 0.1437, 0.8418],\n",
              "         [0.6944, 0.8279, 0.8265, 0.7811, 0.0558],\n",
              "         [0.9020, 0.6192, 0.3620, 0.7746, 0.5637],\n",
              "         [0.9485, 0.4839, 0.7806, 0.5098, 0.8465],\n",
              "         [0.7305, 0.6974, 0.2110, 0.2650, 0.9199],\n",
              "         [0.1456, 0.2869, 0.1490, 0.1015, 0.1303],\n",
              "         [0.0378, 0.2704, 0.7876, 0.1437, 0.8418],\n",
              "         [0.6944, 0.8279, 0.8265, 0.7811, 0.0558],\n",
              "         [0.9020, 0.6192, 0.3620, 0.7746, 0.5637],\n",
              "         [0.9485, 0.4839, 0.7806, 0.5098, 0.8465],\n",
              "         [0.7305, 0.6974, 0.2110, 0.2650, 0.9199],\n",
              "         [0.1456, 0.2869, 0.1490, 0.1015, 0.1303]]])"
            ]
          },
          "metadata": {},
          "execution_count": 29
        }
      ]
    },
    {
      "cell_type": "code",
      "source": [
        "t1 = torch.cat([tensor1,tensor1],dim =0)"
      ],
      "metadata": {
        "id": "fzOZxqBWzzYD"
      },
      "execution_count": 30,
      "outputs": []
    },
    {
      "cell_type": "code",
      "source": [
        "t1"
      ],
      "metadata": {
        "colab": {
          "base_uri": "https://localhost:8080/"
        },
        "id": "ZkcktFXzz6Vr",
        "outputId": "78f09c0b-19bd-4045-dc43-0982fbdeb96e"
      },
      "execution_count": 31,
      "outputs": [
        {
          "output_type": "execute_result",
          "data": {
            "text/plain": [
              "tensor([[[0.8078, 0.6459, 0.3772, 0.8512, 0.5188],\n",
              "         [0.0143, 0.6283, 0.9982, 0.1297, 0.7579],\n",
              "         [0.6436, 0.5130, 0.4084, 0.5411, 0.8792],\n",
              "         [0.8894, 0.9791, 0.9876, 0.0925, 0.1862],\n",
              "         [0.6401, 0.3695, 0.7914, 0.8740, 0.2162],\n",
              "         [0.3233, 0.4958, 0.8027, 0.4763, 0.6043]],\n",
              "\n",
              "        [[0.2534, 0.2842, 0.3764, 0.3935, 0.5554],\n",
              "         [0.8702, 0.4829, 0.8749, 0.8129, 0.8346],\n",
              "         [0.5814, 0.4981, 0.2787, 0.9642, 0.1297],\n",
              "         [0.6662, 0.4263, 0.1719, 0.1085, 0.0616],\n",
              "         [0.0078, 0.9327, 0.4794, 0.4358, 0.0212],\n",
              "         [0.2317, 0.6685, 0.2540, 0.4024, 0.8379]],\n",
              "\n",
              "        [[0.1574, 0.5807, 0.6515, 0.2220, 0.3137],\n",
              "         [0.3600, 0.9463, 0.8805, 0.3241, 0.1056],\n",
              "         [0.5343, 0.0464, 0.4494, 0.8870, 0.4255],\n",
              "         [0.5233, 0.9512, 0.7017, 0.7146, 0.9213],\n",
              "         [0.5670, 0.3978, 0.3806, 0.3368, 0.1979],\n",
              "         [0.8415, 0.7021, 0.7653, 0.6673, 0.0051]],\n",
              "\n",
              "        [[0.0378, 0.2704, 0.7876, 0.1437, 0.8418],\n",
              "         [0.6944, 0.8279, 0.8265, 0.7811, 0.0558],\n",
              "         [0.9020, 0.6192, 0.3620, 0.7746, 0.5637],\n",
              "         [0.9485, 0.4839, 0.7806, 0.5098, 0.8465],\n",
              "         [0.7305, 0.6974, 0.2110, 0.2650, 0.9199],\n",
              "         [0.1456, 0.2869, 0.1490, 0.1015, 0.1303]],\n",
              "\n",
              "        [[0.8078, 0.6459, 0.3772, 0.8512, 0.5188],\n",
              "         [0.0143, 0.6283, 0.9982, 0.1297, 0.7579],\n",
              "         [0.6436, 0.5130, 0.4084, 0.5411, 0.8792],\n",
              "         [0.8894, 0.9791, 0.9876, 0.0925, 0.1862],\n",
              "         [0.6401, 0.3695, 0.7914, 0.8740, 0.2162],\n",
              "         [0.3233, 0.4958, 0.8027, 0.4763, 0.6043]],\n",
              "\n",
              "        [[0.2534, 0.2842, 0.3764, 0.3935, 0.5554],\n",
              "         [0.8702, 0.4829, 0.8749, 0.8129, 0.8346],\n",
              "         [0.5814, 0.4981, 0.2787, 0.9642, 0.1297],\n",
              "         [0.6662, 0.4263, 0.1719, 0.1085, 0.0616],\n",
              "         [0.0078, 0.9327, 0.4794, 0.4358, 0.0212],\n",
              "         [0.2317, 0.6685, 0.2540, 0.4024, 0.8379]],\n",
              "\n",
              "        [[0.1574, 0.5807, 0.6515, 0.2220, 0.3137],\n",
              "         [0.3600, 0.9463, 0.8805, 0.3241, 0.1056],\n",
              "         [0.5343, 0.0464, 0.4494, 0.8870, 0.4255],\n",
              "         [0.5233, 0.9512, 0.7017, 0.7146, 0.9213],\n",
              "         [0.5670, 0.3978, 0.3806, 0.3368, 0.1979],\n",
              "         [0.8415, 0.7021, 0.7653, 0.6673, 0.0051]],\n",
              "\n",
              "        [[0.0378, 0.2704, 0.7876, 0.1437, 0.8418],\n",
              "         [0.6944, 0.8279, 0.8265, 0.7811, 0.0558],\n",
              "         [0.9020, 0.6192, 0.3620, 0.7746, 0.5637],\n",
              "         [0.9485, 0.4839, 0.7806, 0.5098, 0.8465],\n",
              "         [0.7305, 0.6974, 0.2110, 0.2650, 0.9199],\n",
              "         [0.1456, 0.2869, 0.1490, 0.1015, 0.1303]]])"
            ]
          },
          "metadata": {},
          "execution_count": 31
        }
      ]
    },
    {
      "cell_type": "code",
      "source": [
        "t1 = torch.stack([tensor1,tensor1])"
      ],
      "metadata": {
        "id": "cWFwP2pnz6tT"
      },
      "execution_count": 32,
      "outputs": []
    },
    {
      "cell_type": "code",
      "source": [
        "t1"
      ],
      "metadata": {
        "colab": {
          "base_uri": "https://localhost:8080/"
        },
        "id": "XwFSkZ77z_GI",
        "outputId": "4b40f1d3-b62a-4a52-be2f-959fb95247c2"
      },
      "execution_count": 33,
      "outputs": [
        {
          "output_type": "execute_result",
          "data": {
            "text/plain": [
              "tensor([[[[0.8078, 0.6459, 0.3772, 0.8512, 0.5188],\n",
              "          [0.0143, 0.6283, 0.9982, 0.1297, 0.7579],\n",
              "          [0.6436, 0.5130, 0.4084, 0.5411, 0.8792],\n",
              "          [0.8894, 0.9791, 0.9876, 0.0925, 0.1862],\n",
              "          [0.6401, 0.3695, 0.7914, 0.8740, 0.2162],\n",
              "          [0.3233, 0.4958, 0.8027, 0.4763, 0.6043]],\n",
              "\n",
              "         [[0.2534, 0.2842, 0.3764, 0.3935, 0.5554],\n",
              "          [0.8702, 0.4829, 0.8749, 0.8129, 0.8346],\n",
              "          [0.5814, 0.4981, 0.2787, 0.9642, 0.1297],\n",
              "          [0.6662, 0.4263, 0.1719, 0.1085, 0.0616],\n",
              "          [0.0078, 0.9327, 0.4794, 0.4358, 0.0212],\n",
              "          [0.2317, 0.6685, 0.2540, 0.4024, 0.8379]],\n",
              "\n",
              "         [[0.1574, 0.5807, 0.6515, 0.2220, 0.3137],\n",
              "          [0.3600, 0.9463, 0.8805, 0.3241, 0.1056],\n",
              "          [0.5343, 0.0464, 0.4494, 0.8870, 0.4255],\n",
              "          [0.5233, 0.9512, 0.7017, 0.7146, 0.9213],\n",
              "          [0.5670, 0.3978, 0.3806, 0.3368, 0.1979],\n",
              "          [0.8415, 0.7021, 0.7653, 0.6673, 0.0051]],\n",
              "\n",
              "         [[0.0378, 0.2704, 0.7876, 0.1437, 0.8418],\n",
              "          [0.6944, 0.8279, 0.8265, 0.7811, 0.0558],\n",
              "          [0.9020, 0.6192, 0.3620, 0.7746, 0.5637],\n",
              "          [0.9485, 0.4839, 0.7806, 0.5098, 0.8465],\n",
              "          [0.7305, 0.6974, 0.2110, 0.2650, 0.9199],\n",
              "          [0.1456, 0.2869, 0.1490, 0.1015, 0.1303]]],\n",
              "\n",
              "\n",
              "        [[[0.8078, 0.6459, 0.3772, 0.8512, 0.5188],\n",
              "          [0.0143, 0.6283, 0.9982, 0.1297, 0.7579],\n",
              "          [0.6436, 0.5130, 0.4084, 0.5411, 0.8792],\n",
              "          [0.8894, 0.9791, 0.9876, 0.0925, 0.1862],\n",
              "          [0.6401, 0.3695, 0.7914, 0.8740, 0.2162],\n",
              "          [0.3233, 0.4958, 0.8027, 0.4763, 0.6043]],\n",
              "\n",
              "         [[0.2534, 0.2842, 0.3764, 0.3935, 0.5554],\n",
              "          [0.8702, 0.4829, 0.8749, 0.8129, 0.8346],\n",
              "          [0.5814, 0.4981, 0.2787, 0.9642, 0.1297],\n",
              "          [0.6662, 0.4263, 0.1719, 0.1085, 0.0616],\n",
              "          [0.0078, 0.9327, 0.4794, 0.4358, 0.0212],\n",
              "          [0.2317, 0.6685, 0.2540, 0.4024, 0.8379]],\n",
              "\n",
              "         [[0.1574, 0.5807, 0.6515, 0.2220, 0.3137],\n",
              "          [0.3600, 0.9463, 0.8805, 0.3241, 0.1056],\n",
              "          [0.5343, 0.0464, 0.4494, 0.8870, 0.4255],\n",
              "          [0.5233, 0.9512, 0.7017, 0.7146, 0.9213],\n",
              "          [0.5670, 0.3978, 0.3806, 0.3368, 0.1979],\n",
              "          [0.8415, 0.7021, 0.7653, 0.6673, 0.0051]],\n",
              "\n",
              "         [[0.0378, 0.2704, 0.7876, 0.1437, 0.8418],\n",
              "          [0.6944, 0.8279, 0.8265, 0.7811, 0.0558],\n",
              "          [0.9020, 0.6192, 0.3620, 0.7746, 0.5637],\n",
              "          [0.9485, 0.4839, 0.7806, 0.5098, 0.8465],\n",
              "          [0.7305, 0.6974, 0.2110, 0.2650, 0.9199],\n",
              "          [0.1456, 0.2869, 0.1490, 0.1015, 0.1303]]]])"
            ]
          },
          "metadata": {},
          "execution_count": 33
        }
      ]
    },
    {
      "cell_type": "code",
      "source": [
        "tensor1 @ tensor2"
      ],
      "metadata": {
        "colab": {
          "base_uri": "https://localhost:8080/"
        },
        "id": "mBusb8IE0AcR",
        "outputId": "a1666649-2580-415c-8263-708c54fb626e"
      },
      "execution_count": 34,
      "outputs": [
        {
          "output_type": "execute_result",
          "data": {
            "text/plain": [
              "tensor([[[1.3693, 1.6628, 1.8310, 1.5863, 1.1622, 1.5227],\n",
              "         [1.4294, 1.3000, 1.2894, 0.5767, 0.9325, 1.0929],\n",
              "         [1.4746, 1.4987, 1.6256, 1.2214, 1.0041, 1.2697],\n",
              "         [1.3693, 1.6650, 1.8028, 1.0805, 1.2438, 1.4595],\n",
              "         [1.4044, 1.8245, 1.9693, 1.5115, 1.2107, 1.4900],\n",
              "         [1.4197, 1.5004, 1.5658, 1.0106, 1.0260, 1.2462]],\n",
              "\n",
              "        [[1.0099, 0.6623, 0.5946, 1.1030, 0.8966, 0.4918],\n",
              "         [2.0115, 1.6928, 1.5587, 2.5465, 2.0255, 1.0034],\n",
              "         [1.4309, 1.0341, 0.8463, 1.9598, 1.1172, 0.4211],\n",
              "         [0.7563, 0.9774, 0.8215, 1.2516, 0.9115, 0.2348],\n",
              "         [1.2715, 0.8085, 0.4034, 1.5043, 0.7261, 0.4538],\n",
              "         [1.4086, 0.7821, 0.6050, 1.4089, 1.0967, 0.5352]],\n",
              "\n",
              "        [[1.2124, 0.7748, 1.4957, 1.2404, 1.0527, 1.2447],\n",
              "         [1.7195, 1.1963, 2.1908, 1.7878, 1.5164, 1.6397],\n",
              "         [1.0957, 0.9060, 1.5556, 1.0722, 1.6748, 0.8413],\n",
              "         [2.1399, 1.6177, 2.6518, 2.0274, 2.1300, 1.9987],\n",
              "         [1.1839, 0.7871, 1.3381, 1.0864, 1.2288, 0.8237],\n",
              "         [1.8501, 1.3524, 2.3412, 1.8334, 2.0408, 1.3635]],\n",
              "\n",
              "        [[0.9211, 0.3149, 0.6410, 0.9856, 0.7617, 0.6102],\n",
              "         [2.1583, 1.0011, 1.5599, 1.0817, 1.3996, 1.2341],\n",
              "         [2.0755, 1.0358, 1.7306, 1.5491, 1.2579, 1.3701],\n",
              "         [2.1284, 0.8849, 1.7301, 1.6975, 1.5594, 1.2809],\n",
              "         [1.4417, 0.7747, 1.2112, 1.6569, 1.0209, 1.0819],\n",
              "         [0.4406, 0.2365, 0.3082, 0.3691, 0.3094, 0.2983]]])"
            ]
          },
          "metadata": {},
          "execution_count": 34
        }
      ]
    },
    {
      "cell_type": "code",
      "source": [
        "tensor1.T"
      ],
      "metadata": {
        "colab": {
          "base_uri": "https://localhost:8080/"
        },
        "id": "k62Anl_m0gpI",
        "outputId": "f62fc5ef-1964-421e-c4d4-29ebc36e4770"
      },
      "execution_count": 35,
      "outputs": [
        {
          "output_type": "stream",
          "name": "stderr",
          "text": [
            "<ipython-input-35-0fee77ff0160>:1: UserWarning: The use of `x.T` on tensors of dimension other than 2 to reverse their shape is deprecated and it will throw an error in a future release. Consider `x.mT` to transpose batches of matrices or `x.permute(*torch.arange(x.ndim - 1, -1, -1))` to reverse the dimensions of a tensor. (Triggered internally at ../aten/src/ATen/native/TensorShape.cpp:3683.)\n",
            "  tensor1.T\n"
          ]
        },
        {
          "output_type": "execute_result",
          "data": {
            "text/plain": [
              "tensor([[[0.8078, 0.2534, 0.1574, 0.0378],\n",
              "         [0.0143, 0.8702, 0.3600, 0.6944],\n",
              "         [0.6436, 0.5814, 0.5343, 0.9020],\n",
              "         [0.8894, 0.6662, 0.5233, 0.9485],\n",
              "         [0.6401, 0.0078, 0.5670, 0.7305],\n",
              "         [0.3233, 0.2317, 0.8415, 0.1456]],\n",
              "\n",
              "        [[0.6459, 0.2842, 0.5807, 0.2704],\n",
              "         [0.6283, 0.4829, 0.9463, 0.8279],\n",
              "         [0.5130, 0.4981, 0.0464, 0.6192],\n",
              "         [0.9791, 0.4263, 0.9512, 0.4839],\n",
              "         [0.3695, 0.9327, 0.3978, 0.6974],\n",
              "         [0.4958, 0.6685, 0.7021, 0.2869]],\n",
              "\n",
              "        [[0.3772, 0.3764, 0.6515, 0.7876],\n",
              "         [0.9982, 0.8749, 0.8805, 0.8265],\n",
              "         [0.4084, 0.2787, 0.4494, 0.3620],\n",
              "         [0.9876, 0.1719, 0.7017, 0.7806],\n",
              "         [0.7914, 0.4794, 0.3806, 0.2110],\n",
              "         [0.8027, 0.2540, 0.7653, 0.1490]],\n",
              "\n",
              "        [[0.8512, 0.3935, 0.2220, 0.1437],\n",
              "         [0.1297, 0.8129, 0.3241, 0.7811],\n",
              "         [0.5411, 0.9642, 0.8870, 0.7746],\n",
              "         [0.0925, 0.1085, 0.7146, 0.5098],\n",
              "         [0.8740, 0.4358, 0.3368, 0.2650],\n",
              "         [0.4763, 0.4024, 0.6673, 0.1015]],\n",
              "\n",
              "        [[0.5188, 0.5554, 0.3137, 0.8418],\n",
              "         [0.7579, 0.8346, 0.1056, 0.0558],\n",
              "         [0.8792, 0.1297, 0.4255, 0.5637],\n",
              "         [0.1862, 0.0616, 0.9213, 0.8465],\n",
              "         [0.2162, 0.0212, 0.1979, 0.9199],\n",
              "         [0.6043, 0.8379, 0.0051, 0.1303]]])"
            ]
          },
          "metadata": {},
          "execution_count": 35
        }
      ]
    },
    {
      "cell_type": "code",
      "source": [
        "tensor2 * tensor2"
      ],
      "metadata": {
        "colab": {
          "base_uri": "https://localhost:8080/"
        },
        "id": "A6jFWmV30nX9",
        "outputId": "7c75b27b-9b43-43f3-9a4e-56c0d9281d54"
      },
      "execution_count": 36,
      "outputs": [
        {
          "output_type": "execute_result",
          "data": {
            "text/plain": [
              "tensor([[[1.9200e-01, 4.5582e-01, 7.3306e-01, 4.0440e-01, 1.3998e-01,\n",
              "          1.4591e-01],\n",
              "         [2.8832e-04, 1.3173e-03, 1.2722e-04, 2.9844e-02, 8.4688e-02,\n",
              "          2.6004e-01],\n",
              "         [6.3905e-01, 8.3263e-01, 8.2722e-01, 5.6115e-02, 3.1506e-01,\n",
              "          2.7685e-01],\n",
              "         [1.3690e-01, 4.3970e-01, 5.0356e-01, 8.9006e-01, 1.9225e-01,\n",
              "          4.6654e-01],\n",
              "         [5.5878e-01, 1.2760e-01, 1.2704e-01, 1.7487e-02, 2.8157e-02,\n",
              "          4.0881e-02]],\n",
              "\n",
              "        [[1.2068e-01, 9.2660e-01, 9.8322e-01, 9.7856e-01, 8.1361e-01,\n",
              "          6.2853e-03],\n",
              "         [6.7537e-01, 2.7757e-01, 1.6874e-02, 8.8536e-01, 1.4690e-01,\n",
              "          1.0478e-02],\n",
              "         [1.7978e-01, 3.7142e-01, 2.8279e-01, 3.4979e-01, 3.1479e-01,\n",
              "          3.9483e-01],\n",
              "         [4.3892e-01, 1.4292e-03, 1.3533e-03, 5.8390e-01, 3.5454e-02,\n",
              "          1.3326e-02],\n",
              "         [2.3299e-01, 1.9385e-03, 2.7322e-02, 1.2317e-02, 2.4318e-01,\n",
              "          8.3656e-02]],\n",
              "\n",
              "        [[8.0622e-01, 8.7908e-02, 2.3229e-01, 3.3154e-01, 7.7948e-01,\n",
              "          1.1787e-04],\n",
              "         [4.4805e-01, 6.7868e-01, 9.7929e-01, 4.7071e-01, 8.9187e-02,\n",
              "          5.8906e-01],\n",
              "         [6.4246e-01, 6.5066e-03, 7.8882e-01, 8.9467e-01, 4.8305e-01,\n",
              "          8.0903e-01],\n",
              "         [1.6729e-04, 4.7951e-01, 7.0380e-01, 4.5177e-02, 6.9084e-01,\n",
              "          3.4727e-02],\n",
              "         [2.5115e-01, 1.9162e-02, 6.5395e-02, 7.8365e-02, 1.0766e-01,\n",
              "          2.9300e-01]],\n",
              "\n",
              "        [[7.3974e-01, 9.2450e-02, 6.9135e-01, 2.9231e-01, 6.0888e-01,\n",
              "          1.1986e-01],\n",
              "         [1.1877e-01, 1.6890e-01, 4.3339e-03, 2.2181e-01, 4.8724e-02,\n",
              "          1.4735e-01],\n",
              "         [3.7995e-01, 4.9430e-05, 7.9045e-02, 5.9492e-04, 4.8174e-01,\n",
              "          7.9946e-03],\n",
              "         [9.3406e-01, 3.1286e-01, 7.5660e-01, 9.8369e-02, 1.4534e-02,\n",
              "          5.5336e-01],\n",
              "         [4.1265e-02, 1.5979e-02, 8.4926e-02, 8.4435e-01, 1.6623e-02,\n",
              "          1.4089e-01]]])"
            ]
          },
          "metadata": {},
          "execution_count": 36
        }
      ]
    },
    {
      "cell_type": "code",
      "source": [
        "tensor1 / 2"
      ],
      "metadata": {
        "colab": {
          "base_uri": "https://localhost:8080/"
        },
        "id": "2GsuOfE_01Gt",
        "outputId": "8e16b5c1-514c-45f7-ce97-37a05edaa35a"
      },
      "execution_count": 37,
      "outputs": [
        {
          "output_type": "execute_result",
          "data": {
            "text/plain": [
              "tensor([[[0.4039, 0.3229, 0.1886, 0.4256, 0.2594],\n",
              "         [0.0071, 0.3142, 0.4991, 0.0649, 0.3790],\n",
              "         [0.3218, 0.2565, 0.2042, 0.2705, 0.4396],\n",
              "         [0.4447, 0.4896, 0.4938, 0.0462, 0.0931],\n",
              "         [0.3201, 0.1847, 0.3957, 0.4370, 0.1081],\n",
              "         [0.1616, 0.2479, 0.4013, 0.2381, 0.3022]],\n",
              "\n",
              "        [[0.1267, 0.1421, 0.1882, 0.1968, 0.2777],\n",
              "         [0.4351, 0.2414, 0.4375, 0.4065, 0.4173],\n",
              "         [0.2907, 0.2490, 0.1394, 0.4821, 0.0649],\n",
              "         [0.3331, 0.2132, 0.0859, 0.0543, 0.0308],\n",
              "         [0.0039, 0.4664, 0.2397, 0.2179, 0.0106],\n",
              "         [0.1159, 0.3342, 0.1270, 0.2012, 0.4189]],\n",
              "\n",
              "        [[0.0787, 0.2904, 0.3258, 0.1110, 0.1569],\n",
              "         [0.1800, 0.4731, 0.4403, 0.1621, 0.0528],\n",
              "         [0.2671, 0.0232, 0.2247, 0.4435, 0.2128],\n",
              "         [0.2616, 0.4756, 0.3508, 0.3573, 0.4606],\n",
              "         [0.2835, 0.1989, 0.1903, 0.1684, 0.0989],\n",
              "         [0.4208, 0.3510, 0.3827, 0.3337, 0.0025]],\n",
              "\n",
              "        [[0.0189, 0.1352, 0.3938, 0.0718, 0.4209],\n",
              "         [0.3472, 0.4139, 0.4132, 0.3906, 0.0279],\n",
              "         [0.4510, 0.3096, 0.1810, 0.3873, 0.2818],\n",
              "         [0.4743, 0.2420, 0.3903, 0.2549, 0.4232],\n",
              "         [0.3652, 0.3487, 0.1055, 0.1325, 0.4599],\n",
              "         [0.0728, 0.1435, 0.0745, 0.0508, 0.0651]]])"
            ]
          },
          "metadata": {},
          "execution_count": 37
        }
      ]
    },
    {
      "cell_type": "markdown",
      "source": [
        "# Getting Value Of Single-Element Tensor"
      ],
      "metadata": {
        "id": "JMJ4jXAJ1Q0N"
      }
    },
    {
      "cell_type": "code",
      "source": [
        "tensor1"
      ],
      "metadata": {
        "colab": {
          "base_uri": "https://localhost:8080/"
        },
        "id": "fmOUC4Lo1DTg",
        "outputId": "caf58ba4-80fa-4876-e532-2a71d2c16304"
      },
      "execution_count": 38,
      "outputs": [
        {
          "output_type": "execute_result",
          "data": {
            "text/plain": [
              "tensor([[[0.8078, 0.6459, 0.3772, 0.8512, 0.5188],\n",
              "         [0.0143, 0.6283, 0.9982, 0.1297, 0.7579],\n",
              "         [0.6436, 0.5130, 0.4084, 0.5411, 0.8792],\n",
              "         [0.8894, 0.9791, 0.9876, 0.0925, 0.1862],\n",
              "         [0.6401, 0.3695, 0.7914, 0.8740, 0.2162],\n",
              "         [0.3233, 0.4958, 0.8027, 0.4763, 0.6043]],\n",
              "\n",
              "        [[0.2534, 0.2842, 0.3764, 0.3935, 0.5554],\n",
              "         [0.8702, 0.4829, 0.8749, 0.8129, 0.8346],\n",
              "         [0.5814, 0.4981, 0.2787, 0.9642, 0.1297],\n",
              "         [0.6662, 0.4263, 0.1719, 0.1085, 0.0616],\n",
              "         [0.0078, 0.9327, 0.4794, 0.4358, 0.0212],\n",
              "         [0.2317, 0.6685, 0.2540, 0.4024, 0.8379]],\n",
              "\n",
              "        [[0.1574, 0.5807, 0.6515, 0.2220, 0.3137],\n",
              "         [0.3600, 0.9463, 0.8805, 0.3241, 0.1056],\n",
              "         [0.5343, 0.0464, 0.4494, 0.8870, 0.4255],\n",
              "         [0.5233, 0.9512, 0.7017, 0.7146, 0.9213],\n",
              "         [0.5670, 0.3978, 0.3806, 0.3368, 0.1979],\n",
              "         [0.8415, 0.7021, 0.7653, 0.6673, 0.0051]],\n",
              "\n",
              "        [[0.0378, 0.2704, 0.7876, 0.1437, 0.8418],\n",
              "         [0.6944, 0.8279, 0.8265, 0.7811, 0.0558],\n",
              "         [0.9020, 0.6192, 0.3620, 0.7746, 0.5637],\n",
              "         [0.9485, 0.4839, 0.7806, 0.5098, 0.8465],\n",
              "         [0.7305, 0.6974, 0.2110, 0.2650, 0.9199],\n",
              "         [0.1456, 0.2869, 0.1490, 0.1015, 0.1303]]])"
            ]
          },
          "metadata": {},
          "execution_count": 38
        }
      ]
    },
    {
      "cell_type": "code",
      "source": [
        "tensor1[0,1,2].item()"
      ],
      "metadata": {
        "colab": {
          "base_uri": "https://localhost:8080/"
        },
        "id": "vhIq7hwb1Xzr",
        "outputId": "b4a5fa65-6ee8-4cb7-ea26-e3039a069fc3"
      },
      "execution_count": 39,
      "outputs": [
        {
          "output_type": "execute_result",
          "data": {
            "text/plain": [
              "0.9981913566589355"
            ]
          },
          "metadata": {},
          "execution_count": 39
        }
      ]
    },
    {
      "cell_type": "markdown",
      "source": [
        "# Inplace Operation"
      ],
      "metadata": {
        "id": "4F3Szpsg139K"
      }
    },
    {
      "cell_type": "code",
      "source": [
        "tensor1"
      ],
      "metadata": {
        "colab": {
          "base_uri": "https://localhost:8080/"
        },
        "id": "xTsFBEEa2Xel",
        "outputId": "2f77b9b2-b0a4-4d43-c930-bf5a714c3d8f"
      },
      "execution_count": 40,
      "outputs": [
        {
          "output_type": "execute_result",
          "data": {
            "text/plain": [
              "tensor([[[0.8078, 0.6459, 0.3772, 0.8512, 0.5188],\n",
              "         [0.0143, 0.6283, 0.9982, 0.1297, 0.7579],\n",
              "         [0.6436, 0.5130, 0.4084, 0.5411, 0.8792],\n",
              "         [0.8894, 0.9791, 0.9876, 0.0925, 0.1862],\n",
              "         [0.6401, 0.3695, 0.7914, 0.8740, 0.2162],\n",
              "         [0.3233, 0.4958, 0.8027, 0.4763, 0.6043]],\n",
              "\n",
              "        [[0.2534, 0.2842, 0.3764, 0.3935, 0.5554],\n",
              "         [0.8702, 0.4829, 0.8749, 0.8129, 0.8346],\n",
              "         [0.5814, 0.4981, 0.2787, 0.9642, 0.1297],\n",
              "         [0.6662, 0.4263, 0.1719, 0.1085, 0.0616],\n",
              "         [0.0078, 0.9327, 0.4794, 0.4358, 0.0212],\n",
              "         [0.2317, 0.6685, 0.2540, 0.4024, 0.8379]],\n",
              "\n",
              "        [[0.1574, 0.5807, 0.6515, 0.2220, 0.3137],\n",
              "         [0.3600, 0.9463, 0.8805, 0.3241, 0.1056],\n",
              "         [0.5343, 0.0464, 0.4494, 0.8870, 0.4255],\n",
              "         [0.5233, 0.9512, 0.7017, 0.7146, 0.9213],\n",
              "         [0.5670, 0.3978, 0.3806, 0.3368, 0.1979],\n",
              "         [0.8415, 0.7021, 0.7653, 0.6673, 0.0051]],\n",
              "\n",
              "        [[0.0378, 0.2704, 0.7876, 0.1437, 0.8418],\n",
              "         [0.6944, 0.8279, 0.8265, 0.7811, 0.0558],\n",
              "         [0.9020, 0.6192, 0.3620, 0.7746, 0.5637],\n",
              "         [0.9485, 0.4839, 0.7806, 0.5098, 0.8465],\n",
              "         [0.7305, 0.6974, 0.2110, 0.2650, 0.9199],\n",
              "         [0.1456, 0.2869, 0.1490, 0.1015, 0.1303]]])"
            ]
          },
          "metadata": {},
          "execution_count": 40
        }
      ]
    },
    {
      "cell_type": "code",
      "source": [
        "tensor1.add_(75)"
      ],
      "metadata": {
        "colab": {
          "base_uri": "https://localhost:8080/"
        },
        "id": "aA2in4Yc1daL",
        "outputId": "eb970baf-54e3-439c-dfba-7e9a84264e1f"
      },
      "execution_count": 41,
      "outputs": [
        {
          "output_type": "execute_result",
          "data": {
            "text/plain": [
              "tensor([[[75.8078, 75.6459, 75.3772, 75.8512, 75.5188],\n",
              "         [75.0143, 75.6283, 75.9982, 75.1297, 75.7579],\n",
              "         [75.6436, 75.5130, 75.4084, 75.5411, 75.8792],\n",
              "         [75.8894, 75.9791, 75.9876, 75.0925, 75.1862],\n",
              "         [75.6401, 75.3695, 75.7914, 75.8740, 75.2162],\n",
              "         [75.3233, 75.4958, 75.8027, 75.4763, 75.6043]],\n",
              "\n",
              "        [[75.2533, 75.2842, 75.3764, 75.3935, 75.5554],\n",
              "         [75.8702, 75.4829, 75.8749, 75.8129, 75.8346],\n",
              "         [75.5814, 75.4981, 75.2787, 75.9642, 75.1297],\n",
              "         [75.6662, 75.4263, 75.1719, 75.1085, 75.0616],\n",
              "         [75.0078, 75.9327, 75.4794, 75.4358, 75.0212],\n",
              "         [75.2317, 75.6685, 75.2540, 75.4024, 75.8379]],\n",
              "\n",
              "        [[75.1574, 75.5807, 75.6516, 75.2220, 75.3137],\n",
              "         [75.3600, 75.9463, 75.8805, 75.3241, 75.1056],\n",
              "         [75.5343, 75.0464, 75.4494, 75.8870, 75.4255],\n",
              "         [75.5233, 75.9512, 75.7017, 75.7146, 75.9212],\n",
              "         [75.5669, 75.3978, 75.3806, 75.3368, 75.1979],\n",
              "         [75.8415, 75.7021, 75.7653, 75.6673, 75.0051]],\n",
              "\n",
              "        [[75.0378, 75.2704, 75.7876, 75.1437, 75.8419],\n",
              "         [75.6944, 75.8279, 75.8265, 75.7811, 75.0558],\n",
              "         [75.9020, 75.6192, 75.3620, 75.7746, 75.5637],\n",
              "         [75.9485, 75.4839, 75.7806, 75.5098, 75.8465],\n",
              "         [75.7305, 75.6974, 75.2110, 75.2650, 75.9199],\n",
              "         [75.1456, 75.2869, 75.1490, 75.1015, 75.1303]]])"
            ]
          },
          "metadata": {},
          "execution_count": 41
        }
      ]
    },
    {
      "cell_type": "markdown",
      "source": [
        "# Tensor Views"
      ],
      "metadata": {
        "id": "oU_NmHJa2vH4"
      }
    },
    {
      "cell_type": "code",
      "source": [
        "tensor1.shape"
      ],
      "metadata": {
        "colab": {
          "base_uri": "https://localhost:8080/"
        },
        "id": "BSq5VUBH2OuO",
        "outputId": "b208c7e2-adb0-480f-bb1c-e6b40f631c1b"
      },
      "execution_count": 42,
      "outputs": [
        {
          "output_type": "execute_result",
          "data": {
            "text/plain": [
              "torch.Size([4, 6, 5])"
            ]
          },
          "metadata": {},
          "execution_count": 42
        }
      ]
    },
    {
      "cell_type": "code",
      "source": [
        "tensor1.view([4,5,6])"
      ],
      "metadata": {
        "colab": {
          "base_uri": "https://localhost:8080/"
        },
        "id": "mS2uRxVw2p8_",
        "outputId": "195a402d-5ff7-4f27-8d0b-e18e9025ddbd"
      },
      "execution_count": 43,
      "outputs": [
        {
          "output_type": "execute_result",
          "data": {
            "text/plain": [
              "tensor([[[75.8078, 75.6459, 75.3772, 75.8512, 75.5188, 75.0143],\n",
              "         [75.6283, 75.9982, 75.1297, 75.7579, 75.6436, 75.5130],\n",
              "         [75.4084, 75.5411, 75.8792, 75.8894, 75.9791, 75.9876],\n",
              "         [75.0925, 75.1862, 75.6401, 75.3695, 75.7914, 75.8740],\n",
              "         [75.2162, 75.3233, 75.4958, 75.8027, 75.4763, 75.6043]],\n",
              "\n",
              "        [[75.2533, 75.2842, 75.3764, 75.3935, 75.5554, 75.8702],\n",
              "         [75.4829, 75.8749, 75.8129, 75.8346, 75.5814, 75.4981],\n",
              "         [75.2787, 75.9642, 75.1297, 75.6662, 75.4263, 75.1719],\n",
              "         [75.1085, 75.0616, 75.0078, 75.9327, 75.4794, 75.4358],\n",
              "         [75.0212, 75.2317, 75.6685, 75.2540, 75.4024, 75.8379]],\n",
              "\n",
              "        [[75.1574, 75.5807, 75.6516, 75.2220, 75.3137, 75.3600],\n",
              "         [75.9463, 75.8805, 75.3241, 75.1056, 75.5343, 75.0464],\n",
              "         [75.4494, 75.8870, 75.4255, 75.5233, 75.9512, 75.7017],\n",
              "         [75.7146, 75.9212, 75.5669, 75.3978, 75.3806, 75.3368],\n",
              "         [75.1979, 75.8415, 75.7021, 75.7653, 75.6673, 75.0051]],\n",
              "\n",
              "        [[75.0378, 75.2704, 75.7876, 75.1437, 75.8419, 75.6944],\n",
              "         [75.8279, 75.8265, 75.7811, 75.0558, 75.9020, 75.6192],\n",
              "         [75.3620, 75.7746, 75.5637, 75.9485, 75.4839, 75.7806],\n",
              "         [75.5098, 75.8465, 75.7305, 75.6974, 75.2110, 75.2650],\n",
              "         [75.9199, 75.1456, 75.2869, 75.1490, 75.1015, 75.1303]]])"
            ]
          },
          "metadata": {},
          "execution_count": 43
        }
      ]
    },
    {
      "cell_type": "code",
      "source": [
        "tensor1.shape"
      ],
      "metadata": {
        "colab": {
          "base_uri": "https://localhost:8080/"
        },
        "id": "HW3-RdgW209Q",
        "outputId": "034aa2a0-c3cf-4fda-9cb5-787c1b4a0d26"
      },
      "execution_count": 44,
      "outputs": [
        {
          "output_type": "execute_result",
          "data": {
            "text/plain": [
              "torch.Size([4, 6, 5])"
            ]
          },
          "metadata": {},
          "execution_count": 44
        }
      ]
    },
    {
      "cell_type": "markdown",
      "source": [
        "# Gradient Descent"
      ],
      "metadata": {
        "id": "z_WsvK0h9Biu"
      }
    },
    {
      "cell_type": "code",
      "source": [
        "xg = torch.ones((5,2),requires_grad =True)"
      ],
      "metadata": {
        "id": "WBXRVwH926UE"
      },
      "execution_count": 45,
      "outputs": []
    },
    {
      "cell_type": "code",
      "source": [
        "xg.requires_grad"
      ],
      "metadata": {
        "colab": {
          "base_uri": "https://localhost:8080/"
        },
        "id": "ZNUPP_3G-aRB",
        "outputId": "d94ce177-76f1-479f-9618-1880abb751ee"
      },
      "execution_count": 46,
      "outputs": [
        {
          "output_type": "execute_result",
          "data": {
            "text/plain": [
              "True"
            ]
          },
          "metadata": {},
          "execution_count": 46
        }
      ]
    },
    {
      "cell_type": "code",
      "source": [
        "xg"
      ],
      "metadata": {
        "colab": {
          "base_uri": "https://localhost:8080/"
        },
        "id": "DHg0KvPi-fty",
        "outputId": "8be4aa85-1149-4113-c7b1-ebfb00c0089d"
      },
      "execution_count": 47,
      "outputs": [
        {
          "output_type": "execute_result",
          "data": {
            "text/plain": [
              "tensor([[1., 1.],\n",
              "        [1., 1.],\n",
              "        [1., 1.],\n",
              "        [1., 1.],\n",
              "        [1., 1.]], requires_grad=True)"
            ]
          },
          "metadata": {},
          "execution_count": 47
        }
      ]
    },
    {
      "cell_type": "code",
      "source": [
        "layer1 = xg + 2"
      ],
      "metadata": {
        "id": "mlCWZkZ_-giX"
      },
      "execution_count": 48,
      "outputs": []
    },
    {
      "cell_type": "code",
      "source": [
        "layer1"
      ],
      "metadata": {
        "colab": {
          "base_uri": "https://localhost:8080/"
        },
        "id": "TgpHrz3Q-lM9",
        "outputId": "bd826126-ecec-411d-ad9e-4fb840c440b8"
      },
      "execution_count": 49,
      "outputs": [
        {
          "output_type": "execute_result",
          "data": {
            "text/plain": [
              "tensor([[3., 3.],\n",
              "        [3., 3.],\n",
              "        [3., 3.],\n",
              "        [3., 3.],\n",
              "        [3., 3.]], grad_fn=<AddBackward0>)"
            ]
          },
          "metadata": {},
          "execution_count": 49
        }
      ]
    },
    {
      "cell_type": "code",
      "source": [
        "layer2 = layer1 * 2"
      ],
      "metadata": {
        "id": "ghzMplxl-lv5"
      },
      "execution_count": 50,
      "outputs": []
    },
    {
      "cell_type": "code",
      "source": [
        "layer2"
      ],
      "metadata": {
        "colab": {
          "base_uri": "https://localhost:8080/"
        },
        "id": "l7r6_hpt-oQo",
        "outputId": "95908161-5ad9-4bba-a931-d37dd81b966d"
      },
      "execution_count": 51,
      "outputs": [
        {
          "output_type": "execute_result",
          "data": {
            "text/plain": [
              "tensor([[6., 6.],\n",
              "        [6., 6.],\n",
              "        [6., 6.],\n",
              "        [6., 6.],\n",
              "        [6., 6.]], grad_fn=<MulBackward0>)"
            ]
          },
          "metadata": {},
          "execution_count": 51
        }
      ]
    },
    {
      "cell_type": "code",
      "source": [
        "layer3 = layer2.mean()"
      ],
      "metadata": {
        "id": "ckIIgfY4-pDL"
      },
      "execution_count": 52,
      "outputs": []
    },
    {
      "cell_type": "code",
      "source": [
        "layer3"
      ],
      "metadata": {
        "colab": {
          "base_uri": "https://localhost:8080/"
        },
        "id": "Z-5KSIfo-vVr",
        "outputId": "49f562f8-84ae-411e-dacf-a4959ff47913"
      },
      "execution_count": 53,
      "outputs": [
        {
          "output_type": "execute_result",
          "data": {
            "text/plain": [
              "tensor(6., grad_fn=<MeanBackward0>)"
            ]
          },
          "metadata": {},
          "execution_count": 53
        }
      ]
    },
    {
      "cell_type": "code",
      "source": [
        "#deactivate\n",
        "\n",
        "layer2_detach = layer2.detach()"
      ],
      "metadata": {
        "id": "qLkfk2bl-v4A"
      },
      "execution_count": 54,
      "outputs": []
    },
    {
      "cell_type": "code",
      "source": [
        "layer2_detach"
      ],
      "metadata": {
        "colab": {
          "base_uri": "https://localhost:8080/"
        },
        "id": "G4Vfo7lD-6w-",
        "outputId": "d4e8a1b1-0244-4333-c5b6-ca258dbcc20c"
      },
      "execution_count": 55,
      "outputs": [
        {
          "output_type": "execute_result",
          "data": {
            "text/plain": [
              "tensor([[6., 6.],\n",
              "        [6., 6.],\n",
              "        [6., 6.],\n",
              "        [6., 6.],\n",
              "        [6., 6.]])"
            ]
          },
          "metadata": {},
          "execution_count": 55
        }
      ]
    },
    {
      "cell_type": "code",
      "source": [
        "layer2_detach.mean()"
      ],
      "metadata": {
        "colab": {
          "base_uri": "https://localhost:8080/"
        },
        "id": "ZG2-gCgK-71z",
        "outputId": "fccb01eb-ced2-411c-b308-9b26aab45b0b"
      },
      "execution_count": 56,
      "outputs": [
        {
          "output_type": "execute_result",
          "data": {
            "text/plain": [
              "tensor(6.)"
            ]
          },
          "metadata": {},
          "execution_count": 56
        }
      ]
    },
    {
      "cell_type": "markdown",
      "source": [
        "# Sample Model"
      ],
      "metadata": {
        "id": "UNcF06NH_cYK"
      }
    },
    {
      "cell_type": "code",
      "source": [
        "import torch"
      ],
      "metadata": {
        "id": "5E5qqiheC5UY"
      },
      "execution_count": 57,
      "outputs": []
    },
    {
      "cell_type": "code",
      "source": [
        "x = torch.tensor(([1,2,3,4]),dtype = torch.float32)\n",
        "y = torch.tensor(([2,4,6,8]),dtype = torch.float32)"
      ],
      "metadata": {
        "id": "fkIJEsjx_ANW"
      },
      "execution_count": 58,
      "outputs": []
    },
    {
      "cell_type": "code",
      "source": [
        "def forward(x,w):\n",
        "  return w * x"
      ],
      "metadata": {
        "id": "dujhfn8W_0uL"
      },
      "execution_count": 59,
      "outputs": []
    },
    {
      "cell_type": "code",
      "source": [
        "def loss(y,y_pred):\n",
        "  return ((y_pred - y)** 2).mean()"
      ],
      "metadata": {
        "id": "3MNlqaOi_8Nr"
      },
      "execution_count": 60,
      "outputs": []
    },
    {
      "cell_type": "code",
      "source": [
        "def gradient(x , y , y_pred):\n",
        "  return ((2.0 * x) * (y_pred - y)).mean()"
      ],
      "metadata": {
        "id": "5a5MlqkwAOT_"
      },
      "execution_count": 61,
      "outputs": []
    },
    {
      "cell_type": "code",
      "source": [
        "w = 0.0\n",
        "n_iters = 25\n",
        "learning_rate = 0.1"
      ],
      "metadata": {
        "id": "skLnQqDVAfnA"
      },
      "execution_count": 62,
      "outputs": []
    },
    {
      "cell_type": "code",
      "source": [
        "for epoch in range(n_iters):\n",
        "  #Forward\n",
        "  y_pred = forward(x,w)\n",
        "\n",
        "  #loss\n",
        "  l = loss(y , y_pred)\n",
        "\n",
        "  #gradient\n",
        "  grad = gradient(x , y ,y_pred)\n",
        "\n",
        "  print(f\"Epoch:{epoch+1} , Pred =: {y_pred.detach()} ,Grad :{grad.item()}, W: {w:4f} , Loss: {l:5f}\")\n",
        "\n",
        "  w -= learning_rate * grad"
      ],
      "metadata": {
        "colab": {
          "base_uri": "https://localhost:8080/"
        },
        "id": "o8WFxr8rBLSg",
        "outputId": "06db1a34-436b-4375-8709-0643cebe8648"
      },
      "execution_count": 63,
      "outputs": [
        {
          "output_type": "stream",
          "name": "stdout",
          "text": [
            "Epoch:1 , Pred =: tensor([0., 0., 0., 0.]) ,Grad :-30.0, W: 0.000000 , Loss: 30.000000\n",
            "Epoch:2 , Pred =: tensor([ 3.,  6.,  9., 12.]) ,Grad :15.0, W: 3.000000 , Loss: 7.500000\n",
            "Epoch:3 , Pred =: tensor([1.5000, 3.0000, 4.5000, 6.0000]) ,Grad :-7.5, W: 1.500000 , Loss: 1.875000\n",
            "Epoch:4 , Pred =: tensor([2.2500, 4.5000, 6.7500, 9.0000]) ,Grad :3.75, W: 2.250000 , Loss: 0.468750\n",
            "Epoch:5 , Pred =: tensor([1.8750, 3.7500, 5.6250, 7.5000]) ,Grad :-1.875, W: 1.875000 , Loss: 0.117188\n",
            "Epoch:6 , Pred =: tensor([2.0625, 4.1250, 6.1875, 8.2500]) ,Grad :0.9375, W: 2.062500 , Loss: 0.029297\n",
            "Epoch:7 , Pred =: tensor([1.9688, 3.9375, 5.9062, 7.8750]) ,Grad :-0.46875, W: 1.968750 , Loss: 0.007324\n",
            "Epoch:8 , Pred =: tensor([2.0156, 4.0312, 6.0469, 8.0625]) ,Grad :0.234375, W: 2.015625 , Loss: 0.001831\n",
            "Epoch:9 , Pred =: tensor([1.9922, 3.9844, 5.9766, 7.9688]) ,Grad :-0.1171875, W: 1.992188 , Loss: 0.000458\n",
            "Epoch:10 , Pred =: tensor([2.0039, 4.0078, 6.0117, 8.0156]) ,Grad :0.05859375, W: 2.003906 , Loss: 0.000114\n",
            "Epoch:11 , Pred =: tensor([1.9980, 3.9961, 5.9941, 7.9922]) ,Grad :-0.029296875, W: 1.998047 , Loss: 0.000029\n",
            "Epoch:12 , Pred =: tensor([2.0010, 4.0020, 6.0029, 8.0039]) ,Grad :0.0146484375, W: 2.000977 , Loss: 0.000007\n",
            "Epoch:13 , Pred =: tensor([1.9995, 3.9990, 5.9985, 7.9980]) ,Grad :-0.00732421875, W: 1.999512 , Loss: 0.000002\n",
            "Epoch:14 , Pred =: tensor([2.0002, 4.0005, 6.0007, 8.0010]) ,Grad :0.003662109375, W: 2.000244 , Loss: 0.000000\n",
            "Epoch:15 , Pred =: tensor([1.9999, 3.9998, 5.9996, 7.9995]) ,Grad :-0.0018310546875, W: 1.999878 , Loss: 0.000000\n",
            "Epoch:16 , Pred =: tensor([2.0001, 4.0001, 6.0002, 8.0002]) ,Grad :0.00091552734375, W: 2.000061 , Loss: 0.000000\n",
            "Epoch:17 , Pred =: tensor([2.0000, 3.9999, 5.9999, 7.9999]) ,Grad :-0.000457763671875, W: 1.999969 , Loss: 0.000000\n",
            "Epoch:18 , Pred =: tensor([2.0000, 4.0000, 6.0000, 8.0001]) ,Grad :0.0002288818359375, W: 2.000015 , Loss: 0.000000\n",
            "Epoch:19 , Pred =: tensor([2.0000, 4.0000, 6.0000, 8.0000]) ,Grad :-0.00011444091796875, W: 1.999992 , Loss: 0.000000\n",
            "Epoch:20 , Pred =: tensor([2.0000, 4.0000, 6.0000, 8.0000]) ,Grad :5.7220458984375e-05, W: 2.000004 , Loss: 0.000000\n",
            "Epoch:21 , Pred =: tensor([2.0000, 4.0000, 6.0000, 8.0000]) ,Grad :-2.86102294921875e-05, W: 1.999998 , Loss: 0.000000\n",
            "Epoch:22 , Pred =: tensor([2.0000, 4.0000, 6.0000, 8.0000]) ,Grad :1.430511474609375e-05, W: 2.000001 , Loss: 0.000000\n",
            "Epoch:23 , Pred =: tensor([2.0000, 4.0000, 6.0000, 8.0000]) ,Grad :-7.152557373046875e-06, W: 2.000000 , Loss: 0.000000\n",
            "Epoch:24 , Pred =: tensor([2.0000, 4.0000, 6.0000, 8.0000]) ,Grad :3.933906555175781e-06, W: 2.000000 , Loss: 0.000000\n",
            "Epoch:25 , Pred =: tensor([2.0000, 4.0000, 6.0000, 8.0000]) ,Grad :-1.9669532775878906e-06, W: 2.000000 , Loss: 0.000000\n"
          ]
        }
      ]
    },
    {
      "cell_type": "code",
      "source": [
        "def forward(x,w):\n",
        "  return w * x"
      ],
      "metadata": {
        "id": "mjPr2-TcH4xR"
      },
      "execution_count": 64,
      "outputs": []
    },
    {
      "cell_type": "code",
      "source": [
        "def loss(y,y_pred):\n",
        "  return ((y_pred - y)** 2).mean()"
      ],
      "metadata": {
        "id": "CjhePcgFH-Xm"
      },
      "execution_count": 65,
      "outputs": []
    },
    {
      "cell_type": "code",
      "source": [
        "w = torch.tensor(0.0, requires_grad=True)\n",
        "n_iters = 25\n",
        "learning_rate = 0.1"
      ],
      "metadata": {
        "id": "0r_QTRDMH-ON"
      },
      "execution_count": 66,
      "outputs": []
    },
    {
      "cell_type": "code",
      "source": [
        "# Model 2\n",
        "import torch\n",
        "\n",
        "\n",
        "for epoch in range(n_iters):\n",
        "  #forward\n",
        "  y_pred = forward(x,w)\n",
        "\n",
        "  #Loss\n",
        "  l = loss(y,y_pred)\n",
        "\n",
        "  #Backpropagation\n",
        "\n",
        "  l.backward()\n",
        "  print(f\"Epoch:{epoch+1} , Pred =: {y_pred.detach()} ,Grad :{w.grad.item():4f}, W: {w:4f} , Loss: {l:5f}\")\n",
        "\n",
        "\n",
        "  #weight update\n",
        "\n",
        "  with torch.no_grad():\n",
        "    w -= learning_rate * w.grad\n",
        "\n",
        "  w.grad.zero_()"
      ],
      "metadata": {
        "colab": {
          "base_uri": "https://localhost:8080/"
        },
        "id": "u-dMZNIyGMu3",
        "outputId": "768a9fda-5fde-4cf1-9c91-ba5288799120"
      },
      "execution_count": 67,
      "outputs": [
        {
          "output_type": "stream",
          "name": "stdout",
          "text": [
            "Epoch:1 , Pred =: tensor([0., 0., 0., 0.]) ,Grad :-30.000000, W: 0.000000 , Loss: 30.000000\n",
            "Epoch:2 , Pred =: tensor([ 3.,  6.,  9., 12.]) ,Grad :15.000000, W: 3.000000 , Loss: 7.500000\n",
            "Epoch:3 , Pred =: tensor([1.5000, 3.0000, 4.5000, 6.0000]) ,Grad :-7.500000, W: 1.500000 , Loss: 1.875000\n",
            "Epoch:4 , Pred =: tensor([2.2500, 4.5000, 6.7500, 9.0000]) ,Grad :3.750000, W: 2.250000 , Loss: 0.468750\n",
            "Epoch:5 , Pred =: tensor([1.8750, 3.7500, 5.6250, 7.5000]) ,Grad :-1.875000, W: 1.875000 , Loss: 0.117188\n",
            "Epoch:6 , Pred =: tensor([2.0625, 4.1250, 6.1875, 8.2500]) ,Grad :0.937500, W: 2.062500 , Loss: 0.029297\n",
            "Epoch:7 , Pred =: tensor([1.9688, 3.9375, 5.9062, 7.8750]) ,Grad :-0.468750, W: 1.968750 , Loss: 0.007324\n",
            "Epoch:8 , Pred =: tensor([2.0156, 4.0312, 6.0469, 8.0625]) ,Grad :0.234375, W: 2.015625 , Loss: 0.001831\n",
            "Epoch:9 , Pred =: tensor([1.9922, 3.9844, 5.9766, 7.9688]) ,Grad :-0.117188, W: 1.992188 , Loss: 0.000458\n",
            "Epoch:10 , Pred =: tensor([2.0039, 4.0078, 6.0117, 8.0156]) ,Grad :0.058594, W: 2.003906 , Loss: 0.000114\n",
            "Epoch:11 , Pred =: tensor([1.9980, 3.9961, 5.9941, 7.9922]) ,Grad :-0.029297, W: 1.998047 , Loss: 0.000029\n",
            "Epoch:12 , Pred =: tensor([2.0010, 4.0020, 6.0029, 8.0039]) ,Grad :0.014648, W: 2.000977 , Loss: 0.000007\n",
            "Epoch:13 , Pred =: tensor([1.9995, 3.9990, 5.9985, 7.9980]) ,Grad :-0.007324, W: 1.999512 , Loss: 0.000002\n",
            "Epoch:14 , Pred =: tensor([2.0002, 4.0005, 6.0007, 8.0010]) ,Grad :0.003662, W: 2.000244 , Loss: 0.000000\n",
            "Epoch:15 , Pred =: tensor([1.9999, 3.9998, 5.9996, 7.9995]) ,Grad :-0.001831, W: 1.999878 , Loss: 0.000000\n",
            "Epoch:16 , Pred =: tensor([2.0001, 4.0001, 6.0002, 8.0002]) ,Grad :0.000916, W: 2.000061 , Loss: 0.000000\n",
            "Epoch:17 , Pred =: tensor([2.0000, 3.9999, 5.9999, 7.9999]) ,Grad :-0.000458, W: 1.999969 , Loss: 0.000000\n",
            "Epoch:18 , Pred =: tensor([2.0000, 4.0000, 6.0000, 8.0001]) ,Grad :0.000229, W: 2.000015 , Loss: 0.000000\n",
            "Epoch:19 , Pred =: tensor([2.0000, 4.0000, 6.0000, 8.0000]) ,Grad :-0.000114, W: 1.999992 , Loss: 0.000000\n",
            "Epoch:20 , Pred =: tensor([2.0000, 4.0000, 6.0000, 8.0000]) ,Grad :0.000057, W: 2.000004 , Loss: 0.000000\n",
            "Epoch:21 , Pred =: tensor([2.0000, 4.0000, 6.0000, 8.0000]) ,Grad :-0.000029, W: 1.999998 , Loss: 0.000000\n",
            "Epoch:22 , Pred =: tensor([2.0000, 4.0000, 6.0000, 8.0000]) ,Grad :0.000014, W: 2.000001 , Loss: 0.000000\n",
            "Epoch:23 , Pred =: tensor([2.0000, 4.0000, 6.0000, 8.0000]) ,Grad :-0.000007, W: 2.000000 , Loss: 0.000000\n",
            "Epoch:24 , Pred =: tensor([2.0000, 4.0000, 6.0000, 8.0000]) ,Grad :0.000004, W: 2.000000 , Loss: 0.000000\n",
            "Epoch:25 , Pred =: tensor([2.0000, 4.0000, 6.0000, 8.0000]) ,Grad :-0.000002, W: 2.000000 , Loss: 0.000000\n"
          ]
        }
      ]
    },
    {
      "cell_type": "code",
      "source": [
        "#Model 3\n",
        "\n",
        "import torch.optim as optim\n",
        "\n",
        "def forward(x,w):\n",
        "  return w * x\n",
        "\n",
        "w = torch.tensor(0.0, requires_grad=True)\n",
        "optimizer = optim.SGD([w],lr = 0.1)\n",
        "criterion = torch.nn.MSELoss()\n",
        "n_iters = 30\n",
        "\n",
        "\n",
        "for epoch in range(n_iters):\n",
        "  #forward\n",
        "  y_pred = forward(x,w)\n",
        "\n",
        "  #Loss\n",
        "  loss = criterion(y,y_pred)\n",
        "  print(f\"Epoch:{epoch+1},Pred: {y_pred.detach()},W:{w.item():4f},Loss:{loss.item():4f}\")\n",
        "\n",
        "  #Backward pass\n",
        "  loss.backward()\n",
        "\n",
        "\n",
        "  #weight update\n",
        "  optimizer.step()\n",
        "\n",
        "  #Zero Gradients\n",
        "  optimizer.zero_grad()\n"
      ],
      "metadata": {
        "id": "89G7zAAyLW0C",
        "colab": {
          "base_uri": "https://localhost:8080/"
        },
        "outputId": "f7fab83e-7502-4692-e367-4d72b267c549"
      },
      "execution_count": 68,
      "outputs": [
        {
          "output_type": "stream",
          "name": "stdout",
          "text": [
            "Epoch:1,Pred: tensor([0., 0., 0., 0.]),W:0.000000,Loss:30.000000\n",
            "Epoch:2,Pred: tensor([ 3.,  6.,  9., 12.]),W:3.000000,Loss:7.500000\n",
            "Epoch:3,Pred: tensor([1.5000, 3.0000, 4.5000, 6.0000]),W:1.500000,Loss:1.875000\n",
            "Epoch:4,Pred: tensor([2.2500, 4.5000, 6.7500, 9.0000]),W:2.250000,Loss:0.468750\n",
            "Epoch:5,Pred: tensor([1.8750, 3.7500, 5.6250, 7.5000]),W:1.875000,Loss:0.117188\n",
            "Epoch:6,Pred: tensor([2.0625, 4.1250, 6.1875, 8.2500]),W:2.062500,Loss:0.029297\n",
            "Epoch:7,Pred: tensor([1.9688, 3.9375, 5.9062, 7.8750]),W:1.968750,Loss:0.007324\n",
            "Epoch:8,Pred: tensor([2.0156, 4.0312, 6.0469, 8.0625]),W:2.015625,Loss:0.001831\n",
            "Epoch:9,Pred: tensor([1.9922, 3.9844, 5.9766, 7.9688]),W:1.992188,Loss:0.000458\n",
            "Epoch:10,Pred: tensor([2.0039, 4.0078, 6.0117, 8.0156]),W:2.003906,Loss:0.000114\n",
            "Epoch:11,Pred: tensor([1.9980, 3.9961, 5.9941, 7.9922]),W:1.998047,Loss:0.000029\n",
            "Epoch:12,Pred: tensor([2.0010, 4.0020, 6.0029, 8.0039]),W:2.000977,Loss:0.000007\n",
            "Epoch:13,Pred: tensor([1.9995, 3.9990, 5.9985, 7.9980]),W:1.999512,Loss:0.000002\n",
            "Epoch:14,Pred: tensor([2.0002, 4.0005, 6.0007, 8.0010]),W:2.000244,Loss:0.000000\n",
            "Epoch:15,Pred: tensor([1.9999, 3.9998, 5.9996, 7.9995]),W:1.999878,Loss:0.000000\n",
            "Epoch:16,Pred: tensor([2.0001, 4.0001, 6.0002, 8.0002]),W:2.000061,Loss:0.000000\n",
            "Epoch:17,Pred: tensor([2.0000, 3.9999, 5.9999, 7.9999]),W:1.999969,Loss:0.000000\n",
            "Epoch:18,Pred: tensor([2.0000, 4.0000, 6.0000, 8.0001]),W:2.000015,Loss:0.000000\n",
            "Epoch:19,Pred: tensor([2.0000, 4.0000, 6.0000, 8.0000]),W:1.999992,Loss:0.000000\n",
            "Epoch:20,Pred: tensor([2.0000, 4.0000, 6.0000, 8.0000]),W:2.000004,Loss:0.000000\n",
            "Epoch:21,Pred: tensor([2.0000, 4.0000, 6.0000, 8.0000]),W:1.999998,Loss:0.000000\n",
            "Epoch:22,Pred: tensor([2.0000, 4.0000, 6.0000, 8.0000]),W:2.000001,Loss:0.000000\n",
            "Epoch:23,Pred: tensor([2.0000, 4.0000, 6.0000, 8.0000]),W:2.000000,Loss:0.000000\n",
            "Epoch:24,Pred: tensor([2.0000, 4.0000, 6.0000, 8.0000]),W:2.000000,Loss:0.000000\n",
            "Epoch:25,Pred: tensor([2.0000, 4.0000, 6.0000, 8.0000]),W:2.000000,Loss:0.000000\n",
            "Epoch:26,Pred: tensor([2., 4., 6., 8.]),W:2.000000,Loss:0.000000\n",
            "Epoch:27,Pred: tensor([2., 4., 6., 8.]),W:2.000000,Loss:0.000000\n",
            "Epoch:28,Pred: tensor([2., 4., 6., 8.]),W:2.000000,Loss:0.000000\n",
            "Epoch:29,Pred: tensor([2., 4., 6., 8.]),W:2.000000,Loss:0.000000\n",
            "Epoch:30,Pred: tensor([2., 4., 6., 8.]),W:2.000000,Loss:0.000000\n"
          ]
        }
      ]
    },
    {
      "cell_type": "markdown",
      "source": [
        "# Neural Network"
      ],
      "metadata": {
        "id": "nAo9fyOfMVSx"
      }
    },
    {
      "cell_type": "code",
      "source": [
        "import torch\n",
        "import torch.nn as nn"
      ],
      "metadata": {
        "id": "2GQg4nQhMa4k"
      },
      "execution_count": 69,
      "outputs": []
    },
    {
      "cell_type": "code",
      "source": [
        "class NeuralNetwork(nn.Module):\n",
        "  def __init__(self):\n",
        "    super().sequential = nn.Sequential(\n",
        "       nn.Flatten(),\n",
        "       nn.Linear(784,512),\n",
        "       nn.ReLU(),\n",
        "       nn.Linear(512,512),\n",
        "       nn.ReLU(),\n",
        "       nn.Linear(512,10)\n",
        "\n",
        "    )\n",
        "    def forward(self , x):\n",
        "      logits = self.sequential(x)\n",
        "      return logits\n"
      ],
      "metadata": {
        "id": "fmpnW7BkMgZd"
      },
      "execution_count": 70,
      "outputs": []
    },
    {
      "cell_type": "code",
      "source": [
        "input_image = torch.rand(3,28,28)\n",
        "print(input_image,input_image.shape)\n",
        "flatten = nn.Flatten()\n",
        "flat_img = flatten(input_image)\n",
        "print(flat_img,flat_img.shape)"
      ],
      "metadata": {
        "colab": {
          "base_uri": "https://localhost:8080/"
        },
        "id": "PuwZI0TKNRTI",
        "outputId": "e65d79ce-c151-47c3-8372-809a12c9d201"
      },
      "execution_count": 71,
      "outputs": [
        {
          "output_type": "stream",
          "name": "stdout",
          "text": [
            "tensor([[[0.5243, 0.8782, 0.8409,  ..., 0.0692, 0.8908, 0.2861],\n",
            "         [0.0752, 0.0567, 0.5607,  ..., 0.2181, 0.7945, 0.7605],\n",
            "         [0.0674, 0.0368, 0.1899,  ..., 0.9606, 0.6147, 0.5201],\n",
            "         ...,\n",
            "         [0.3831, 0.0029, 0.6173,  ..., 0.4608, 0.1930, 0.0246],\n",
            "         [0.5912, 0.2636, 0.7683,  ..., 0.4246, 0.7874, 0.2012],\n",
            "         [0.1961, 0.6354, 0.5451,  ..., 0.4633, 0.6238, 0.3952]],\n",
            "\n",
            "        [[0.9731, 0.6224, 0.2647,  ..., 0.8186, 0.7240, 0.5203],\n",
            "         [0.9177, 0.4801, 0.3433,  ..., 0.4072, 0.0475, 0.3674],\n",
            "         [0.2561, 0.6405, 0.7593,  ..., 0.7520, 0.8931, 0.7894],\n",
            "         ...,\n",
            "         [0.3395, 0.3899, 0.9393,  ..., 0.6315, 0.1488, 0.4119],\n",
            "         [0.3616, 0.2958, 0.9732,  ..., 0.9912, 0.6023, 0.6463],\n",
            "         [0.0621, 0.5710, 0.0577,  ..., 0.6153, 0.3334, 0.7514]],\n",
            "\n",
            "        [[0.6372, 0.4128, 0.6699,  ..., 0.5627, 0.3784, 0.3119],\n",
            "         [0.0789, 0.3932, 0.0738,  ..., 0.3497, 0.5735, 0.6379],\n",
            "         [0.2127, 0.7788, 0.6943,  ..., 0.7260, 0.0104, 0.1472],\n",
            "         ...,\n",
            "         [0.0969, 0.4245, 0.4954,  ..., 0.8746, 0.9876, 0.1932],\n",
            "         [0.3173, 0.9047, 0.4391,  ..., 0.5427, 0.9116, 0.5366],\n",
            "         [0.3106, 0.5995, 0.5979,  ..., 0.2569, 0.6156, 0.7701]]]) torch.Size([3, 28, 28])\n",
            "tensor([[0.5243, 0.8782, 0.8409,  ..., 0.4633, 0.6238, 0.3952],\n",
            "        [0.9731, 0.6224, 0.2647,  ..., 0.6153, 0.3334, 0.7514],\n",
            "        [0.6372, 0.4128, 0.6699,  ..., 0.2569, 0.6156, 0.7701]]) torch.Size([3, 784])\n"
          ]
        }
      ]
    },
    {
      "cell_type": "code",
      "source": [
        "linear = nn.Linear(in_features=784,out_features=20)\n",
        "linear_out = linear(flat_img)\n",
        "print(linear_out,linear_out.shape)"
      ],
      "metadata": {
        "id": "Usym2DP9QI0y",
        "outputId": "5b95d2c2-57ce-43cd-c482-613168db246a",
        "colab": {
          "base_uri": "https://localhost:8080/"
        }
      },
      "execution_count": 74,
      "outputs": [
        {
          "output_type": "stream",
          "name": "stdout",
          "text": [
            "tensor([[ 0.0603,  0.0528,  0.0101, -0.2277, -0.2462,  0.1684,  0.1020, -0.1312,\n",
            "          0.1460, -0.3430, -0.0277,  0.6711,  0.1489, -0.5219,  0.2843,  0.1186,\n",
            "          0.1508,  0.0482, -0.0603,  0.3479],\n",
            "        [-0.0670,  0.1040, -0.3025,  0.0129, -0.0560, -0.1873,  0.2886,  0.2474,\n",
            "          0.0223, -0.4869,  0.1257,  0.4115,  0.2337, -0.5621,  0.2523,  0.0352,\n",
            "         -0.1010,  0.2975, -0.1116, -0.0484],\n",
            "        [-0.0093,  0.2300, -0.1006, -0.1386,  0.1621,  0.3427,  0.1461,  0.3551,\n",
            "         -0.1620, -0.2146, -0.1627,  0.1766,  0.0341, -0.7330,  0.1513,  0.1523,\n",
            "         -0.1313,  0.4481, -0.0445,  0.4130]], grad_fn=<AddmmBackward0>) torch.Size([3, 20])\n"
          ]
        }
      ]
    },
    {
      "cell_type": "code",
      "source": [
        "relu = nn.ReLU()\n",
        "relu_out = relu(linear_out)\n",
        "print(relu_out,relu_out.shape)"
      ],
      "metadata": {
        "id": "F98n-2ArQv58",
        "outputId": "9457d149-4d64-46f0-8890-831023aba369",
        "colab": {
          "base_uri": "https://localhost:8080/"
        }
      },
      "execution_count": 75,
      "outputs": [
        {
          "output_type": "stream",
          "name": "stdout",
          "text": [
            "tensor([[0.0603, 0.0528, 0.0101, 0.0000, 0.0000, 0.1684, 0.1020, 0.0000, 0.1460,\n",
            "         0.0000, 0.0000, 0.6711, 0.1489, 0.0000, 0.2843, 0.1186, 0.1508, 0.0482,\n",
            "         0.0000, 0.3479],\n",
            "        [0.0000, 0.1040, 0.0000, 0.0129, 0.0000, 0.0000, 0.2886, 0.2474, 0.0223,\n",
            "         0.0000, 0.1257, 0.4115, 0.2337, 0.0000, 0.2523, 0.0352, 0.0000, 0.2975,\n",
            "         0.0000, 0.0000],\n",
            "        [0.0000, 0.2300, 0.0000, 0.0000, 0.1621, 0.3427, 0.1461, 0.3551, 0.0000,\n",
            "         0.0000, 0.0000, 0.1766, 0.0341, 0.0000, 0.1513, 0.1523, 0.0000, 0.4481,\n",
            "         0.0000, 0.4130]], grad_fn=<ReluBackward0>) torch.Size([3, 20])\n"
          ]
        }
      ]
    },
    {
      "cell_type": "code",
      "source": [],
      "metadata": {
        "id": "oSewVhM5RJJc"
      },
      "execution_count": null,
      "outputs": []
    }
  ]
}