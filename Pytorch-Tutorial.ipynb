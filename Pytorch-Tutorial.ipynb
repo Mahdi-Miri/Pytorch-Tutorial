{
  "nbformat": 4,
  "nbformat_minor": 0,
  "metadata": {
    "colab": {
      "provenance": [],
      "authorship_tag": "ABX9TyOH/7o2N0g8L/QtHsuefHR0",
      "include_colab_link": true
    },
    "kernelspec": {
      "name": "python3",
      "display_name": "Python 3"
    },
    "language_info": {
      "name": "python"
    }
  },
  "cells": [
    {
      "cell_type": "markdown",
      "metadata": {
        "id": "view-in-github",
        "colab_type": "text"
      },
      "source": [
        "<a href=\"https://colab.research.google.com/github/Mahdi-Miri/Pytorch-Tutorial/blob/main/Pytorch-Tutorial.ipynb\" target=\"_parent\"><img src=\"https://colab.research.google.com/assets/colab-badge.svg\" alt=\"Open In Colab\"/></a>"
      ]
    },
    {
      "cell_type": "code",
      "execution_count": 1,
      "metadata": {
        "colab": {
          "base_uri": "https://localhost:8080/"
        },
        "id": "iXxlxpdlkm8N",
        "outputId": "f4afd2c5-be22-4a56-d4e4-3fd8aa39dd8b"
      },
      "outputs": [
        {
          "output_type": "stream",
          "name": "stdout",
          "text": [
            "Requirement already satisfied: torch in /usr/local/lib/python3.10/dist-packages (2.5.1+cu121)\n",
            "Requirement already satisfied: torchvision in /usr/local/lib/python3.10/dist-packages (0.20.1+cu121)\n",
            "Requirement already satisfied: filelock in /usr/local/lib/python3.10/dist-packages (from torch) (3.16.1)\n",
            "Requirement already satisfied: typing-extensions>=4.8.0 in /usr/local/lib/python3.10/dist-packages (from torch) (4.12.2)\n",
            "Requirement already satisfied: networkx in /usr/local/lib/python3.10/dist-packages (from torch) (3.4.2)\n",
            "Requirement already satisfied: jinja2 in /usr/local/lib/python3.10/dist-packages (from torch) (3.1.4)\n",
            "Requirement already satisfied: fsspec in /usr/local/lib/python3.10/dist-packages (from torch) (2024.10.0)\n",
            "Requirement already satisfied: sympy==1.13.1 in /usr/local/lib/python3.10/dist-packages (from torch) (1.13.1)\n",
            "Requirement already satisfied: mpmath<1.4,>=1.1.0 in /usr/local/lib/python3.10/dist-packages (from sympy==1.13.1->torch) (1.3.0)\n",
            "Requirement already satisfied: numpy in /usr/local/lib/python3.10/dist-packages (from torchvision) (1.26.4)\n",
            "Requirement already satisfied: pillow!=8.3.*,>=5.3.0 in /usr/local/lib/python3.10/dist-packages (from torchvision) (11.0.0)\n",
            "Requirement already satisfied: MarkupSafe>=2.0 in /usr/local/lib/python3.10/dist-packages (from jinja2->torch) (3.0.2)\n"
          ]
        }
      ],
      "source": [
        "!pip install torch torchvision -U"
      ]
    },
    {
      "cell_type": "code",
      "source": [
        "import torch\n",
        "\n",
        "print(torch.__version__)"
      ],
      "metadata": {
        "colab": {
          "base_uri": "https://localhost:8080/"
        },
        "id": "XCuPPQg_kpWS",
        "outputId": "d4263cf6-e7c8-47eb-b794-0832a6a8e713"
      },
      "execution_count": 2,
      "outputs": [
        {
          "output_type": "stream",
          "name": "stdout",
          "text": [
            "2.5.1+cu121\n"
          ]
        }
      ]
    },
    {
      "cell_type": "code",
      "source": [
        "data = [[1,2],[3,4],[5,6]]"
      ],
      "metadata": {
        "id": "rcn196RBkreU"
      },
      "execution_count": 3,
      "outputs": []
    },
    {
      "cell_type": "code",
      "source": [
        "data"
      ],
      "metadata": {
        "colab": {
          "base_uri": "https://localhost:8080/"
        },
        "id": "TXmel_4tvEUa",
        "outputId": "8244c617-772b-4607-acce-b490184537bd"
      },
      "execution_count": 4,
      "outputs": [
        {
          "output_type": "execute_result",
          "data": {
            "text/plain": [
              "[[1, 2], [3, 4], [5, 6]]"
            ]
          },
          "metadata": {},
          "execution_count": 4
        }
      ]
    },
    {
      "cell_type": "code",
      "source": [
        "torch.tensor(data)"
      ],
      "metadata": {
        "colab": {
          "base_uri": "https://localhost:8080/"
        },
        "id": "6-sfJ-FavE5F",
        "outputId": "4aeebbf6-04f3-44c0-bc87-18d1300edeb3"
      },
      "execution_count": 5,
      "outputs": [
        {
          "output_type": "execute_result",
          "data": {
            "text/plain": [
              "tensor([[1, 2],\n",
              "        [3, 4],\n",
              "        [5, 6]])"
            ]
          },
          "metadata": {},
          "execution_count": 5
        }
      ]
    },
    {
      "cell_type": "code",
      "source": [
        "x = torch.zeros((3,3,5),dtype=torch.float16)"
      ],
      "metadata": {
        "id": "A5V90z0avJXv"
      },
      "execution_count": 6,
      "outputs": []
    },
    {
      "cell_type": "code",
      "source": [
        "x"
      ],
      "metadata": {
        "colab": {
          "base_uri": "https://localhost:8080/"
        },
        "id": "vT8Ty5cwvyUQ",
        "outputId": "703d97bd-e006-449e-d264-7f2591b0b26a"
      },
      "execution_count": 7,
      "outputs": [
        {
          "output_type": "execute_result",
          "data": {
            "text/plain": [
              "tensor([[[0., 0., 0., 0., 0.],\n",
              "         [0., 0., 0., 0., 0.],\n",
              "         [0., 0., 0., 0., 0.]],\n",
              "\n",
              "        [[0., 0., 0., 0., 0.],\n",
              "         [0., 0., 0., 0., 0.],\n",
              "         [0., 0., 0., 0., 0.]],\n",
              "\n",
              "        [[0., 0., 0., 0., 0.],\n",
              "         [0., 0., 0., 0., 0.],\n",
              "         [0., 0., 0., 0., 0.]]], dtype=torch.float16)"
            ]
          },
          "metadata": {},
          "execution_count": 7
        }
      ]
    },
    {
      "cell_type": "code",
      "source": [
        "x[1]"
      ],
      "metadata": {
        "colab": {
          "base_uri": "https://localhost:8080/"
        },
        "id": "zyWxYOV4wECr",
        "outputId": "b9d82f33-6998-4167-c1e4-22c9851ab20f"
      },
      "execution_count": 8,
      "outputs": [
        {
          "output_type": "execute_result",
          "data": {
            "text/plain": [
              "tensor([[0., 0., 0., 0., 0.],\n",
              "        [0., 0., 0., 0., 0.],\n",
              "        [0., 0., 0., 0., 0.]], dtype=torch.float16)"
            ]
          },
          "metadata": {},
          "execution_count": 8
        }
      ]
    },
    {
      "cell_type": "code",
      "source": [
        "shape = (2,3,4)"
      ],
      "metadata": {
        "id": "i1gXdBelxCkd"
      },
      "execution_count": 9,
      "outputs": []
    },
    {
      "cell_type": "code",
      "source": [
        "x = torch.ones(shape)"
      ],
      "metadata": {
        "id": "PG9FiXZFwzNR"
      },
      "execution_count": 10,
      "outputs": []
    },
    {
      "cell_type": "code",
      "source": [
        "x"
      ],
      "metadata": {
        "colab": {
          "base_uri": "https://localhost:8080/"
        },
        "id": "-0i9E36gw4sX",
        "outputId": "fea5061f-a173-4fc1-9964-9946d85c6749"
      },
      "execution_count": 11,
      "outputs": [
        {
          "output_type": "execute_result",
          "data": {
            "text/plain": [
              "tensor([[[1., 1., 1., 1.],\n",
              "         [1., 1., 1., 1.],\n",
              "         [1., 1., 1., 1.]],\n",
              "\n",
              "        [[1., 1., 1., 1.],\n",
              "         [1., 1., 1., 1.],\n",
              "         [1., 1., 1., 1.]]])"
            ]
          },
          "metadata": {},
          "execution_count": 11
        }
      ]
    },
    {
      "cell_type": "code",
      "source": [
        "x = torch.rand(shape)"
      ],
      "metadata": {
        "id": "yPUWlzWCxIXx"
      },
      "execution_count": 12,
      "outputs": []
    },
    {
      "cell_type": "code",
      "source": [
        "x"
      ],
      "metadata": {
        "colab": {
          "base_uri": "https://localhost:8080/"
        },
        "id": "3YhVKU-OxNav",
        "outputId": "3c73aa53-2832-4583-973a-f6688d7b6a41"
      },
      "execution_count": 13,
      "outputs": [
        {
          "output_type": "execute_result",
          "data": {
            "text/plain": [
              "tensor([[[0.9551, 0.7847, 0.6452, 0.2604],\n",
              "         [0.6983, 0.4032, 0.2983, 0.2742],\n",
              "         [0.8798, 0.6922, 0.3653, 0.9114]],\n",
              "\n",
              "        [[0.0410, 0.0351, 0.6987, 0.0498],\n",
              "         [0.5618, 0.4662, 0.2873, 0.1207],\n",
              "         [0.8275, 0.0815, 0.0932, 0.0828]]])"
            ]
          },
          "metadata": {},
          "execution_count": 13
        }
      ]
    },
    {
      "cell_type": "code",
      "source": [
        "x = torch.tensor(([1,2,3,4,5],[5,4,3,2,1]))"
      ],
      "metadata": {
        "id": "cDWU9QAmxNr4"
      },
      "execution_count": 14,
      "outputs": []
    },
    {
      "cell_type": "code",
      "source": [
        "x"
      ],
      "metadata": {
        "colab": {
          "base_uri": "https://localhost:8080/"
        },
        "id": "Qd2eXyR_xSuh",
        "outputId": "8216000c-83ae-4ea7-f81d-6e0e9d6f59b4"
      },
      "execution_count": 15,
      "outputs": [
        {
          "output_type": "execute_result",
          "data": {
            "text/plain": [
              "tensor([[1, 2, 3, 4, 5],\n",
              "        [5, 4, 3, 2, 1]])"
            ]
          },
          "metadata": {},
          "execution_count": 15
        }
      ]
    },
    {
      "cell_type": "code",
      "source": [
        "x *2"
      ],
      "metadata": {
        "colab": {
          "base_uri": "https://localhost:8080/"
        },
        "id": "Ipf1TLxaxTLL",
        "outputId": "ed53869f-f687-4204-94f4-383520cf3d1a"
      },
      "execution_count": 16,
      "outputs": [
        {
          "output_type": "execute_result",
          "data": {
            "text/plain": [
              "tensor([[ 2,  4,  6,  8, 10],\n",
              "        [10,  8,  6,  4,  2]])"
            ]
          },
          "metadata": {},
          "execution_count": 16
        }
      ]
    },
    {
      "cell_type": "code",
      "source": [
        "x.shape"
      ],
      "metadata": {
        "colab": {
          "base_uri": "https://localhost:8080/"
        },
        "id": "aCKWLFgqxlIY",
        "outputId": "9330dc15-c3f3-43f6-b86b-de469ac93fe2"
      },
      "execution_count": 17,
      "outputs": [
        {
          "output_type": "execute_result",
          "data": {
            "text/plain": [
              "torch.Size([2, 5])"
            ]
          },
          "metadata": {},
          "execution_count": 17
        }
      ]
    },
    {
      "cell_type": "code",
      "source": [
        "x.dtype"
      ],
      "metadata": {
        "colab": {
          "base_uri": "https://localhost:8080/"
        },
        "id": "8DYi6dw6yDv0",
        "outputId": "33f9cc24-4a4e-4239-f3aa-5c91fef0a3fc"
      },
      "execution_count": 18,
      "outputs": [
        {
          "output_type": "execute_result",
          "data": {
            "text/plain": [
              "torch.int64"
            ]
          },
          "metadata": {},
          "execution_count": 18
        }
      ]
    },
    {
      "cell_type": "code",
      "source": [
        "x.device"
      ],
      "metadata": {
        "colab": {
          "base_uri": "https://localhost:8080/"
        },
        "id": "lfPWqGmfyGPQ",
        "outputId": "966d40cc-bfc7-4ae5-d392-cad8a949d4c6"
      },
      "execution_count": 19,
      "outputs": [
        {
          "output_type": "execute_result",
          "data": {
            "text/plain": [
              "device(type='cpu')"
            ]
          },
          "metadata": {},
          "execution_count": 19
        }
      ]
    },
    {
      "cell_type": "code",
      "source": [
        "x[0]"
      ],
      "metadata": {
        "colab": {
          "base_uri": "https://localhost:8080/"
        },
        "id": "5q54DK79yKjI",
        "outputId": "6f8c76d7-2de3-42d3-c0c0-40cf0bbfea16"
      },
      "execution_count": 20,
      "outputs": [
        {
          "output_type": "execute_result",
          "data": {
            "text/plain": [
              "tensor([1, 2, 3, 4, 5])"
            ]
          },
          "metadata": {},
          "execution_count": 20
        }
      ]
    },
    {
      "cell_type": "code",
      "source": [
        "x[ : ,  0]"
      ],
      "metadata": {
        "colab": {
          "base_uri": "https://localhost:8080/"
        },
        "id": "tbORvcjeyRyE",
        "outputId": "45c24283-bc8a-40a7-af7e-f930ca846d03"
      },
      "execution_count": 21,
      "outputs": [
        {
          "output_type": "execute_result",
          "data": {
            "text/plain": [
              "tensor([1, 5])"
            ]
          },
          "metadata": {},
          "execution_count": 21
        }
      ]
    },
    {
      "cell_type": "code",
      "source": [
        "x[...,-1]"
      ],
      "metadata": {
        "colab": {
          "base_uri": "https://localhost:8080/"
        },
        "id": "2GRiX4O1yT5I",
        "outputId": "ea11185b-60f1-4338-a18b-9c784676da3a"
      },
      "execution_count": 22,
      "outputs": [
        {
          "output_type": "execute_result",
          "data": {
            "text/plain": [
              "tensor([5, 1])"
            ]
          },
          "metadata": {},
          "execution_count": 22
        }
      ]
    },
    {
      "cell_type": "markdown",
      "source": [
        "# Joining Tensors"
      ],
      "metadata": {
        "id": "IFWXzQRyyz0r"
      }
    },
    {
      "cell_type": "code",
      "source": [
        "shape1 = (4,6,5)\n",
        "shape2 = (4,5,6)"
      ],
      "metadata": {
        "id": "zXjYhQivy-N2"
      },
      "execution_count": 23,
      "outputs": []
    },
    {
      "cell_type": "code",
      "source": [
        "tensor1  = torch.rand(shape1)"
      ],
      "metadata": {
        "id": "SgT8PWDlyans"
      },
      "execution_count": 24,
      "outputs": []
    },
    {
      "cell_type": "code",
      "source": [
        "tensor2 = torch.rand(shape2)"
      ],
      "metadata": {
        "id": "zgFT-CHNy8NO"
      },
      "execution_count": 25,
      "outputs": []
    },
    {
      "cell_type": "code",
      "source": [
        "print(\"Tensor 1 :\")\n",
        "tensor1"
      ],
      "metadata": {
        "colab": {
          "base_uri": "https://localhost:8080/"
        },
        "id": "Z7pSUAOUzPMb",
        "outputId": "c6a15039-6748-4485-db87-654a0cd93a08"
      },
      "execution_count": 26,
      "outputs": [
        {
          "output_type": "stream",
          "name": "stdout",
          "text": [
            "Tensor 1 :\n"
          ]
        },
        {
          "output_type": "execute_result",
          "data": {
            "text/plain": [
              "tensor([[[0.0649, 0.5368, 0.2597, 0.2856, 0.9900],\n",
              "         [0.2725, 0.9224, 0.9499, 0.3722, 0.2006],\n",
              "         [0.1304, 0.9123, 0.1518, 0.3744, 0.8311],\n",
              "         [0.8189, 0.7124, 0.1115, 0.6062, 0.5905],\n",
              "         [0.6970, 0.8422, 0.1953, 0.5066, 0.3744],\n",
              "         [0.6035, 0.4926, 0.6314, 0.8179, 0.4401]],\n",
              "\n",
              "        [[0.6100, 0.7282, 0.0738, 0.2817, 0.3968],\n",
              "         [0.7959, 0.7092, 0.5629, 0.3330, 0.1402],\n",
              "         [0.1941, 0.3611, 0.3711, 0.3322, 0.8434],\n",
              "         [0.3091, 0.1627, 0.4803, 0.3304, 0.0024],\n",
              "         [0.3041, 0.0374, 0.3817, 0.5886, 0.2732],\n",
              "         [0.5901, 0.0176, 0.1241, 0.3475, 0.6605]],\n",
              "\n",
              "        [[0.9892, 0.9629, 0.7902, 0.3744, 0.9664],\n",
              "         [0.0532, 0.8203, 0.2396, 0.0439, 0.3527],\n",
              "         [0.5468, 0.1935, 0.7547, 0.0453, 0.2413],\n",
              "         [0.5919, 0.6420, 0.3501, 0.2435, 0.8655],\n",
              "         [0.1247, 0.0165, 0.9568, 0.2610, 0.6471],\n",
              "         [0.2091, 0.5761, 0.5735, 0.7752, 0.4233]],\n",
              "\n",
              "        [[0.5560, 0.3582, 0.5358, 0.6424, 0.2110],\n",
              "         [0.8603, 0.5858, 0.7207, 0.2319, 0.3001],\n",
              "         [0.1877, 0.8538, 0.5289, 0.5806, 0.4686],\n",
              "         [0.0426, 0.7375, 0.2197, 0.7394, 0.2932],\n",
              "         [0.6281, 0.7279, 0.7759, 0.2519, 0.1945],\n",
              "         [0.9153, 0.6861, 0.3375, 0.7232, 0.0148]]])"
            ]
          },
          "metadata": {},
          "execution_count": 26
        }
      ]
    },
    {
      "cell_type": "code",
      "source": [
        "print(\"Tensor 2 :\")\n",
        "tensor2"
      ],
      "metadata": {
        "colab": {
          "base_uri": "https://localhost:8080/"
        },
        "id": "tC3k4GMRzURh",
        "outputId": "21eee7bb-0148-4539-898e-b647e0e4a696"
      },
      "execution_count": 27,
      "outputs": [
        {
          "output_type": "stream",
          "name": "stdout",
          "text": [
            "Tensor 2 :\n"
          ]
        },
        {
          "output_type": "execute_result",
          "data": {
            "text/plain": [
              "tensor([[[0.2212, 0.8481, 0.6943, 0.1122, 0.4777, 0.2980],\n",
              "         [0.5908, 0.2197, 0.1473, 0.5194, 0.7449, 0.3110],\n",
              "         [0.0206, 0.4959, 0.4736, 0.6364, 0.8035, 0.3022],\n",
              "         [0.2022, 0.2464, 0.4254, 0.1685, 0.6063, 0.0332],\n",
              "         [0.3882, 0.4160, 0.8010, 0.9761, 0.0184, 0.6528]],\n",
              "\n",
              "        [[0.2386, 0.6317, 0.7701, 0.0191, 0.6964, 0.4959],\n",
              "         [0.9819, 0.8687, 0.9493, 0.3715, 0.3983, 0.9193],\n",
              "         [0.2085, 0.6122, 0.0987, 0.1124, 0.7522, 0.5846],\n",
              "         [0.7282, 0.3774, 0.9878, 0.5583, 0.2608, 0.3891],\n",
              "         [0.7967, 0.5445, 0.5394, 0.8462, 0.5289, 0.7056]],\n",
              "\n",
              "        [[0.2574, 0.1432, 0.1519, 0.1494, 0.0653, 0.2399],\n",
              "         [0.0507, 0.1928, 0.1459, 0.0850, 0.9136, 0.5788],\n",
              "         [0.0482, 0.3264, 0.8772, 0.2713, 0.6477, 0.7368],\n",
              "         [0.0373, 0.3361, 0.5730, 0.2065, 0.6824, 0.5055],\n",
              "         [0.3342, 0.6426, 0.7222, 0.7601, 0.4388, 0.4776]],\n",
              "\n",
              "        [[0.2207, 0.2375, 0.0103, 0.9358, 0.5335, 0.9907],\n",
              "         [0.6840, 0.4751, 0.6440, 0.2222, 0.5955, 0.7419],\n",
              "         [0.0773, 0.8695, 0.8591, 0.4969, 0.6958, 0.2845],\n",
              "         [0.8082, 0.5512, 0.5687, 0.2723, 0.7106, 0.3443],\n",
              "         [0.5882, 0.6684, 0.1366, 0.4138, 0.8857, 0.9294]]])"
            ]
          },
          "metadata": {},
          "execution_count": 27
        }
      ]
    },
    {
      "cell_type": "code",
      "source": [
        "t1 = torch.cat([tensor1,tensor1],dim =1)"
      ],
      "metadata": {
        "id": "zFK9PfgpzhiA"
      },
      "execution_count": 28,
      "outputs": []
    },
    {
      "cell_type": "code",
      "source": [
        "t1"
      ],
      "metadata": {
        "colab": {
          "base_uri": "https://localhost:8080/"
        },
        "id": "K5FhiaCqzy_C",
        "outputId": "2c1fa994-281c-4633-bcce-a23ad4660527"
      },
      "execution_count": 29,
      "outputs": [
        {
          "output_type": "execute_result",
          "data": {
            "text/plain": [
              "tensor([[[0.0649, 0.5368, 0.2597, 0.2856, 0.9900],\n",
              "         [0.2725, 0.9224, 0.9499, 0.3722, 0.2006],\n",
              "         [0.1304, 0.9123, 0.1518, 0.3744, 0.8311],\n",
              "         [0.8189, 0.7124, 0.1115, 0.6062, 0.5905],\n",
              "         [0.6970, 0.8422, 0.1953, 0.5066, 0.3744],\n",
              "         [0.6035, 0.4926, 0.6314, 0.8179, 0.4401],\n",
              "         [0.0649, 0.5368, 0.2597, 0.2856, 0.9900],\n",
              "         [0.2725, 0.9224, 0.9499, 0.3722, 0.2006],\n",
              "         [0.1304, 0.9123, 0.1518, 0.3744, 0.8311],\n",
              "         [0.8189, 0.7124, 0.1115, 0.6062, 0.5905],\n",
              "         [0.6970, 0.8422, 0.1953, 0.5066, 0.3744],\n",
              "         [0.6035, 0.4926, 0.6314, 0.8179, 0.4401]],\n",
              "\n",
              "        [[0.6100, 0.7282, 0.0738, 0.2817, 0.3968],\n",
              "         [0.7959, 0.7092, 0.5629, 0.3330, 0.1402],\n",
              "         [0.1941, 0.3611, 0.3711, 0.3322, 0.8434],\n",
              "         [0.3091, 0.1627, 0.4803, 0.3304, 0.0024],\n",
              "         [0.3041, 0.0374, 0.3817, 0.5886, 0.2732],\n",
              "         [0.5901, 0.0176, 0.1241, 0.3475, 0.6605],\n",
              "         [0.6100, 0.7282, 0.0738, 0.2817, 0.3968],\n",
              "         [0.7959, 0.7092, 0.5629, 0.3330, 0.1402],\n",
              "         [0.1941, 0.3611, 0.3711, 0.3322, 0.8434],\n",
              "         [0.3091, 0.1627, 0.4803, 0.3304, 0.0024],\n",
              "         [0.3041, 0.0374, 0.3817, 0.5886, 0.2732],\n",
              "         [0.5901, 0.0176, 0.1241, 0.3475, 0.6605]],\n",
              "\n",
              "        [[0.9892, 0.9629, 0.7902, 0.3744, 0.9664],\n",
              "         [0.0532, 0.8203, 0.2396, 0.0439, 0.3527],\n",
              "         [0.5468, 0.1935, 0.7547, 0.0453, 0.2413],\n",
              "         [0.5919, 0.6420, 0.3501, 0.2435, 0.8655],\n",
              "         [0.1247, 0.0165, 0.9568, 0.2610, 0.6471],\n",
              "         [0.2091, 0.5761, 0.5735, 0.7752, 0.4233],\n",
              "         [0.9892, 0.9629, 0.7902, 0.3744, 0.9664],\n",
              "         [0.0532, 0.8203, 0.2396, 0.0439, 0.3527],\n",
              "         [0.5468, 0.1935, 0.7547, 0.0453, 0.2413],\n",
              "         [0.5919, 0.6420, 0.3501, 0.2435, 0.8655],\n",
              "         [0.1247, 0.0165, 0.9568, 0.2610, 0.6471],\n",
              "         [0.2091, 0.5761, 0.5735, 0.7752, 0.4233]],\n",
              "\n",
              "        [[0.5560, 0.3582, 0.5358, 0.6424, 0.2110],\n",
              "         [0.8603, 0.5858, 0.7207, 0.2319, 0.3001],\n",
              "         [0.1877, 0.8538, 0.5289, 0.5806, 0.4686],\n",
              "         [0.0426, 0.7375, 0.2197, 0.7394, 0.2932],\n",
              "         [0.6281, 0.7279, 0.7759, 0.2519, 0.1945],\n",
              "         [0.9153, 0.6861, 0.3375, 0.7232, 0.0148],\n",
              "         [0.5560, 0.3582, 0.5358, 0.6424, 0.2110],\n",
              "         [0.8603, 0.5858, 0.7207, 0.2319, 0.3001],\n",
              "         [0.1877, 0.8538, 0.5289, 0.5806, 0.4686],\n",
              "         [0.0426, 0.7375, 0.2197, 0.7394, 0.2932],\n",
              "         [0.6281, 0.7279, 0.7759, 0.2519, 0.1945],\n",
              "         [0.9153, 0.6861, 0.3375, 0.7232, 0.0148]]])"
            ]
          },
          "metadata": {},
          "execution_count": 29
        }
      ]
    },
    {
      "cell_type": "code",
      "source": [
        "t1 = torch.cat([tensor1,tensor1],dim =0)"
      ],
      "metadata": {
        "id": "fzOZxqBWzzYD"
      },
      "execution_count": 30,
      "outputs": []
    },
    {
      "cell_type": "code",
      "source": [
        "t1"
      ],
      "metadata": {
        "colab": {
          "base_uri": "https://localhost:8080/"
        },
        "id": "ZkcktFXzz6Vr",
        "outputId": "09921886-5117-4ffe-c848-36954c03a018"
      },
      "execution_count": 31,
      "outputs": [
        {
          "output_type": "execute_result",
          "data": {
            "text/plain": [
              "tensor([[[0.0649, 0.5368, 0.2597, 0.2856, 0.9900],\n",
              "         [0.2725, 0.9224, 0.9499, 0.3722, 0.2006],\n",
              "         [0.1304, 0.9123, 0.1518, 0.3744, 0.8311],\n",
              "         [0.8189, 0.7124, 0.1115, 0.6062, 0.5905],\n",
              "         [0.6970, 0.8422, 0.1953, 0.5066, 0.3744],\n",
              "         [0.6035, 0.4926, 0.6314, 0.8179, 0.4401]],\n",
              "\n",
              "        [[0.6100, 0.7282, 0.0738, 0.2817, 0.3968],\n",
              "         [0.7959, 0.7092, 0.5629, 0.3330, 0.1402],\n",
              "         [0.1941, 0.3611, 0.3711, 0.3322, 0.8434],\n",
              "         [0.3091, 0.1627, 0.4803, 0.3304, 0.0024],\n",
              "         [0.3041, 0.0374, 0.3817, 0.5886, 0.2732],\n",
              "         [0.5901, 0.0176, 0.1241, 0.3475, 0.6605]],\n",
              "\n",
              "        [[0.9892, 0.9629, 0.7902, 0.3744, 0.9664],\n",
              "         [0.0532, 0.8203, 0.2396, 0.0439, 0.3527],\n",
              "         [0.5468, 0.1935, 0.7547, 0.0453, 0.2413],\n",
              "         [0.5919, 0.6420, 0.3501, 0.2435, 0.8655],\n",
              "         [0.1247, 0.0165, 0.9568, 0.2610, 0.6471],\n",
              "         [0.2091, 0.5761, 0.5735, 0.7752, 0.4233]],\n",
              "\n",
              "        [[0.5560, 0.3582, 0.5358, 0.6424, 0.2110],\n",
              "         [0.8603, 0.5858, 0.7207, 0.2319, 0.3001],\n",
              "         [0.1877, 0.8538, 0.5289, 0.5806, 0.4686],\n",
              "         [0.0426, 0.7375, 0.2197, 0.7394, 0.2932],\n",
              "         [0.6281, 0.7279, 0.7759, 0.2519, 0.1945],\n",
              "         [0.9153, 0.6861, 0.3375, 0.7232, 0.0148]],\n",
              "\n",
              "        [[0.0649, 0.5368, 0.2597, 0.2856, 0.9900],\n",
              "         [0.2725, 0.9224, 0.9499, 0.3722, 0.2006],\n",
              "         [0.1304, 0.9123, 0.1518, 0.3744, 0.8311],\n",
              "         [0.8189, 0.7124, 0.1115, 0.6062, 0.5905],\n",
              "         [0.6970, 0.8422, 0.1953, 0.5066, 0.3744],\n",
              "         [0.6035, 0.4926, 0.6314, 0.8179, 0.4401]],\n",
              "\n",
              "        [[0.6100, 0.7282, 0.0738, 0.2817, 0.3968],\n",
              "         [0.7959, 0.7092, 0.5629, 0.3330, 0.1402],\n",
              "         [0.1941, 0.3611, 0.3711, 0.3322, 0.8434],\n",
              "         [0.3091, 0.1627, 0.4803, 0.3304, 0.0024],\n",
              "         [0.3041, 0.0374, 0.3817, 0.5886, 0.2732],\n",
              "         [0.5901, 0.0176, 0.1241, 0.3475, 0.6605]],\n",
              "\n",
              "        [[0.9892, 0.9629, 0.7902, 0.3744, 0.9664],\n",
              "         [0.0532, 0.8203, 0.2396, 0.0439, 0.3527],\n",
              "         [0.5468, 0.1935, 0.7547, 0.0453, 0.2413],\n",
              "         [0.5919, 0.6420, 0.3501, 0.2435, 0.8655],\n",
              "         [0.1247, 0.0165, 0.9568, 0.2610, 0.6471],\n",
              "         [0.2091, 0.5761, 0.5735, 0.7752, 0.4233]],\n",
              "\n",
              "        [[0.5560, 0.3582, 0.5358, 0.6424, 0.2110],\n",
              "         [0.8603, 0.5858, 0.7207, 0.2319, 0.3001],\n",
              "         [0.1877, 0.8538, 0.5289, 0.5806, 0.4686],\n",
              "         [0.0426, 0.7375, 0.2197, 0.7394, 0.2932],\n",
              "         [0.6281, 0.7279, 0.7759, 0.2519, 0.1945],\n",
              "         [0.9153, 0.6861, 0.3375, 0.7232, 0.0148]]])"
            ]
          },
          "metadata": {},
          "execution_count": 31
        }
      ]
    },
    {
      "cell_type": "code",
      "source": [
        "t1 = torch.stack([tensor1,tensor1])"
      ],
      "metadata": {
        "id": "cWFwP2pnz6tT"
      },
      "execution_count": 32,
      "outputs": []
    },
    {
      "cell_type": "code",
      "source": [
        "t1"
      ],
      "metadata": {
        "colab": {
          "base_uri": "https://localhost:8080/"
        },
        "id": "XwFSkZ77z_GI",
        "outputId": "6f30e5d4-53ce-4a8d-abce-efee90f93f72"
      },
      "execution_count": 33,
      "outputs": [
        {
          "output_type": "execute_result",
          "data": {
            "text/plain": [
              "tensor([[[[0.0649, 0.5368, 0.2597, 0.2856, 0.9900],\n",
              "          [0.2725, 0.9224, 0.9499, 0.3722, 0.2006],\n",
              "          [0.1304, 0.9123, 0.1518, 0.3744, 0.8311],\n",
              "          [0.8189, 0.7124, 0.1115, 0.6062, 0.5905],\n",
              "          [0.6970, 0.8422, 0.1953, 0.5066, 0.3744],\n",
              "          [0.6035, 0.4926, 0.6314, 0.8179, 0.4401]],\n",
              "\n",
              "         [[0.6100, 0.7282, 0.0738, 0.2817, 0.3968],\n",
              "          [0.7959, 0.7092, 0.5629, 0.3330, 0.1402],\n",
              "          [0.1941, 0.3611, 0.3711, 0.3322, 0.8434],\n",
              "          [0.3091, 0.1627, 0.4803, 0.3304, 0.0024],\n",
              "          [0.3041, 0.0374, 0.3817, 0.5886, 0.2732],\n",
              "          [0.5901, 0.0176, 0.1241, 0.3475, 0.6605]],\n",
              "\n",
              "         [[0.9892, 0.9629, 0.7902, 0.3744, 0.9664],\n",
              "          [0.0532, 0.8203, 0.2396, 0.0439, 0.3527],\n",
              "          [0.5468, 0.1935, 0.7547, 0.0453, 0.2413],\n",
              "          [0.5919, 0.6420, 0.3501, 0.2435, 0.8655],\n",
              "          [0.1247, 0.0165, 0.9568, 0.2610, 0.6471],\n",
              "          [0.2091, 0.5761, 0.5735, 0.7752, 0.4233]],\n",
              "\n",
              "         [[0.5560, 0.3582, 0.5358, 0.6424, 0.2110],\n",
              "          [0.8603, 0.5858, 0.7207, 0.2319, 0.3001],\n",
              "          [0.1877, 0.8538, 0.5289, 0.5806, 0.4686],\n",
              "          [0.0426, 0.7375, 0.2197, 0.7394, 0.2932],\n",
              "          [0.6281, 0.7279, 0.7759, 0.2519, 0.1945],\n",
              "          [0.9153, 0.6861, 0.3375, 0.7232, 0.0148]]],\n",
              "\n",
              "\n",
              "        [[[0.0649, 0.5368, 0.2597, 0.2856, 0.9900],\n",
              "          [0.2725, 0.9224, 0.9499, 0.3722, 0.2006],\n",
              "          [0.1304, 0.9123, 0.1518, 0.3744, 0.8311],\n",
              "          [0.8189, 0.7124, 0.1115, 0.6062, 0.5905],\n",
              "          [0.6970, 0.8422, 0.1953, 0.5066, 0.3744],\n",
              "          [0.6035, 0.4926, 0.6314, 0.8179, 0.4401]],\n",
              "\n",
              "         [[0.6100, 0.7282, 0.0738, 0.2817, 0.3968],\n",
              "          [0.7959, 0.7092, 0.5629, 0.3330, 0.1402],\n",
              "          [0.1941, 0.3611, 0.3711, 0.3322, 0.8434],\n",
              "          [0.3091, 0.1627, 0.4803, 0.3304, 0.0024],\n",
              "          [0.3041, 0.0374, 0.3817, 0.5886, 0.2732],\n",
              "          [0.5901, 0.0176, 0.1241, 0.3475, 0.6605]],\n",
              "\n",
              "         [[0.9892, 0.9629, 0.7902, 0.3744, 0.9664],\n",
              "          [0.0532, 0.8203, 0.2396, 0.0439, 0.3527],\n",
              "          [0.5468, 0.1935, 0.7547, 0.0453, 0.2413],\n",
              "          [0.5919, 0.6420, 0.3501, 0.2435, 0.8655],\n",
              "          [0.1247, 0.0165, 0.9568, 0.2610, 0.6471],\n",
              "          [0.2091, 0.5761, 0.5735, 0.7752, 0.4233]],\n",
              "\n",
              "         [[0.5560, 0.3582, 0.5358, 0.6424, 0.2110],\n",
              "          [0.8603, 0.5858, 0.7207, 0.2319, 0.3001],\n",
              "          [0.1877, 0.8538, 0.5289, 0.5806, 0.4686],\n",
              "          [0.0426, 0.7375, 0.2197, 0.7394, 0.2932],\n",
              "          [0.6281, 0.7279, 0.7759, 0.2519, 0.1945],\n",
              "          [0.9153, 0.6861, 0.3375, 0.7232, 0.0148]]]])"
            ]
          },
          "metadata": {},
          "execution_count": 33
        }
      ]
    },
    {
      "cell_type": "code",
      "source": [
        "tensor1 @ tensor2"
      ],
      "metadata": {
        "colab": {
          "base_uri": "https://localhost:8080/"
        },
        "id": "mBusb8IE0AcR",
        "outputId": "74e94ba0-b4c6-4c0a-f57d-cd5bf6155fd2"
      },
      "execution_count": 34,
      "outputs": [
        {
          "output_type": "execute_result",
          "data": {
            "text/plain": [
              "tensor([[[0.7789, 0.7840, 1.1617, 1.4658, 0.8309, 0.9205],\n",
              "         [0.7780, 1.0799, 1.0939, 1.3727, 1.8099, 0.7985],\n",
              "         [0.9693, 0.8243, 1.1218, 1.4594, 1.1062, 0.9234],\n",
              "         [0.9561, 1.3013, 1.4572, 1.2113, 1.3898, 0.9049],\n",
              "         [0.9036, 1.1536, 1.2159, 1.0907, 1.4313, 0.7899],\n",
              "         [0.7738, 1.3177, 1.4911, 1.2927, 1.6665, 0.8383]],\n",
              "\n",
              "        [[1.3972, 1.3854, 1.6606, 0.7835, 1.0538, 1.4046],\n",
              "         [1.3578, 1.6655, 1.7463, 0.6464, 1.4213, 1.6042],\n",
              "         [1.3921, 1.2480, 1.3119, 1.0787, 1.0909, 1.3695],\n",
              "         [0.5761, 0.7566, 0.7675, 0.3067, 0.7288, 0.7138],\n",
              "         [0.8352, 0.8291, 1.0362, 0.6224, 0.8118, 0.8301],\n",
              "         [0.9633, 0.9548, 1.1830, 0.7847, 0.9514, 0.9827]],\n",
              "\n",
              "        [[0.6783, 1.3321, 1.8963, 1.2557, 2.1356, 2.0276],\n",
              "         [0.1863, 0.4854, 0.6179, 0.4198, 1.0928, 0.8547],\n",
              "         [0.2692, 0.5322, 0.9735, 0.4956, 0.8381, 0.9373],\n",
              "         [0.5000, 0.9609, 1.2553, 0.9461, 1.3980, 1.3080],\n",
              "         [0.3050, 0.8369, 1.4775, 0.8253, 1.1050, 1.1854],\n",
              "         [0.2810, 0.8608, 1.3688, 0.7175, 1.6262, 1.4002]],\n",
              "\n",
              "        [[1.0524, 1.2632, 1.0909, 1.1284, 1.5261, 1.3863],\n",
              "         [1.0101, 1.4376, 1.1781, 1.4806, 1.7398, 1.8506],\n",
              "         [1.4112, 1.5433, 1.4004, 0.9802, 1.8042, 1.6052],\n",
              "         [1.3009, 1.1551, 1.1247, 0.6356, 1.3999, 1.1790],\n",
              "         [1.0144, 1.4384, 1.3116, 1.2841, 1.6596, 1.6504],\n",
              "         [1.2906, 1.2454, 1.1545, 1.3797, 1.6588, 1.7746]]])"
            ]
          },
          "metadata": {},
          "execution_count": 34
        }
      ]
    },
    {
      "cell_type": "code",
      "source": [
        "tensor1.T"
      ],
      "metadata": {
        "colab": {
          "base_uri": "https://localhost:8080/"
        },
        "id": "k62Anl_m0gpI",
        "outputId": "57df964f-d590-4cb0-abbb-9c8454003a27"
      },
      "execution_count": 35,
      "outputs": [
        {
          "output_type": "stream",
          "name": "stderr",
          "text": [
            "<ipython-input-35-0fee77ff0160>:1: UserWarning: The use of `x.T` on tensors of dimension other than 2 to reverse their shape is deprecated and it will throw an error in a future release. Consider `x.mT` to transpose batches of matrices or `x.permute(*torch.arange(x.ndim - 1, -1, -1))` to reverse the dimensions of a tensor. (Triggered internally at ../aten/src/ATen/native/TensorShape.cpp:3683.)\n",
            "  tensor1.T\n"
          ]
        },
        {
          "output_type": "execute_result",
          "data": {
            "text/plain": [
              "tensor([[[0.0649, 0.6100, 0.9892, 0.5560],\n",
              "         [0.2725, 0.7959, 0.0532, 0.8603],\n",
              "         [0.1304, 0.1941, 0.5468, 0.1877],\n",
              "         [0.8189, 0.3091, 0.5919, 0.0426],\n",
              "         [0.6970, 0.3041, 0.1247, 0.6281],\n",
              "         [0.6035, 0.5901, 0.2091, 0.9153]],\n",
              "\n",
              "        [[0.5368, 0.7282, 0.9629, 0.3582],\n",
              "         [0.9224, 0.7092, 0.8203, 0.5858],\n",
              "         [0.9123, 0.3611, 0.1935, 0.8538],\n",
              "         [0.7124, 0.1627, 0.6420, 0.7375],\n",
              "         [0.8422, 0.0374, 0.0165, 0.7279],\n",
              "         [0.4926, 0.0176, 0.5761, 0.6861]],\n",
              "\n",
              "        [[0.2597, 0.0738, 0.7902, 0.5358],\n",
              "         [0.9499, 0.5629, 0.2396, 0.7207],\n",
              "         [0.1518, 0.3711, 0.7547, 0.5289],\n",
              "         [0.1115, 0.4803, 0.3501, 0.2197],\n",
              "         [0.1953, 0.3817, 0.9568, 0.7759],\n",
              "         [0.6314, 0.1241, 0.5735, 0.3375]],\n",
              "\n",
              "        [[0.2856, 0.2817, 0.3744, 0.6424],\n",
              "         [0.3722, 0.3330, 0.0439, 0.2319],\n",
              "         [0.3744, 0.3322, 0.0453, 0.5806],\n",
              "         [0.6062, 0.3304, 0.2435, 0.7394],\n",
              "         [0.5066, 0.5886, 0.2610, 0.2519],\n",
              "         [0.8179, 0.3475, 0.7752, 0.7232]],\n",
              "\n",
              "        [[0.9900, 0.3968, 0.9664, 0.2110],\n",
              "         [0.2006, 0.1402, 0.3527, 0.3001],\n",
              "         [0.8311, 0.8434, 0.2413, 0.4686],\n",
              "         [0.5905, 0.0024, 0.8655, 0.2932],\n",
              "         [0.3744, 0.2732, 0.6471, 0.1945],\n",
              "         [0.4401, 0.6605, 0.4233, 0.0148]]])"
            ]
          },
          "metadata": {},
          "execution_count": 35
        }
      ]
    },
    {
      "cell_type": "code",
      "source": [
        "tensor2 * tensor2"
      ],
      "metadata": {
        "colab": {
          "base_uri": "https://localhost:8080/"
        },
        "id": "A6jFWmV30nX9",
        "outputId": "7d508051-5b4b-4ebd-911b-70e9090cb399"
      },
      "execution_count": 36,
      "outputs": [
        {
          "output_type": "execute_result",
          "data": {
            "text/plain": [
              "tensor([[[4.8929e-02, 7.1921e-01, 4.8205e-01, 1.2581e-02, 2.2823e-01,\n",
              "          8.8786e-02],\n",
              "         [3.4908e-01, 4.8278e-02, 2.1690e-02, 2.6980e-01, 5.5493e-01,\n",
              "          9.6750e-02],\n",
              "         [4.2617e-04, 2.4587e-01, 2.2427e-01, 4.0495e-01, 6.4564e-01,\n",
              "          9.1332e-02],\n",
              "         [4.0887e-02, 6.0715e-02, 1.8097e-01, 2.8385e-02, 3.6756e-01,\n",
              "          1.1009e-03],\n",
              "         [1.5068e-01, 1.7303e-01, 6.4166e-01, 9.5268e-01, 3.3848e-04,\n",
              "          4.2610e-01]],\n",
              "\n",
              "        [[5.6953e-02, 3.9904e-01, 5.9306e-01, 3.6454e-04, 4.8503e-01,\n",
              "          2.4590e-01],\n",
              "         [9.6408e-01, 7.5461e-01, 9.0111e-01, 1.3798e-01, 1.5867e-01,\n",
              "          8.4510e-01],\n",
              "         [4.3455e-02, 3.7475e-01, 9.7479e-03, 1.2626e-02, 5.6579e-01,\n",
              "          3.4174e-01],\n",
              "         [5.3026e-01, 1.4240e-01, 9.7569e-01, 3.1171e-01, 6.8011e-02,\n",
              "          1.5143e-01],\n",
              "         [6.3481e-01, 2.9645e-01, 2.9095e-01, 7.1612e-01, 2.7978e-01,\n",
              "          4.9788e-01]],\n",
              "\n",
              "        [[6.6237e-02, 2.0512e-02, 2.3076e-02, 2.2308e-02, 4.2653e-03,\n",
              "          5.7543e-02],\n",
              "         [2.5663e-03, 3.7185e-02, 2.1293e-02, 7.2202e-03, 8.3471e-01,\n",
              "          3.3504e-01],\n",
              "         [2.3226e-03, 1.0655e-01, 7.6943e-01, 7.3577e-02, 4.1953e-01,\n",
              "          5.4283e-01],\n",
              "         [1.3884e-03, 1.1297e-01, 3.2832e-01, 4.2631e-02, 4.6563e-01,\n",
              "          2.5556e-01],\n",
              "         [1.1167e-01, 4.1296e-01, 5.2158e-01, 5.7771e-01, 1.9255e-01,\n",
              "          2.2806e-01]],\n",
              "\n",
              "        [[4.8695e-02, 5.6407e-02, 1.0604e-04, 8.7565e-01, 2.8464e-01,\n",
              "          9.8151e-01],\n",
              "         [4.6792e-01, 2.2573e-01, 4.1476e-01, 4.9369e-02, 3.5464e-01,\n",
              "          5.5036e-01],\n",
              "         [5.9680e-03, 7.5600e-01, 7.3798e-01, 2.4693e-01, 4.8407e-01,\n",
              "          8.0920e-02],\n",
              "         [6.5316e-01, 3.0385e-01, 3.2339e-01, 7.4134e-02, 5.0496e-01,\n",
              "          1.1856e-01],\n",
              "         [3.4594e-01, 4.4670e-01, 1.8667e-02, 1.7120e-01, 7.8453e-01,\n",
              "          8.6378e-01]]])"
            ]
          },
          "metadata": {},
          "execution_count": 36
        }
      ]
    },
    {
      "cell_type": "code",
      "source": [
        "tensor1 / 2"
      ],
      "metadata": {
        "colab": {
          "base_uri": "https://localhost:8080/"
        },
        "id": "2GsuOfE_01Gt",
        "outputId": "a68375ea-a54a-4e9f-f708-e358c6973254"
      },
      "execution_count": 37,
      "outputs": [
        {
          "output_type": "execute_result",
          "data": {
            "text/plain": [
              "tensor([[[0.0325, 0.2684, 0.1298, 0.1428, 0.4950],\n",
              "         [0.1363, 0.4612, 0.4750, 0.1861, 0.1003],\n",
              "         [0.0652, 0.4562, 0.0759, 0.1872, 0.4155],\n",
              "         [0.4095, 0.3562, 0.0557, 0.3031, 0.2953],\n",
              "         [0.3485, 0.4211, 0.0976, 0.2533, 0.1872],\n",
              "         [0.3018, 0.2463, 0.3157, 0.4089, 0.2201]],\n",
              "\n",
              "        [[0.3050, 0.3641, 0.0369, 0.1409, 0.1984],\n",
              "         [0.3980, 0.3546, 0.2815, 0.1665, 0.0701],\n",
              "         [0.0970, 0.1805, 0.1855, 0.1661, 0.4217],\n",
              "         [0.1546, 0.0813, 0.2401, 0.1652, 0.0012],\n",
              "         [0.1520, 0.0187, 0.1908, 0.2943, 0.1366],\n",
              "         [0.2951, 0.0088, 0.0621, 0.1738, 0.3302]],\n",
              "\n",
              "        [[0.4946, 0.4814, 0.3951, 0.1872, 0.4832],\n",
              "         [0.0266, 0.4101, 0.1198, 0.0220, 0.1764],\n",
              "         [0.2734, 0.0967, 0.3773, 0.0227, 0.1206],\n",
              "         [0.2960, 0.3210, 0.1751, 0.1218, 0.4328],\n",
              "         [0.0623, 0.0083, 0.4784, 0.1305, 0.3236],\n",
              "         [0.1045, 0.2880, 0.2868, 0.3876, 0.2116]],\n",
              "\n",
              "        [[0.2780, 0.1791, 0.2679, 0.3212, 0.1055],\n",
              "         [0.4301, 0.2929, 0.3603, 0.1160, 0.1500],\n",
              "         [0.0939, 0.4269, 0.2645, 0.2903, 0.2343],\n",
              "         [0.0213, 0.3688, 0.1098, 0.3697, 0.1466],\n",
              "         [0.3140, 0.3639, 0.3879, 0.1260, 0.0972],\n",
              "         [0.4576, 0.3431, 0.1688, 0.3616, 0.0074]]])"
            ]
          },
          "metadata": {},
          "execution_count": 37
        }
      ]
    },
    {
      "cell_type": "markdown",
      "source": [
        "# Getting Value Of Single-Element Tensor"
      ],
      "metadata": {
        "id": "JMJ4jXAJ1Q0N"
      }
    },
    {
      "cell_type": "code",
      "source": [
        "tensor1"
      ],
      "metadata": {
        "colab": {
          "base_uri": "https://localhost:8080/"
        },
        "id": "fmOUC4Lo1DTg",
        "outputId": "b3ca06f3-4c73-4e28-84ad-b64ec3b07195"
      },
      "execution_count": 38,
      "outputs": [
        {
          "output_type": "execute_result",
          "data": {
            "text/plain": [
              "tensor([[[0.0649, 0.5368, 0.2597, 0.2856, 0.9900],\n",
              "         [0.2725, 0.9224, 0.9499, 0.3722, 0.2006],\n",
              "         [0.1304, 0.9123, 0.1518, 0.3744, 0.8311],\n",
              "         [0.8189, 0.7124, 0.1115, 0.6062, 0.5905],\n",
              "         [0.6970, 0.8422, 0.1953, 0.5066, 0.3744],\n",
              "         [0.6035, 0.4926, 0.6314, 0.8179, 0.4401]],\n",
              "\n",
              "        [[0.6100, 0.7282, 0.0738, 0.2817, 0.3968],\n",
              "         [0.7959, 0.7092, 0.5629, 0.3330, 0.1402],\n",
              "         [0.1941, 0.3611, 0.3711, 0.3322, 0.8434],\n",
              "         [0.3091, 0.1627, 0.4803, 0.3304, 0.0024],\n",
              "         [0.3041, 0.0374, 0.3817, 0.5886, 0.2732],\n",
              "         [0.5901, 0.0176, 0.1241, 0.3475, 0.6605]],\n",
              "\n",
              "        [[0.9892, 0.9629, 0.7902, 0.3744, 0.9664],\n",
              "         [0.0532, 0.8203, 0.2396, 0.0439, 0.3527],\n",
              "         [0.5468, 0.1935, 0.7547, 0.0453, 0.2413],\n",
              "         [0.5919, 0.6420, 0.3501, 0.2435, 0.8655],\n",
              "         [0.1247, 0.0165, 0.9568, 0.2610, 0.6471],\n",
              "         [0.2091, 0.5761, 0.5735, 0.7752, 0.4233]],\n",
              "\n",
              "        [[0.5560, 0.3582, 0.5358, 0.6424, 0.2110],\n",
              "         [0.8603, 0.5858, 0.7207, 0.2319, 0.3001],\n",
              "         [0.1877, 0.8538, 0.5289, 0.5806, 0.4686],\n",
              "         [0.0426, 0.7375, 0.2197, 0.7394, 0.2932],\n",
              "         [0.6281, 0.7279, 0.7759, 0.2519, 0.1945],\n",
              "         [0.9153, 0.6861, 0.3375, 0.7232, 0.0148]]])"
            ]
          },
          "metadata": {},
          "execution_count": 38
        }
      ]
    },
    {
      "cell_type": "code",
      "source": [
        "tensor1[0,1,2].item()"
      ],
      "metadata": {
        "colab": {
          "base_uri": "https://localhost:8080/"
        },
        "id": "vhIq7hwb1Xzr",
        "outputId": "e179e160-cc66-498b-b5de-c6f9b1786131"
      },
      "execution_count": 39,
      "outputs": [
        {
          "output_type": "execute_result",
          "data": {
            "text/plain": [
              "0.9499006867408752"
            ]
          },
          "metadata": {},
          "execution_count": 39
        }
      ]
    },
    {
      "cell_type": "markdown",
      "source": [
        "# Inplace Operation"
      ],
      "metadata": {
        "id": "4F3Szpsg139K"
      }
    },
    {
      "cell_type": "code",
      "source": [
        "tensor1"
      ],
      "metadata": {
        "colab": {
          "base_uri": "https://localhost:8080/"
        },
        "id": "xTsFBEEa2Xel",
        "outputId": "4a727ec7-79f4-4792-8cda-81c61bd8a63d"
      },
      "execution_count": 40,
      "outputs": [
        {
          "output_type": "execute_result",
          "data": {
            "text/plain": [
              "tensor([[[0.0649, 0.5368, 0.2597, 0.2856, 0.9900],\n",
              "         [0.2725, 0.9224, 0.9499, 0.3722, 0.2006],\n",
              "         [0.1304, 0.9123, 0.1518, 0.3744, 0.8311],\n",
              "         [0.8189, 0.7124, 0.1115, 0.6062, 0.5905],\n",
              "         [0.6970, 0.8422, 0.1953, 0.5066, 0.3744],\n",
              "         [0.6035, 0.4926, 0.6314, 0.8179, 0.4401]],\n",
              "\n",
              "        [[0.6100, 0.7282, 0.0738, 0.2817, 0.3968],\n",
              "         [0.7959, 0.7092, 0.5629, 0.3330, 0.1402],\n",
              "         [0.1941, 0.3611, 0.3711, 0.3322, 0.8434],\n",
              "         [0.3091, 0.1627, 0.4803, 0.3304, 0.0024],\n",
              "         [0.3041, 0.0374, 0.3817, 0.5886, 0.2732],\n",
              "         [0.5901, 0.0176, 0.1241, 0.3475, 0.6605]],\n",
              "\n",
              "        [[0.9892, 0.9629, 0.7902, 0.3744, 0.9664],\n",
              "         [0.0532, 0.8203, 0.2396, 0.0439, 0.3527],\n",
              "         [0.5468, 0.1935, 0.7547, 0.0453, 0.2413],\n",
              "         [0.5919, 0.6420, 0.3501, 0.2435, 0.8655],\n",
              "         [0.1247, 0.0165, 0.9568, 0.2610, 0.6471],\n",
              "         [0.2091, 0.5761, 0.5735, 0.7752, 0.4233]],\n",
              "\n",
              "        [[0.5560, 0.3582, 0.5358, 0.6424, 0.2110],\n",
              "         [0.8603, 0.5858, 0.7207, 0.2319, 0.3001],\n",
              "         [0.1877, 0.8538, 0.5289, 0.5806, 0.4686],\n",
              "         [0.0426, 0.7375, 0.2197, 0.7394, 0.2932],\n",
              "         [0.6281, 0.7279, 0.7759, 0.2519, 0.1945],\n",
              "         [0.9153, 0.6861, 0.3375, 0.7232, 0.0148]]])"
            ]
          },
          "metadata": {},
          "execution_count": 40
        }
      ]
    },
    {
      "cell_type": "code",
      "source": [
        "tensor1.add_(75)"
      ],
      "metadata": {
        "colab": {
          "base_uri": "https://localhost:8080/"
        },
        "id": "aA2in4Yc1daL",
        "outputId": "a2a02614-b5fd-48c7-fecb-d17013bf24bb"
      },
      "execution_count": 41,
      "outputs": [
        {
          "output_type": "execute_result",
          "data": {
            "text/plain": [
              "tensor([[[75.0649, 75.5368, 75.2597, 75.2856, 75.9900],\n",
              "         [75.2725, 75.9224, 75.9499, 75.3722, 75.2006],\n",
              "         [75.1304, 75.9123, 75.1518, 75.3744, 75.8311],\n",
              "         [75.8189, 75.7124, 75.1115, 75.6061, 75.5905],\n",
              "         [75.6970, 75.8422, 75.1953, 75.5066, 75.3744],\n",
              "         [75.6035, 75.4926, 75.6314, 75.8179, 75.4401]],\n",
              "\n",
              "        [[75.6100, 75.7282, 75.0738, 75.2817, 75.3968],\n",
              "         [75.7959, 75.7092, 75.5629, 75.3330, 75.1402],\n",
              "         [75.1941, 75.3611, 75.3711, 75.3322, 75.8434],\n",
              "         [75.3091, 75.1627, 75.4803, 75.3304, 75.0023],\n",
              "         [75.3041, 75.0374, 75.3817, 75.5886, 75.2732],\n",
              "         [75.5901, 75.0176, 75.1241, 75.3475, 75.6605]],\n",
              "\n",
              "        [[75.9892, 75.9629, 75.7902, 75.3744, 75.9664],\n",
              "         [75.0532, 75.8203, 75.2396, 75.0439, 75.3527],\n",
              "         [75.5468, 75.1935, 75.7547, 75.0453, 75.2412],\n",
              "         [75.5919, 75.6420, 75.3501, 75.2435, 75.8655],\n",
              "         [75.1247, 75.0165, 75.9568, 75.2610, 75.6471],\n",
              "         [75.2091, 75.5761, 75.5735, 75.7752, 75.4233]],\n",
              "\n",
              "        [[75.5560, 75.3582, 75.5358, 75.6424, 75.2110],\n",
              "         [75.8603, 75.5858, 75.7207, 75.2319, 75.3001],\n",
              "         [75.1877, 75.8538, 75.5289, 75.5806, 75.4686],\n",
              "         [75.0426, 75.7375, 75.2197, 75.7394, 75.2932],\n",
              "         [75.6281, 75.7279, 75.7759, 75.2519, 75.1945],\n",
              "         [75.9153, 75.6861, 75.3375, 75.7232, 75.0148]]])"
            ]
          },
          "metadata": {},
          "execution_count": 41
        }
      ]
    },
    {
      "cell_type": "markdown",
      "source": [
        "# Tensor Views"
      ],
      "metadata": {
        "id": "oU_NmHJa2vH4"
      }
    },
    {
      "cell_type": "code",
      "source": [
        "tensor1.shape"
      ],
      "metadata": {
        "colab": {
          "base_uri": "https://localhost:8080/"
        },
        "id": "BSq5VUBH2OuO",
        "outputId": "2d590de6-6d0c-47f0-d8ef-8aa5a81eb5a6"
      },
      "execution_count": 42,
      "outputs": [
        {
          "output_type": "execute_result",
          "data": {
            "text/plain": [
              "torch.Size([4, 6, 5])"
            ]
          },
          "metadata": {},
          "execution_count": 42
        }
      ]
    },
    {
      "cell_type": "code",
      "source": [
        "tensor1.view([4,5,6])"
      ],
      "metadata": {
        "colab": {
          "base_uri": "https://localhost:8080/"
        },
        "id": "mS2uRxVw2p8_",
        "outputId": "d1c8977e-7f64-4d6b-e8e8-1a39f764d1f2"
      },
      "execution_count": 43,
      "outputs": [
        {
          "output_type": "execute_result",
          "data": {
            "text/plain": [
              "tensor([[[75.0649, 75.5368, 75.2597, 75.2856, 75.9900, 75.2725],\n",
              "         [75.9224, 75.9499, 75.3722, 75.2006, 75.1304, 75.9123],\n",
              "         [75.1518, 75.3744, 75.8311, 75.8189, 75.7124, 75.1115],\n",
              "         [75.6061, 75.5905, 75.6970, 75.8422, 75.1953, 75.5066],\n",
              "         [75.3744, 75.6035, 75.4926, 75.6314, 75.8179, 75.4401]],\n",
              "\n",
              "        [[75.6100, 75.7282, 75.0738, 75.2817, 75.3968, 75.7959],\n",
              "         [75.7092, 75.5629, 75.3330, 75.1402, 75.1941, 75.3611],\n",
              "         [75.3711, 75.3322, 75.8434, 75.3091, 75.1627, 75.4803],\n",
              "         [75.3304, 75.0023, 75.3041, 75.0374, 75.3817, 75.5886],\n",
              "         [75.2732, 75.5901, 75.0176, 75.1241, 75.3475, 75.6605]],\n",
              "\n",
              "        [[75.9892, 75.9629, 75.7902, 75.3744, 75.9664, 75.0532],\n",
              "         [75.8203, 75.2396, 75.0439, 75.3527, 75.5468, 75.1935],\n",
              "         [75.7547, 75.0453, 75.2412, 75.5919, 75.6420, 75.3501],\n",
              "         [75.2435, 75.8655, 75.1247, 75.0165, 75.9568, 75.2610],\n",
              "         [75.6471, 75.2091, 75.5761, 75.5735, 75.7752, 75.4233]],\n",
              "\n",
              "        [[75.5560, 75.3582, 75.5358, 75.6424, 75.2110, 75.8603],\n",
              "         [75.5858, 75.7207, 75.2319, 75.3001, 75.1877, 75.8538],\n",
              "         [75.5289, 75.5806, 75.4686, 75.0426, 75.7375, 75.2197],\n",
              "         [75.7394, 75.2932, 75.6281, 75.7279, 75.7759, 75.2519],\n",
              "         [75.1945, 75.9153, 75.6861, 75.3375, 75.7232, 75.0148]]])"
            ]
          },
          "metadata": {},
          "execution_count": 43
        }
      ]
    },
    {
      "cell_type": "code",
      "source": [
        "tensor1.shape"
      ],
      "metadata": {
        "colab": {
          "base_uri": "https://localhost:8080/"
        },
        "id": "HW3-RdgW209Q",
        "outputId": "99c11aee-2529-4fa6-9b83-5b0abc4ac920"
      },
      "execution_count": 44,
      "outputs": [
        {
          "output_type": "execute_result",
          "data": {
            "text/plain": [
              "torch.Size([4, 6, 5])"
            ]
          },
          "metadata": {},
          "execution_count": 44
        }
      ]
    },
    {
      "cell_type": "markdown",
      "source": [
        "# Gradient Descent"
      ],
      "metadata": {
        "id": "z_WsvK0h9Biu"
      }
    },
    {
      "cell_type": "code",
      "source": [
        "xg = torch.ones((5,2),requires_grad =True)"
      ],
      "metadata": {
        "id": "WBXRVwH926UE"
      },
      "execution_count": 45,
      "outputs": []
    },
    {
      "cell_type": "code",
      "source": [
        "xg.requires_grad"
      ],
      "metadata": {
        "colab": {
          "base_uri": "https://localhost:8080/"
        },
        "id": "ZNUPP_3G-aRB",
        "outputId": "901645dd-0666-44ea-befb-8c6ec449ce62"
      },
      "execution_count": 46,
      "outputs": [
        {
          "output_type": "execute_result",
          "data": {
            "text/plain": [
              "True"
            ]
          },
          "metadata": {},
          "execution_count": 46
        }
      ]
    },
    {
      "cell_type": "code",
      "source": [
        "xg"
      ],
      "metadata": {
        "colab": {
          "base_uri": "https://localhost:8080/"
        },
        "id": "DHg0KvPi-fty",
        "outputId": "e8c7b986-fbbb-4572-db99-94d15f0e696f"
      },
      "execution_count": 47,
      "outputs": [
        {
          "output_type": "execute_result",
          "data": {
            "text/plain": [
              "tensor([[1., 1.],\n",
              "        [1., 1.],\n",
              "        [1., 1.],\n",
              "        [1., 1.],\n",
              "        [1., 1.]], requires_grad=True)"
            ]
          },
          "metadata": {},
          "execution_count": 47
        }
      ]
    },
    {
      "cell_type": "code",
      "source": [
        "layer1 = xg + 2"
      ],
      "metadata": {
        "id": "mlCWZkZ_-giX"
      },
      "execution_count": 48,
      "outputs": []
    },
    {
      "cell_type": "code",
      "source": [
        "layer1"
      ],
      "metadata": {
        "colab": {
          "base_uri": "https://localhost:8080/"
        },
        "id": "TgpHrz3Q-lM9",
        "outputId": "600f078e-0501-4e15-cac3-9a98b7ddf417"
      },
      "execution_count": 49,
      "outputs": [
        {
          "output_type": "execute_result",
          "data": {
            "text/plain": [
              "tensor([[3., 3.],\n",
              "        [3., 3.],\n",
              "        [3., 3.],\n",
              "        [3., 3.],\n",
              "        [3., 3.]], grad_fn=<AddBackward0>)"
            ]
          },
          "metadata": {},
          "execution_count": 49
        }
      ]
    },
    {
      "cell_type": "code",
      "source": [
        "layer2 = layer1 * 2"
      ],
      "metadata": {
        "id": "ghzMplxl-lv5"
      },
      "execution_count": 50,
      "outputs": []
    },
    {
      "cell_type": "code",
      "source": [
        "layer2"
      ],
      "metadata": {
        "colab": {
          "base_uri": "https://localhost:8080/"
        },
        "id": "l7r6_hpt-oQo",
        "outputId": "17694c85-107f-4309-dc20-9af27f35288f"
      },
      "execution_count": 51,
      "outputs": [
        {
          "output_type": "execute_result",
          "data": {
            "text/plain": [
              "tensor([[6., 6.],\n",
              "        [6., 6.],\n",
              "        [6., 6.],\n",
              "        [6., 6.],\n",
              "        [6., 6.]], grad_fn=<MulBackward0>)"
            ]
          },
          "metadata": {},
          "execution_count": 51
        }
      ]
    },
    {
      "cell_type": "code",
      "source": [
        "layer3 = layer2.mean()"
      ],
      "metadata": {
        "id": "ckIIgfY4-pDL"
      },
      "execution_count": 52,
      "outputs": []
    },
    {
      "cell_type": "code",
      "source": [
        "layer3"
      ],
      "metadata": {
        "colab": {
          "base_uri": "https://localhost:8080/"
        },
        "id": "Z-5KSIfo-vVr",
        "outputId": "32ebe506-2433-476e-d139-7336a2b8b4d3"
      },
      "execution_count": 53,
      "outputs": [
        {
          "output_type": "execute_result",
          "data": {
            "text/plain": [
              "tensor(6., grad_fn=<MeanBackward0>)"
            ]
          },
          "metadata": {},
          "execution_count": 53
        }
      ]
    },
    {
      "cell_type": "code",
      "source": [
        "#deactivate\n",
        "\n",
        "layer2_detach = layer2.detach()"
      ],
      "metadata": {
        "id": "qLkfk2bl-v4A"
      },
      "execution_count": 54,
      "outputs": []
    },
    {
      "cell_type": "code",
      "source": [
        "layer2_detach"
      ],
      "metadata": {
        "colab": {
          "base_uri": "https://localhost:8080/"
        },
        "id": "G4Vfo7lD-6w-",
        "outputId": "787a639f-6de6-4d3f-c2e3-0159af188aca"
      },
      "execution_count": 55,
      "outputs": [
        {
          "output_type": "execute_result",
          "data": {
            "text/plain": [
              "tensor([[6., 6.],\n",
              "        [6., 6.],\n",
              "        [6., 6.],\n",
              "        [6., 6.],\n",
              "        [6., 6.]])"
            ]
          },
          "metadata": {},
          "execution_count": 55
        }
      ]
    },
    {
      "cell_type": "code",
      "source": [
        "layer2_detach.mean()"
      ],
      "metadata": {
        "colab": {
          "base_uri": "https://localhost:8080/"
        },
        "id": "ZG2-gCgK-71z",
        "outputId": "dffd9174-2392-44a1-b202-7d0da5bf9781"
      },
      "execution_count": 56,
      "outputs": [
        {
          "output_type": "execute_result",
          "data": {
            "text/plain": [
              "tensor(6.)"
            ]
          },
          "metadata": {},
          "execution_count": 56
        }
      ]
    },
    {
      "cell_type": "markdown",
      "source": [
        "# Sample Model"
      ],
      "metadata": {
        "id": "UNcF06NH_cYK"
      }
    },
    {
      "cell_type": "code",
      "source": [
        "import torch"
      ],
      "metadata": {
        "id": "5E5qqiheC5UY"
      },
      "execution_count": 57,
      "outputs": []
    },
    {
      "cell_type": "code",
      "source": [
        "x = torch.tensor(([1,2,3,4]),dtype = torch.float32)\n",
        "y = torch.tensor(([2,4,6,8]),dtype = torch.float32)"
      ],
      "metadata": {
        "id": "fkIJEsjx_ANW"
      },
      "execution_count": 58,
      "outputs": []
    },
    {
      "cell_type": "code",
      "source": [
        "def forward(x,w):\n",
        "  return w * x"
      ],
      "metadata": {
        "id": "dujhfn8W_0uL"
      },
      "execution_count": 59,
      "outputs": []
    },
    {
      "cell_type": "code",
      "source": [
        "def loss(y,y_pred):\n",
        "  return ((y_pred - y)** 2).mean()"
      ],
      "metadata": {
        "id": "3MNlqaOi_8Nr"
      },
      "execution_count": 60,
      "outputs": []
    },
    {
      "cell_type": "code",
      "source": [
        "def gradient(x , y , y_pred):\n",
        "  return ((2.0 * x) * (y_pred - y)).mean()"
      ],
      "metadata": {
        "id": "5a5MlqkwAOT_"
      },
      "execution_count": 61,
      "outputs": []
    },
    {
      "cell_type": "code",
      "source": [
        "w = 0.0\n",
        "n_iters = 25\n",
        "learning_rate = 0.1"
      ],
      "metadata": {
        "id": "skLnQqDVAfnA"
      },
      "execution_count": 62,
      "outputs": []
    },
    {
      "cell_type": "code",
      "source": [
        "for epoch in range(n_iters):\n",
        "  #Forward\n",
        "  y_pred = forward(x,w)\n",
        "\n",
        "  #loss\n",
        "  l = loss(y , y_pred)\n",
        "\n",
        "  #gradient\n",
        "  grad = gradient(x , y ,y_pred)\n",
        "\n",
        "  print(f\"Epoch:{epoch+1} , Pred =: {y_pred.detach()} ,Grad :{grad.item()}, W: {w:4f} , Loss: {l:5f}\")\n",
        "\n",
        "  w -= learning_rate * grad"
      ],
      "metadata": {
        "colab": {
          "base_uri": "https://localhost:8080/"
        },
        "id": "o8WFxr8rBLSg",
        "outputId": "26882fc8-0db4-4f0c-d76b-e2cc9e85f960"
      },
      "execution_count": 63,
      "outputs": [
        {
          "output_type": "stream",
          "name": "stdout",
          "text": [
            "Epoch:1 , Pred =: tensor([0., 0., 0., 0.]) ,Grad :-30.0, W: 0.000000 , Loss: 30.000000\n",
            "Epoch:2 , Pred =: tensor([ 3.,  6.,  9., 12.]) ,Grad :15.0, W: 3.000000 , Loss: 7.500000\n",
            "Epoch:3 , Pred =: tensor([1.5000, 3.0000, 4.5000, 6.0000]) ,Grad :-7.5, W: 1.500000 , Loss: 1.875000\n",
            "Epoch:4 , Pred =: tensor([2.2500, 4.5000, 6.7500, 9.0000]) ,Grad :3.75, W: 2.250000 , Loss: 0.468750\n",
            "Epoch:5 , Pred =: tensor([1.8750, 3.7500, 5.6250, 7.5000]) ,Grad :-1.875, W: 1.875000 , Loss: 0.117188\n",
            "Epoch:6 , Pred =: tensor([2.0625, 4.1250, 6.1875, 8.2500]) ,Grad :0.9375, W: 2.062500 , Loss: 0.029297\n",
            "Epoch:7 , Pred =: tensor([1.9688, 3.9375, 5.9062, 7.8750]) ,Grad :-0.46875, W: 1.968750 , Loss: 0.007324\n",
            "Epoch:8 , Pred =: tensor([2.0156, 4.0312, 6.0469, 8.0625]) ,Grad :0.234375, W: 2.015625 , Loss: 0.001831\n",
            "Epoch:9 , Pred =: tensor([1.9922, 3.9844, 5.9766, 7.9688]) ,Grad :-0.1171875, W: 1.992188 , Loss: 0.000458\n",
            "Epoch:10 , Pred =: tensor([2.0039, 4.0078, 6.0117, 8.0156]) ,Grad :0.05859375, W: 2.003906 , Loss: 0.000114\n",
            "Epoch:11 , Pred =: tensor([1.9980, 3.9961, 5.9941, 7.9922]) ,Grad :-0.029296875, W: 1.998047 , Loss: 0.000029\n",
            "Epoch:12 , Pred =: tensor([2.0010, 4.0020, 6.0029, 8.0039]) ,Grad :0.0146484375, W: 2.000977 , Loss: 0.000007\n",
            "Epoch:13 , Pred =: tensor([1.9995, 3.9990, 5.9985, 7.9980]) ,Grad :-0.00732421875, W: 1.999512 , Loss: 0.000002\n",
            "Epoch:14 , Pred =: tensor([2.0002, 4.0005, 6.0007, 8.0010]) ,Grad :0.003662109375, W: 2.000244 , Loss: 0.000000\n",
            "Epoch:15 , Pred =: tensor([1.9999, 3.9998, 5.9996, 7.9995]) ,Grad :-0.0018310546875, W: 1.999878 , Loss: 0.000000\n",
            "Epoch:16 , Pred =: tensor([2.0001, 4.0001, 6.0002, 8.0002]) ,Grad :0.00091552734375, W: 2.000061 , Loss: 0.000000\n",
            "Epoch:17 , Pred =: tensor([2.0000, 3.9999, 5.9999, 7.9999]) ,Grad :-0.000457763671875, W: 1.999969 , Loss: 0.000000\n",
            "Epoch:18 , Pred =: tensor([2.0000, 4.0000, 6.0000, 8.0001]) ,Grad :0.0002288818359375, W: 2.000015 , Loss: 0.000000\n",
            "Epoch:19 , Pred =: tensor([2.0000, 4.0000, 6.0000, 8.0000]) ,Grad :-0.00011444091796875, W: 1.999992 , Loss: 0.000000\n",
            "Epoch:20 , Pred =: tensor([2.0000, 4.0000, 6.0000, 8.0000]) ,Grad :5.7220458984375e-05, W: 2.000004 , Loss: 0.000000\n",
            "Epoch:21 , Pred =: tensor([2.0000, 4.0000, 6.0000, 8.0000]) ,Grad :-2.86102294921875e-05, W: 1.999998 , Loss: 0.000000\n",
            "Epoch:22 , Pred =: tensor([2.0000, 4.0000, 6.0000, 8.0000]) ,Grad :1.430511474609375e-05, W: 2.000001 , Loss: 0.000000\n",
            "Epoch:23 , Pred =: tensor([2.0000, 4.0000, 6.0000, 8.0000]) ,Grad :-7.152557373046875e-06, W: 2.000000 , Loss: 0.000000\n",
            "Epoch:24 , Pred =: tensor([2.0000, 4.0000, 6.0000, 8.0000]) ,Grad :3.933906555175781e-06, W: 2.000000 , Loss: 0.000000\n",
            "Epoch:25 , Pred =: tensor([2.0000, 4.0000, 6.0000, 8.0000]) ,Grad :-1.9669532775878906e-06, W: 2.000000 , Loss: 0.000000\n"
          ]
        }
      ]
    },
    {
      "cell_type": "code",
      "source": [
        "def forward(x,w):\n",
        "  return w * x"
      ],
      "metadata": {
        "id": "mjPr2-TcH4xR"
      },
      "execution_count": 64,
      "outputs": []
    },
    {
      "cell_type": "code",
      "source": [
        "def loss(y,y_pred):\n",
        "  return ((y_pred - y)** 2).mean()"
      ],
      "metadata": {
        "id": "CjhePcgFH-Xm"
      },
      "execution_count": 65,
      "outputs": []
    },
    {
      "cell_type": "code",
      "source": [
        "w = torch.tensor(0.0, requires_grad=True)\n",
        "n_iters = 25\n",
        "learning_rate = 0.1"
      ],
      "metadata": {
        "id": "0r_QTRDMH-ON"
      },
      "execution_count": 66,
      "outputs": []
    },
    {
      "cell_type": "code",
      "source": [
        "# Model 2\n",
        "import torch\n",
        "\n",
        "\n",
        "for epoch in range(n_iters):\n",
        "  #forward\n",
        "  y_pred = forward(x,w)\n",
        "\n",
        "  #Loss\n",
        "  l = loss(y,y_pred)\n",
        "\n",
        "  #Backpropagation\n",
        "\n",
        "  l.backward()\n",
        "  print(f\"Epoch:{epoch+1} , Pred =: {y_pred.detach()} ,Grad :{w.grad.item():4f}, W: {w:4f} , Loss: {l:5f}\")\n",
        "\n",
        "\n",
        "  #weight update\n",
        "\n",
        "  with torch.no_grad():\n",
        "    w -= learning_rate * w.grad\n",
        "\n",
        "  w.grad.zero_()"
      ],
      "metadata": {
        "colab": {
          "base_uri": "https://localhost:8080/"
        },
        "id": "u-dMZNIyGMu3",
        "outputId": "38b67095-5d04-49eb-b88b-e12c58b8891b"
      },
      "execution_count": 67,
      "outputs": [
        {
          "output_type": "stream",
          "name": "stdout",
          "text": [
            "Epoch:1 , Pred =: tensor([0., 0., 0., 0.]) ,Grad :-30.000000, W: 0.000000 , Loss: 30.000000\n",
            "Epoch:2 , Pred =: tensor([ 3.,  6.,  9., 12.]) ,Grad :15.000000, W: 3.000000 , Loss: 7.500000\n",
            "Epoch:3 , Pred =: tensor([1.5000, 3.0000, 4.5000, 6.0000]) ,Grad :-7.500000, W: 1.500000 , Loss: 1.875000\n",
            "Epoch:4 , Pred =: tensor([2.2500, 4.5000, 6.7500, 9.0000]) ,Grad :3.750000, W: 2.250000 , Loss: 0.468750\n",
            "Epoch:5 , Pred =: tensor([1.8750, 3.7500, 5.6250, 7.5000]) ,Grad :-1.875000, W: 1.875000 , Loss: 0.117188\n",
            "Epoch:6 , Pred =: tensor([2.0625, 4.1250, 6.1875, 8.2500]) ,Grad :0.937500, W: 2.062500 , Loss: 0.029297\n",
            "Epoch:7 , Pred =: tensor([1.9688, 3.9375, 5.9062, 7.8750]) ,Grad :-0.468750, W: 1.968750 , Loss: 0.007324\n",
            "Epoch:8 , Pred =: tensor([2.0156, 4.0312, 6.0469, 8.0625]) ,Grad :0.234375, W: 2.015625 , Loss: 0.001831\n",
            "Epoch:9 , Pred =: tensor([1.9922, 3.9844, 5.9766, 7.9688]) ,Grad :-0.117188, W: 1.992188 , Loss: 0.000458\n",
            "Epoch:10 , Pred =: tensor([2.0039, 4.0078, 6.0117, 8.0156]) ,Grad :0.058594, W: 2.003906 , Loss: 0.000114\n",
            "Epoch:11 , Pred =: tensor([1.9980, 3.9961, 5.9941, 7.9922]) ,Grad :-0.029297, W: 1.998047 , Loss: 0.000029\n",
            "Epoch:12 , Pred =: tensor([2.0010, 4.0020, 6.0029, 8.0039]) ,Grad :0.014648, W: 2.000977 , Loss: 0.000007\n",
            "Epoch:13 , Pred =: tensor([1.9995, 3.9990, 5.9985, 7.9980]) ,Grad :-0.007324, W: 1.999512 , Loss: 0.000002\n",
            "Epoch:14 , Pred =: tensor([2.0002, 4.0005, 6.0007, 8.0010]) ,Grad :0.003662, W: 2.000244 , Loss: 0.000000\n",
            "Epoch:15 , Pred =: tensor([1.9999, 3.9998, 5.9996, 7.9995]) ,Grad :-0.001831, W: 1.999878 , Loss: 0.000000\n",
            "Epoch:16 , Pred =: tensor([2.0001, 4.0001, 6.0002, 8.0002]) ,Grad :0.000916, W: 2.000061 , Loss: 0.000000\n",
            "Epoch:17 , Pred =: tensor([2.0000, 3.9999, 5.9999, 7.9999]) ,Grad :-0.000458, W: 1.999969 , Loss: 0.000000\n",
            "Epoch:18 , Pred =: tensor([2.0000, 4.0000, 6.0000, 8.0001]) ,Grad :0.000229, W: 2.000015 , Loss: 0.000000\n",
            "Epoch:19 , Pred =: tensor([2.0000, 4.0000, 6.0000, 8.0000]) ,Grad :-0.000114, W: 1.999992 , Loss: 0.000000\n",
            "Epoch:20 , Pred =: tensor([2.0000, 4.0000, 6.0000, 8.0000]) ,Grad :0.000057, W: 2.000004 , Loss: 0.000000\n",
            "Epoch:21 , Pred =: tensor([2.0000, 4.0000, 6.0000, 8.0000]) ,Grad :-0.000029, W: 1.999998 , Loss: 0.000000\n",
            "Epoch:22 , Pred =: tensor([2.0000, 4.0000, 6.0000, 8.0000]) ,Grad :0.000014, W: 2.000001 , Loss: 0.000000\n",
            "Epoch:23 , Pred =: tensor([2.0000, 4.0000, 6.0000, 8.0000]) ,Grad :-0.000007, W: 2.000000 , Loss: 0.000000\n",
            "Epoch:24 , Pred =: tensor([2.0000, 4.0000, 6.0000, 8.0000]) ,Grad :0.000004, W: 2.000000 , Loss: 0.000000\n",
            "Epoch:25 , Pred =: tensor([2.0000, 4.0000, 6.0000, 8.0000]) ,Grad :-0.000002, W: 2.000000 , Loss: 0.000000\n"
          ]
        }
      ]
    },
    {
      "cell_type": "code",
      "source": [
        "#Model 3\n",
        "\n",
        "import torch.optim as optim\n",
        "\n",
        "def forward(x,w):\n",
        "  return w * x\n",
        "\n",
        "w = torch.tensor(0.0, requires_grad=True)\n",
        "optimizer = optim.SGD([w],lr = 0.1)\n",
        "criterion = torch.nn.MSELoss()\n",
        "n_iters = 30\n",
        "\n",
        "\n",
        "for epoch in range(n_iters):\n",
        "  #forward\n",
        "  y_pred = forward(x,w)\n",
        "\n",
        "  #Loss\n",
        "  loss = criterion(y,y_pred)\n",
        "  print(f\"Epoch:{epoch+1},Pred: {y_pred.detach()},W:{w.item():4f},Loss:{loss.item():4f}\")\n",
        "\n",
        "  #Backward pass\n",
        "  loss.backward()\n",
        "\n",
        "\n",
        "  #weight update\n",
        "  optimizer.step()\n",
        "\n",
        "  #Zero Gradients\n",
        "  optimizer.zero_grad()\n"
      ],
      "metadata": {
        "id": "89G7zAAyLW0C",
        "colab": {
          "base_uri": "https://localhost:8080/"
        },
        "outputId": "e0bf5a41-a1aa-4294-ffd4-6d1bd36f5499"
      },
      "execution_count": 68,
      "outputs": [
        {
          "output_type": "stream",
          "name": "stdout",
          "text": [
            "Epoch:1,Pred: tensor([0., 0., 0., 0.]),W:0.000000,Loss:30.000000\n",
            "Epoch:2,Pred: tensor([ 3.,  6.,  9., 12.]),W:3.000000,Loss:7.500000\n",
            "Epoch:3,Pred: tensor([1.5000, 3.0000, 4.5000, 6.0000]),W:1.500000,Loss:1.875000\n",
            "Epoch:4,Pred: tensor([2.2500, 4.5000, 6.7500, 9.0000]),W:2.250000,Loss:0.468750\n",
            "Epoch:5,Pred: tensor([1.8750, 3.7500, 5.6250, 7.5000]),W:1.875000,Loss:0.117188\n",
            "Epoch:6,Pred: tensor([2.0625, 4.1250, 6.1875, 8.2500]),W:2.062500,Loss:0.029297\n",
            "Epoch:7,Pred: tensor([1.9688, 3.9375, 5.9062, 7.8750]),W:1.968750,Loss:0.007324\n",
            "Epoch:8,Pred: tensor([2.0156, 4.0312, 6.0469, 8.0625]),W:2.015625,Loss:0.001831\n",
            "Epoch:9,Pred: tensor([1.9922, 3.9844, 5.9766, 7.9688]),W:1.992188,Loss:0.000458\n",
            "Epoch:10,Pred: tensor([2.0039, 4.0078, 6.0117, 8.0156]),W:2.003906,Loss:0.000114\n",
            "Epoch:11,Pred: tensor([1.9980, 3.9961, 5.9941, 7.9922]),W:1.998047,Loss:0.000029\n",
            "Epoch:12,Pred: tensor([2.0010, 4.0020, 6.0029, 8.0039]),W:2.000977,Loss:0.000007\n",
            "Epoch:13,Pred: tensor([1.9995, 3.9990, 5.9985, 7.9980]),W:1.999512,Loss:0.000002\n",
            "Epoch:14,Pred: tensor([2.0002, 4.0005, 6.0007, 8.0010]),W:2.000244,Loss:0.000000\n",
            "Epoch:15,Pred: tensor([1.9999, 3.9998, 5.9996, 7.9995]),W:1.999878,Loss:0.000000\n",
            "Epoch:16,Pred: tensor([2.0001, 4.0001, 6.0002, 8.0002]),W:2.000061,Loss:0.000000\n",
            "Epoch:17,Pred: tensor([2.0000, 3.9999, 5.9999, 7.9999]),W:1.999969,Loss:0.000000\n",
            "Epoch:18,Pred: tensor([2.0000, 4.0000, 6.0000, 8.0001]),W:2.000015,Loss:0.000000\n",
            "Epoch:19,Pred: tensor([2.0000, 4.0000, 6.0000, 8.0000]),W:1.999992,Loss:0.000000\n",
            "Epoch:20,Pred: tensor([2.0000, 4.0000, 6.0000, 8.0000]),W:2.000004,Loss:0.000000\n",
            "Epoch:21,Pred: tensor([2.0000, 4.0000, 6.0000, 8.0000]),W:1.999998,Loss:0.000000\n",
            "Epoch:22,Pred: tensor([2.0000, 4.0000, 6.0000, 8.0000]),W:2.000001,Loss:0.000000\n",
            "Epoch:23,Pred: tensor([2.0000, 4.0000, 6.0000, 8.0000]),W:2.000000,Loss:0.000000\n",
            "Epoch:24,Pred: tensor([2.0000, 4.0000, 6.0000, 8.0000]),W:2.000000,Loss:0.000000\n",
            "Epoch:25,Pred: tensor([2.0000, 4.0000, 6.0000, 8.0000]),W:2.000000,Loss:0.000000\n",
            "Epoch:26,Pred: tensor([2., 4., 6., 8.]),W:2.000000,Loss:0.000000\n",
            "Epoch:27,Pred: tensor([2., 4., 6., 8.]),W:2.000000,Loss:0.000000\n",
            "Epoch:28,Pred: tensor([2., 4., 6., 8.]),W:2.000000,Loss:0.000000\n",
            "Epoch:29,Pred: tensor([2., 4., 6., 8.]),W:2.000000,Loss:0.000000\n",
            "Epoch:30,Pred: tensor([2., 4., 6., 8.]),W:2.000000,Loss:0.000000\n"
          ]
        }
      ]
    },
    {
      "cell_type": "markdown",
      "source": [
        "# Neural Network"
      ],
      "metadata": {
        "id": "nAo9fyOfMVSx"
      }
    },
    {
      "cell_type": "code",
      "source": [
        "import torch\n",
        "import torch.nn as nn"
      ],
      "metadata": {
        "id": "2GQg4nQhMa4k"
      },
      "execution_count": 69,
      "outputs": []
    },
    {
      "cell_type": "code",
      "source": [
        "class NeuralNetwork(nn.Module):\n",
        "  def __init__(self):\n",
        "    super().sequential = nn.Sequential(\n",
        "       nn.Flatten(),\n",
        "       nn.Linear(784,512),\n",
        "       nn.ReLU(),\n",
        "       nn.Linear(512,512),\n",
        "       nn.ReLU(),\n",
        "       nn.Linear(512,10)\n",
        "\n",
        "    )\n",
        "    def forward(self , x):\n",
        "      logits = self.sequential(x)\n",
        "      return logits\n"
      ],
      "metadata": {
        "id": "fmpnW7BkMgZd"
      },
      "execution_count": 70,
      "outputs": []
    },
    {
      "cell_type": "code",
      "source": [
        "input_image = torch.rand(3,28,28)\n",
        "print(input_image,input_image.shape)\n",
        "flatten = nn.Flatten()\n",
        "flat_img = flatten(input_image)\n",
        "print(flat_img,flat_img.shape)"
      ],
      "metadata": {
        "colab": {
          "base_uri": "https://localhost:8080/"
        },
        "id": "PuwZI0TKNRTI",
        "outputId": "2899e49e-460f-4bef-9c8f-fe09dacbca17"
      },
      "execution_count": 71,
      "outputs": [
        {
          "output_type": "stream",
          "name": "stdout",
          "text": [
            "tensor([[[0.8734, 0.6071, 0.3556,  ..., 0.9623, 0.2286, 0.5517],\n",
            "         [0.6495, 0.1648, 0.8898,  ..., 0.6200, 0.8099, 0.9940],\n",
            "         [0.9527, 0.8933, 0.8627,  ..., 0.4471, 0.4047, 0.5600],\n",
            "         ...,\n",
            "         [0.8249, 0.2804, 0.5162,  ..., 0.1995, 0.1904, 0.4808],\n",
            "         [0.4522, 0.4764, 0.7863,  ..., 0.7311, 0.5855, 0.7271],\n",
            "         [0.2545, 0.7713, 0.2935,  ..., 0.1490, 0.5674, 0.7696]],\n",
            "\n",
            "        [[0.3265, 0.2239, 0.4393,  ..., 0.3430, 0.4589, 0.9170],\n",
            "         [0.3800, 0.2605, 0.3423,  ..., 0.4979, 0.0156, 0.4679],\n",
            "         [0.9992, 0.3618, 0.6994,  ..., 0.0778, 0.1780, 0.0030],\n",
            "         ...,\n",
            "         [0.0852, 0.2474, 0.4330,  ..., 0.4013, 0.8782, 0.1567],\n",
            "         [0.4966, 0.4418, 0.6461,  ..., 0.9755, 0.2580, 0.6323],\n",
            "         [0.0672, 0.3575, 0.7499,  ..., 0.9085, 0.3981, 0.8021]],\n",
            "\n",
            "        [[0.6511, 0.6373, 0.4109,  ..., 0.5933, 0.4678, 0.7131],\n",
            "         [0.1837, 0.3667, 0.7957,  ..., 0.9410, 0.6450, 0.2191],\n",
            "         [0.7947, 0.8545, 0.6677,  ..., 0.0396, 0.9141, 0.2853],\n",
            "         ...,\n",
            "         [0.6258, 0.3151, 0.2172,  ..., 0.3734, 0.0488, 0.8831],\n",
            "         [0.3014, 0.9178, 0.5814,  ..., 0.9232, 0.9886, 0.9740],\n",
            "         [0.3318, 0.9232, 0.3387,  ..., 0.5513, 0.7984, 0.1423]]]) torch.Size([3, 28, 28])\n",
            "tensor([[0.8734, 0.6071, 0.3556,  ..., 0.1490, 0.5674, 0.7696],\n",
            "        [0.3265, 0.2239, 0.4393,  ..., 0.9085, 0.3981, 0.8021],\n",
            "        [0.6511, 0.6373, 0.4109,  ..., 0.5513, 0.7984, 0.1423]]) torch.Size([3, 784])\n"
          ]
        }
      ]
    },
    {
      "cell_type": "code",
      "source": [
        "linear = nn.Linear(in_features=784,out_features=20)\n",
        "linear_out = linear(flat_img)\n",
        "print(linear_out,linear_out.shape)"
      ],
      "metadata": {
        "colab": {
          "base_uri": "https://localhost:8080/"
        },
        "id": "Usym2DP9QI0y",
        "outputId": "053cd444-a0b7-481c-8e62-af1c7cb91c8c"
      },
      "execution_count": 72,
      "outputs": [
        {
          "output_type": "stream",
          "name": "stdout",
          "text": [
            "tensor([[ 0.3446, -0.0717, -0.2378,  0.5147, -0.6074, -0.0489,  0.3620,  0.2375,\n",
            "          0.2230,  0.1195, -0.3646, -0.2016, -0.5203,  0.1307,  0.4669, -0.1216,\n",
            "          0.0532,  0.1458,  0.3690,  0.2232],\n",
            "        [ 0.1264, -0.0057, -0.6157,  0.2798, -0.5214,  0.1817,  0.6018, -0.1173,\n",
            "          0.0921, -0.1643, -0.6742, -0.3150, -0.2106, -0.0153,  0.2336, -0.0027,\n",
            "          0.0245,  0.0404,  0.3239,  0.4861],\n",
            "        [ 0.2252, -0.1495, -0.3061,  0.1972, -0.5137,  0.2255,  0.5828, -0.1392,\n",
            "          0.1882, -0.3349, -0.2336, -0.2223, -0.2312,  0.2344,  0.4995, -0.2686,\n",
            "          0.1436,  0.0135,  0.3192,  0.1173]], grad_fn=<AddmmBackward0>) torch.Size([3, 20])\n"
          ]
        }
      ]
    },
    {
      "cell_type": "code",
      "source": [
        "relu = nn.ReLU()\n",
        "relu_out = relu(linear_out)\n",
        "print(relu_out,relu_out.shape)"
      ],
      "metadata": {
        "colab": {
          "base_uri": "https://localhost:8080/"
        },
        "id": "F98n-2ArQv58",
        "outputId": "94b61137-e5da-4987-d93f-c14030d85b7e"
      },
      "execution_count": 73,
      "outputs": [
        {
          "output_type": "stream",
          "name": "stdout",
          "text": [
            "tensor([[0.3446, 0.0000, 0.0000, 0.5147, 0.0000, 0.0000, 0.3620, 0.2375, 0.2230,\n",
            "         0.1195, 0.0000, 0.0000, 0.0000, 0.1307, 0.4669, 0.0000, 0.0532, 0.1458,\n",
            "         0.3690, 0.2232],\n",
            "        [0.1264, 0.0000, 0.0000, 0.2798, 0.0000, 0.1817, 0.6018, 0.0000, 0.0921,\n",
            "         0.0000, 0.0000, 0.0000, 0.0000, 0.0000, 0.2336, 0.0000, 0.0245, 0.0404,\n",
            "         0.3239, 0.4861],\n",
            "        [0.2252, 0.0000, 0.0000, 0.1972, 0.0000, 0.2255, 0.5828, 0.0000, 0.1882,\n",
            "         0.0000, 0.0000, 0.0000, 0.0000, 0.2344, 0.4995, 0.0000, 0.1436, 0.0135,\n",
            "         0.3192, 0.1173]], grad_fn=<ReluBackward0>) torch.Size([3, 20])\n"
          ]
        }
      ]
    },
    {
      "cell_type": "code",
      "source": [
        "linear2 = nn.Linear(in_features=20 , out_features = 10)\n",
        "logits = linear2(relu_out)\n",
        "logits"
      ],
      "metadata": {
        "colab": {
          "base_uri": "https://localhost:8080/"
        },
        "id": "oSewVhM5RJJc",
        "outputId": "ed6c45cb-e83d-45ef-e99f-302fb1d4f250"
      },
      "execution_count": 74,
      "outputs": [
        {
          "output_type": "execute_result",
          "data": {
            "text/plain": [
              "tensor([[ 0.1147,  0.2951, -0.1431, -0.0821,  0.0882, -0.2779,  0.0752, -0.3452,\n",
              "         -0.0671,  0.0258],\n",
              "        [-0.0926,  0.3381, -0.2058, -0.2005,  0.0897, -0.2270,  0.0987, -0.1421,\n",
              "         -0.0507, -0.0637],\n",
              "        [-0.0041,  0.3245, -0.2624, -0.1755,  0.0463, -0.3320,  0.0554, -0.2239,\n",
              "         -0.1975,  0.0021]], grad_fn=<AddmmBackward0>)"
            ]
          },
          "metadata": {},
          "execution_count": 74
        }
      ]
    },
    {
      "cell_type": "markdown",
      "source": [
        "# Linear Regression"
      ],
      "metadata": {
        "id": "cp2v2Q-njZj6"
      }
    },
    {
      "cell_type": "code",
      "source": [
        "import torch\n",
        "import torch.nn as nn\n",
        "import numpy as np\n",
        "from sklearn import datasets\n",
        "import matplotlib.pyplot as plt"
      ],
      "metadata": {
        "id": "XCC7P-a6Rh-z"
      },
      "execution_count": 75,
      "outputs": []
    },
    {
      "cell_type": "code",
      "source": [
        "x_numpy,y_numpy = datasets.make_regression(n_samples = 100, noise = 20,random_state=1,n_features=1)"
      ],
      "metadata": {
        "id": "eYBvWyVOjm7f"
      },
      "execution_count": 76,
      "outputs": []
    },
    {
      "cell_type": "code",
      "source": [
        "X = torch.from_numpy(x_numpy.astype(np.float32))\n",
        "X.shape"
      ],
      "metadata": {
        "colab": {
          "base_uri": "https://localhost:8080/"
        },
        "id": "25pXHb_0j1Vh",
        "outputId": "ddd1d5ba-9008-430e-f2c5-0f3a305a561e"
      },
      "execution_count": 77,
      "outputs": [
        {
          "output_type": "execute_result",
          "data": {
            "text/plain": [
              "torch.Size([100, 1])"
            ]
          },
          "metadata": {},
          "execution_count": 77
        }
      ]
    },
    {
      "cell_type": "code",
      "source": [
        "Y = torch.from_numpy(y_numpy.astype(np.float32))\n",
        "Y.shape"
      ],
      "metadata": {
        "colab": {
          "base_uri": "https://localhost:8080/"
        },
        "id": "eBDIWtp4kBvT",
        "outputId": "8af51d6a-dec3-45d0-faf2-473a41e1b249"
      },
      "execution_count": 78,
      "outputs": [
        {
          "output_type": "execute_result",
          "data": {
            "text/plain": [
              "torch.Size([100])"
            ]
          },
          "metadata": {},
          "execution_count": 78
        }
      ]
    },
    {
      "cell_type": "code",
      "source": [
        "Y"
      ],
      "metadata": {
        "colab": {
          "base_uri": "https://localhost:8080/"
        },
        "id": "0WycV-S1lmYF",
        "outputId": "757e825b-75ce-4a3b-b227-eacef9b6477c"
      },
      "execution_count": 79,
      "outputs": [
        {
          "output_type": "execute_result",
          "data": {
            "text/plain": [
              "tensor([-5.5539e+01, -1.0662e+01,  2.2757e+01,  1.0110e+02,  1.4434e+02,\n",
              "         3.3289e+01,  3.3015e+01, -2.5887e+01, -9.9639e+01,  2.3803e+01,\n",
              "        -4.5589e+01, -8.3388e+00, -9.5315e+01,  3.6407e+01, -8.7293e+01,\n",
              "         6.7669e+01, -1.3687e+01, -5.5441e+01, -6.5340e+01, -5.4450e+01,\n",
              "        -2.8835e+01,  1.7884e+02,  6.5084e+01,  2.6668e+01, -1.8546e+01,\n",
              "        -4.1499e+01,  8.5583e-01,  4.4562e+01,  1.1598e+02, -6.4620e+01,\n",
              "        -2.5931e+01, -6.0882e+01,  1.8720e+01,  7.5070e+01,  1.1720e+02,\n",
              "        -2.2698e+01, -5.6363e+01,  1.8084e+02, -1.9257e+02,  6.8503e+01,\n",
              "         1.6552e+02,  1.0500e+02, -7.0434e+01, -5.8769e+01, -4.1576e+01,\n",
              "         7.3247e+01,  4.0966e+01,  8.0462e+01, -2.8794e+01,  3.4234e+01,\n",
              "        -4.1715e+01,  1.4355e+01,  7.9336e+01,  2.7129e+01, -3.9487e+01,\n",
              "         6.6805e+01,  9.5531e+01,  3.5610e+00,  1.0857e-01,  5.6495e+01,\n",
              "         5.1575e+01, -2.0974e+00, -2.6656e+01,  3.9742e+01,  3.6101e+01,\n",
              "        -7.5602e+01,  1.9713e+01, -7.1601e+01, -1.9904e+01, -7.6708e+01,\n",
              "        -1.1834e+02, -2.9825e+01,  1.5108e+02,  5.2923e+01, -5.9552e+01,\n",
              "         3.0721e+01, -2.9355e+01, -4.4786e+01,  1.0006e+02,  1.5058e+02,\n",
              "         1.2200e+02, -1.8186e+02,  3.4739e+00, -2.2980e+01,  4.5184e+01,\n",
              "         9.8606e+01, -9.2779e+00, -5.2478e+01,  3.8593e+01, -1.9997e+02,\n",
              "        -9.5201e+00, -3.4724e+00, -3.5312e+01,  7.5406e+01,  1.7570e+01,\n",
              "        -2.3960e+01,  1.3209e+02,  2.0608e+01,  5.1111e+01, -2.6306e+01])"
            ]
          },
          "metadata": {},
          "execution_count": 79
        }
      ]
    },
    {
      "cell_type": "code",
      "source": [
        "y = Y.view(Y.shape[0],1)\n",
        "print(f\"Y:{y.shape}\")"
      ],
      "metadata": {
        "colab": {
          "base_uri": "https://localhost:8080/"
        },
        "id": "PnpqjbYJkf16",
        "outputId": "f2c8fc5c-c5fd-410f-e1fe-44c7eaa680b0"
      },
      "execution_count": 83,
      "outputs": [
        {
          "output_type": "stream",
          "name": "stdout",
          "text": [
            "Y:torch.Size([100, 1])\n"
          ]
        }
      ]
    },
    {
      "cell_type": "code",
      "source": [
        "y"
      ],
      "metadata": {
        "colab": {
          "base_uri": "https://localhost:8080/"
        },
        "id": "97YjTdSoloJj",
        "outputId": "14413ee0-7102-445f-8634-fc5378b72eb3"
      },
      "execution_count": 84,
      "outputs": [
        {
          "output_type": "execute_result",
          "data": {
            "text/plain": [
              "tensor([[-5.5539e+01],\n",
              "        [-1.0662e+01],\n",
              "        [ 2.2757e+01],\n",
              "        [ 1.0110e+02],\n",
              "        [ 1.4434e+02],\n",
              "        [ 3.3289e+01],\n",
              "        [ 3.3015e+01],\n",
              "        [-2.5887e+01],\n",
              "        [-9.9639e+01],\n",
              "        [ 2.3803e+01],\n",
              "        [-4.5589e+01],\n",
              "        [-8.3388e+00],\n",
              "        [-9.5315e+01],\n",
              "        [ 3.6407e+01],\n",
              "        [-8.7293e+01],\n",
              "        [ 6.7669e+01],\n",
              "        [-1.3687e+01],\n",
              "        [-5.5441e+01],\n",
              "        [-6.5340e+01],\n",
              "        [-5.4450e+01],\n",
              "        [-2.8835e+01],\n",
              "        [ 1.7884e+02],\n",
              "        [ 6.5084e+01],\n",
              "        [ 2.6668e+01],\n",
              "        [-1.8546e+01],\n",
              "        [-4.1499e+01],\n",
              "        [ 8.5583e-01],\n",
              "        [ 4.4562e+01],\n",
              "        [ 1.1598e+02],\n",
              "        [-6.4620e+01],\n",
              "        [-2.5931e+01],\n",
              "        [-6.0882e+01],\n",
              "        [ 1.8720e+01],\n",
              "        [ 7.5070e+01],\n",
              "        [ 1.1720e+02],\n",
              "        [-2.2698e+01],\n",
              "        [-5.6363e+01],\n",
              "        [ 1.8084e+02],\n",
              "        [-1.9257e+02],\n",
              "        [ 6.8503e+01],\n",
              "        [ 1.6552e+02],\n",
              "        [ 1.0500e+02],\n",
              "        [-7.0434e+01],\n",
              "        [-5.8769e+01],\n",
              "        [-4.1576e+01],\n",
              "        [ 7.3247e+01],\n",
              "        [ 4.0966e+01],\n",
              "        [ 8.0462e+01],\n",
              "        [-2.8794e+01],\n",
              "        [ 3.4234e+01],\n",
              "        [-4.1715e+01],\n",
              "        [ 1.4355e+01],\n",
              "        [ 7.9336e+01],\n",
              "        [ 2.7129e+01],\n",
              "        [-3.9487e+01],\n",
              "        [ 6.6805e+01],\n",
              "        [ 9.5531e+01],\n",
              "        [ 3.5610e+00],\n",
              "        [ 1.0857e-01],\n",
              "        [ 5.6495e+01],\n",
              "        [ 5.1575e+01],\n",
              "        [-2.0974e+00],\n",
              "        [-2.6656e+01],\n",
              "        [ 3.9742e+01],\n",
              "        [ 3.6101e+01],\n",
              "        [-7.5602e+01],\n",
              "        [ 1.9713e+01],\n",
              "        [-7.1601e+01],\n",
              "        [-1.9904e+01],\n",
              "        [-7.6708e+01],\n",
              "        [-1.1834e+02],\n",
              "        [-2.9825e+01],\n",
              "        [ 1.5108e+02],\n",
              "        [ 5.2923e+01],\n",
              "        [-5.9552e+01],\n",
              "        [ 3.0721e+01],\n",
              "        [-2.9355e+01],\n",
              "        [-4.4786e+01],\n",
              "        [ 1.0006e+02],\n",
              "        [ 1.5058e+02],\n",
              "        [ 1.2200e+02],\n",
              "        [-1.8186e+02],\n",
              "        [ 3.4739e+00],\n",
              "        [-2.2980e+01],\n",
              "        [ 4.5184e+01],\n",
              "        [ 9.8606e+01],\n",
              "        [-9.2779e+00],\n",
              "        [-5.2478e+01],\n",
              "        [ 3.8593e+01],\n",
              "        [-1.9997e+02],\n",
              "        [-9.5201e+00],\n",
              "        [-3.4724e+00],\n",
              "        [-3.5312e+01],\n",
              "        [ 7.5406e+01],\n",
              "        [ 1.7570e+01],\n",
              "        [-2.3960e+01],\n",
              "        [ 1.3209e+02],\n",
              "        [ 2.0608e+01],\n",
              "        [ 5.1111e+01],\n",
              "        [-2.6306e+01]])"
            ]
          },
          "metadata": {},
          "execution_count": 84
        }
      ]
    },
    {
      "cell_type": "code",
      "source": [
        "plt.plot(x_numpy,y,'ro')\n",
        "plt.show()"
      ],
      "metadata": {
        "colab": {
          "base_uri": "https://localhost:8080/",
          "height": 430
        },
        "id": "k6IbtDnvkxpL",
        "outputId": "8cf0c620-06f4-4028-b1c5-ca9c7886f605"
      },
      "execution_count": 88,
      "outputs": [
        {
          "output_type": "display_data",
          "data": {
            "text/plain": [
              "<Figure size 640x480 with 1 Axes>"
            ],
            "image/png": "[encoded data removed]"
          },
          "metadata": {}
        }
      ]
    },
    {
      "cell_type": "code",
      "source": [
        "class LinearRegression(nn.Module):\n",
        "  def __init__(self,input_dim,output_dim):\n",
        "    super().__init__()\n",
        "    self.Linear = nn.Linear(input_dim,output_dim)\n",
        "\n",
        "  def forward(self,x):\n",
        "    return self.Linear(x)"
      ],
      "metadata": {
        "id": "oKf4R_ESlQSR"
      },
      "execution_count": 89,
      "outputs": []
    },
    {
      "cell_type": "code",
      "source": [
        "n_samples,n_features = X.shape\n",
        "print(f\"n_samples:{n_samples}\")\n",
        "print(f\"n_features:{n_features}\")"
      ],
      "metadata": {
        "colab": {
          "base_uri": "https://localhost:8080/"
        },
        "id": "9Eu1u49WmkvY",
        "outputId": "24a4c28f-ce99-4788-9729-a453b3492df3"
      },
      "execution_count": 90,
      "outputs": [
        {
          "output_type": "stream",
          "name": "stdout",
          "text": [
            "n_samples:100\n",
            "n_features:1\n"
          ]
        }
      ]
    },
    {
      "cell_type": "code",
      "source": [
        "input_size = n_features\n",
        "output_size = n_features\n",
        "model = LinearRegression(input_size,output_size)"
      ],
      "metadata": {
        "id": "bupO1BCbnchp"
      },
      "execution_count": 91,
      "outputs": []
    },
    {
      "cell_type": "code",
      "source": [
        "model"
      ],
      "metadata": {
        "colab": {
          "base_uri": "https://localhost:8080/"
        },
        "id": "r9TXMZPCns6N",
        "outputId": "2cacb5bf-f573-4641-eadc-806e1c0241d0"
      },
      "execution_count": 92,
      "outputs": [
        {
          "output_type": "execute_result",
          "data": {
            "text/plain": [
              "LinearRegression(\n",
              "  (Linear): Linear(in_features=1, out_features=1, bias=True)\n",
              ")"
            ]
          },
          "metadata": {},
          "execution_count": 92
        }
      ]
    },
    {
      "cell_type": "code",
      "source": [
        "params = model.parameters()"
      ],
      "metadata": {
        "id": "AiwBRmd1nthT"
      },
      "execution_count": 93,
      "outputs": []
    },
    {
      "cell_type": "code",
      "source": [
        "for param in params:\n",
        "  print(param)"
      ],
      "metadata": {
        "colab": {
          "base_uri": "https://localhost:8080/"
        },
        "id": "yX3cyeHpopru",
        "outputId": "5bc86fd6-b193-4537-c3f3-9300bc0e31ed"
      },
      "execution_count": 94,
      "outputs": [
        {
          "output_type": "stream",
          "name": "stdout",
          "text": [
            "Parameter containing:\n",
            "tensor([[0.9108]], requires_grad=True)\n",
            "Parameter containing:\n",
            "tensor([-0.9511], requires_grad=True)\n"
          ]
        }
      ]
    },
    {
      "cell_type": "code",
      "source": [
        "import torch.nn as nn\n",
        "learning_rate = 0.01\n",
        "optimizer = torch.optim.SGD(model.parameters(),lr = learning_rate)\n",
        "loss = nn.MSELoss()"
      ],
      "metadata": {
        "id": "0B2JhZOMpBSg"
      },
      "execution_count": 95,
      "outputs": []
    },
    {
      "cell_type": "code",
      "source": [
        "n_iters = 400\n",
        "\n",
        "for epoch in range(n_iters):\n",
        "  y_pred = model(x)\n",
        "  l =loss(y,y_pred)\n",
        "  l.backward()\n",
        "  if epoch % 10 == 0:\n",
        "    [w,b] = model.parameters()\n",
        "    print(f\"epoch = {epoch+1},prediction:{y_pred.detach()[0]},W:{w[0][0].item()},grad:{w.grad.item()},loss:{l}\")\n",
        "    optimizer.step()\n",
        "    optimizer.zero_grad()"
      ],
      "metadata": {
        "colab": {
          "base_uri": "https://localhost:8080/",
          "height": 372
        },
        "id": "C4CmUKCwpSKN",
        "outputId": "3c61b62f-760d-4a69-cd3d-913e7c99acc1"
      },
      "execution_count": 98,
      "outputs": [
        {
          "output_type": "error",
          "ename": "RuntimeError",
          "evalue": "mat1 and mat2 shapes cannot be multiplied (1x4 and 1x1)",
          "traceback": [
            "\u001b[0;31m---------------------------------------------------------------------------\u001b[0m",
            "\u001b[0;31mRuntimeError\u001b[0m                              Traceback (most recent call last)",
            "\u001b[0;32m<ipython-input-98-c458fb262f38>\u001b[0m in \u001b[0;36m<cell line: 3>\u001b[0;34m()\u001b[0m\n\u001b[1;32m      2\u001b[0m \u001b[0;34m\u001b[0m\u001b[0m\n\u001b[1;32m      3\u001b[0m \u001b[0;32mfor\u001b[0m \u001b[0mepoch\u001b[0m \u001b[0;32min\u001b[0m \u001b[0mrange\u001b[0m\u001b[0;34m(\u001b[0m\u001b[0mn_iters\u001b[0m\u001b[0;34m)\u001b[0m\u001b[0;34m:\u001b[0m\u001b[0;34m\u001b[0m\u001b[0;34m\u001b[0m\u001b[0m\n\u001b[0;32m----> 4\u001b[0;31m   \u001b[0my_pred\u001b[0m \u001b[0;34m=\u001b[0m \u001b[0mmodel\u001b[0m\u001b[0;34m(\u001b[0m\u001b[0mx\u001b[0m\u001b[0;34m)\u001b[0m\u001b[0;34m\u001b[0m\u001b[0;34m\u001b[0m\u001b[0m\n\u001b[0m\u001b[1;32m      5\u001b[0m   \u001b[0ml\u001b[0m \u001b[0;34m=\u001b[0m\u001b[0mloss\u001b[0m\u001b[0;34m(\u001b[0m\u001b[0my\u001b[0m\u001b[0;34m,\u001b[0m\u001b[0my_pred\u001b[0m\u001b[0;34m)\u001b[0m\u001b[0;34m\u001b[0m\u001b[0;34m\u001b[0m\u001b[0m\n\u001b[1;32m      6\u001b[0m   \u001b[0ml\u001b[0m\u001b[0;34m.\u001b[0m\u001b[0mbackward\u001b[0m\u001b[0;34m(\u001b[0m\u001b[0;34m)\u001b[0m\u001b[0;34m\u001b[0m\u001b[0;34m\u001b[0m\u001b[0m\n",
            "\u001b[0;32m/usr/local/lib/python3.10/dist-packages/torch/nn/modules/module.py\u001b[0m in \u001b[0;36m_wrapped_call_impl\u001b[0;34m(self, *args, **kwargs)\u001b[0m\n\u001b[1;32m   1734\u001b[0m             \u001b[0;32mreturn\u001b[0m \u001b[0mself\u001b[0m\u001b[0;34m.\u001b[0m\u001b[0m_compiled_call_impl\u001b[0m\u001b[0;34m(\u001b[0m\u001b[0;34m*\u001b[0m\u001b[0margs\u001b[0m\u001b[0;34m,\u001b[0m \u001b[0;34m**\u001b[0m\u001b[0mkwargs\u001b[0m\u001b[0;34m)\u001b[0m  \u001b[0;31m# type: ignore[misc]\u001b[0m\u001b[0;34m\u001b[0m\u001b[0;34m\u001b[0m\u001b[0m\n\u001b[1;32m   1735\u001b[0m         \u001b[0;32melse\u001b[0m\u001b[0;34m:\u001b[0m\u001b[0;34m\u001b[0m\u001b[0;34m\u001b[0m\u001b[0m\n\u001b[0;32m-> 1736\u001b[0;31m             \u001b[0;32mreturn\u001b[0m \u001b[0mself\u001b[0m\u001b[0;34m.\u001b[0m\u001b[0m_call_impl\u001b[0m\u001b[0;34m(\u001b[0m\u001b[0;34m*\u001b[0m\u001b[0margs\u001b[0m\u001b[0;34m,\u001b[0m \u001b[0;34m**\u001b[0m\u001b[0mkwargs\u001b[0m\u001b[0;34m)\u001b[0m\u001b[0;34m\u001b[0m\u001b[0;34m\u001b[0m\u001b[0m\n\u001b[0m\u001b[1;32m   1737\u001b[0m \u001b[0;34m\u001b[0m\u001b[0m\n\u001b[1;32m   1738\u001b[0m     \u001b[0;31m# torchrec tests the code consistency with the following code\u001b[0m\u001b[0;34m\u001b[0m\u001b[0;34m\u001b[0m\u001b[0m\n",
            "\u001b[0;32m/usr/local/lib/python3.10/dist-packages/torch/nn/modules/module.py\u001b[0m in \u001b[0;36m_call_impl\u001b[0;34m(self, *args, **kwargs)\u001b[0m\n\u001b[1;32m   1745\u001b[0m                 \u001b[0;32mor\u001b[0m \u001b[0m_global_backward_pre_hooks\u001b[0m \u001b[0;32mor\u001b[0m \u001b[0m_global_backward_hooks\u001b[0m\u001b[0;34m\u001b[0m\u001b[0;34m\u001b[0m\u001b[0m\n\u001b[1;32m   1746\u001b[0m                 or _global_forward_hooks or _global_forward_pre_hooks):\n\u001b[0;32m-> 1747\u001b[0;31m             \u001b[0;32mreturn\u001b[0m \u001b[0mforward_call\u001b[0m\u001b[0;34m(\u001b[0m\u001b[0;34m*\u001b[0m\u001b[0margs\u001b[0m\u001b[0;34m,\u001b[0m \u001b[0;34m**\u001b[0m\u001b[0mkwargs\u001b[0m\u001b[0;34m)\u001b[0m\u001b[0;34m\u001b[0m\u001b[0;34m\u001b[0m\u001b[0m\n\u001b[0m\u001b[1;32m   1748\u001b[0m \u001b[0;34m\u001b[0m\u001b[0m\n\u001b[1;32m   1749\u001b[0m         \u001b[0mresult\u001b[0m \u001b[0;34m=\u001b[0m \u001b[0;32mNone\u001b[0m\u001b[0;34m\u001b[0m\u001b[0;34m\u001b[0m\u001b[0m\n",
            "\u001b[0;32m<ipython-input-89-d0944ebe047f>\u001b[0m in \u001b[0;36mforward\u001b[0;34m(self, x)\u001b[0m\n\u001b[1;32m      5\u001b[0m \u001b[0;34m\u001b[0m\u001b[0m\n\u001b[1;32m      6\u001b[0m   \u001b[0;32mdef\u001b[0m \u001b[0mforward\u001b[0m\u001b[0;34m(\u001b[0m\u001b[0mself\u001b[0m\u001b[0;34m,\u001b[0m\u001b[0mx\u001b[0m\u001b[0;34m)\u001b[0m\u001b[0;34m:\u001b[0m\u001b[0;34m\u001b[0m\u001b[0;34m\u001b[0m\u001b[0m\n\u001b[0;32m----> 7\u001b[0;31m     \u001b[0;32mreturn\u001b[0m \u001b[0mself\u001b[0m\u001b[0;34m.\u001b[0m\u001b[0mLinear\u001b[0m\u001b[0;34m(\u001b[0m\u001b[0mx\u001b[0m\u001b[0;34m)\u001b[0m\u001b[0;34m\u001b[0m\u001b[0;34m\u001b[0m\u001b[0m\n\u001b[0m",
            "\u001b[0;32m/usr/local/lib/python3.10/dist-packages/torch/nn/modules/module.py\u001b[0m in \u001b[0;36m_wrapped_call_impl\u001b[0;34m(self, *args, **kwargs)\u001b[0m\n\u001b[1;32m   1734\u001b[0m             \u001b[0;32mreturn\u001b[0m \u001b[0mself\u001b[0m\u001b[0;34m.\u001b[0m\u001b[0m_compiled_call_impl\u001b[0m\u001b[0;34m(\u001b[0m\u001b[0;34m*\u001b[0m\u001b[0margs\u001b[0m\u001b[0;34m,\u001b[0m \u001b[0;34m**\u001b[0m\u001b[0mkwargs\u001b[0m\u001b[0;34m)\u001b[0m  \u001b[0;31m# type: ignore[misc]\u001b[0m\u001b[0;34m\u001b[0m\u001b[0;34m\u001b[0m\u001b[0m\n\u001b[1;32m   1735\u001b[0m         \u001b[0;32melse\u001b[0m\u001b[0;34m:\u001b[0m\u001b[0;34m\u001b[0m\u001b[0;34m\u001b[0m\u001b[0m\n\u001b[0;32m-> 1736\u001b[0;31m             \u001b[0;32mreturn\u001b[0m \u001b[0mself\u001b[0m\u001b[0;34m.\u001b[0m\u001b[0m_call_impl\u001b[0m\u001b[0;34m(\u001b[0m\u001b[0;34m*\u001b[0m\u001b[0margs\u001b[0m\u001b[0;34m,\u001b[0m \u001b[0;34m**\u001b[0m\u001b[0mkwargs\u001b[0m\u001b[0;34m)\u001b[0m\u001b[0;34m\u001b[0m\u001b[0;34m\u001b[0m\u001b[0m\n\u001b[0m\u001b[1;32m   1737\u001b[0m \u001b[0;34m\u001b[0m\u001b[0m\n\u001b[1;32m   1738\u001b[0m     \u001b[0;31m# torchrec tests the code consistency with the following code\u001b[0m\u001b[0;34m\u001b[0m\u001b[0;34m\u001b[0m\u001b[0m\n",
            "\u001b[0;32m/usr/local/lib/python3.10/dist-packages/torch/nn/modules/module.py\u001b[0m in \u001b[0;36m_call_impl\u001b[0;34m(self, *args, **kwargs)\u001b[0m\n\u001b[1;32m   1745\u001b[0m                 \u001b[0;32mor\u001b[0m \u001b[0m_global_backward_pre_hooks\u001b[0m \u001b[0;32mor\u001b[0m \u001b[0m_global_backward_hooks\u001b[0m\u001b[0;34m\u001b[0m\u001b[0;34m\u001b[0m\u001b[0m\n\u001b[1;32m   1746\u001b[0m                 or _global_forward_hooks or _global_forward_pre_hooks):\n\u001b[0;32m-> 1747\u001b[0;31m             \u001b[0;32mreturn\u001b[0m \u001b[0mforward_call\u001b[0m\u001b[0;34m(\u001b[0m\u001b[0;34m*\u001b[0m\u001b[0margs\u001b[0m\u001b[0;34m,\u001b[0m \u001b[0;34m**\u001b[0m\u001b[0mkwargs\u001b[0m\u001b[0;34m)\u001b[0m\u001b[0;34m\u001b[0m\u001b[0;34m\u001b[0m\u001b[0m\n\u001b[0m\u001b[1;32m   1748\u001b[0m \u001b[0;34m\u001b[0m\u001b[0m\n\u001b[1;32m   1749\u001b[0m         \u001b[0mresult\u001b[0m \u001b[0;34m=\u001b[0m \u001b[0;32mNone\u001b[0m\u001b[0;34m\u001b[0m\u001b[0;34m\u001b[0m\u001b[0m\n",
            "\u001b[0;32m/usr/local/lib/python3.10/dist-packages/torch/nn/modules/linear.py\u001b[0m in \u001b[0;36mforward\u001b[0;34m(self, input)\u001b[0m\n\u001b[1;32m    123\u001b[0m \u001b[0;34m\u001b[0m\u001b[0m\n\u001b[1;32m    124\u001b[0m     \u001b[0;32mdef\u001b[0m \u001b[0mforward\u001b[0m\u001b[0;34m(\u001b[0m\u001b[0mself\u001b[0m\u001b[0;34m,\u001b[0m \u001b[0minput\u001b[0m\u001b[0;34m:\u001b[0m \u001b[0mTensor\u001b[0m\u001b[0;34m)\u001b[0m \u001b[0;34m->\u001b[0m \u001b[0mTensor\u001b[0m\u001b[0;34m:\u001b[0m\u001b[0;34m\u001b[0m\u001b[0;34m\u001b[0m\u001b[0m\n\u001b[0;32m--> 125\u001b[0;31m         \u001b[0;32mreturn\u001b[0m \u001b[0mF\u001b[0m\u001b[0;34m.\u001b[0m\u001b[0mlinear\u001b[0m\u001b[0;34m(\u001b[0m\u001b[0minput\u001b[0m\u001b[0;34m,\u001b[0m \u001b[0mself\u001b[0m\u001b[0;34m.\u001b[0m\u001b[0mweight\u001b[0m\u001b[0;34m,\u001b[0m \u001b[0mself\u001b[0m\u001b[0;34m.\u001b[0m\u001b[0mbias\u001b[0m\u001b[0;34m)\u001b[0m\u001b[0;34m\u001b[0m\u001b[0;34m\u001b[0m\u001b[0m\n\u001b[0m\u001b[1;32m    126\u001b[0m \u001b[0;34m\u001b[0m\u001b[0m\n\u001b[1;32m    127\u001b[0m     \u001b[0;32mdef\u001b[0m \u001b[0mextra_repr\u001b[0m\u001b[0;34m(\u001b[0m\u001b[0mself\u001b[0m\u001b[0;34m)\u001b[0m \u001b[0;34m->\u001b[0m \u001b[0mstr\u001b[0m\u001b[0;34m:\u001b[0m\u001b[0;34m\u001b[0m\u001b[0;34m\u001b[0m\u001b[0m\n",
            "\u001b[0;31mRuntimeError\u001b[0m: mat1 and mat2 shapes cannot be multiplied (1x4 and 1x1)"
          ]
        }
      ]
    },
    {
      "cell_type": "code",
      "source": [
        "with torch.no_grad():\n",
        "  predictions = model(x)"
      ],
      "metadata": {
        "id": "5-CPLg7Fq2nL",
        "outputId": "85d20273-5d4d-477a-ac1e-12a22225e544",
        "colab": {
          "base_uri": "https://localhost:8080/",
          "height": 317
        }
      },
      "execution_count": 99,
      "outputs": [
        {
          "output_type": "error",
          "ename": "RuntimeError",
          "evalue": "mat1 and mat2 shapes cannot be multiplied (1x4 and 1x1)",
          "traceback": [
            "\u001b[0;31m---------------------------------------------------------------------------\u001b[0m",
            "\u001b[0;31mRuntimeError\u001b[0m                              Traceback (most recent call last)",
            "\u001b[0;32m<ipython-input-99-7d9f7a033100>\u001b[0m in \u001b[0;36m<cell line: 1>\u001b[0;34m()\u001b[0m\n\u001b[1;32m      1\u001b[0m \u001b[0;32mwith\u001b[0m \u001b[0mtorch\u001b[0m\u001b[0;34m.\u001b[0m\u001b[0mno_grad\u001b[0m\u001b[0;34m(\u001b[0m\u001b[0;34m)\u001b[0m\u001b[0;34m:\u001b[0m\u001b[0;34m\u001b[0m\u001b[0;34m\u001b[0m\u001b[0m\n\u001b[0;32m----> 2\u001b[0;31m   \u001b[0mpredictions\u001b[0m \u001b[0;34m=\u001b[0m \u001b[0mmodel\u001b[0m\u001b[0;34m(\u001b[0m\u001b[0mx\u001b[0m\u001b[0;34m)\u001b[0m\u001b[0;34m\u001b[0m\u001b[0;34m\u001b[0m\u001b[0m\n\u001b[0m",
            "\u001b[0;32m/usr/local/lib/python3.10/dist-packages/torch/nn/modules/module.py\u001b[0m in \u001b[0;36m_wrapped_call_impl\u001b[0;34m(self, *args, **kwargs)\u001b[0m\n\u001b[1;32m   1734\u001b[0m             \u001b[0;32mreturn\u001b[0m \u001b[0mself\u001b[0m\u001b[0;34m.\u001b[0m\u001b[0m_compiled_call_impl\u001b[0m\u001b[0;34m(\u001b[0m\u001b[0;34m*\u001b[0m\u001b[0margs\u001b[0m\u001b[0;34m,\u001b[0m \u001b[0;34m**\u001b[0m\u001b[0mkwargs\u001b[0m\u001b[0;34m)\u001b[0m  \u001b[0;31m# type: ignore[misc]\u001b[0m\u001b[0;34m\u001b[0m\u001b[0;34m\u001b[0m\u001b[0m\n\u001b[1;32m   1735\u001b[0m         \u001b[0;32melse\u001b[0m\u001b[0;34m:\u001b[0m\u001b[0;34m\u001b[0m\u001b[0;34m\u001b[0m\u001b[0m\n\u001b[0;32m-> 1736\u001b[0;31m             \u001b[0;32mreturn\u001b[0m \u001b[0mself\u001b[0m\u001b[0;34m.\u001b[0m\u001b[0m_call_impl\u001b[0m\u001b[0;34m(\u001b[0m\u001b[0;34m*\u001b[0m\u001b[0margs\u001b[0m\u001b[0;34m,\u001b[0m \u001b[0;34m**\u001b[0m\u001b[0mkwargs\u001b[0m\u001b[0;34m)\u001b[0m\u001b[0;34m\u001b[0m\u001b[0;34m\u001b[0m\u001b[0m\n\u001b[0m\u001b[1;32m   1737\u001b[0m \u001b[0;34m\u001b[0m\u001b[0m\n\u001b[1;32m   1738\u001b[0m     \u001b[0;31m# torchrec tests the code consistency with the following code\u001b[0m\u001b[0;34m\u001b[0m\u001b[0;34m\u001b[0m\u001b[0m\n",
            "\u001b[0;32m/usr/local/lib/python3.10/dist-packages/torch/nn/modules/module.py\u001b[0m in \u001b[0;36m_call_impl\u001b[0;34m(self, *args, **kwargs)\u001b[0m\n\u001b[1;32m   1745\u001b[0m                 \u001b[0;32mor\u001b[0m \u001b[0m_global_backward_pre_hooks\u001b[0m \u001b[0;32mor\u001b[0m \u001b[0m_global_backward_hooks\u001b[0m\u001b[0;34m\u001b[0m\u001b[0;34m\u001b[0m\u001b[0m\n\u001b[1;32m   1746\u001b[0m                 or _global_forward_hooks or _global_forward_pre_hooks):\n\u001b[0;32m-> 1747\u001b[0;31m             \u001b[0;32mreturn\u001b[0m \u001b[0mforward_call\u001b[0m\u001b[0;34m(\u001b[0m\u001b[0;34m*\u001b[0m\u001b[0margs\u001b[0m\u001b[0;34m,\u001b[0m \u001b[0;34m**\u001b[0m\u001b[0mkwargs\u001b[0m\u001b[0;34m)\u001b[0m\u001b[0;34m\u001b[0m\u001b[0;34m\u001b[0m\u001b[0m\n\u001b[0m\u001b[1;32m   1748\u001b[0m \u001b[0;34m\u001b[0m\u001b[0m\n\u001b[1;32m   1749\u001b[0m         \u001b[0mresult\u001b[0m \u001b[0;34m=\u001b[0m \u001b[0;32mNone\u001b[0m\u001b[0;34m\u001b[0m\u001b[0;34m\u001b[0m\u001b[0m\n",
            "\u001b[0;32m<ipython-input-89-d0944ebe047f>\u001b[0m in \u001b[0;36mforward\u001b[0;34m(self, x)\u001b[0m\n\u001b[1;32m      5\u001b[0m \u001b[0;34m\u001b[0m\u001b[0m\n\u001b[1;32m      6\u001b[0m   \u001b[0;32mdef\u001b[0m \u001b[0mforward\u001b[0m\u001b[0;34m(\u001b[0m\u001b[0mself\u001b[0m\u001b[0;34m,\u001b[0m\u001b[0mx\u001b[0m\u001b[0;34m)\u001b[0m\u001b[0;34m:\u001b[0m\u001b[0;34m\u001b[0m\u001b[0;34m\u001b[0m\u001b[0m\n\u001b[0;32m----> 7\u001b[0;31m     \u001b[0;32mreturn\u001b[0m \u001b[0mself\u001b[0m\u001b[0;34m.\u001b[0m\u001b[0mLinear\u001b[0m\u001b[0;34m(\u001b[0m\u001b[0mx\u001b[0m\u001b[0;34m)\u001b[0m\u001b[0;34m\u001b[0m\u001b[0;34m\u001b[0m\u001b[0m\n\u001b[0m",
            "\u001b[0;32m/usr/local/lib/python3.10/dist-packages/torch/nn/modules/module.py\u001b[0m in \u001b[0;36m_wrapped_call_impl\u001b[0;34m(self, *args, **kwargs)\u001b[0m\n\u001b[1;32m   1734\u001b[0m             \u001b[0;32mreturn\u001b[0m \u001b[0mself\u001b[0m\u001b[0;34m.\u001b[0m\u001b[0m_compiled_call_impl\u001b[0m\u001b[0;34m(\u001b[0m\u001b[0;34m*\u001b[0m\u001b[0margs\u001b[0m\u001b[0;34m,\u001b[0m \u001b[0;34m**\u001b[0m\u001b[0mkwargs\u001b[0m\u001b[0;34m)\u001b[0m  \u001b[0;31m# type: ignore[misc]\u001b[0m\u001b[0;34m\u001b[0m\u001b[0;34m\u001b[0m\u001b[0m\n\u001b[1;32m   1735\u001b[0m         \u001b[0;32melse\u001b[0m\u001b[0;34m:\u001b[0m\u001b[0;34m\u001b[0m\u001b[0;34m\u001b[0m\u001b[0m\n\u001b[0;32m-> 1736\u001b[0;31m             \u001b[0;32mreturn\u001b[0m \u001b[0mself\u001b[0m\u001b[0;34m.\u001b[0m\u001b[0m_call_impl\u001b[0m\u001b[0;34m(\u001b[0m\u001b[0;34m*\u001b[0m\u001b[0margs\u001b[0m\u001b[0;34m,\u001b[0m \u001b[0;34m**\u001b[0m\u001b[0mkwargs\u001b[0m\u001b[0;34m)\u001b[0m\u001b[0;34m\u001b[0m\u001b[0;34m\u001b[0m\u001b[0m\n\u001b[0m\u001b[1;32m   1737\u001b[0m \u001b[0;34m\u001b[0m\u001b[0m\n\u001b[1;32m   1738\u001b[0m     \u001b[0;31m# torchrec tests the code consistency with the following code\u001b[0m\u001b[0;34m\u001b[0m\u001b[0;34m\u001b[0m\u001b[0m\n",
            "\u001b[0;32m/usr/local/lib/python3.10/dist-packages/torch/nn/modules/module.py\u001b[0m in \u001b[0;36m_call_impl\u001b[0;34m(self, *args, **kwargs)\u001b[0m\n\u001b[1;32m   1745\u001b[0m                 \u001b[0;32mor\u001b[0m \u001b[0m_global_backward_pre_hooks\u001b[0m \u001b[0;32mor\u001b[0m \u001b[0m_global_backward_hooks\u001b[0m\u001b[0;34m\u001b[0m\u001b[0;34m\u001b[0m\u001b[0m\n\u001b[1;32m   1746\u001b[0m                 or _global_forward_hooks or _global_forward_pre_hooks):\n\u001b[0;32m-> 1747\u001b[0;31m             \u001b[0;32mreturn\u001b[0m \u001b[0mforward_call\u001b[0m\u001b[0;34m(\u001b[0m\u001b[0;34m*\u001b[0m\u001b[0margs\u001b[0m\u001b[0;34m,\u001b[0m \u001b[0;34m**\u001b[0m\u001b[0mkwargs\u001b[0m\u001b[0;34m)\u001b[0m\u001b[0;34m\u001b[0m\u001b[0;34m\u001b[0m\u001b[0m\n\u001b[0m\u001b[1;32m   1748\u001b[0m \u001b[0;34m\u001b[0m\u001b[0m\n\u001b[1;32m   1749\u001b[0m         \u001b[0mresult\u001b[0m \u001b[0;34m=\u001b[0m \u001b[0;32mNone\u001b[0m\u001b[0;34m\u001b[0m\u001b[0;34m\u001b[0m\u001b[0m\n",
            "\u001b[0;32m/usr/local/lib/python3.10/dist-packages/torch/nn/modules/linear.py\u001b[0m in \u001b[0;36mforward\u001b[0;34m(self, input)\u001b[0m\n\u001b[1;32m    123\u001b[0m \u001b[0;34m\u001b[0m\u001b[0m\n\u001b[1;32m    124\u001b[0m     \u001b[0;32mdef\u001b[0m \u001b[0mforward\u001b[0m\u001b[0;34m(\u001b[0m\u001b[0mself\u001b[0m\u001b[0;34m,\u001b[0m \u001b[0minput\u001b[0m\u001b[0;34m:\u001b[0m \u001b[0mTensor\u001b[0m\u001b[0;34m)\u001b[0m \u001b[0;34m->\u001b[0m \u001b[0mTensor\u001b[0m\u001b[0;34m:\u001b[0m\u001b[0;34m\u001b[0m\u001b[0;34m\u001b[0m\u001b[0m\n\u001b[0;32m--> 125\u001b[0;31m         \u001b[0;32mreturn\u001b[0m \u001b[0mF\u001b[0m\u001b[0;34m.\u001b[0m\u001b[0mlinear\u001b[0m\u001b[0;34m(\u001b[0m\u001b[0minput\u001b[0m\u001b[0;34m,\u001b[0m \u001b[0mself\u001b[0m\u001b[0;34m.\u001b[0m\u001b[0mweight\u001b[0m\u001b[0;34m,\u001b[0m \u001b[0mself\u001b[0m\u001b[0;34m.\u001b[0m\u001b[0mbias\u001b[0m\u001b[0;34m)\u001b[0m\u001b[0;34m\u001b[0m\u001b[0;34m\u001b[0m\u001b[0m\n\u001b[0m\u001b[1;32m    126\u001b[0m \u001b[0;34m\u001b[0m\u001b[0m\n\u001b[1;32m    127\u001b[0m     \u001b[0;32mdef\u001b[0m \u001b[0mextra_repr\u001b[0m\u001b[0;34m(\u001b[0m\u001b[0mself\u001b[0m\u001b[0;34m)\u001b[0m \u001b[0;34m->\u001b[0m \u001b[0mstr\u001b[0m\u001b[0;34m:\u001b[0m\u001b[0;34m\u001b[0m\u001b[0;34m\u001b[0m\u001b[0m\n",
            "\u001b[0;31mRuntimeError\u001b[0m: mat1 and mat2 shapes cannot be multiplied (1x4 and 1x1)"
          ]
        }
      ]
    },
    {
      "cell_type": "code",
      "source": [
        "plt.plot(x,y,'ro')\n",
        "plt.plot(x,predictions,'b')\n",
        "plt.show()"
      ],
      "metadata": {
        "id": "08JguI1Zrt4X"
      },
      "execution_count": null,
      "outputs": []
    },
    {
      "cell_type": "code",
      "source": [],
      "metadata": {
        "id": "7xXYKevur30r"
      },
      "execution_count": null,
      "outputs": []
    }
  ]
}