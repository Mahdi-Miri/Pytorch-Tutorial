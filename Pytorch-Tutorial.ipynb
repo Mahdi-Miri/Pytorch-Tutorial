{
  "nbformat": 4,
  "nbformat_minor": 0,
  "metadata": {
    "colab": {
      "provenance": [],
      "authorship_tag": "ABX9TyP5t9SwUAvHs0jT46C3q3ul",
      "include_colab_link": true
    },
    "kernelspec": {
      "name": "python3",
      "display_name": "Python 3"
    },
    "language_info": {
      "name": "python"
    }
  },
  "cells": [
    {
      "cell_type": "markdown",
      "metadata": {
        "id": "view-in-github",
        "colab_type": "text"
      },
      "source": [
        "<a href=\"https://colab.research.google.com/github/Mahdi-Miri/Pytorch-Tutorial/blob/main/Pytorch-Tutorial.ipynb\" target=\"_parent\"><img src=\"https://colab.research.google.com/assets/colab-badge.svg\" alt=\"Open In Colab\"/></a>"
      ]
    },
    {
      "cell_type": "code",
      "execution_count": 1,
      "metadata": {
        "colab": {
          "base_uri": "https://localhost:8080/"
        },
        "id": "iXxlxpdlkm8N",
        "outputId": "4d9f93aa-1699-41b9-8790-dee33df787f1"
      },
      "outputs": [
        {
          "output_type": "stream",
          "name": "stdout",
          "text": [
            "Requirement already satisfied: torch in /usr/local/lib/python3.10/dist-packages (2.5.1+cu121)\n",
            "Requirement already satisfied: torchvision in /usr/local/lib/python3.10/dist-packages (0.20.1+cu121)\n",
            "Requirement already satisfied: filelock in /usr/local/lib/python3.10/dist-packages (from torch) (3.16.1)\n",
            "Requirement already satisfied: typing-extensions>=4.8.0 in /usr/local/lib/python3.10/dist-packages (from torch) (4.12.2)\n",
            "Requirement already satisfied: networkx in /usr/local/lib/python3.10/dist-packages (from torch) (3.4.2)\n",
            "Requirement already satisfied: jinja2 in /usr/local/lib/python3.10/dist-packages (from torch) (3.1.4)\n",
            "Requirement already satisfied: fsspec in /usr/local/lib/python3.10/dist-packages (from torch) (2024.10.0)\n",
            "Requirement already satisfied: sympy==1.13.1 in /usr/local/lib/python3.10/dist-packages (from torch) (1.13.1)\n",
            "Requirement already satisfied: mpmath<1.4,>=1.1.0 in /usr/local/lib/python3.10/dist-packages (from sympy==1.13.1->torch) (1.3.0)\n",
            "Requirement already satisfied: numpy in /usr/local/lib/python3.10/dist-packages (from torchvision) (1.26.4)\n",
            "Requirement already satisfied: pillow!=8.3.*,>=5.3.0 in /usr/local/lib/python3.10/dist-packages (from torchvision) (11.0.0)\n",
            "Requirement already satisfied: MarkupSafe>=2.0 in /usr/local/lib/python3.10/dist-packages (from jinja2->torch) (3.0.2)\n"
          ]
        }
      ],
      "source": [
        "!pip install torch torchvision -U"
      ]
    },
    {
      "cell_type": "code",
      "source": [
        "import torch\n",
        "\n",
        "print(torch.__version__)"
      ],
      "metadata": {
        "colab": {
          "base_uri": "https://localhost:8080/"
        },
        "id": "XCuPPQg_kpWS",
        "outputId": "8915f4cc-604c-4d24-e2fe-274c1640955f"
      },
      "execution_count": 2,
      "outputs": [
        {
          "output_type": "stream",
          "name": "stdout",
          "text": [
            "2.5.1+cu121\n"
          ]
        }
      ]
    },
    {
      "cell_type": "code",
      "source": [
        "data = [[1,2],[3,4],[5,6]]"
      ],
      "metadata": {
        "id": "rcn196RBkreU"
      },
      "execution_count": 3,
      "outputs": []
    },
    {
      "cell_type": "code",
      "source": [
        "data"
      ],
      "metadata": {
        "colab": {
          "base_uri": "https://localhost:8080/"
        },
        "id": "TXmel_4tvEUa",
        "outputId": "1c837ff6-59ac-480b-a158-275ff04e5023"
      },
      "execution_count": 4,
      "outputs": [
        {
          "output_type": "execute_result",
          "data": {
            "text/plain": [
              "[[1, 2], [3, 4], [5, 6]]"
            ]
          },
          "metadata": {},
          "execution_count": 4
        }
      ]
    },
    {
      "cell_type": "code",
      "source": [
        "torch.tensor(data)"
      ],
      "metadata": {
        "colab": {
          "base_uri": "https://localhost:8080/"
        },
        "id": "6-sfJ-FavE5F",
        "outputId": "a60fb6fa-f169-4e33-9770-c414bc4343c0"
      },
      "execution_count": 5,
      "outputs": [
        {
          "output_type": "execute_result",
          "data": {
            "text/plain": [
              "tensor([[1, 2],\n",
              "        [3, 4],\n",
              "        [5, 6]])"
            ]
          },
          "metadata": {},
          "execution_count": 5
        }
      ]
    },
    {
      "cell_type": "code",
      "source": [
        "x = torch.zeros((3,3,5),dtype=torch.float16)"
      ],
      "metadata": {
        "id": "A5V90z0avJXv"
      },
      "execution_count": 6,
      "outputs": []
    },
    {
      "cell_type": "code",
      "source": [
        "x"
      ],
      "metadata": {
        "colab": {
          "base_uri": "https://localhost:8080/"
        },
        "id": "vT8Ty5cwvyUQ",
        "outputId": "4a53198f-03f9-4f83-aa08-5206a96fa8c4"
      },
      "execution_count": 7,
      "outputs": [
        {
          "output_type": "execute_result",
          "data": {
            "text/plain": [
              "tensor([[[0., 0., 0., 0., 0.],\n",
              "         [0., 0., 0., 0., 0.],\n",
              "         [0., 0., 0., 0., 0.]],\n",
              "\n",
              "        [[0., 0., 0., 0., 0.],\n",
              "         [0., 0., 0., 0., 0.],\n",
              "         [0., 0., 0., 0., 0.]],\n",
              "\n",
              "        [[0., 0., 0., 0., 0.],\n",
              "         [0., 0., 0., 0., 0.],\n",
              "         [0., 0., 0., 0., 0.]]], dtype=torch.float16)"
            ]
          },
          "metadata": {},
          "execution_count": 7
        }
      ]
    },
    {
      "cell_type": "code",
      "source": [
        "x[1]"
      ],
      "metadata": {
        "colab": {
          "base_uri": "https://localhost:8080/"
        },
        "id": "zyWxYOV4wECr",
        "outputId": "1b3daa88-d263-4929-c229-0d6d0eabcf18"
      },
      "execution_count": 8,
      "outputs": [
        {
          "output_type": "execute_result",
          "data": {
            "text/plain": [
              "tensor([[0., 0., 0., 0., 0.],\n",
              "        [0., 0., 0., 0., 0.],\n",
              "        [0., 0., 0., 0., 0.]], dtype=torch.float16)"
            ]
          },
          "metadata": {},
          "execution_count": 8
        }
      ]
    },
    {
      "cell_type": "code",
      "source": [
        "shape = (2,3,4)"
      ],
      "metadata": {
        "id": "i1gXdBelxCkd"
      },
      "execution_count": 9,
      "outputs": []
    },
    {
      "cell_type": "code",
      "source": [
        "x = torch.ones(shape)"
      ],
      "metadata": {
        "id": "PG9FiXZFwzNR"
      },
      "execution_count": 10,
      "outputs": []
    },
    {
      "cell_type": "code",
      "source": [
        "x"
      ],
      "metadata": {
        "colab": {
          "base_uri": "https://localhost:8080/"
        },
        "id": "-0i9E36gw4sX",
        "outputId": "d3dd7aec-cebb-47f2-b168-b723040a01bb"
      },
      "execution_count": 11,
      "outputs": [
        {
          "output_type": "execute_result",
          "data": {
            "text/plain": [
              "tensor([[[1., 1., 1., 1.],\n",
              "         [1., 1., 1., 1.],\n",
              "         [1., 1., 1., 1.]],\n",
              "\n",
              "        [[1., 1., 1., 1.],\n",
              "         [1., 1., 1., 1.],\n",
              "         [1., 1., 1., 1.]]])"
            ]
          },
          "metadata": {},
          "execution_count": 11
        }
      ]
    },
    {
      "cell_type": "code",
      "source": [
        "x = torch.rand(shape)"
      ],
      "metadata": {
        "id": "yPUWlzWCxIXx"
      },
      "execution_count": 12,
      "outputs": []
    },
    {
      "cell_type": "code",
      "source": [
        "x"
      ],
      "metadata": {
        "colab": {
          "base_uri": "https://localhost:8080/"
        },
        "id": "3YhVKU-OxNav",
        "outputId": "b8ffc54f-e12f-46ab-e8bc-955a08185f74"
      },
      "execution_count": 13,
      "outputs": [
        {
          "output_type": "execute_result",
          "data": {
            "text/plain": [
              "tensor([[[0.9247, 0.3317, 0.3481, 0.0998],\n",
              "         [0.6539, 0.6710, 0.2433, 0.6704],\n",
              "         [0.2958, 0.4975, 0.2528, 0.7320]],\n",
              "\n",
              "        [[0.6126, 0.4498, 0.6159, 0.0523],\n",
              "         [0.7225, 0.0526, 0.5108, 0.1079],\n",
              "         [0.3778, 0.5131, 0.9399, 0.8034]]])"
            ]
          },
          "metadata": {},
          "execution_count": 13
        }
      ]
    },
    {
      "cell_type": "code",
      "source": [
        "x = torch.tensor(([1,2,3,4,5],[5,4,3,2,1]))"
      ],
      "metadata": {
        "id": "cDWU9QAmxNr4"
      },
      "execution_count": 14,
      "outputs": []
    },
    {
      "cell_type": "code",
      "source": [
        "x"
      ],
      "metadata": {
        "colab": {
          "base_uri": "https://localhost:8080/"
        },
        "id": "Qd2eXyR_xSuh",
        "outputId": "4a9a7de5-0346-467c-b6b1-5bad4b8664f7"
      },
      "execution_count": 15,
      "outputs": [
        {
          "output_type": "execute_result",
          "data": {
            "text/plain": [
              "tensor([[1, 2, 3, 4, 5],\n",
              "        [5, 4, 3, 2, 1]])"
            ]
          },
          "metadata": {},
          "execution_count": 15
        }
      ]
    },
    {
      "cell_type": "code",
      "source": [
        "x *2"
      ],
      "metadata": {
        "colab": {
          "base_uri": "https://localhost:8080/"
        },
        "id": "Ipf1TLxaxTLL",
        "outputId": "2405546c-038b-4c8d-d502-2db9732aefb6"
      },
      "execution_count": 16,
      "outputs": [
        {
          "output_type": "execute_result",
          "data": {
            "text/plain": [
              "tensor([[ 2,  4,  6,  8, 10],\n",
              "        [10,  8,  6,  4,  2]])"
            ]
          },
          "metadata": {},
          "execution_count": 16
        }
      ]
    },
    {
      "cell_type": "code",
      "source": [
        "x.shape"
      ],
      "metadata": {
        "colab": {
          "base_uri": "https://localhost:8080/"
        },
        "id": "aCKWLFgqxlIY",
        "outputId": "bf1303bb-2e2f-45a5-debb-93dd49cc809f"
      },
      "execution_count": 17,
      "outputs": [
        {
          "output_type": "execute_result",
          "data": {
            "text/plain": [
              "torch.Size([2, 5])"
            ]
          },
          "metadata": {},
          "execution_count": 17
        }
      ]
    },
    {
      "cell_type": "code",
      "source": [
        "x.dtype"
      ],
      "metadata": {
        "colab": {
          "base_uri": "https://localhost:8080/"
        },
        "id": "8DYi6dw6yDv0",
        "outputId": "96ddbbb8-cddc-45ed-deb6-ec5e803df859"
      },
      "execution_count": 18,
      "outputs": [
        {
          "output_type": "execute_result",
          "data": {
            "text/plain": [
              "torch.int64"
            ]
          },
          "metadata": {},
          "execution_count": 18
        }
      ]
    },
    {
      "cell_type": "code",
      "source": [
        "x.device"
      ],
      "metadata": {
        "colab": {
          "base_uri": "https://localhost:8080/"
        },
        "id": "lfPWqGmfyGPQ",
        "outputId": "ca56cbc4-1e22-4f0c-dad8-b59e9ff6a076"
      },
      "execution_count": 19,
      "outputs": [
        {
          "output_type": "execute_result",
          "data": {
            "text/plain": [
              "device(type='cpu')"
            ]
          },
          "metadata": {},
          "execution_count": 19
        }
      ]
    },
    {
      "cell_type": "code",
      "source": [
        "x[0]"
      ],
      "metadata": {
        "colab": {
          "base_uri": "https://localhost:8080/"
        },
        "id": "5q54DK79yKjI",
        "outputId": "9718c6e8-868d-405d-a411-4e27bd0cd495"
      },
      "execution_count": 20,
      "outputs": [
        {
          "output_type": "execute_result",
          "data": {
            "text/plain": [
              "tensor([1, 2, 3, 4, 5])"
            ]
          },
          "metadata": {},
          "execution_count": 20
        }
      ]
    },
    {
      "cell_type": "code",
      "source": [
        "x[ : ,  0]"
      ],
      "metadata": {
        "colab": {
          "base_uri": "https://localhost:8080/"
        },
        "id": "tbORvcjeyRyE",
        "outputId": "2373c9a0-e7c5-44ba-e312-9ef9b70c7f35"
      },
      "execution_count": 21,
      "outputs": [
        {
          "output_type": "execute_result",
          "data": {
            "text/plain": [
              "tensor([1, 5])"
            ]
          },
          "metadata": {},
          "execution_count": 21
        }
      ]
    },
    {
      "cell_type": "code",
      "source": [
        "x[...,-1]"
      ],
      "metadata": {
        "colab": {
          "base_uri": "https://localhost:8080/"
        },
        "id": "2GRiX4O1yT5I",
        "outputId": "842e0916-89ea-4036-a7c2-79125ee577c3"
      },
      "execution_count": 22,
      "outputs": [
        {
          "output_type": "execute_result",
          "data": {
            "text/plain": [
              "tensor([5, 1])"
            ]
          },
          "metadata": {},
          "execution_count": 22
        }
      ]
    },
    {
      "cell_type": "markdown",
      "source": [
        "# Joining Tensors"
      ],
      "metadata": {
        "id": "IFWXzQRyyz0r"
      }
    },
    {
      "cell_type": "code",
      "source": [
        "shape1 = (4,6,5)\n",
        "shape2 = (4,5,6)"
      ],
      "metadata": {
        "id": "zXjYhQivy-N2"
      },
      "execution_count": 23,
      "outputs": []
    },
    {
      "cell_type": "code",
      "source": [
        "tensor1  = torch.rand(shape1)"
      ],
      "metadata": {
        "id": "SgT8PWDlyans"
      },
      "execution_count": 24,
      "outputs": []
    },
    {
      "cell_type": "code",
      "source": [
        "tensor2 = torch.rand(shape2)"
      ],
      "metadata": {
        "id": "zgFT-CHNy8NO"
      },
      "execution_count": 25,
      "outputs": []
    },
    {
      "cell_type": "code",
      "source": [
        "print(\"Tensor 1 :\")\n",
        "tensor1"
      ],
      "metadata": {
        "colab": {
          "base_uri": "https://localhost:8080/"
        },
        "id": "Z7pSUAOUzPMb",
        "outputId": "88b8ec55-9709-4f0b-fbf8-5f7981526ee8"
      },
      "execution_count": 26,
      "outputs": [
        {
          "output_type": "stream",
          "name": "stdout",
          "text": [
            "Tensor 1 :\n"
          ]
        },
        {
          "output_type": "execute_result",
          "data": {
            "text/plain": [
              "tensor([[[0.0978, 0.2060, 0.6501, 0.7635, 0.3124],\n",
              "         [0.0024, 0.8371, 0.7754, 0.4944, 0.6072],\n",
              "         [0.6156, 0.9683, 0.5951, 0.4578, 0.6605],\n",
              "         [0.8092, 0.3467, 0.0236, 0.0222, 0.0784],\n",
              "         [0.3650, 0.0522, 0.1853, 0.3866, 0.8838],\n",
              "         [0.3302, 0.5780, 0.3908, 0.4979, 0.7103]],\n",
              "\n",
              "        [[0.4949, 0.7398, 0.5897, 0.1914, 0.7456],\n",
              "         [0.2398, 0.5448, 0.3443, 0.7160, 0.9283],\n",
              "         [0.0748, 0.3040, 0.5004, 0.2202, 0.0580],\n",
              "         [0.0136, 0.8578, 0.6012, 0.0413, 0.2284],\n",
              "         [0.6057, 0.1099, 0.4724, 0.9567, 0.6425],\n",
              "         [0.3770, 0.8699, 0.4429, 0.9255, 0.6247]],\n",
              "\n",
              "        [[0.3195, 0.1978, 0.7371, 0.6922, 0.7979],\n",
              "         [0.8341, 0.2550, 0.7346, 0.2002, 0.1013],\n",
              "         [0.1335, 0.0613, 0.1012, 0.7413, 0.1087],\n",
              "         [0.4996, 0.3023, 0.5039, 0.7633, 0.3500],\n",
              "         [0.1949, 0.1566, 0.5499, 0.6439, 0.0102],\n",
              "         [0.1342, 0.2377, 0.4180, 0.7693, 0.0204]],\n",
              "\n",
              "        [[0.2880, 0.5638, 0.3346, 0.8978, 0.2321],\n",
              "         [0.5906, 0.2810, 0.6737, 0.2485, 0.4023],\n",
              "         [0.2406, 0.7797, 0.5964, 0.4821, 0.7682],\n",
              "         [0.6125, 0.8907, 0.1137, 0.1286, 0.2551],\n",
              "         [0.5973, 0.8105, 0.7081, 0.2956, 0.3780],\n",
              "         [0.1419, 0.7931, 0.9420, 0.7777, 0.3421]]])"
            ]
          },
          "metadata": {},
          "execution_count": 26
        }
      ]
    },
    {
      "cell_type": "code",
      "source": [
        "print(\"Tensor 2 :\")\n",
        "tensor2"
      ],
      "metadata": {
        "colab": {
          "base_uri": "https://localhost:8080/"
        },
        "id": "tC3k4GMRzURh",
        "outputId": "5e0fb1d0-999d-4411-e516-f28041a439e1"
      },
      "execution_count": 27,
      "outputs": [
        {
          "output_type": "stream",
          "name": "stdout",
          "text": [
            "Tensor 2 :\n"
          ]
        },
        {
          "output_type": "execute_result",
          "data": {
            "text/plain": [
              "tensor([[[0.0369, 0.5751, 0.6661, 0.8109, 0.2173, 0.3936],\n",
              "         [0.7689, 0.9219, 0.1257, 0.2201, 0.0242, 0.3615],\n",
              "         [0.9406, 0.1346, 0.0176, 0.9931, 0.8839, 0.4784],\n",
              "         [0.2812, 0.6846, 0.3112, 0.4332, 0.2271, 0.9510],\n",
              "         [0.5125, 0.1418, 0.6092, 0.1958, 0.7172, 0.4656]],\n",
              "\n",
              "        [[0.6303, 0.2099, 0.3818, 0.6938, 0.1227, 0.3175],\n",
              "         [0.1247, 0.6793, 0.1817, 0.5757, 0.2701, 0.6888],\n",
              "         [0.7237, 0.8763, 0.2169, 0.7655, 0.4228, 0.3851],\n",
              "         [0.3896, 0.2463, 0.5116, 0.5401, 0.8564, 0.0048],\n",
              "         [0.3384, 0.6774, 0.4802, 0.7589, 0.0166, 0.2430]],\n",
              "\n",
              "        [[0.6406, 0.2908, 0.9095, 0.8009, 0.2356, 0.3816],\n",
              "         [0.8962, 0.4402, 0.6804, 0.1360, 0.0347, 0.1618],\n",
              "         [0.1827, 0.9671, 0.9616, 0.2294, 0.1802, 0.8968],\n",
              "         [0.7468, 0.1103, 0.7900, 0.3164, 0.4160, 0.1067],\n",
              "         [0.2095, 0.4107, 0.8153, 0.4535, 0.6658, 0.4128]],\n",
              "\n",
              "        [[0.8159, 0.1106, 0.5684, 0.4146, 0.7791, 0.0370],\n",
              "         [0.9395, 0.5141, 0.8400, 0.6781, 0.8953, 0.0070],\n",
              "         [0.1233, 0.3594, 0.0164, 0.5062, 0.4492, 0.4538],\n",
              "         [0.0298, 0.7015, 0.7531, 0.1325, 0.3075, 0.2763],\n",
              "         [0.7979, 0.8260, 0.2777, 0.1030, 0.1158, 0.7018]]])"
            ]
          },
          "metadata": {},
          "execution_count": 27
        }
      ]
    },
    {
      "cell_type": "code",
      "source": [
        "t1 = torch.cat([tensor1,tensor1],dim =1)"
      ],
      "metadata": {
        "id": "zFK9PfgpzhiA"
      },
      "execution_count": 28,
      "outputs": []
    },
    {
      "cell_type": "code",
      "source": [
        "t1"
      ],
      "metadata": {
        "colab": {
          "base_uri": "https://localhost:8080/"
        },
        "id": "K5FhiaCqzy_C",
        "outputId": "a5440211-fa39-4432-adb7-49b55fb804f2"
      },
      "execution_count": 29,
      "outputs": [
        {
          "output_type": "execute_result",
          "data": {
            "text/plain": [
              "tensor([[[0.0978, 0.2060, 0.6501, 0.7635, 0.3124],\n",
              "         [0.0024, 0.8371, 0.7754, 0.4944, 0.6072],\n",
              "         [0.6156, 0.9683, 0.5951, 0.4578, 0.6605],\n",
              "         [0.8092, 0.3467, 0.0236, 0.0222, 0.0784],\n",
              "         [0.3650, 0.0522, 0.1853, 0.3866, 0.8838],\n",
              "         [0.3302, 0.5780, 0.3908, 0.4979, 0.7103],\n",
              "         [0.0978, 0.2060, 0.6501, 0.7635, 0.3124],\n",
              "         [0.0024, 0.8371, 0.7754, 0.4944, 0.6072],\n",
              "         [0.6156, 0.9683, 0.5951, 0.4578, 0.6605],\n",
              "         [0.8092, 0.3467, 0.0236, 0.0222, 0.0784],\n",
              "         [0.3650, 0.0522, 0.1853, 0.3866, 0.8838],\n",
              "         [0.3302, 0.5780, 0.3908, 0.4979, 0.7103]],\n",
              "\n",
              "        [[0.4949, 0.7398, 0.5897, 0.1914, 0.7456],\n",
              "         [0.2398, 0.5448, 0.3443, 0.7160, 0.9283],\n",
              "         [0.0748, 0.3040, 0.5004, 0.2202, 0.0580],\n",
              "         [0.0136, 0.8578, 0.6012, 0.0413, 0.2284],\n",
              "         [0.6057, 0.1099, 0.4724, 0.9567, 0.6425],\n",
              "         [0.3770, 0.8699, 0.4429, 0.9255, 0.6247],\n",
              "         [0.4949, 0.7398, 0.5897, 0.1914, 0.7456],\n",
              "         [0.2398, 0.5448, 0.3443, 0.7160, 0.9283],\n",
              "         [0.0748, 0.3040, 0.5004, 0.2202, 0.0580],\n",
              "         [0.0136, 0.8578, 0.6012, 0.0413, 0.2284],\n",
              "         [0.6057, 0.1099, 0.4724, 0.9567, 0.6425],\n",
              "         [0.3770, 0.8699, 0.4429, 0.9255, 0.6247]],\n",
              "\n",
              "        [[0.3195, 0.1978, 0.7371, 0.6922, 0.7979],\n",
              "         [0.8341, 0.2550, 0.7346, 0.2002, 0.1013],\n",
              "         [0.1335, 0.0613, 0.1012, 0.7413, 0.1087],\n",
              "         [0.4996, 0.3023, 0.5039, 0.7633, 0.3500],\n",
              "         [0.1949, 0.1566, 0.5499, 0.6439, 0.0102],\n",
              "         [0.1342, 0.2377, 0.4180, 0.7693, 0.0204],\n",
              "         [0.3195, 0.1978, 0.7371, 0.6922, 0.7979],\n",
              "         [0.8341, 0.2550, 0.7346, 0.2002, 0.1013],\n",
              "         [0.1335, 0.0613, 0.1012, 0.7413, 0.1087],\n",
              "         [0.4996, 0.3023, 0.5039, 0.7633, 0.3500],\n",
              "         [0.1949, 0.1566, 0.5499, 0.6439, 0.0102],\n",
              "         [0.1342, 0.2377, 0.4180, 0.7693, 0.0204]],\n",
              "\n",
              "        [[0.2880, 0.5638, 0.3346, 0.8978, 0.2321],\n",
              "         [0.5906, 0.2810, 0.6737, 0.2485, 0.4023],\n",
              "         [0.2406, 0.7797, 0.5964, 0.4821, 0.7682],\n",
              "         [0.6125, 0.8907, 0.1137, 0.1286, 0.2551],\n",
              "         [0.5973, 0.8105, 0.7081, 0.2956, 0.3780],\n",
              "         [0.1419, 0.7931, 0.9420, 0.7777, 0.3421],\n",
              "         [0.2880, 0.5638, 0.3346, 0.8978, 0.2321],\n",
              "         [0.5906, 0.2810, 0.6737, 0.2485, 0.4023],\n",
              "         [0.2406, 0.7797, 0.5964, 0.4821, 0.7682],\n",
              "         [0.6125, 0.8907, 0.1137, 0.1286, 0.2551],\n",
              "         [0.5973, 0.8105, 0.7081, 0.2956, 0.3780],\n",
              "         [0.1419, 0.7931, 0.9420, 0.7777, 0.3421]]])"
            ]
          },
          "metadata": {},
          "execution_count": 29
        }
      ]
    },
    {
      "cell_type": "code",
      "source": [
        "t1 = torch.cat([tensor1,tensor1],dim =0)"
      ],
      "metadata": {
        "id": "fzOZxqBWzzYD"
      },
      "execution_count": 30,
      "outputs": []
    },
    {
      "cell_type": "code",
      "source": [
        "t1"
      ],
      "metadata": {
        "colab": {
          "base_uri": "https://localhost:8080/"
        },
        "id": "ZkcktFXzz6Vr",
        "outputId": "ab93e86c-f485-4b81-b2c2-cac6074ba438"
      },
      "execution_count": 31,
      "outputs": [
        {
          "output_type": "execute_result",
          "data": {
            "text/plain": [
              "tensor([[[0.0978, 0.2060, 0.6501, 0.7635, 0.3124],\n",
              "         [0.0024, 0.8371, 0.7754, 0.4944, 0.6072],\n",
              "         [0.6156, 0.9683, 0.5951, 0.4578, 0.6605],\n",
              "         [0.8092, 0.3467, 0.0236, 0.0222, 0.0784],\n",
              "         [0.3650, 0.0522, 0.1853, 0.3866, 0.8838],\n",
              "         [0.3302, 0.5780, 0.3908, 0.4979, 0.7103]],\n",
              "\n",
              "        [[0.4949, 0.7398, 0.5897, 0.1914, 0.7456],\n",
              "         [0.2398, 0.5448, 0.3443, 0.7160, 0.9283],\n",
              "         [0.0748, 0.3040, 0.5004, 0.2202, 0.0580],\n",
              "         [0.0136, 0.8578, 0.6012, 0.0413, 0.2284],\n",
              "         [0.6057, 0.1099, 0.4724, 0.9567, 0.6425],\n",
              "         [0.3770, 0.8699, 0.4429, 0.9255, 0.6247]],\n",
              "\n",
              "        [[0.3195, 0.1978, 0.7371, 0.6922, 0.7979],\n",
              "         [0.8341, 0.2550, 0.7346, 0.2002, 0.1013],\n",
              "         [0.1335, 0.0613, 0.1012, 0.7413, 0.1087],\n",
              "         [0.4996, 0.3023, 0.5039, 0.7633, 0.3500],\n",
              "         [0.1949, 0.1566, 0.5499, 0.6439, 0.0102],\n",
              "         [0.1342, 0.2377, 0.4180, 0.7693, 0.0204]],\n",
              "\n",
              "        [[0.2880, 0.5638, 0.3346, 0.8978, 0.2321],\n",
              "         [0.5906, 0.2810, 0.6737, 0.2485, 0.4023],\n",
              "         [0.2406, 0.7797, 0.5964, 0.4821, 0.7682],\n",
              "         [0.6125, 0.8907, 0.1137, 0.1286, 0.2551],\n",
              "         [0.5973, 0.8105, 0.7081, 0.2956, 0.3780],\n",
              "         [0.1419, 0.7931, 0.9420, 0.7777, 0.3421]],\n",
              "\n",
              "        [[0.0978, 0.2060, 0.6501, 0.7635, 0.3124],\n",
              "         [0.0024, 0.8371, 0.7754, 0.4944, 0.6072],\n",
              "         [0.6156, 0.9683, 0.5951, 0.4578, 0.6605],\n",
              "         [0.8092, 0.3467, 0.0236, 0.0222, 0.0784],\n",
              "         [0.3650, 0.0522, 0.1853, 0.3866, 0.8838],\n",
              "         [0.3302, 0.5780, 0.3908, 0.4979, 0.7103]],\n",
              "\n",
              "        [[0.4949, 0.7398, 0.5897, 0.1914, 0.7456],\n",
              "         [0.2398, 0.5448, 0.3443, 0.7160, 0.9283],\n",
              "         [0.0748, 0.3040, 0.5004, 0.2202, 0.0580],\n",
              "         [0.0136, 0.8578, 0.6012, 0.0413, 0.2284],\n",
              "         [0.6057, 0.1099, 0.4724, 0.9567, 0.6425],\n",
              "         [0.3770, 0.8699, 0.4429, 0.9255, 0.6247]],\n",
              "\n",
              "        [[0.3195, 0.1978, 0.7371, 0.6922, 0.7979],\n",
              "         [0.8341, 0.2550, 0.7346, 0.2002, 0.1013],\n",
              "         [0.1335, 0.0613, 0.1012, 0.7413, 0.1087],\n",
              "         [0.4996, 0.3023, 0.5039, 0.7633, 0.3500],\n",
              "         [0.1949, 0.1566, 0.5499, 0.6439, 0.0102],\n",
              "         [0.1342, 0.2377, 0.4180, 0.7693, 0.0204]],\n",
              "\n",
              "        [[0.2880, 0.5638, 0.3346, 0.8978, 0.2321],\n",
              "         [0.5906, 0.2810, 0.6737, 0.2485, 0.4023],\n",
              "         [0.2406, 0.7797, 0.5964, 0.4821, 0.7682],\n",
              "         [0.6125, 0.8907, 0.1137, 0.1286, 0.2551],\n",
              "         [0.5973, 0.8105, 0.7081, 0.2956, 0.3780],\n",
              "         [0.1419, 0.7931, 0.9420, 0.7777, 0.3421]]])"
            ]
          },
          "metadata": {},
          "execution_count": 31
        }
      ]
    },
    {
      "cell_type": "code",
      "source": [
        "t1 = torch.stack([tensor1,tensor1])"
      ],
      "metadata": {
        "id": "cWFwP2pnz6tT"
      },
      "execution_count": 32,
      "outputs": []
    },
    {
      "cell_type": "code",
      "source": [
        "t1"
      ],
      "metadata": {
        "colab": {
          "base_uri": "https://localhost:8080/"
        },
        "id": "XwFSkZ77z_GI",
        "outputId": "4cd7011b-8d51-4a28-8d7d-bd5aec0fbb33"
      },
      "execution_count": 33,
      "outputs": [
        {
          "output_type": "execute_result",
          "data": {
            "text/plain": [
              "tensor([[[[0.0978, 0.2060, 0.6501, 0.7635, 0.3124],\n",
              "          [0.0024, 0.8371, 0.7754, 0.4944, 0.6072],\n",
              "          [0.6156, 0.9683, 0.5951, 0.4578, 0.6605],\n",
              "          [0.8092, 0.3467, 0.0236, 0.0222, 0.0784],\n",
              "          [0.3650, 0.0522, 0.1853, 0.3866, 0.8838],\n",
              "          [0.3302, 0.5780, 0.3908, 0.4979, 0.7103]],\n",
              "\n",
              "         [[0.4949, 0.7398, 0.5897, 0.1914, 0.7456],\n",
              "          [0.2398, 0.5448, 0.3443, 0.7160, 0.9283],\n",
              "          [0.0748, 0.3040, 0.5004, 0.2202, 0.0580],\n",
              "          [0.0136, 0.8578, 0.6012, 0.0413, 0.2284],\n",
              "          [0.6057, 0.1099, 0.4724, 0.9567, 0.6425],\n",
              "          [0.3770, 0.8699, 0.4429, 0.9255, 0.6247]],\n",
              "\n",
              "         [[0.3195, 0.1978, 0.7371, 0.6922, 0.7979],\n",
              "          [0.8341, 0.2550, 0.7346, 0.2002, 0.1013],\n",
              "          [0.1335, 0.0613, 0.1012, 0.7413, 0.1087],\n",
              "          [0.4996, 0.3023, 0.5039, 0.7633, 0.3500],\n",
              "          [0.1949, 0.1566, 0.5499, 0.6439, 0.0102],\n",
              "          [0.1342, 0.2377, 0.4180, 0.7693, 0.0204]],\n",
              "\n",
              "         [[0.2880, 0.5638, 0.3346, 0.8978, 0.2321],\n",
              "          [0.5906, 0.2810, 0.6737, 0.2485, 0.4023],\n",
              "          [0.2406, 0.7797, 0.5964, 0.4821, 0.7682],\n",
              "          [0.6125, 0.8907, 0.1137, 0.1286, 0.2551],\n",
              "          [0.5973, 0.8105, 0.7081, 0.2956, 0.3780],\n",
              "          [0.1419, 0.7931, 0.9420, 0.7777, 0.3421]]],\n",
              "\n",
              "\n",
              "        [[[0.0978, 0.2060, 0.6501, 0.7635, 0.3124],\n",
              "          [0.0024, 0.8371, 0.7754, 0.4944, 0.6072],\n",
              "          [0.6156, 0.9683, 0.5951, 0.4578, 0.6605],\n",
              "          [0.8092, 0.3467, 0.0236, 0.0222, 0.0784],\n",
              "          [0.3650, 0.0522, 0.1853, 0.3866, 0.8838],\n",
              "          [0.3302, 0.5780, 0.3908, 0.4979, 0.7103]],\n",
              "\n",
              "         [[0.4949, 0.7398, 0.5897, 0.1914, 0.7456],\n",
              "          [0.2398, 0.5448, 0.3443, 0.7160, 0.9283],\n",
              "          [0.0748, 0.3040, 0.5004, 0.2202, 0.0580],\n",
              "          [0.0136, 0.8578, 0.6012, 0.0413, 0.2284],\n",
              "          [0.6057, 0.1099, 0.4724, 0.9567, 0.6425],\n",
              "          [0.3770, 0.8699, 0.4429, 0.9255, 0.6247]],\n",
              "\n",
              "         [[0.3195, 0.1978, 0.7371, 0.6922, 0.7979],\n",
              "          [0.8341, 0.2550, 0.7346, 0.2002, 0.1013],\n",
              "          [0.1335, 0.0613, 0.1012, 0.7413, 0.1087],\n",
              "          [0.4996, 0.3023, 0.5039, 0.7633, 0.3500],\n",
              "          [0.1949, 0.1566, 0.5499, 0.6439, 0.0102],\n",
              "          [0.1342, 0.2377, 0.4180, 0.7693, 0.0204]],\n",
              "\n",
              "         [[0.2880, 0.5638, 0.3346, 0.8978, 0.2321],\n",
              "          [0.5906, 0.2810, 0.6737, 0.2485, 0.4023],\n",
              "          [0.2406, 0.7797, 0.5964, 0.4821, 0.7682],\n",
              "          [0.6125, 0.8907, 0.1137, 0.1286, 0.2551],\n",
              "          [0.5973, 0.8105, 0.7081, 0.2956, 0.3780],\n",
              "          [0.1419, 0.7931, 0.9420, 0.7777, 0.3421]]]])"
            ]
          },
          "metadata": {},
          "execution_count": 33
        }
      ]
    },
    {
      "cell_type": "code",
      "source": [
        "tensor1 @ tensor2"
      ],
      "metadata": {
        "colab": {
          "base_uri": "https://localhost:8080/"
        },
        "id": "mBusb8IE0AcR",
        "outputId": "55a324d5-35fd-492b-915b-f9bd181bddd6"
      },
      "execution_count": 34,
      "outputs": [
        {
          "output_type": "execute_result",
          "data": {
            "text/plain": [
              "tensor([[[1.1483, 0.9006, 0.5304, 1.1621, 0.9983, 1.2955],\n",
              "         [1.8234, 1.3021, 0.6443, 1.2893, 1.2540, 1.4274],\n",
              "         [1.7942, 1.7338, 1.0870, 1.6309, 1.2609, 1.6199],\n",
              "         [0.3651, 0.8145, 0.6377, 0.7809, 0.2664, 0.5127],\n",
              "         [0.7896, 0.6730, 0.9117, 0.8320, 0.9661, 1.0304],\n",
              "         [1.3282, 1.2169, 0.8871, 1.1378, 1.0537, 1.3300]],\n",
              "\n",
              "        [[1.1578, 1.6753, 0.9073, 1.8899, 0.6862, 1.0759],\n",
              "         [1.0613, 1.5272, 1.0772, 1.8347, 0.9507, 0.8130],\n",
              "         [0.5526, 0.7542, 0.3328, 0.7729, 0.4924, 0.4410],\n",
              "         [0.6440, 1.2772, 0.4222, 1.1591, 0.5267, 0.8823],\n",
              "         [1.3275, 1.2866, 1.1516, 1.8495, 1.1336, 0.6107],\n",
              "         [1.2386, 1.7092, 1.1715, 2.0754, 1.2714, 1.0457]],\n",
              "\n",
              "        [[1.2007, 1.2970, 2.3314, 1.0328, 1.0342, 1.2182],\n",
              "         [1.0677, 1.1289, 1.8792, 0.9805, 0.4884, 1.0815],\n",
              "         [0.7353, 0.2901, 0.9346, 0.4223, 0.4326, 0.2755],\n",
              "         [1.3263, 0.9937, 2.0330, 0.9571, 0.7696, 0.9174],\n",
              "         [0.8486, 0.7326, 1.3296, 0.5119, 0.4251, 0.6658],\n",
              "         [0.9542, 0.6412, 1.3101, 0.4884, 0.4488, 0.5550]],\n",
              "\n",
              "        [[1.0179, 1.2635, 1.3834, 0.8139, 1.1824, 0.5774],\n",
              "         [1.1573, 0.9586, 0.8817, 0.8508, 1.1374, 0.6806],\n",
              "         [1.6297, 1.6145, 1.3778, 1.0734, 1.3906, 0.9574],\n",
              "         [1.5580, 0.8675, 1.2660, 0.9588, 1.3949, 0.2951],\n",
              "         [1.6465, 1.2568, 1.3595, 1.2338, 1.6437, 0.6961],\n",
              "         [1.2732, 1.5901, 1.4430, 1.2118, 1.5226, 0.8933]]])"
            ]
          },
          "metadata": {},
          "execution_count": 34
        }
      ]
    },
    {
      "cell_type": "code",
      "source": [
        "tensor1.T"
      ],
      "metadata": {
        "colab": {
          "base_uri": "https://localhost:8080/"
        },
        "id": "k62Anl_m0gpI",
        "outputId": "a8f44b9c-7e15-4342-af2c-5489679e8b98"
      },
      "execution_count": 35,
      "outputs": [
        {
          "output_type": "stream",
          "name": "stderr",
          "text": [
            "<ipython-input-35-0fee77ff0160>:1: UserWarning: The use of `x.T` on tensors of dimension other than 2 to reverse their shape is deprecated and it will throw an error in a future release. Consider `x.mT` to transpose batches of matrices or `x.permute(*torch.arange(x.ndim - 1, -1, -1))` to reverse the dimensions of a tensor. (Triggered internally at ../aten/src/ATen/native/TensorShape.cpp:3683.)\n",
            "  tensor1.T\n"
          ]
        },
        {
          "output_type": "execute_result",
          "data": {
            "text/plain": [
              "tensor([[[0.0978, 0.4949, 0.3195, 0.2880],\n",
              "         [0.0024, 0.2398, 0.8341, 0.5906],\n",
              "         [0.6156, 0.0748, 0.1335, 0.2406],\n",
              "         [0.8092, 0.0136, 0.4996, 0.6125],\n",
              "         [0.3650, 0.6057, 0.1949, 0.5973],\n",
              "         [0.3302, 0.3770, 0.1342, 0.1419]],\n",
              "\n",
              "        [[0.2060, 0.7398, 0.1978, 0.5638],\n",
              "         [0.8371, 0.5448, 0.2550, 0.2810],\n",
              "         [0.9683, 0.3040, 0.0613, 0.7797],\n",
              "         [0.3467, 0.8578, 0.3023, 0.8907],\n",
              "         [0.0522, 0.1099, 0.1566, 0.8105],\n",
              "         [0.5780, 0.8699, 0.2377, 0.7931]],\n",
              "\n",
              "        [[0.6501, 0.5897, 0.7371, 0.3346],\n",
              "         [0.7754, 0.3443, 0.7346, 0.6737],\n",
              "         [0.5951, 0.5004, 0.1012, 0.5964],\n",
              "         [0.0236, 0.6012, 0.5039, 0.1137],\n",
              "         [0.1853, 0.4724, 0.5499, 0.7081],\n",
              "         [0.3908, 0.4429, 0.4180, 0.9420]],\n",
              "\n",
              "        [[0.7635, 0.1914, 0.6922, 0.8978],\n",
              "         [0.4944, 0.7160, 0.2002, 0.2485],\n",
              "         [0.4578, 0.2202, 0.7413, 0.4821],\n",
              "         [0.0222, 0.0413, 0.7633, 0.1286],\n",
              "         [0.3866, 0.9567, 0.6439, 0.2956],\n",
              "         [0.4979, 0.9255, 0.7693, 0.7777]],\n",
              "\n",
              "        [[0.3124, 0.7456, 0.7979, 0.2321],\n",
              "         [0.6072, 0.9283, 0.1013, 0.4023],\n",
              "         [0.6605, 0.0580, 0.1087, 0.7682],\n",
              "         [0.0784, 0.2284, 0.3500, 0.2551],\n",
              "         [0.8838, 0.6425, 0.0102, 0.3780],\n",
              "         [0.7103, 0.6247, 0.0204, 0.3421]]])"
            ]
          },
          "metadata": {},
          "execution_count": 35
        }
      ]
    },
    {
      "cell_type": "code",
      "source": [
        "tensor2 * tensor2"
      ],
      "metadata": {
        "colab": {
          "base_uri": "https://localhost:8080/"
        },
        "id": "A6jFWmV30nX9",
        "outputId": "537659c7-e2cf-44df-8447-78fa00f4c5f6"
      },
      "execution_count": 36,
      "outputs": [
        {
          "output_type": "execute_result",
          "data": {
            "text/plain": [
              "tensor([[[1.3635e-03, 3.3072e-01, 4.4369e-01, 6.5758e-01, 4.7221e-02,\n",
              "          1.5491e-01],\n",
              "         [5.9121e-01, 8.4991e-01, 1.5795e-02, 4.8428e-02, 5.8693e-04,\n",
              "          1.3068e-01],\n",
              "         [8.8478e-01, 1.8110e-02, 3.1095e-04, 9.8631e-01, 7.8132e-01,\n",
              "          2.2883e-01],\n",
              "         [7.9093e-02, 4.6867e-01, 9.6818e-02, 1.8764e-01, 5.1577e-02,\n",
              "          9.0442e-01],\n",
              "         [2.6266e-01, 2.0115e-02, 3.7115e-01, 3.8324e-02, 5.1436e-01,\n",
              "          2.1679e-01]],\n",
              "\n",
              "        [[3.9727e-01, 4.4071e-02, 1.4579e-01, 4.8142e-01, 1.5046e-02,\n",
              "          1.0078e-01],\n",
              "         [1.5562e-02, 4.6142e-01, 3.3033e-02, 3.3146e-01, 7.2973e-02,\n",
              "          4.7450e-01],\n",
              "         [5.2373e-01, 7.6797e-01, 4.7045e-02, 5.8605e-01, 1.7878e-01,\n",
              "          1.4829e-01],\n",
              "         [1.5178e-01, 6.0644e-02, 2.6171e-01, 2.9168e-01, 7.3334e-01,\n",
              "          2.3458e-05],\n",
              "         [1.1451e-01, 4.5884e-01, 2.3055e-01, 5.7595e-01, 2.7527e-04,\n",
              "          5.9047e-02]],\n",
              "\n",
              "        [[4.1033e-01, 8.4570e-02, 8.2722e-01, 6.4151e-01, 5.5502e-02,\n",
              "          1.4562e-01],\n",
              "         [8.0314e-01, 1.9376e-01, 4.6290e-01, 1.8503e-02, 1.2022e-03,\n",
              "          2.6184e-02],\n",
              "         [3.3383e-02, 9.3530e-01, 9.2458e-01, 5.2606e-02, 3.2481e-02,\n",
              "          8.0422e-01],\n",
              "         [5.5766e-01, 1.2175e-02, 6.2406e-01, 1.0014e-01, 1.7308e-01,\n",
              "          1.1390e-02],\n",
              "         [4.3869e-02, 1.6870e-01, 6.6479e-01, 2.0564e-01, 4.4326e-01,\n",
              "          1.7036e-01]],\n",
              "\n",
              "        [[6.6575e-01, 1.2231e-02, 3.2311e-01, 1.7190e-01, 6.0696e-01,\n",
              "          1.3680e-03],\n",
              "         [8.8271e-01, 2.6427e-01, 7.0565e-01, 4.5983e-01, 8.0164e-01,\n",
              "          4.9133e-05],\n",
              "         [1.5193e-02, 1.2919e-01, 2.6836e-04, 2.5623e-01, 2.0182e-01,\n",
              "          2.0596e-01],\n",
              "         [8.9092e-04, 4.9208e-01, 5.6712e-01, 1.7547e-02, 9.4546e-02,\n",
              "          7.6362e-02],\n",
              "         [6.3668e-01, 6.8235e-01, 7.7114e-02, 1.0617e-02, 1.3409e-02,\n",
              "          4.9254e-01]]])"
            ]
          },
          "metadata": {},
          "execution_count": 36
        }
      ]
    },
    {
      "cell_type": "code",
      "source": [
        "tensor1 / 2"
      ],
      "metadata": {
        "colab": {
          "base_uri": "https://localhost:8080/"
        },
        "id": "2GsuOfE_01Gt",
        "outputId": "9405cc57-85cc-4a49-d110-8426a6fd21c6"
      },
      "execution_count": 37,
      "outputs": [
        {
          "output_type": "execute_result",
          "data": {
            "text/plain": [
              "tensor([[[0.0489, 0.1030, 0.3250, 0.3818, 0.1562],\n",
              "         [0.0012, 0.4186, 0.3877, 0.2472, 0.3036],\n",
              "         [0.3078, 0.4841, 0.2975, 0.2289, 0.3302],\n",
              "         [0.4046, 0.1734, 0.0118, 0.0111, 0.0392],\n",
              "         [0.1825, 0.0261, 0.0926, 0.1933, 0.4419],\n",
              "         [0.1651, 0.2890, 0.1954, 0.2489, 0.3552]],\n",
              "\n",
              "        [[0.2474, 0.3699, 0.2948, 0.0957, 0.3728],\n",
              "         [0.1199, 0.2724, 0.1721, 0.3580, 0.4641],\n",
              "         [0.0374, 0.1520, 0.2502, 0.1101, 0.0290],\n",
              "         [0.0068, 0.4289, 0.3006, 0.0206, 0.1142],\n",
              "         [0.3028, 0.0550, 0.2362, 0.4783, 0.3213],\n",
              "         [0.1885, 0.4349, 0.2214, 0.4628, 0.3124]],\n",
              "\n",
              "        [[0.1598, 0.0989, 0.3686, 0.3461, 0.3989],\n",
              "         [0.4171, 0.1275, 0.3673, 0.1001, 0.0506],\n",
              "         [0.0668, 0.0306, 0.0506, 0.3707, 0.0543],\n",
              "         [0.2498, 0.1512, 0.2520, 0.3816, 0.1750],\n",
              "         [0.0975, 0.0783, 0.2749, 0.3220, 0.0051],\n",
              "         [0.0671, 0.1189, 0.2090, 0.3846, 0.0102]],\n",
              "\n",
              "        [[0.1440, 0.2819, 0.1673, 0.4489, 0.1160],\n",
              "         [0.2953, 0.1405, 0.3369, 0.1243, 0.2011],\n",
              "         [0.1203, 0.3898, 0.2982, 0.2410, 0.3841],\n",
              "         [0.3062, 0.4454, 0.0569, 0.0643, 0.1276],\n",
              "         [0.2986, 0.4052, 0.3541, 0.1478, 0.1890],\n",
              "         [0.0709, 0.3966, 0.4710, 0.3888, 0.1711]]])"
            ]
          },
          "metadata": {},
          "execution_count": 37
        }
      ]
    },
    {
      "cell_type": "markdown",
      "source": [
        "# Getting Value Of Single-Element Tensor"
      ],
      "metadata": {
        "id": "JMJ4jXAJ1Q0N"
      }
    },
    {
      "cell_type": "code",
      "source": [
        "tensor1"
      ],
      "metadata": {
        "colab": {
          "base_uri": "https://localhost:8080/"
        },
        "id": "fmOUC4Lo1DTg",
        "outputId": "07842907-ea36-4231-8e9d-7586e0767c74"
      },
      "execution_count": 38,
      "outputs": [
        {
          "output_type": "execute_result",
          "data": {
            "text/plain": [
              "tensor([[[0.0978, 0.2060, 0.6501, 0.7635, 0.3124],\n",
              "         [0.0024, 0.8371, 0.7754, 0.4944, 0.6072],\n",
              "         [0.6156, 0.9683, 0.5951, 0.4578, 0.6605],\n",
              "         [0.8092, 0.3467, 0.0236, 0.0222, 0.0784],\n",
              "         [0.3650, 0.0522, 0.1853, 0.3866, 0.8838],\n",
              "         [0.3302, 0.5780, 0.3908, 0.4979, 0.7103]],\n",
              "\n",
              "        [[0.4949, 0.7398, 0.5897, 0.1914, 0.7456],\n",
              "         [0.2398, 0.5448, 0.3443, 0.7160, 0.9283],\n",
              "         [0.0748, 0.3040, 0.5004, 0.2202, 0.0580],\n",
              "         [0.0136, 0.8578, 0.6012, 0.0413, 0.2284],\n",
              "         [0.6057, 0.1099, 0.4724, 0.9567, 0.6425],\n",
              "         [0.3770, 0.8699, 0.4429, 0.9255, 0.6247]],\n",
              "\n",
              "        [[0.3195, 0.1978, 0.7371, 0.6922, 0.7979],\n",
              "         [0.8341, 0.2550, 0.7346, 0.2002, 0.1013],\n",
              "         [0.1335, 0.0613, 0.1012, 0.7413, 0.1087],\n",
              "         [0.4996, 0.3023, 0.5039, 0.7633, 0.3500],\n",
              "         [0.1949, 0.1566, 0.5499, 0.6439, 0.0102],\n",
              "         [0.1342, 0.2377, 0.4180, 0.7693, 0.0204]],\n",
              "\n",
              "        [[0.2880, 0.5638, 0.3346, 0.8978, 0.2321],\n",
              "         [0.5906, 0.2810, 0.6737, 0.2485, 0.4023],\n",
              "         [0.2406, 0.7797, 0.5964, 0.4821, 0.7682],\n",
              "         [0.6125, 0.8907, 0.1137, 0.1286, 0.2551],\n",
              "         [0.5973, 0.8105, 0.7081, 0.2956, 0.3780],\n",
              "         [0.1419, 0.7931, 0.9420, 0.7777, 0.3421]]])"
            ]
          },
          "metadata": {},
          "execution_count": 38
        }
      ]
    },
    {
      "cell_type": "code",
      "source": [
        "tensor1[0,1,2].item()"
      ],
      "metadata": {
        "colab": {
          "base_uri": "https://localhost:8080/"
        },
        "id": "vhIq7hwb1Xzr",
        "outputId": "8f38564a-f278-4333-9b2f-31532635d66b"
      },
      "execution_count": 39,
      "outputs": [
        {
          "output_type": "execute_result",
          "data": {
            "text/plain": [
              "0.7753874659538269"
            ]
          },
          "metadata": {},
          "execution_count": 39
        }
      ]
    },
    {
      "cell_type": "markdown",
      "source": [
        "# Inplace Operation"
      ],
      "metadata": {
        "id": "4F3Szpsg139K"
      }
    },
    {
      "cell_type": "code",
      "source": [
        "tensor1"
      ],
      "metadata": {
        "colab": {
          "base_uri": "https://localhost:8080/"
        },
        "id": "xTsFBEEa2Xel",
        "outputId": "1e659123-e75b-46ca-e576-15bea6ce2227"
      },
      "execution_count": 40,
      "outputs": [
        {
          "output_type": "execute_result",
          "data": {
            "text/plain": [
              "tensor([[[0.0978, 0.2060, 0.6501, 0.7635, 0.3124],\n",
              "         [0.0024, 0.8371, 0.7754, 0.4944, 0.6072],\n",
              "         [0.6156, 0.9683, 0.5951, 0.4578, 0.6605],\n",
              "         [0.8092, 0.3467, 0.0236, 0.0222, 0.0784],\n",
              "         [0.3650, 0.0522, 0.1853, 0.3866, 0.8838],\n",
              "         [0.3302, 0.5780, 0.3908, 0.4979, 0.7103]],\n",
              "\n",
              "        [[0.4949, 0.7398, 0.5897, 0.1914, 0.7456],\n",
              "         [0.2398, 0.5448, 0.3443, 0.7160, 0.9283],\n",
              "         [0.0748, 0.3040, 0.5004, 0.2202, 0.0580],\n",
              "         [0.0136, 0.8578, 0.6012, 0.0413, 0.2284],\n",
              "         [0.6057, 0.1099, 0.4724, 0.9567, 0.6425],\n",
              "         [0.3770, 0.8699, 0.4429, 0.9255, 0.6247]],\n",
              "\n",
              "        [[0.3195, 0.1978, 0.7371, 0.6922, 0.7979],\n",
              "         [0.8341, 0.2550, 0.7346, 0.2002, 0.1013],\n",
              "         [0.1335, 0.0613, 0.1012, 0.7413, 0.1087],\n",
              "         [0.4996, 0.3023, 0.5039, 0.7633, 0.3500],\n",
              "         [0.1949, 0.1566, 0.5499, 0.6439, 0.0102],\n",
              "         [0.1342, 0.2377, 0.4180, 0.7693, 0.0204]],\n",
              "\n",
              "        [[0.2880, 0.5638, 0.3346, 0.8978, 0.2321],\n",
              "         [0.5906, 0.2810, 0.6737, 0.2485, 0.4023],\n",
              "         [0.2406, 0.7797, 0.5964, 0.4821, 0.7682],\n",
              "         [0.6125, 0.8907, 0.1137, 0.1286, 0.2551],\n",
              "         [0.5973, 0.8105, 0.7081, 0.2956, 0.3780],\n",
              "         [0.1419, 0.7931, 0.9420, 0.7777, 0.3421]]])"
            ]
          },
          "metadata": {},
          "execution_count": 40
        }
      ]
    },
    {
      "cell_type": "code",
      "source": [
        "tensor1.add_(75)"
      ],
      "metadata": {
        "colab": {
          "base_uri": "https://localhost:8080/"
        },
        "id": "aA2in4Yc1daL",
        "outputId": "27711964-60b0-44b4-d878-74cf6c01bccc"
      },
      "execution_count": 41,
      "outputs": [
        {
          "output_type": "execute_result",
          "data": {
            "text/plain": [
              "tensor([[[75.0978, 75.2060, 75.6501, 75.7635, 75.3124],\n",
              "         [75.0024, 75.8371, 75.7754, 75.4944, 75.6072],\n",
              "         [75.6156, 75.9683, 75.5951, 75.4578, 75.6605],\n",
              "         [75.8092, 75.3467, 75.0236, 75.0222, 75.0784],\n",
              "         [75.3650, 75.0522, 75.1853, 75.3866, 75.8838],\n",
              "         [75.3302, 75.5780, 75.3908, 75.4979, 75.7103]],\n",
              "\n",
              "        [[75.4949, 75.7398, 75.5897, 75.1914, 75.7456],\n",
              "         [75.2398, 75.5448, 75.3443, 75.7160, 75.9283],\n",
              "         [75.0748, 75.3040, 75.5004, 75.2202, 75.0580],\n",
              "         [75.0136, 75.8578, 75.6012, 75.0413, 75.2284],\n",
              "         [75.6057, 75.1099, 75.4724, 75.9567, 75.6425],\n",
              "         [75.3770, 75.8699, 75.4429, 75.9255, 75.6247]],\n",
              "\n",
              "        [[75.3195, 75.1978, 75.7371, 75.6922, 75.7979],\n",
              "         [75.8341, 75.2550, 75.7346, 75.2002, 75.1013],\n",
              "         [75.1335, 75.0613, 75.1012, 75.7413, 75.1087],\n",
              "         [75.4996, 75.3023, 75.5039, 75.7633, 75.3500],\n",
              "         [75.1949, 75.1566, 75.5499, 75.6439, 75.0102],\n",
              "         [75.1342, 75.2377, 75.4180, 75.7693, 75.0204]],\n",
              "\n",
              "        [[75.2880, 75.5638, 75.3345, 75.8978, 75.2321],\n",
              "         [75.5906, 75.2810, 75.6737, 75.2485, 75.4023],\n",
              "         [75.2406, 75.7797, 75.5964, 75.4821, 75.7682],\n",
              "         [75.6125, 75.8907, 75.1137, 75.1286, 75.2551],\n",
              "         [75.5973, 75.8105, 75.7081, 75.2956, 75.3780],\n",
              "         [75.1419, 75.7931, 75.9420, 75.7777, 75.3421]]])"
            ]
          },
          "metadata": {},
          "execution_count": 41
        }
      ]
    },
    {
      "cell_type": "markdown",
      "source": [
        "# Tensor Views"
      ],
      "metadata": {
        "id": "oU_NmHJa2vH4"
      }
    },
    {
      "cell_type": "code",
      "source": [
        "tensor1.shape"
      ],
      "metadata": {
        "colab": {
          "base_uri": "https://localhost:8080/"
        },
        "id": "BSq5VUBH2OuO",
        "outputId": "69bc797c-1b89-437f-baea-8b96a726321c"
      },
      "execution_count": 42,
      "outputs": [
        {
          "output_type": "execute_result",
          "data": {
            "text/plain": [
              "torch.Size([4, 6, 5])"
            ]
          },
          "metadata": {},
          "execution_count": 42
        }
      ]
    },
    {
      "cell_type": "code",
      "source": [
        "tensor1.view([4,5,6])"
      ],
      "metadata": {
        "colab": {
          "base_uri": "https://localhost:8080/"
        },
        "id": "mS2uRxVw2p8_",
        "outputId": "5c4eb92b-7e53-4669-fe69-5705738d9717"
      },
      "execution_count": 43,
      "outputs": [
        {
          "output_type": "execute_result",
          "data": {
            "text/plain": [
              "tensor([[[75.0978, 75.2060, 75.6501, 75.7635, 75.3124, 75.0024],\n",
              "         [75.8371, 75.7754, 75.4944, 75.6072, 75.6156, 75.9683],\n",
              "         [75.5951, 75.4578, 75.6605, 75.8092, 75.3467, 75.0236],\n",
              "         [75.0222, 75.0784, 75.3650, 75.0522, 75.1853, 75.3866],\n",
              "         [75.8838, 75.3302, 75.5780, 75.3908, 75.4979, 75.7103]],\n",
              "\n",
              "        [[75.4949, 75.7398, 75.5897, 75.1914, 75.7456, 75.2398],\n",
              "         [75.5448, 75.3443, 75.7160, 75.9283, 75.0748, 75.3040],\n",
              "         [75.5004, 75.2202, 75.0580, 75.0136, 75.8578, 75.6012],\n",
              "         [75.0413, 75.2284, 75.6057, 75.1099, 75.4724, 75.9567],\n",
              "         [75.6425, 75.3770, 75.8699, 75.4429, 75.9255, 75.6247]],\n",
              "\n",
              "        [[75.3195, 75.1978, 75.7371, 75.6922, 75.7979, 75.8341],\n",
              "         [75.2550, 75.7346, 75.2002, 75.1013, 75.1335, 75.0613],\n",
              "         [75.1012, 75.7413, 75.1087, 75.4996, 75.3023, 75.5039],\n",
              "         [75.7633, 75.3500, 75.1949, 75.1566, 75.5499, 75.6439],\n",
              "         [75.0102, 75.1342, 75.2377, 75.4180, 75.7693, 75.0204]],\n",
              "\n",
              "        [[75.2880, 75.5638, 75.3345, 75.8978, 75.2321, 75.5906],\n",
              "         [75.2810, 75.6737, 75.2485, 75.4023, 75.2406, 75.7797],\n",
              "         [75.5964, 75.4821, 75.7682, 75.6125, 75.8907, 75.1137],\n",
              "         [75.1286, 75.2551, 75.5973, 75.8105, 75.7081, 75.2956],\n",
              "         [75.3780, 75.1419, 75.7931, 75.9420, 75.7777, 75.3421]]])"
            ]
          },
          "metadata": {},
          "execution_count": 43
        }
      ]
    },
    {
      "cell_type": "code",
      "source": [
        "tensor1.shape"
      ],
      "metadata": {
        "colab": {
          "base_uri": "https://localhost:8080/"
        },
        "id": "HW3-RdgW209Q",
        "outputId": "842998d1-620d-4a07-ea4e-a149ceafd235"
      },
      "execution_count": 44,
      "outputs": [
        {
          "output_type": "execute_result",
          "data": {
            "text/plain": [
              "torch.Size([4, 6, 5])"
            ]
          },
          "metadata": {},
          "execution_count": 44
        }
      ]
    },
    {
      "cell_type": "markdown",
      "source": [
        "# Gradient Descent"
      ],
      "metadata": {
        "id": "z_WsvK0h9Biu"
      }
    },
    {
      "cell_type": "code",
      "source": [
        "xg = torch.ones((5,2),requires_grad =True)"
      ],
      "metadata": {
        "id": "WBXRVwH926UE"
      },
      "execution_count": 45,
      "outputs": []
    },
    {
      "cell_type": "code",
      "source": [
        "xg.requires_grad"
      ],
      "metadata": {
        "colab": {
          "base_uri": "https://localhost:8080/"
        },
        "id": "ZNUPP_3G-aRB",
        "outputId": "40cabab6-c605-440b-91af-94473844f8e7"
      },
      "execution_count": 46,
      "outputs": [
        {
          "output_type": "execute_result",
          "data": {
            "text/plain": [
              "True"
            ]
          },
          "metadata": {},
          "execution_count": 46
        }
      ]
    },
    {
      "cell_type": "code",
      "source": [
        "xg"
      ],
      "metadata": {
        "colab": {
          "base_uri": "https://localhost:8080/"
        },
        "id": "DHg0KvPi-fty",
        "outputId": "89b713a8-645a-406a-bf69-d1cb83ec5521"
      },
      "execution_count": 47,
      "outputs": [
        {
          "output_type": "execute_result",
          "data": {
            "text/plain": [
              "tensor([[1., 1.],\n",
              "        [1., 1.],\n",
              "        [1., 1.],\n",
              "        [1., 1.],\n",
              "        [1., 1.]], requires_grad=True)"
            ]
          },
          "metadata": {},
          "execution_count": 47
        }
      ]
    },
    {
      "cell_type": "code",
      "source": [
        "layer1 = xg + 2"
      ],
      "metadata": {
        "id": "mlCWZkZ_-giX"
      },
      "execution_count": 48,
      "outputs": []
    },
    {
      "cell_type": "code",
      "source": [
        "layer1"
      ],
      "metadata": {
        "colab": {
          "base_uri": "https://localhost:8080/"
        },
        "id": "TgpHrz3Q-lM9",
        "outputId": "cf327d9d-238a-4d05-f796-d20bd75741d4"
      },
      "execution_count": 49,
      "outputs": [
        {
          "output_type": "execute_result",
          "data": {
            "text/plain": [
              "tensor([[3., 3.],\n",
              "        [3., 3.],\n",
              "        [3., 3.],\n",
              "        [3., 3.],\n",
              "        [3., 3.]], grad_fn=<AddBackward0>)"
            ]
          },
          "metadata": {},
          "execution_count": 49
        }
      ]
    },
    {
      "cell_type": "code",
      "source": [
        "layer2 = layer1 * 2"
      ],
      "metadata": {
        "id": "ghzMplxl-lv5"
      },
      "execution_count": 50,
      "outputs": []
    },
    {
      "cell_type": "code",
      "source": [
        "layer2"
      ],
      "metadata": {
        "colab": {
          "base_uri": "https://localhost:8080/"
        },
        "id": "l7r6_hpt-oQo",
        "outputId": "e66605be-a8ad-44d3-b3c8-784296d64e32"
      },
      "execution_count": 51,
      "outputs": [
        {
          "output_type": "execute_result",
          "data": {
            "text/plain": [
              "tensor([[6., 6.],\n",
              "        [6., 6.],\n",
              "        [6., 6.],\n",
              "        [6., 6.],\n",
              "        [6., 6.]], grad_fn=<MulBackward0>)"
            ]
          },
          "metadata": {},
          "execution_count": 51
        }
      ]
    },
    {
      "cell_type": "code",
      "source": [
        "layer3 = layer2.mean()"
      ],
      "metadata": {
        "id": "ckIIgfY4-pDL"
      },
      "execution_count": 52,
      "outputs": []
    },
    {
      "cell_type": "code",
      "source": [
        "layer3"
      ],
      "metadata": {
        "colab": {
          "base_uri": "https://localhost:8080/"
        },
        "id": "Z-5KSIfo-vVr",
        "outputId": "96cf5ae3-3330-4822-8fa5-f2babef83670"
      },
      "execution_count": 53,
      "outputs": [
        {
          "output_type": "execute_result",
          "data": {
            "text/plain": [
              "tensor(6., grad_fn=<MeanBackward0>)"
            ]
          },
          "metadata": {},
          "execution_count": 53
        }
      ]
    },
    {
      "cell_type": "code",
      "source": [
        "#deactivate\n",
        "\n",
        "layer2_detach = layer2.detach()"
      ],
      "metadata": {
        "id": "qLkfk2bl-v4A"
      },
      "execution_count": 54,
      "outputs": []
    },
    {
      "cell_type": "code",
      "source": [
        "layer2_detach"
      ],
      "metadata": {
        "colab": {
          "base_uri": "https://localhost:8080/"
        },
        "id": "G4Vfo7lD-6w-",
        "outputId": "8bcaf423-a733-4ebf-e6bc-a39b7caf2618"
      },
      "execution_count": 55,
      "outputs": [
        {
          "output_type": "execute_result",
          "data": {
            "text/plain": [
              "tensor([[6., 6.],\n",
              "        [6., 6.],\n",
              "        [6., 6.],\n",
              "        [6., 6.],\n",
              "        [6., 6.]])"
            ]
          },
          "metadata": {},
          "execution_count": 55
        }
      ]
    },
    {
      "cell_type": "code",
      "source": [
        "layer2_detach.mean()"
      ],
      "metadata": {
        "colab": {
          "base_uri": "https://localhost:8080/"
        },
        "id": "ZG2-gCgK-71z",
        "outputId": "26ebf613-4f8a-4445-cae0-25801592c011"
      },
      "execution_count": 56,
      "outputs": [
        {
          "output_type": "execute_result",
          "data": {
            "text/plain": [
              "tensor(6.)"
            ]
          },
          "metadata": {},
          "execution_count": 56
        }
      ]
    },
    {
      "cell_type": "markdown",
      "source": [
        "# Sample Model"
      ],
      "metadata": {
        "id": "UNcF06NH_cYK"
      }
    },
    {
      "cell_type": "code",
      "source": [
        "import torch"
      ],
      "metadata": {
        "id": "5E5qqiheC5UY"
      },
      "execution_count": 57,
      "outputs": []
    },
    {
      "cell_type": "code",
      "source": [
        "x = torch.tensor(([1,2,3,4]),dtype = torch.float32)\n",
        "y = torch.tensor(([2,4,6,8]),dtype = torch.float32)"
      ],
      "metadata": {
        "id": "fkIJEsjx_ANW"
      },
      "execution_count": 58,
      "outputs": []
    },
    {
      "cell_type": "code",
      "source": [
        "def forward(x,w):\n",
        "  return w * x"
      ],
      "metadata": {
        "id": "dujhfn8W_0uL"
      },
      "execution_count": 59,
      "outputs": []
    },
    {
      "cell_type": "code",
      "source": [
        "def loss(y,y_pred):\n",
        "  return ((y_pred - y)** 2).mean()"
      ],
      "metadata": {
        "id": "3MNlqaOi_8Nr"
      },
      "execution_count": 60,
      "outputs": []
    },
    {
      "cell_type": "code",
      "source": [
        "def gradient(x , y , y_pred):\n",
        "  return ((2.0 * x) * (y_pred - y)).mean()"
      ],
      "metadata": {
        "id": "5a5MlqkwAOT_"
      },
      "execution_count": 61,
      "outputs": []
    },
    {
      "cell_type": "code",
      "source": [
        "w = 0.0\n",
        "n_iters = 25\n",
        "learning_rate = 0.1"
      ],
      "metadata": {
        "id": "skLnQqDVAfnA"
      },
      "execution_count": 62,
      "outputs": []
    },
    {
      "cell_type": "code",
      "source": [
        "for epoch in range(n_iters):\n",
        "  #Forward\n",
        "  y_pred = forward(x,w)\n",
        "\n",
        "  #loss\n",
        "  l = loss(y , y_pred)\n",
        "\n",
        "  #gradient\n",
        "  grad = gradient(x , y ,y_pred)\n",
        "\n",
        "  print(f\"Epoch:{epoch+1} , Pred =: {y_pred.detach()} ,Grad :{grad.item()}, W: {w:4f} , Loss: {l:5f}\")\n",
        "\n",
        "  w -= learning_rate * grad"
      ],
      "metadata": {
        "colab": {
          "base_uri": "https://localhost:8080/"
        },
        "id": "o8WFxr8rBLSg",
        "outputId": "2c2c8a7f-9bd7-4205-cd9e-475ce6fc8c9d"
      },
      "execution_count": 63,
      "outputs": [
        {
          "output_type": "stream",
          "name": "stdout",
          "text": [
            "Epoch:1 , Pred =: tensor([0., 0., 0., 0.]) ,Grad :-30.0, W: 0.000000 , Loss: 30.000000\n",
            "Epoch:2 , Pred =: tensor([ 3.,  6.,  9., 12.]) ,Grad :15.0, W: 3.000000 , Loss: 7.500000\n",
            "Epoch:3 , Pred =: tensor([1.5000, 3.0000, 4.5000, 6.0000]) ,Grad :-7.5, W: 1.500000 , Loss: 1.875000\n",
            "Epoch:4 , Pred =: tensor([2.2500, 4.5000, 6.7500, 9.0000]) ,Grad :3.75, W: 2.250000 , Loss: 0.468750\n",
            "Epoch:5 , Pred =: tensor([1.8750, 3.7500, 5.6250, 7.5000]) ,Grad :-1.875, W: 1.875000 , Loss: 0.117188\n",
            "Epoch:6 , Pred =: tensor([2.0625, 4.1250, 6.1875, 8.2500]) ,Grad :0.9375, W: 2.062500 , Loss: 0.029297\n",
            "Epoch:7 , Pred =: tensor([1.9688, 3.9375, 5.9062, 7.8750]) ,Grad :-0.46875, W: 1.968750 , Loss: 0.007324\n",
            "Epoch:8 , Pred =: tensor([2.0156, 4.0312, 6.0469, 8.0625]) ,Grad :0.234375, W: 2.015625 , Loss: 0.001831\n",
            "Epoch:9 , Pred =: tensor([1.9922, 3.9844, 5.9766, 7.9688]) ,Grad :-0.1171875, W: 1.992188 , Loss: 0.000458\n",
            "Epoch:10 , Pred =: tensor([2.0039, 4.0078, 6.0117, 8.0156]) ,Grad :0.05859375, W: 2.003906 , Loss: 0.000114\n",
            "Epoch:11 , Pred =: tensor([1.9980, 3.9961, 5.9941, 7.9922]) ,Grad :-0.029296875, W: 1.998047 , Loss: 0.000029\n",
            "Epoch:12 , Pred =: tensor([2.0010, 4.0020, 6.0029, 8.0039]) ,Grad :0.0146484375, W: 2.000977 , Loss: 0.000007\n",
            "Epoch:13 , Pred =: tensor([1.9995, 3.9990, 5.9985, 7.9980]) ,Grad :-0.00732421875, W: 1.999512 , Loss: 0.000002\n",
            "Epoch:14 , Pred =: tensor([2.0002, 4.0005, 6.0007, 8.0010]) ,Grad :0.003662109375, W: 2.000244 , Loss: 0.000000\n",
            "Epoch:15 , Pred =: tensor([1.9999, 3.9998, 5.9996, 7.9995]) ,Grad :-0.0018310546875, W: 1.999878 , Loss: 0.000000\n",
            "Epoch:16 , Pred =: tensor([2.0001, 4.0001, 6.0002, 8.0002]) ,Grad :0.00091552734375, W: 2.000061 , Loss: 0.000000\n",
            "Epoch:17 , Pred =: tensor([2.0000, 3.9999, 5.9999, 7.9999]) ,Grad :-0.000457763671875, W: 1.999969 , Loss: 0.000000\n",
            "Epoch:18 , Pred =: tensor([2.0000, 4.0000, 6.0000, 8.0001]) ,Grad :0.0002288818359375, W: 2.000015 , Loss: 0.000000\n",
            "Epoch:19 , Pred =: tensor([2.0000, 4.0000, 6.0000, 8.0000]) ,Grad :-0.00011444091796875, W: 1.999992 , Loss: 0.000000\n",
            "Epoch:20 , Pred =: tensor([2.0000, 4.0000, 6.0000, 8.0000]) ,Grad :5.7220458984375e-05, W: 2.000004 , Loss: 0.000000\n",
            "Epoch:21 , Pred =: tensor([2.0000, 4.0000, 6.0000, 8.0000]) ,Grad :-2.86102294921875e-05, W: 1.999998 , Loss: 0.000000\n",
            "Epoch:22 , Pred =: tensor([2.0000, 4.0000, 6.0000, 8.0000]) ,Grad :1.430511474609375e-05, W: 2.000001 , Loss: 0.000000\n",
            "Epoch:23 , Pred =: tensor([2.0000, 4.0000, 6.0000, 8.0000]) ,Grad :-7.152557373046875e-06, W: 2.000000 , Loss: 0.000000\n",
            "Epoch:24 , Pred =: tensor([2.0000, 4.0000, 6.0000, 8.0000]) ,Grad :3.933906555175781e-06, W: 2.000000 , Loss: 0.000000\n",
            "Epoch:25 , Pred =: tensor([2.0000, 4.0000, 6.0000, 8.0000]) ,Grad :-1.9669532775878906e-06, W: 2.000000 , Loss: 0.000000\n"
          ]
        }
      ]
    },
    {
      "cell_type": "code",
      "source": [
        "def forward(x,w):\n",
        "  return w * x"
      ],
      "metadata": {
        "id": "mjPr2-TcH4xR"
      },
      "execution_count": 64,
      "outputs": []
    },
    {
      "cell_type": "code",
      "source": [
        "def loss(y,y_pred):\n",
        "  return ((y_pred - y)** 2).mean()"
      ],
      "metadata": {
        "id": "CjhePcgFH-Xm"
      },
      "execution_count": 65,
      "outputs": []
    },
    {
      "cell_type": "code",
      "source": [
        "w = torch.tensor(0.0, requires_grad=True)\n",
        "n_iters = 25\n",
        "learning_rate = 0.1"
      ],
      "metadata": {
        "id": "0r_QTRDMH-ON"
      },
      "execution_count": 66,
      "outputs": []
    },
    {
      "cell_type": "code",
      "source": [
        "# Model 2\n",
        "import torch\n",
        "\n",
        "\n",
        "for epoch in range(n_iters):\n",
        "  #forward\n",
        "  y_pred = forward(x,w)\n",
        "\n",
        "  #Loss\n",
        "  l = loss(y,y_pred)\n",
        "\n",
        "  #Backpropagation\n",
        "\n",
        "  l.backward()\n",
        "  print(f\"Epoch:{epoch+1} , Pred =: {y_pred.detach()} ,Grad :{w.grad.item():4f}, W: {w:4f} , Loss: {l:5f}\")\n",
        "\n",
        "\n",
        "  #weight update\n",
        "\n",
        "  with torch.no_grad():\n",
        "    w -= learning_rate * w.grad\n",
        "\n",
        "  w.grad.zero_()"
      ],
      "metadata": {
        "colab": {
          "base_uri": "https://localhost:8080/"
        },
        "id": "u-dMZNIyGMu3",
        "outputId": "5d752f6d-e8cc-40b4-90f0-34d61db201ae"
      },
      "execution_count": 67,
      "outputs": [
        {
          "output_type": "stream",
          "name": "stdout",
          "text": [
            "Epoch:1 , Pred =: tensor([0., 0., 0., 0.]) ,Grad :-30.000000, W: 0.000000 , Loss: 30.000000\n",
            "Epoch:2 , Pred =: tensor([ 3.,  6.,  9., 12.]) ,Grad :15.000000, W: 3.000000 , Loss: 7.500000\n",
            "Epoch:3 , Pred =: tensor([1.5000, 3.0000, 4.5000, 6.0000]) ,Grad :-7.500000, W: 1.500000 , Loss: 1.875000\n",
            "Epoch:4 , Pred =: tensor([2.2500, 4.5000, 6.7500, 9.0000]) ,Grad :3.750000, W: 2.250000 , Loss: 0.468750\n",
            "Epoch:5 , Pred =: tensor([1.8750, 3.7500, 5.6250, 7.5000]) ,Grad :-1.875000, W: 1.875000 , Loss: 0.117188\n",
            "Epoch:6 , Pred =: tensor([2.0625, 4.1250, 6.1875, 8.2500]) ,Grad :0.937500, W: 2.062500 , Loss: 0.029297\n",
            "Epoch:7 , Pred =: tensor([1.9688, 3.9375, 5.9062, 7.8750]) ,Grad :-0.468750, W: 1.968750 , Loss: 0.007324\n",
            "Epoch:8 , Pred =: tensor([2.0156, 4.0312, 6.0469, 8.0625]) ,Grad :0.234375, W: 2.015625 , Loss: 0.001831\n",
            "Epoch:9 , Pred =: tensor([1.9922, 3.9844, 5.9766, 7.9688]) ,Grad :-0.117188, W: 1.992188 , Loss: 0.000458\n",
            "Epoch:10 , Pred =: tensor([2.0039, 4.0078, 6.0117, 8.0156]) ,Grad :0.058594, W: 2.003906 , Loss: 0.000114\n",
            "Epoch:11 , Pred =: tensor([1.9980, 3.9961, 5.9941, 7.9922]) ,Grad :-0.029297, W: 1.998047 , Loss: 0.000029\n",
            "Epoch:12 , Pred =: tensor([2.0010, 4.0020, 6.0029, 8.0039]) ,Grad :0.014648, W: 2.000977 , Loss: 0.000007\n",
            "Epoch:13 , Pred =: tensor([1.9995, 3.9990, 5.9985, 7.9980]) ,Grad :-0.007324, W: 1.999512 , Loss: 0.000002\n",
            "Epoch:14 , Pred =: tensor([2.0002, 4.0005, 6.0007, 8.0010]) ,Grad :0.003662, W: 2.000244 , Loss: 0.000000\n",
            "Epoch:15 , Pred =: tensor([1.9999, 3.9998, 5.9996, 7.9995]) ,Grad :-0.001831, W: 1.999878 , Loss: 0.000000\n",
            "Epoch:16 , Pred =: tensor([2.0001, 4.0001, 6.0002, 8.0002]) ,Grad :0.000916, W: 2.000061 , Loss: 0.000000\n",
            "Epoch:17 , Pred =: tensor([2.0000, 3.9999, 5.9999, 7.9999]) ,Grad :-0.000458, W: 1.999969 , Loss: 0.000000\n",
            "Epoch:18 , Pred =: tensor([2.0000, 4.0000, 6.0000, 8.0001]) ,Grad :0.000229, W: 2.000015 , Loss: 0.000000\n",
            "Epoch:19 , Pred =: tensor([2.0000, 4.0000, 6.0000, 8.0000]) ,Grad :-0.000114, W: 1.999992 , Loss: 0.000000\n",
            "Epoch:20 , Pred =: tensor([2.0000, 4.0000, 6.0000, 8.0000]) ,Grad :0.000057, W: 2.000004 , Loss: 0.000000\n",
            "Epoch:21 , Pred =: tensor([2.0000, 4.0000, 6.0000, 8.0000]) ,Grad :-0.000029, W: 1.999998 , Loss: 0.000000\n",
            "Epoch:22 , Pred =: tensor([2.0000, 4.0000, 6.0000, 8.0000]) ,Grad :0.000014, W: 2.000001 , Loss: 0.000000\n",
            "Epoch:23 , Pred =: tensor([2.0000, 4.0000, 6.0000, 8.0000]) ,Grad :-0.000007, W: 2.000000 , Loss: 0.000000\n",
            "Epoch:24 , Pred =: tensor([2.0000, 4.0000, 6.0000, 8.0000]) ,Grad :0.000004, W: 2.000000 , Loss: 0.000000\n",
            "Epoch:25 , Pred =: tensor([2.0000, 4.0000, 6.0000, 8.0000]) ,Grad :-0.000002, W: 2.000000 , Loss: 0.000000\n"
          ]
        }
      ]
    },
    {
      "cell_type": "code",
      "source": [
        "#Model 3\n",
        "\n",
        "import torch.optim as optim\n",
        "\n",
        "def forward(x,w):\n",
        "  return w * x\n",
        "\n",
        "w = torch.tensor(0.0, requires_grad=True)\n",
        "optimizer = optim.SGD([w],lr = 0.1)\n",
        "criterion = torch.nn.MSELoss()\n",
        "n_iters = 30\n",
        "\n",
        "\n",
        "for epoch in range(n_iters):\n",
        "  #forward\n",
        "  y_pred = forward(x,w)\n",
        "\n",
        "  #Loss\n",
        "  loss = criterion(y,y_pred)\n",
        "  print(f\"Epoch:{epoch+1},Pred: {y_pred.detach()},W:{w.item():4f},Loss:{loss.item():4f}\")\n",
        "\n",
        "  #Backward pass\n",
        "  loss.backward()\n",
        "\n",
        "\n",
        "  #weight update\n",
        "  optimizer.step()\n",
        "\n",
        "  #Zero Gradients\n",
        "  optimizer.zero_grad()\n"
      ],
      "metadata": {
        "id": "89G7zAAyLW0C",
        "colab": {
          "base_uri": "https://localhost:8080/"
        },
        "outputId": "7d04ca26-7f75-4fdd-a869-65b24bee138f"
      },
      "execution_count": 68,
      "outputs": [
        {
          "output_type": "stream",
          "name": "stdout",
          "text": [
            "Epoch:1,Pred: tensor([0., 0., 0., 0.]),W:0.000000,Loss:30.000000\n",
            "Epoch:2,Pred: tensor([ 3.,  6.,  9., 12.]),W:3.000000,Loss:7.500000\n",
            "Epoch:3,Pred: tensor([1.5000, 3.0000, 4.5000, 6.0000]),W:1.500000,Loss:1.875000\n",
            "Epoch:4,Pred: tensor([2.2500, 4.5000, 6.7500, 9.0000]),W:2.250000,Loss:0.468750\n",
            "Epoch:5,Pred: tensor([1.8750, 3.7500, 5.6250, 7.5000]),W:1.875000,Loss:0.117188\n",
            "Epoch:6,Pred: tensor([2.0625, 4.1250, 6.1875, 8.2500]),W:2.062500,Loss:0.029297\n",
            "Epoch:7,Pred: tensor([1.9688, 3.9375, 5.9062, 7.8750]),W:1.968750,Loss:0.007324\n",
            "Epoch:8,Pred: tensor([2.0156, 4.0312, 6.0469, 8.0625]),W:2.015625,Loss:0.001831\n",
            "Epoch:9,Pred: tensor([1.9922, 3.9844, 5.9766, 7.9688]),W:1.992188,Loss:0.000458\n",
            "Epoch:10,Pred: tensor([2.0039, 4.0078, 6.0117, 8.0156]),W:2.003906,Loss:0.000114\n",
            "Epoch:11,Pred: tensor([1.9980, 3.9961, 5.9941, 7.9922]),W:1.998047,Loss:0.000029\n",
            "Epoch:12,Pred: tensor([2.0010, 4.0020, 6.0029, 8.0039]),W:2.000977,Loss:0.000007\n",
            "Epoch:13,Pred: tensor([1.9995, 3.9990, 5.9985, 7.9980]),W:1.999512,Loss:0.000002\n",
            "Epoch:14,Pred: tensor([2.0002, 4.0005, 6.0007, 8.0010]),W:2.000244,Loss:0.000000\n",
            "Epoch:15,Pred: tensor([1.9999, 3.9998, 5.9996, 7.9995]),W:1.999878,Loss:0.000000\n",
            "Epoch:16,Pred: tensor([2.0001, 4.0001, 6.0002, 8.0002]),W:2.000061,Loss:0.000000\n",
            "Epoch:17,Pred: tensor([2.0000, 3.9999, 5.9999, 7.9999]),W:1.999969,Loss:0.000000\n",
            "Epoch:18,Pred: tensor([2.0000, 4.0000, 6.0000, 8.0001]),W:2.000015,Loss:0.000000\n",
            "Epoch:19,Pred: tensor([2.0000, 4.0000, 6.0000, 8.0000]),W:1.999992,Loss:0.000000\n",
            "Epoch:20,Pred: tensor([2.0000, 4.0000, 6.0000, 8.0000]),W:2.000004,Loss:0.000000\n",
            "Epoch:21,Pred: tensor([2.0000, 4.0000, 6.0000, 8.0000]),W:1.999998,Loss:0.000000\n",
            "Epoch:22,Pred: tensor([2.0000, 4.0000, 6.0000, 8.0000]),W:2.000001,Loss:0.000000\n",
            "Epoch:23,Pred: tensor([2.0000, 4.0000, 6.0000, 8.0000]),W:2.000000,Loss:0.000000\n",
            "Epoch:24,Pred: tensor([2.0000, 4.0000, 6.0000, 8.0000]),W:2.000000,Loss:0.000000\n",
            "Epoch:25,Pred: tensor([2.0000, 4.0000, 6.0000, 8.0000]),W:2.000000,Loss:0.000000\n",
            "Epoch:26,Pred: tensor([2., 4., 6., 8.]),W:2.000000,Loss:0.000000\n",
            "Epoch:27,Pred: tensor([2., 4., 6., 8.]),W:2.000000,Loss:0.000000\n",
            "Epoch:28,Pred: tensor([2., 4., 6., 8.]),W:2.000000,Loss:0.000000\n",
            "Epoch:29,Pred: tensor([2., 4., 6., 8.]),W:2.000000,Loss:0.000000\n",
            "Epoch:30,Pred: tensor([2., 4., 6., 8.]),W:2.000000,Loss:0.000000\n"
          ]
        }
      ]
    },
    {
      "cell_type": "markdown",
      "source": [
        "# Neural Network"
      ],
      "metadata": {
        "id": "nAo9fyOfMVSx"
      }
    },
    {
      "cell_type": "code",
      "source": [
        "import torch\n",
        "import torch.nn as nn"
      ],
      "metadata": {
        "id": "2GQg4nQhMa4k"
      },
      "execution_count": 69,
      "outputs": []
    },
    {
      "cell_type": "code",
      "source": [
        "class NeuralNetwork(nn.Module):\n",
        "  def __init__(self):\n",
        "    super().sequential = nn.Sequential(\n",
        "       nn.Flatten(),\n",
        "       nn.Linear(784,512),\n",
        "       nn.ReLU(),\n",
        "       nn.Linear(512,512),\n",
        "       nn.ReLU(),\n",
        "       nn.Linear(512,10)\n",
        "\n",
        "    )\n",
        "    def forward(self , x):\n",
        "      logits = self.sequential(x)\n",
        "      return logits\n"
      ],
      "metadata": {
        "id": "fmpnW7BkMgZd"
      },
      "execution_count": 70,
      "outputs": []
    },
    {
      "cell_type": "code",
      "source": [
        "input_image = torch.rand(3,28,28)\n",
        "print(input_image,input_image.shape)\n",
        "flatten = nn.Flatten()\n",
        "flat_img = flatten(input_image)\n",
        "print(flat_img,flat_img.shape)"
      ],
      "metadata": {
        "colab": {
          "base_uri": "https://localhost:8080/"
        },
        "id": "PuwZI0TKNRTI",
        "outputId": "ddb36377-ee5a-4295-bcce-a23874d3242f"
      },
      "execution_count": 71,
      "outputs": [
        {
          "output_type": "stream",
          "name": "stdout",
          "text": [
            "tensor([[[0.1331, 0.2925, 0.2039,  ..., 0.3797, 0.7885, 0.8087],\n",
            "         [0.0639, 0.7312, 0.0965,  ..., 0.0672, 0.2974, 0.7067],\n",
            "         [0.5114, 0.2978, 0.9067,  ..., 0.8466, 0.3081, 0.5997],\n",
            "         ...,\n",
            "         [0.0356, 0.9305, 0.2552,  ..., 0.2884, 0.9952, 0.0852],\n",
            "         [0.2375, 0.5451, 0.4474,  ..., 0.1724, 0.2082, 0.4900],\n",
            "         [0.6263, 0.9732, 0.6795,  ..., 0.9070, 0.2529, 0.7872]],\n",
            "\n",
            "        [[0.2444, 0.5911, 0.4953,  ..., 0.8324, 0.8433, 0.1024],\n",
            "         [0.5083, 0.7353, 0.1201,  ..., 0.9312, 0.1526, 0.1766],\n",
            "         [0.6697, 0.4681, 0.1788,  ..., 0.6160, 0.2991, 0.3572],\n",
            "         ...,\n",
            "         [0.0376, 0.6866, 0.1465,  ..., 0.4976, 0.1945, 0.8939],\n",
            "         [0.8358, 0.3735, 0.5544,  ..., 0.3619, 0.7329, 0.7668],\n",
            "         [0.5405, 0.4276, 0.1784,  ..., 0.3459, 0.0226, 0.5750]],\n",
            "\n",
            "        [[0.6513, 0.0550, 0.6429,  ..., 0.2362, 0.1140, 0.8696],\n",
            "         [0.4749, 0.0300, 0.3112,  ..., 0.1497, 0.8360, 0.4935],\n",
            "         [0.1856, 0.6985, 0.8168,  ..., 0.8138, 0.3019, 0.3855],\n",
            "         ...,\n",
            "         [0.5146, 0.2847, 0.8976,  ..., 0.3269, 0.8603, 0.1405],\n",
            "         [0.3934, 0.7099, 0.6921,  ..., 0.8086, 0.4623, 0.4511],\n",
            "         [0.2455, 0.6791, 0.0423,  ..., 0.8242, 0.8545, 0.4380]]]) torch.Size([3, 28, 28])\n",
            "tensor([[0.1331, 0.2925, 0.2039,  ..., 0.9070, 0.2529, 0.7872],\n",
            "        [0.2444, 0.5911, 0.4953,  ..., 0.3459, 0.0226, 0.5750],\n",
            "        [0.6513, 0.0550, 0.6429,  ..., 0.8242, 0.8545, 0.4380]]) torch.Size([3, 784])\n"
          ]
        }
      ]
    },
    {
      "cell_type": "code",
      "source": [
        "linear = nn.Linear(in_features=784,out_features=20)\n",
        "linear_out = linear(flat_img)\n",
        "print(linear_out,linear_out.shape)"
      ],
      "metadata": {
        "colab": {
          "base_uri": "https://localhost:8080/"
        },
        "id": "Usym2DP9QI0y",
        "outputId": "b123107e-b3bf-45b1-d8d9-df3f5f721251"
      },
      "execution_count": 72,
      "outputs": [
        {
          "output_type": "stream",
          "name": "stdout",
          "text": [
            "tensor([[-0.0104,  0.0392,  0.2586, -0.1434,  0.3645, -0.1238,  0.0706, -0.2624,\n",
            "         -0.6744,  0.4031, -0.6548, -0.3706, -0.4815, -0.1839, -0.1475, -0.1389,\n",
            "          0.4523,  0.3251,  0.1979,  0.5370],\n",
            "        [-0.0322,  0.3259,  0.1056,  0.0241,  0.3256,  0.2047, -0.2706, -0.2034,\n",
            "         -0.3921,  0.4392, -0.5279,  0.0789, -0.3901,  0.1540, -0.1492, -0.0618,\n",
            "         -0.2043,  0.1419,  0.7178,  0.6392],\n",
            "        [-0.1677, -0.0855,  0.4353, -0.1568,  0.2648,  0.1403, -0.1662, -0.4381,\n",
            "         -0.4649,  0.3056, -0.6931, -0.2557, -0.5333, -0.0459, -0.0658,  0.1107,\n",
            "         -0.1115,  0.2533,  0.9420,  0.6441]], grad_fn=<AddmmBackward0>) torch.Size([3, 20])\n"
          ]
        }
      ]
    },
    {
      "cell_type": "code",
      "source": [
        "relu = nn.ReLU()\n",
        "relu_out = relu(linear_out)\n",
        "print(relu_out,relu_out.shape)"
      ],
      "metadata": {
        "colab": {
          "base_uri": "https://localhost:8080/"
        },
        "id": "F98n-2ArQv58",
        "outputId": "b4f606f1-7b45-48f5-ee6a-75e6c6117319"
      },
      "execution_count": 73,
      "outputs": [
        {
          "output_type": "stream",
          "name": "stdout",
          "text": [
            "tensor([[0.0000, 0.0392, 0.2586, 0.0000, 0.3645, 0.0000, 0.0706, 0.0000, 0.0000,\n",
            "         0.4031, 0.0000, 0.0000, 0.0000, 0.0000, 0.0000, 0.0000, 0.4523, 0.3251,\n",
            "         0.1979, 0.5370],\n",
            "        [0.0000, 0.3259, 0.1056, 0.0241, 0.3256, 0.2047, 0.0000, 0.0000, 0.0000,\n",
            "         0.4392, 0.0000, 0.0789, 0.0000, 0.1540, 0.0000, 0.0000, 0.0000, 0.1419,\n",
            "         0.7178, 0.6392],\n",
            "        [0.0000, 0.0000, 0.4353, 0.0000, 0.2648, 0.1403, 0.0000, 0.0000, 0.0000,\n",
            "         0.3056, 0.0000, 0.0000, 0.0000, 0.0000, 0.0000, 0.1107, 0.0000, 0.2533,\n",
            "         0.9420, 0.6441]], grad_fn=<ReluBackward0>) torch.Size([3, 20])\n"
          ]
        }
      ]
    },
    {
      "cell_type": "code",
      "source": [
        "linear2 = nn.Linear(in_features=20 , out_features = 10)\n",
        "logits = linear2(relu_out)\n",
        "logits"
      ],
      "metadata": {
        "colab": {
          "base_uri": "https://localhost:8080/"
        },
        "id": "oSewVhM5RJJc",
        "outputId": "db75451e-7dce-4cf3-df44-1c7c4fbac555"
      },
      "execution_count": 74,
      "outputs": [
        {
          "output_type": "execute_result",
          "data": {
            "text/plain": [
              "tensor([[ 0.0344,  0.2278,  0.1227,  0.2953,  0.0429, -0.2322,  0.0560, -0.0303,\n",
              "          0.2573, -0.0826],\n",
              "        [-0.0007,  0.0962, -0.0732,  0.2939, -0.1694, -0.2990,  0.1606, -0.1189,\n",
              "          0.2705, -0.1176],\n",
              "        [-0.1289,  0.0373, -0.0215,  0.4271, -0.1505, -0.4158,  0.0949, -0.1708,\n",
              "          0.1573, -0.1484]], grad_fn=<AddmmBackward0>)"
            ]
          },
          "metadata": {},
          "execution_count": 74
        }
      ]
    },
    {
      "cell_type": "markdown",
      "source": [
        "# Linear Regression"
      ],
      "metadata": {
        "id": "cp2v2Q-njZj6"
      }
    },
    {
      "cell_type": "code",
      "source": [
        "import torch\n",
        "import torch.nn as nn\n",
        "import numpy as np\n",
        "from sklearn import datasets\n",
        "import matplotlib.pyplot as plt"
      ],
      "metadata": {
        "id": "XCC7P-a6Rh-z"
      },
      "execution_count": 75,
      "outputs": []
    },
    {
      "cell_type": "code",
      "source": [
        "x_numpy,y_numpy = datasets.make_regression(n_samples = 100, noise = 20,random_state=1,n_features=1)"
      ],
      "metadata": {
        "id": "eYBvWyVOjm7f"
      },
      "execution_count": 76,
      "outputs": []
    },
    {
      "cell_type": "code",
      "source": [
        "X = torch.from_numpy(x_numpy.astype(np.float32))\n",
        "X.shape"
      ],
      "metadata": {
        "colab": {
          "base_uri": "https://localhost:8080/"
        },
        "id": "25pXHb_0j1Vh",
        "outputId": "4885bf0e-5853-4edc-b1d0-40f6a8061261"
      },
      "execution_count": 77,
      "outputs": [
        {
          "output_type": "execute_result",
          "data": {
            "text/plain": [
              "torch.Size([100, 1])"
            ]
          },
          "metadata": {},
          "execution_count": 77
        }
      ]
    },
    {
      "cell_type": "code",
      "source": [
        "Y = torch.from_numpy(y_numpy.astype(np.float32))\n",
        "Y.shape"
      ],
      "metadata": {
        "colab": {
          "base_uri": "https://localhost:8080/"
        },
        "id": "eBDIWtp4kBvT",
        "outputId": "646bf215-d174-4a3e-e8a5-c7b16d8eb0fe"
      },
      "execution_count": 78,
      "outputs": [
        {
          "output_type": "execute_result",
          "data": {
            "text/plain": [
              "torch.Size([100])"
            ]
          },
          "metadata": {},
          "execution_count": 78
        }
      ]
    },
    {
      "cell_type": "code",
      "source": [
        "Y"
      ],
      "metadata": {
        "colab": {
          "base_uri": "https://localhost:8080/"
        },
        "id": "0WycV-S1lmYF",
        "outputId": "e2e6cb3a-660f-4a4f-c9ed-28b642eb76e9"
      },
      "execution_count": 79,
      "outputs": [
        {
          "output_type": "execute_result",
          "data": {
            "text/plain": [
              "tensor([-5.5539e+01, -1.0662e+01,  2.2757e+01,  1.0110e+02,  1.4434e+02,\n",
              "         3.3289e+01,  3.3015e+01, -2.5887e+01, -9.9639e+01,  2.3803e+01,\n",
              "        -4.5589e+01, -8.3388e+00, -9.5315e+01,  3.6407e+01, -8.7293e+01,\n",
              "         6.7669e+01, -1.3687e+01, -5.5441e+01, -6.5340e+01, -5.4450e+01,\n",
              "        -2.8835e+01,  1.7884e+02,  6.5084e+01,  2.6668e+01, -1.8546e+01,\n",
              "        -4.1499e+01,  8.5583e-01,  4.4562e+01,  1.1598e+02, -6.4620e+01,\n",
              "        -2.5931e+01, -6.0882e+01,  1.8720e+01,  7.5070e+01,  1.1720e+02,\n",
              "        -2.2698e+01, -5.6363e+01,  1.8084e+02, -1.9257e+02,  6.8503e+01,\n",
              "         1.6552e+02,  1.0500e+02, -7.0434e+01, -5.8769e+01, -4.1576e+01,\n",
              "         7.3247e+01,  4.0966e+01,  8.0462e+01, -2.8794e+01,  3.4234e+01,\n",
              "        -4.1715e+01,  1.4355e+01,  7.9336e+01,  2.7129e+01, -3.9487e+01,\n",
              "         6.6805e+01,  9.5531e+01,  3.5610e+00,  1.0857e-01,  5.6495e+01,\n",
              "         5.1575e+01, -2.0974e+00, -2.6656e+01,  3.9742e+01,  3.6101e+01,\n",
              "        -7.5602e+01,  1.9713e+01, -7.1601e+01, -1.9904e+01, -7.6708e+01,\n",
              "        -1.1834e+02, -2.9825e+01,  1.5108e+02,  5.2923e+01, -5.9552e+01,\n",
              "         3.0721e+01, -2.9355e+01, -4.4786e+01,  1.0006e+02,  1.5058e+02,\n",
              "         1.2200e+02, -1.8186e+02,  3.4739e+00, -2.2980e+01,  4.5184e+01,\n",
              "         9.8606e+01, -9.2779e+00, -5.2478e+01,  3.8593e+01, -1.9997e+02,\n",
              "        -9.5201e+00, -3.4724e+00, -3.5312e+01,  7.5406e+01,  1.7570e+01,\n",
              "        -2.3960e+01,  1.3209e+02,  2.0608e+01,  5.1111e+01, -2.6306e+01])"
            ]
          },
          "metadata": {},
          "execution_count": 79
        }
      ]
    },
    {
      "cell_type": "code",
      "source": [
        "y = Y.view(Y.shape[0],1)\n",
        "print(f\"Y:{y.shape}\")"
      ],
      "metadata": {
        "colab": {
          "base_uri": "https://localhost:8080/"
        },
        "id": "PnpqjbYJkf16",
        "outputId": "13d87308-94fa-417e-e401-b0598ab3d796"
      },
      "execution_count": 80,
      "outputs": [
        {
          "output_type": "stream",
          "name": "stdout",
          "text": [
            "Y:torch.Size([100, 1])\n"
          ]
        }
      ]
    },
    {
      "cell_type": "code",
      "source": [
        "y"
      ],
      "metadata": {
        "colab": {
          "base_uri": "https://localhost:8080/"
        },
        "id": "97YjTdSoloJj",
        "outputId": "5a8c3969-d092-4264-9f4f-ff94e8f7b217"
      },
      "execution_count": 81,
      "outputs": [
        {
          "output_type": "execute_result",
          "data": {
            "text/plain": [
              "tensor([[-5.5539e+01],\n",
              "        [-1.0662e+01],\n",
              "        [ 2.2757e+01],\n",
              "        [ 1.0110e+02],\n",
              "        [ 1.4434e+02],\n",
              "        [ 3.3289e+01],\n",
              "        [ 3.3015e+01],\n",
              "        [-2.5887e+01],\n",
              "        [-9.9639e+01],\n",
              "        [ 2.3803e+01],\n",
              "        [-4.5589e+01],\n",
              "        [-8.3388e+00],\n",
              "        [-9.5315e+01],\n",
              "        [ 3.6407e+01],\n",
              "        [-8.7293e+01],\n",
              "        [ 6.7669e+01],\n",
              "        [-1.3687e+01],\n",
              "        [-5.5441e+01],\n",
              "        [-6.5340e+01],\n",
              "        [-5.4450e+01],\n",
              "        [-2.8835e+01],\n",
              "        [ 1.7884e+02],\n",
              "        [ 6.5084e+01],\n",
              "        [ 2.6668e+01],\n",
              "        [-1.8546e+01],\n",
              "        [-4.1499e+01],\n",
              "        [ 8.5583e-01],\n",
              "        [ 4.4562e+01],\n",
              "        [ 1.1598e+02],\n",
              "        [-6.4620e+01],\n",
              "        [-2.5931e+01],\n",
              "        [-6.0882e+01],\n",
              "        [ 1.8720e+01],\n",
              "        [ 7.5070e+01],\n",
              "        [ 1.1720e+02],\n",
              "        [-2.2698e+01],\n",
              "        [-5.6363e+01],\n",
              "        [ 1.8084e+02],\n",
              "        [-1.9257e+02],\n",
              "        [ 6.8503e+01],\n",
              "        [ 1.6552e+02],\n",
              "        [ 1.0500e+02],\n",
              "        [-7.0434e+01],\n",
              "        [-5.8769e+01],\n",
              "        [-4.1576e+01],\n",
              "        [ 7.3247e+01],\n",
              "        [ 4.0966e+01],\n",
              "        [ 8.0462e+01],\n",
              "        [-2.8794e+01],\n",
              "        [ 3.4234e+01],\n",
              "        [-4.1715e+01],\n",
              "        [ 1.4355e+01],\n",
              "        [ 7.9336e+01],\n",
              "        [ 2.7129e+01],\n",
              "        [-3.9487e+01],\n",
              "        [ 6.6805e+01],\n",
              "        [ 9.5531e+01],\n",
              "        [ 3.5610e+00],\n",
              "        [ 1.0857e-01],\n",
              "        [ 5.6495e+01],\n",
              "        [ 5.1575e+01],\n",
              "        [-2.0974e+00],\n",
              "        [-2.6656e+01],\n",
              "        [ 3.9742e+01],\n",
              "        [ 3.6101e+01],\n",
              "        [-7.5602e+01],\n",
              "        [ 1.9713e+01],\n",
              "        [-7.1601e+01],\n",
              "        [-1.9904e+01],\n",
              "        [-7.6708e+01],\n",
              "        [-1.1834e+02],\n",
              "        [-2.9825e+01],\n",
              "        [ 1.5108e+02],\n",
              "        [ 5.2923e+01],\n",
              "        [-5.9552e+01],\n",
              "        [ 3.0721e+01],\n",
              "        [-2.9355e+01],\n",
              "        [-4.4786e+01],\n",
              "        [ 1.0006e+02],\n",
              "        [ 1.5058e+02],\n",
              "        [ 1.2200e+02],\n",
              "        [-1.8186e+02],\n",
              "        [ 3.4739e+00],\n",
              "        [-2.2980e+01],\n",
              "        [ 4.5184e+01],\n",
              "        [ 9.8606e+01],\n",
              "        [-9.2779e+00],\n",
              "        [-5.2478e+01],\n",
              "        [ 3.8593e+01],\n",
              "        [-1.9997e+02],\n",
              "        [-9.5201e+00],\n",
              "        [-3.4724e+00],\n",
              "        [-3.5312e+01],\n",
              "        [ 7.5406e+01],\n",
              "        [ 1.7570e+01],\n",
              "        [-2.3960e+01],\n",
              "        [ 1.3209e+02],\n",
              "        [ 2.0608e+01],\n",
              "        [ 5.1111e+01],\n",
              "        [-2.6306e+01]])"
            ]
          },
          "metadata": {},
          "execution_count": 81
        }
      ]
    },
    {
      "cell_type": "code",
      "source": [
        "plt.plot(x,y,'ro')\n",
        "plt.show()"
      ],
      "metadata": {
        "colab": {
          "base_uri": "https://localhost:8080/",
          "height": 735
        },
        "id": "k6IbtDnvkxpL",
        "outputId": "f703680e-7a05-450f-f0ba-9bc5cffe572b"
      },
      "execution_count": 83,
      "outputs": [
        {
          "output_type": "error",
          "ename": "ValueError",
          "evalue": "x and y must have same first dimension, but have shapes torch.Size([4]) and torch.Size([100, 1])",
          "traceback": [
            "\u001b[0;31m---------------------------------------------------------------------------\u001b[0m",
            "\u001b[0;31mValueError\u001b[0m                                Traceback (most recent call last)",
            "\u001b[0;32m<ipython-input-83-9bb397b582f4>\u001b[0m in \u001b[0;36m<cell line: 1>\u001b[0;34m()\u001b[0m\n\u001b[0;32m----> 1\u001b[0;31m \u001b[0mplt\u001b[0m\u001b[0;34m.\u001b[0m\u001b[0mplot\u001b[0m\u001b[0;34m(\u001b[0m\u001b[0mx\u001b[0m\u001b[0;34m,\u001b[0m\u001b[0my\u001b[0m\u001b[0;34m,\u001b[0m\u001b[0;34m'ro'\u001b[0m\u001b[0;34m)\u001b[0m\u001b[0;34m\u001b[0m\u001b[0;34m\u001b[0m\u001b[0m\n\u001b[0m\u001b[1;32m      2\u001b[0m \u001b[0mplt\u001b[0m\u001b[0;34m.\u001b[0m\u001b[0mshow\u001b[0m\u001b[0;34m(\u001b[0m\u001b[0;34m)\u001b[0m\u001b[0;34m\u001b[0m\u001b[0;34m\u001b[0m\u001b[0m\n",
            "\u001b[0;32m/usr/local/lib/python3.10/dist-packages/matplotlib/pyplot.py\u001b[0m in \u001b[0;36mplot\u001b[0;34m(scalex, scaley, data, *args, **kwargs)\u001b[0m\n\u001b[1;32m   3576\u001b[0m     \u001b[0;34m**\u001b[0m\u001b[0mkwargs\u001b[0m\u001b[0;34m,\u001b[0m\u001b[0;34m\u001b[0m\u001b[0;34m\u001b[0m\u001b[0m\n\u001b[1;32m   3577\u001b[0m ) -> list[Line2D]:\n\u001b[0;32m-> 3578\u001b[0;31m     return gca().plot(\n\u001b[0m\u001b[1;32m   3579\u001b[0m         \u001b[0;34m*\u001b[0m\u001b[0margs\u001b[0m\u001b[0;34m,\u001b[0m\u001b[0;34m\u001b[0m\u001b[0;34m\u001b[0m\u001b[0m\n\u001b[1;32m   3580\u001b[0m         \u001b[0mscalex\u001b[0m\u001b[0;34m=\u001b[0m\u001b[0mscalex\u001b[0m\u001b[0;34m,\u001b[0m\u001b[0;34m\u001b[0m\u001b[0;34m\u001b[0m\u001b[0m\n",
            "\u001b[0;32m/usr/local/lib/python3.10/dist-packages/matplotlib/axes/_axes.py\u001b[0m in \u001b[0;36mplot\u001b[0;34m(self, scalex, scaley, data, *args, **kwargs)\u001b[0m\n\u001b[1;32m   1719\u001b[0m         \"\"\"\n\u001b[1;32m   1720\u001b[0m         \u001b[0mkwargs\u001b[0m \u001b[0;34m=\u001b[0m \u001b[0mcbook\u001b[0m\u001b[0;34m.\u001b[0m\u001b[0mnormalize_kwargs\u001b[0m\u001b[0;34m(\u001b[0m\u001b[0mkwargs\u001b[0m\u001b[0;34m,\u001b[0m \u001b[0mmlines\u001b[0m\u001b[0;34m.\u001b[0m\u001b[0mLine2D\u001b[0m\u001b[0;34m)\u001b[0m\u001b[0;34m\u001b[0m\u001b[0;34m\u001b[0m\u001b[0m\n\u001b[0;32m-> 1721\u001b[0;31m         \u001b[0mlines\u001b[0m \u001b[0;34m=\u001b[0m \u001b[0;34m[\u001b[0m\u001b[0;34m*\u001b[0m\u001b[0mself\u001b[0m\u001b[0;34m.\u001b[0m\u001b[0m_get_lines\u001b[0m\u001b[0;34m(\u001b[0m\u001b[0mself\u001b[0m\u001b[0;34m,\u001b[0m \u001b[0;34m*\u001b[0m\u001b[0margs\u001b[0m\u001b[0;34m,\u001b[0m \u001b[0mdata\u001b[0m\u001b[0;34m=\u001b[0m\u001b[0mdata\u001b[0m\u001b[0;34m,\u001b[0m \u001b[0;34m**\u001b[0m\u001b[0mkwargs\u001b[0m\u001b[0;34m)\u001b[0m\u001b[0;34m]\u001b[0m\u001b[0;34m\u001b[0m\u001b[0;34m\u001b[0m\u001b[0m\n\u001b[0m\u001b[1;32m   1722\u001b[0m         \u001b[0;32mfor\u001b[0m \u001b[0mline\u001b[0m \u001b[0;32min\u001b[0m \u001b[0mlines\u001b[0m\u001b[0;34m:\u001b[0m\u001b[0;34m\u001b[0m\u001b[0;34m\u001b[0m\u001b[0m\n\u001b[1;32m   1723\u001b[0m             \u001b[0mself\u001b[0m\u001b[0;34m.\u001b[0m\u001b[0madd_line\u001b[0m\u001b[0;34m(\u001b[0m\u001b[0mline\u001b[0m\u001b[0;34m)\u001b[0m\u001b[0;34m\u001b[0m\u001b[0;34m\u001b[0m\u001b[0m\n",
            "\u001b[0;32m/usr/local/lib/python3.10/dist-packages/matplotlib/axes/_base.py\u001b[0m in \u001b[0;36m__call__\u001b[0;34m(self, axes, data, *args, **kwargs)\u001b[0m\n\u001b[1;32m    301\u001b[0m                 \u001b[0mthis\u001b[0m \u001b[0;34m+=\u001b[0m \u001b[0margs\u001b[0m\u001b[0;34m[\u001b[0m\u001b[0;36m0\u001b[0m\u001b[0;34m]\u001b[0m\u001b[0;34m,\u001b[0m\u001b[0;34m\u001b[0m\u001b[0;34m\u001b[0m\u001b[0m\n\u001b[1;32m    302\u001b[0m                 \u001b[0margs\u001b[0m \u001b[0;34m=\u001b[0m \u001b[0margs\u001b[0m\u001b[0;34m[\u001b[0m\u001b[0;36m1\u001b[0m\u001b[0;34m:\u001b[0m\u001b[0;34m]\u001b[0m\u001b[0;34m\u001b[0m\u001b[0;34m\u001b[0m\u001b[0m\n\u001b[0;32m--> 303\u001b[0;31m             yield from self._plot_args(\n\u001b[0m\u001b[1;32m    304\u001b[0m                 axes, this, kwargs, ambiguous_fmt_datakey=ambiguous_fmt_datakey)\n\u001b[1;32m    305\u001b[0m \u001b[0;34m\u001b[0m\u001b[0m\n",
            "\u001b[0;32m/usr/local/lib/python3.10/dist-packages/matplotlib/axes/_base.py\u001b[0m in \u001b[0;36m_plot_args\u001b[0;34m(self, axes, tup, kwargs, return_kwargs, ambiguous_fmt_datakey)\u001b[0m\n\u001b[1;32m    497\u001b[0m \u001b[0;34m\u001b[0m\u001b[0m\n\u001b[1;32m    498\u001b[0m         \u001b[0;32mif\u001b[0m \u001b[0mx\u001b[0m\u001b[0;34m.\u001b[0m\u001b[0mshape\u001b[0m\u001b[0;34m[\u001b[0m\u001b[0;36m0\u001b[0m\u001b[0;34m]\u001b[0m \u001b[0;34m!=\u001b[0m \u001b[0my\u001b[0m\u001b[0;34m.\u001b[0m\u001b[0mshape\u001b[0m\u001b[0;34m[\u001b[0m\u001b[0;36m0\u001b[0m\u001b[0;34m]\u001b[0m\u001b[0;34m:\u001b[0m\u001b[0;34m\u001b[0m\u001b[0;34m\u001b[0m\u001b[0m\n\u001b[0;32m--> 499\u001b[0;31m             raise ValueError(f\"x and y must have same first dimension, but \"\n\u001b[0m\u001b[1;32m    500\u001b[0m                              f\"have shapes {x.shape} and {y.shape}\")\n\u001b[1;32m    501\u001b[0m         \u001b[0;32mif\u001b[0m \u001b[0mx\u001b[0m\u001b[0;34m.\u001b[0m\u001b[0mndim\u001b[0m \u001b[0;34m>\u001b[0m \u001b[0;36m2\u001b[0m \u001b[0;32mor\u001b[0m \u001b[0my\u001b[0m\u001b[0;34m.\u001b[0m\u001b[0mndim\u001b[0m \u001b[0;34m>\u001b[0m \u001b[0;36m2\u001b[0m\u001b[0;34m:\u001b[0m\u001b[0;34m\u001b[0m\u001b[0;34m\u001b[0m\u001b[0m\n",
            "\u001b[0;31mValueError\u001b[0m: x and y must have same first dimension, but have shapes torch.Size([4]) and torch.Size([100, 1])"
          ]
        },
        {
          "output_type": "display_data",
          "data": {
            "text/plain": [
              "<Figure size 640x480 with 1 Axes>"
            ],
            "image/png": "[encoded data removed]"
          },
          "metadata": {}
        }
      ]
    },
    {
      "cell_type": "code",
      "source": [
        "class LinearRegression(nn.Module):\n",
        "  def __init__(self,input_dim,output_dim):\n",
        "    super().__init__()\n",
        "    self.Linear = nn.Linear(input_dim,output_dim)\n",
        "\n",
        "  def forward(self,x):\n",
        "    return self.Linear(x)"
      ],
      "metadata": {
        "id": "oKf4R_ESlQSR"
      },
      "execution_count": null,
      "outputs": []
    },
    {
      "cell_type": "code",
      "source": [
        "n_samples,n_features = X.shape\n",
        "print(f\"n_samples:{n_samples}\")\n",
        "print(f\"n_features:{n_features}\")"
      ],
      "metadata": {
        "id": "9Eu1u49WmkvY"
      },
      "execution_count": null,
      "outputs": []
    },
    {
      "cell_type": "code",
      "source": [
        "input_size = n_features\n",
        "output_size = n_features\n",
        "model = LinearRegression(input_size,output_size)"
      ],
      "metadata": {
        "id": "bupO1BCbnchp"
      },
      "execution_count": null,
      "outputs": []
    },
    {
      "cell_type": "code",
      "source": [
        "model"
      ],
      "metadata": {
        "id": "r9TXMZPCns6N"
      },
      "execution_count": null,
      "outputs": []
    },
    {
      "cell_type": "code",
      "source": [
        "params = model.parameters()"
      ],
      "metadata": {
        "id": "AiwBRmd1nthT"
      },
      "execution_count": null,
      "outputs": []
    },
    {
      "cell_type": "code",
      "source": [
        "for param in params:\n",
        "  print(param)"
      ],
      "metadata": {
        "id": "yX3cyeHpopru"
      },
      "execution_count": null,
      "outputs": []
    },
    {
      "cell_type": "code",
      "source": [
        "import torch.nn as nn\n",
        "learning_rate = 0.01\n",
        "optimizer = torch.optim.SGD(model.parameters(),lr = learning_rate)\n",
        "loss = nn.MSELoss()"
      ],
      "metadata": {
        "id": "0B2JhZOMpBSg"
      },
      "execution_count": null,
      "outputs": []
    },
    {
      "cell_type": "code",
      "source": [
        "n_iters = 400\n",
        "\n",
        "for epoch in range(n_iters):\n",
        "  y_pred = model(x)\n",
        "  l =loss(y,y_pred)\n",
        "  l.backward()\n",
        "  if epoch % 10 == 0:\n",
        "    [w,b] = model.parameters()\n",
        "    print(f\"epoch = {epoch+1},prediction:{y_pred.detach()[0]},W:{w[0][0].item()},grad:{w.grad.item()},loss:{l}\")\n",
        "    optimizer.step()\n",
        "    optimizer.zero_grad()"
      ],
      "metadata": {
        "id": "C4CmUKCwpSKN"
      },
      "execution_count": null,
      "outputs": []
    },
    {
      "cell_type": "code",
      "source": [
        "with torch.no_grad():\n",
        "  predictions = model(x)"
      ],
      "metadata": {
        "id": "5-CPLg7Fq2nL"
      },
      "execution_count": null,
      "outputs": []
    },
    {
      "cell_type": "code",
      "source": [
        "plt.plot(x,y,'ro')\n",
        "plt.plot(x,predictions,'b')\n",
        "plt.show()"
      ],
      "metadata": {
        "id": "08JguI1Zrt4X"
      },
      "execution_count": null,
      "outputs": []
    },
    {
      "cell_type": "code",
      "source": [],
      "metadata": {
        "id": "7xXYKevur30r"
      },
      "execution_count": null,
      "outputs": []
    }
  ]
}